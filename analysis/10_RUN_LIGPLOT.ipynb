{
 "cells": [
  {
   "cell_type": "markdown",
   "id": "964e5d7a",
   "metadata": {},
   "source": [
    "# RUN"
   ]
  },
  {
   "cell_type": "code",
   "execution_count": 1,
   "id": "d28b9fd6",
   "metadata": {},
   "outputs": [],
   "source": [
    "import os\n",
    "import subprocess\n",
    "import pickle\n",
    "from tqdm import tqdm"
   ]
  },
  {
   "cell_type": "code",
   "execution_count": 2,
   "id": "8b0ae4ec",
   "metadata": {},
   "outputs": [
    {
     "data": {
      "text/plain": [
       "0"
      ]
     },
     "execution_count": 2,
     "metadata": {},
     "output_type": "execute_result"
    }
   ],
   "source": [
    "command = 'cd /Users/kyoheikoyama/workspace/ligplottmp/ && python /Users/kyoheikoyama/workspace/LigPlus/command.py'\n",
    "subprocess.check_call(command.split(' '),\n",
    "                      shell = False)"
   ]
  },
  {
   "cell_type": "markdown",
   "id": "349bd91d",
   "metadata": {},
   "source": [
    "# Check"
   ]
  },
  {
   "cell_type": "code",
   "execution_count": 3,
   "id": "9d0beddc",
   "metadata": {},
   "outputs": [],
   "source": [
    "d = '../DICT_PDB_Result/'\n",
    "files = os.listdir(d)\n"
   ]
  },
  {
   "cell_type": "code",
   "execution_count": 4,
   "id": "972f16a5",
   "metadata": {
    "scrolled": true
   },
   "outputs": [
    {
     "name": "stdout",
     "output_type": "stream",
     "text": [
      "/Users/kyoheikoyama/workspace/tcrpred/analysis/analysis1_alldata/../DICT_PDB_Result/DICT_PDBID_2_MELTDIST.pickle\n",
      "/Users/kyoheikoyama/workspace/tcrpred/analysis/analysis1_alldata/../DICT_PDB_Result/DICT_PDBID_2_Atten12.pickle\n",
      "/Users/kyoheikoyama/workspace/tcrpred/analysis/analysis1_alldata/../DICT_PDB_Result/DICT_PDBID_2_CDRS.pickle\n",
      "/Users/kyoheikoyama/workspace/tcrpred/analysis/analysis1_alldata/../DICT_PDB_Result/DICT_PDBID_2_dfnnb.pickle\n",
      "/Users/kyoheikoyama/workspace/tcrpred/analysis/analysis1_alldata/../DICT_PDB_Result/DICT_PDBID_2_model_out.pickle\n",
      "/Users/kyoheikoyama/workspace/tcrpred/analysis/analysis1_alldata/../DICT_PDB_Result/DICT_PDBID_2_RESIDUES.pickle\n",
      "/Users/kyoheikoyama/workspace/tcrpred/analysis/analysis1_alldata/../DICT_PDB_Result/DICT_PDBID_2_DISTANCE.pickle\n",
      "/Users/kyoheikoyama/workspace/tcrpred/analysis/analysis1_alldata/../DICT_PDB_Result/DICT_PDBID_2_dfhhb.pickle\n",
      "/Users/kyoheikoyama/workspace/tcrpred/analysis/analysis1_alldata/../DICT_PDB_Result/DICT_PDBID_2_SEQUENCES_CDR.pickle\n",
      "/Users/kyoheikoyama/workspace/tcrpred/analysis/analysis1_alldata/../DICT_PDB_Result/DICT_PDBID_2_CHAINNAMES.pickle\n"
     ]
    }
   ],
   "source": [
    "for f in files:\n",
    "    print(os.path.join(os.getcwd(), d,f))"
   ]
  },
  {
   "cell_type": "code",
   "execution_count": 5,
   "id": "5ba638ec",
   "metadata": {},
   "outputs": [],
   "source": [
    "import os\n",
    "import subprocess\n",
    "import pickle\n",
    "from tqdm import tqdm\n",
    "\n",
    "\n",
    "a = '/Users/kyoheikoyama/workspace/ligplottmp/'\n",
    "listdirs = os.listdir(a)\n",
    "\n",
    "for f in listdirs:\n",
    "    if f=='.DS_Store':\n",
    "        continue\n",
    "    results = os.listdir(os.path.join(a, f))\n",
    "    if len(results)==9:\n",
    "        continue\n",
    "    else:\n",
    "        print(f)"
   ]
  },
  {
   "cell_type": "code",
   "execution_count": 6,
   "id": "83e340fd",
   "metadata": {},
   "outputs": [
    {
     "data": {
      "text/plain": [
       "78"
      ]
     },
     "execution_count": 6,
     "metadata": {},
     "output_type": "execute_result"
    }
   ],
   "source": [
    "len(listdirs)"
   ]
  },
  {
   "cell_type": "code",
   "execution_count": 7,
   "id": "0898daea",
   "metadata": {},
   "outputs": [
    {
     "name": "stdout",
     "output_type": "stream",
     "text": [
      "     895     895   10740\r\n"
     ]
    }
   ],
   "source": [
    "!ls /Users/kyoheikoyama/workspace/tcrpred/analysis/analysis1_alldata/pdb/ | wc"
   ]
  },
  {
   "cell_type": "code",
   "execution_count": 8,
   "id": "e4e2814f",
   "metadata": {},
   "outputs": [],
   "source": [
    "# r_0 = DICT_PDB_Result['DICT_PDBID_2_CDRS.pickle']['2VLK'][-1][0]\n",
    "# r_m1 = DICT_PDB_Result['DICT_PDBID_2_CDRS.pickle']['2VLK'][-1][-1]\n",
    "# r_0.get_full_id()[-1][1], r_m1.get_full_id()[-1][1]"
   ]
  },
  {
   "cell_type": "code",
   "execution_count": 16,
   "id": "d273fd24",
   "metadata": {},
   "outputs": [],
   "source": [
    "# %load /Users/kyoheikoyama/workspace/LigPlus/command.py\n",
    "import subprocess\n",
    "import os, pickle\n",
    "from tqdm import tqdm\n",
    "\n",
    "\"\"\"\n",
    "\"LigPlot command line\" needs ResidueName and LigandPosition.\n",
    "\n",
    "- Command mannual\n",
    "https://www.ebi.ac.uk/thornton-srv/software/LIGPLOT/manual/\n",
    "https://www.ebi.ac.uk/thornton-srv/software/LIGPLOT/manual/man2.html\n",
    "\n",
    "- Output format\n",
    "UI mannual\n",
    "https://www.ebi.ac.uk/thornton-srv/software/LigPlus/manual2/manual.html\n",
    "\"\"\"\n",
    "\n",
    "\n",
    "### Define LigPlot+ environment here\n",
    "components_cif = '/Users/kyoheikoyama/workspace/LigPlus/lib/params/components.cif' # Location of components.cif\n",
    "ligplot_plus = '/Users/kyoheikoyama/workspace/LigPlus/lib/exe_mac/' # Location of your LigPlus executable folder\n",
    "pdbdir = '/Users/kyoheikoyama/workspace/tcrpred/analysis/analysis1_alldata/pdb/'\n",
    "path_DICT_PDBID_2_CDRS = \"/Users/kyoheikoyama/workspace/tcrpred/analysis/analysis1_alldata/../DICT_PDB_Result/DICT_PDBID_2_CDRS.pickle\"\n",
    "path_DICT_PDBID_2_CHAINNAMES = \"/Users/kyoheikoyama/workspace/tcrpred/analysis/analysis1_alldata/../DICT_PDB_Result/DICT_PDBID_2_CHAINNAMES.pickle\"\n",
    "\n",
    "LIGPLOT_ROOT = \"/Users/kyoheikoyama/workspace/ligplottmp\"\n",
    "\n",
    "os.system(f\"mkdir {LIGPLOT_ROOT}/hbadd_hbplus_result/\")\n",
    "\n",
    "\n",
    "def run_hbplus(filename):\n",
    "\tsubprocess.check_call(['{}hbadd'.format(ligplot_plus), filename, components_cif, '-wkdir', f'{LIGPLOT_ROOT}/hbadd_hbplus_result/'], shell = False)\n",
    "\tfile_prefix = filename.split('/')[-1].replace('.ent', '')\n",
    "\n",
    "\tif len(file_prefix)!=7:\n",
    "\t\tprint(file_prefix, filename)\n",
    "\t\tassert False\n",
    "\n",
    "\tsubprocess.check_call(['{}hbplus'.format(ligplot_plus), '-L', '-h', '2.90', '-d', '3.90', '-N', filename, '-wkdir', f'{LIGPLOT_ROOT}/hbadd_hbplus_result/'], shell = False)\n",
    "\tsubprocess.check_call(['{}hbplus'.format(ligplot_plus), '-L', '-h', '2.70', '-d', '3.35', filename, '-wkdir', f'{LIGPLOT_ROOT}/hbadd_hbplus_result/'], shell = False)\n",
    "\n",
    "\n",
    "\n",
    "def run_all(filename, res1, res2, ligand_chain):\n",
    "\t\"\"\"Emulates running the LigPlot+ DIMPLOT algorithm. Rewriting as a CLI to allow for a batch mode.\"\"\"\n",
    "\n",
    "\tfile_prefix = filename.split('/')[-1].replace('.ent', '')\n",
    "\tif len(file_prefix)!=7:\n",
    "\t\tprint(file_prefix, filename)\n",
    "\t\tassert False\n",
    "\n",
    "\tassert len(file_prefix)==7\n",
    "\n",
    "\tif os.path.exists(file_prefix):\n",
    "\t\treturn\n",
    "\n",
    "\t# Run HBadd\n",
    "\tsubprocess.check_call(['{}hbadd'.format(ligplot_plus), filename, components_cif, '-wkdir', './'], shell = False)\n",
    "\n",
    "\n",
    "\t# Run HBplus\n",
    "\tsubprocess.check_call(['{}hbplus'.format(ligplot_plus), '-L', '-h', '2.90', '-d', '3.90', '-N', filename, '-wkdir', './'], shell = False)\n",
    "\n",
    "\n",
    "\t# Run HBplus again\n",
    "\tsubprocess.check_call(['{}hbplus'.format(ligplot_plus), '-L', '-h', '2.70', '-d', '3.35', filename, '-wkdir', './'], shell = False)\n",
    "\n",
    "\n",
    "\t# Run ligplot\n",
    "\t# ligplot filename [residue1] [residue2] [chain_id] [-w] [-m].\n",
    "\t# [residue1] and [residue2] is the residue range for the ligand\n",
    "\tsubprocess.check_call([\n",
    "\t\t'{}ligplot'.format(ligplot_plus), filename, str(res1), str(res2), ligand_chain, '-wkdir', './',\n",
    "\t\t'-prm', '/Users/kyoheikoyama/workspace/LigPlus/lib/params/ligplot.prm'],\n",
    "\t\tshell = False)\n",
    "\n",
    "\tfiles_to_rename = [_ for _ in os.listdir('.') if 'dimplot.' in _[0:8] or 'ligplot.' in _[0:8]]\n",
    "\n",
    "\tos.system(f'mkdir {file_prefix}')\n",
    "\n",
    "\tfor file_to_rename in files_to_rename:\n",
    "\t\tsubprocess.check_call([\n",
    "\t\t\t'mv', file_to_rename, f'./{file_prefix}/{file_to_rename}'])\n",
    "\n",
    "def main():\n",
    "\t\"\"\"Main function.\"\"\"\n",
    "\t# Get list of pdb files in the directory\n",
    "\tDICT_PDBID_2_CDRS = pickle.load(open(path_DICT_PDBID_2_CDRS, \"rb\"))\n",
    "\tDICT_PDBID_2_CHAINNAMES = pickle.load(open(path_DICT_PDBID_2_CHAINNAMES, \"rb\"))\n",
    "\t# pickleload = lambda p: pickle.load(open(p,\"rb\"))\n",
    "\t# DICT_PDBID_2_Atten12 = pickleload(\"/Users/kyoheikoyama/workspace/tcrpred/analysis/analysis1_alldata/../DICT_PDB_Result/DICT_PDBID_2_Atten12.pickle\")\n",
    "\n",
    "\tfor pdbid in tqdm(list(DICT_PDBID_2_CHAINNAMES.keys())):\n",
    "\t\talpha_chain, beta_chain, ligand_chain = DICT_PDBID_2_CHAINNAMES[pdbid]\n",
    "\t\tpdb_file = os.path.join(pdbdir, f\"pdb{pdbid.lower()}.ent\")\n",
    "\t\tr_0 = DICT_PDBID_2_CDRS[pdbid][-1][0]\n",
    "\t\tr_m1 = DICT_PDBID_2_CDRS[pdbid][-1][-1]\n",
    "\t\tres1, res2 = r_0.get_full_id()[-1][1], r_m1.get_full_id()[-1][1]\n",
    "\n",
    "\t\tprint(\"*\"*400)\n",
    "\t\tprint(\"\"\"pdb_file, res1, res2, ligand_chain\"\"\")\n",
    "\t\tprint(pdb_file, res1, res2, ligand_chain)\n",
    "\t\ttry:\n",
    "\t\t\trun_hbplus(pdb_file, res1, res2, ligand_chain)\n",
    "\t\t\trun_all(pdb_file, res1, res2, ligand_chain)\n",
    "\t\texcept:\n",
    "\t\t\tcontinue\n",
    "\t# quit()\n",
    "\tprint('done!')\n",
    "\n",
    "def hbplus():\n",
    "\tDICT_PDBID_2_CDRS = pickle.load(open(path_DICT_PDBID_2_CDRS, \"rb\"))\n",
    "\tDICT_PDBID_2_CHAINNAMES = pickle.load(open(path_DICT_PDBID_2_CHAINNAMES, \"rb\"))\n",
    "\n",
    "\tfor pdbid in tqdm(list(DICT_PDBID_2_CHAINNAMES.keys())):\n",
    "\t\talpha_chain, beta_chain, ligand_chain = DICT_PDBID_2_CHAINNAMES[pdbid]\n",
    "\t\tpdb_file = os.path.join(pdbdir, f\"pdb{pdbid.lower()}.ent\")\n",
    "\t\tr_0 = DICT_PDBID_2_CDRS[pdbid][-1][0]\n",
    "\t\tr_m1 = DICT_PDBID_2_CDRS[pdbid][-1][-1]\n",
    "\t\tres1, res2 = r_0.get_full_id()[-1][1], r_m1.get_full_id()[-1][1]\n",
    "\n",
    "\t\tprint(\"*\"*400)\n",
    "\t\tprint(\"\"\"pdb_file, res1, res2, ligand_chain\"\"\")\n",
    "\t\tprint(pdb_file, res1, res2, ligand_chain)\n",
    "\t\ttry:\n",
    "\t\t\trun_hbplus(pdb_file, res1, res2, ligand_chain)\n",
    "\t\texcept:\n",
    "\t\t\tcontinue\n",
    "\t# quit()\n",
    "\tprint('done!')\n",
    "    \n",
    "    \n",
    "# if __name__ == '__main__':\n",
    "# \ttry:\n",
    "# \t\tmain()\n",
    "# \texcept KeyboardInterrupt:\n",
    "# \t\tprint('\\n\\nGoodbye!\\n\\n')\n",
    "\n"
   ]
  },
  {
   "cell_type": "code",
   "execution_count": null,
   "id": "11709ced",
   "metadata": {},
   "outputs": [
    {
     "name": "stderr",
     "output_type": "stream",
     "text": [
      " 86%|████████▌ | 68/79 [04:10<00:36,  3.31s/it]"
     ]
    }
   ],
   "source": [
    "DICT_PDBID_2_CHAINNAMES = DICT_PDBID_2_CHAINNAMES = pickle.load(open(path_DICT_PDBID_2_CHAINNAMES, \"rb\"))\n",
    "for pdbid in tqdm(list(DICT_PDBID_2_CHAINNAMES.keys())):\n",
    "    pdb_file = os.path.join(pdbdir, f\"pdb{pdbid.lower()}.ent\")\n",
    "    run_hbplus(pdb_file)"
   ]
  },
  {
   "cell_type": "code",
   "execution_count": null,
   "id": "b7c227a4",
   "metadata": {},
   "outputs": [],
   "source": []
  },
  {
   "cell_type": "markdown",
   "id": "0077209a",
   "metadata": {},
   "source": [
    "# Result"
   ]
  },
  {
   "cell_type": "code",
   "execution_count": 16,
   "id": "c36172c4",
   "metadata": {},
   "outputs": [
    {
     "name": "stdout",
     "output_type": "stream",
     "text": [
      "ligplot.bonds ligplot.frm   ligplot.nnb   ligplot.ps    ligplot.sum\r\n",
      "ligplot.drw   ligplot.hhb   ligplot.pdb   ligplot.rcm\r\n"
     ]
    }
   ],
   "source": [
    "!ls /Users/kyoheikoyama/workspace/ligplottmp/pdb4ozi/"
   ]
  },
  {
   "cell_type": "code",
   "execution_count": 19,
   "id": "b5b52512",
   "metadata": {},
   "outputs": [
    {
     "name": "stdout",
     "output_type": "stream",
     "text": [
      "ATOM     90  N   TYR A   7     -88.372  80.096  30.189  1.00 38.19           N\r\n",
      "ATOM     91  CA  TYR A   7     -87.301  80.202  29.216  1.00 37.69           C\r\n",
      "ATOM     92  C   TYR A   7     -87.786  81.051  28.062  1.00 37.22           C\r\n",
      "ATOM     93  O   TYR A   7     -88.902  80.866  27.590  1.00 37.13           O\r\n",
      "ATOM     94  CB  TYR A   7     -86.879  78.828  28.712  1.00 38.01           C\r\n",
      "ATOM     95  CG  TYR A   7     -86.159  78.007  29.746  1.00 39.39           C\r\n",
      "ATOM     96  CD1 TYR A   7     -86.798  76.958  30.392  1.00 39.61           C\r\n",
      "ATOM     97  CD2 TYR A   7     -84.845  78.280  30.082  1.00 40.90           C\r\n",
      "ATOM     98  CE1 TYR A   7     -86.146  76.202  31.341  1.00 41.77           C\r\n",
      "ATOM     99  CE2 TYR A   7     -84.183  77.530  31.031  1.00 43.23           C\r\n"
     ]
    }
   ],
   "source": [
    "!cat /Users/kyoheikoyama/workspace/ligplottmp/pdb5jzi/ligplot.frm | head"
   ]
  },
  {
   "cell_type": "code",
   "execution_count": 20,
   "id": "f838cdbd",
   "metadata": {},
   "outputs": [
    {
     "name": "stdout",
     "output_type": "stream",
     "text": [
      "Bond   0. Atoms16495 [ CA  GLY   96  E] -> 5823 [ OD1 ASN    8  C]n E 3.6296 - HBPLUS\r\n",
      "Bond   1. Atoms13362 [ OD2 ASP  102  D] -> 5802 [ CB  ILE    7  C]n E 3.6168 - HBPLUS\r\n",
      "Bond   2. Atoms13360 [ CG  ASP  102  D] -> 5801 [ O   ILE    7  C]n E 3.6551 - HBPLUS\r\n",
      "Bond   3. Atoms13362 [ OD2 ASP  102  D] -> 5799 [ CA  ILE    7  C]n E 3.7304 - HBPLUS\r\n",
      "Bond   4. Atoms13360 [ CG  ASP  102  D] -> 5798 [ N   ILE    7  C]n E 3.7411 - HBPLUS\r\n",
      "Bond   5. Atoms13362 [ OD2 ASP  102  D] -> 5793 [ C   GLY    6  C]n E 3.8662 - HBPLUS\r\n",
      "Bond   6. Atoms13360 [ CG  ASP  102  D] -> 5791 [ N   GLY    6  C]n E 3.4774 - HBPLUS\r\n",
      "Bond   7. Atoms16506 [ CG  PRO   97  E] -> 5779 [ CD2 LEU    5  C]n E 3.6240 - HBPLUS\r\n",
      "Bond   8. Atoms16505 [ CB  PRO   97  E] -> 5779 [ CD2 LEU    5  C]n E 3.8296 - HBPLUS\r\n",
      "Bond   9. Atoms12339 [ OH  TYR   38  D] -> 5779 [ CD2 LEU    5  C]n E 3.8371 - HBPLUS\r\n"
     ]
    }
   ],
   "source": [
    "!cat /Users/kyoheikoyama/workspace/ligplottmp/pdb5jzi/ligplot.bonds | head"
   ]
  },
  {
   "cell_type": "code",
   "execution_count": 21,
   "id": "b8e5c87e",
   "metadata": {},
   "outputs": [
    {
     "name": "stdout",
     "output_type": "stream",
     "text": [
      "ligplot.nnb output:\r\n",
      "\r\n",
      "   Atom 1               Atom 2        Distance\r\n",
      "GLY E   96   CA      ASN C    8   OD1    3.63\r\n",
      "ASP D  102   OD2     ILE C    7   CB     3.62\r\n",
      "ASP D  102   CG      ILE C    7   O      3.66\r\n",
      "ASP D  102   OD2     ILE C    7   CA     3.73\r\n",
      "ASP D  102   CG      ILE C    7   N      3.74\r\n",
      "ASP D  102   OD2     GLY C    6   C      3.87\r\n",
      "ASP D  102   CG      GLY C    6   N      3.48\r\n"
     ]
    }
   ],
   "source": [
    "!cat /Users/kyoheikoyama/workspace/ligplottmp/pdb5jzi/ligplot.nnb | head"
   ]
  },
  {
   "cell_type": "code",
   "execution_count": 22,
   "id": "5e92cfc1",
   "metadata": {
    "scrolled": true
   },
   "outputs": [
    {
     "name": "stdout",
     "output_type": "stream",
     "text": [
      "ligplot.hhb output:\r\n",
      "\r\n",
      "   Donor                  Acceptor     Distance\r\n",
      "ILE C    7   N       ASP D  102   OD2    3.00\r\n",
      "ASN C    8   ND2     GLY C    6   O      2.62\r\n",
      "GLY C    6   N       ASP D  102   OD2    2.96\r\n",
      "GLY C    6   N       ASP D  102   OD1    3.23\r\n",
      "ASP D  102   N       ALA C    4   O      3.23\r\n",
      "LYS C    1   NZ      SER D   33   O      2.43\r\n",
      "LYS C    1   N       TYR A  171   OH     3.18\r\n"
     ]
    }
   ],
   "source": [
    "!cat /Users/kyoheikoyama/workspace/ligplottmp/pdb5jzi/ligplot.hhb | head"
   ]
  },
  {
   "cell_type": "code",
   "execution_count": null,
   "id": "6d7dab09",
   "metadata": {},
   "outputs": [],
   "source": []
  }
 ],
 "metadata": {
  "kernelspec": {
   "display_name": "tcrpred",
   "language": "python",
   "name": "tcrpred"
  },
  "language_info": {
   "codemirror_mode": {
    "name": "ipython",
    "version": 3
   },
   "file_extension": ".py",
   "mimetype": "text/x-python",
   "name": "python",
   "nbconvert_exporter": "python",
   "pygments_lexer": "ipython3",
   "version": "3.8.3"
  },
  "toc": {
   "base_numbering": 1,
   "nav_menu": {},
   "number_sections": true,
   "sideBar": true,
   "skip_h1_title": false,
   "title_cell": "Table of Contents",
   "title_sidebar": "Contents",
   "toc_cell": false,
   "toc_position": {},
   "toc_section_display": true,
   "toc_window_display": false
  }
 },
 "nbformat": 4,
 "nbformat_minor": 5
}
