{
 "cells": [
  {
   "cell_type": "code",
   "execution_count": 1,
   "id": "9ab9d807",
   "metadata": {},
   "outputs": [],
   "source": [
    "%load_ext autoreload \n",
    "%autoreload 2"
   ]
  },
  {
   "cell_type": "code",
   "execution_count": 2,
   "id": "d4d1c346",
   "metadata": {},
   "outputs": [],
   "source": [
    "import pathlib, json\n",
    "import torch\n",
    "import os\n",
    "import pandas as pd\n",
    "import numpy as np\n",
    "import pandas as pd\n",
    "import pickle, sys\n",
    "import warnings\n",
    "from tqdm import tqdm\n",
    "from sklearn.model_selection import KFold\n",
    "\n",
    "sys.path.append('../')\n",
    "sys.path.append('../../')\n",
    "\n",
    "from recipes.dataset import MCPASDataset\n",
    "\n",
    "# from analysis_util import display_mat_from_ind\n",
    "# from analysis_util import convert_len\n",
    "\n",
    "from Bio.PDB import *\n",
    "\n",
    "# from pdb_util import get_chain_list, calc_dist, remove_HOH, get_structure_from_id, from_str_to_chain_names, get_residues_from_names\n",
    "# from pdb_util import get_cdrs_from_anarci\n",
    "# from pdb_util import get_seqs_from_residues\n",
    "warnings.filterwarnings(action='once')\n",
    "\n"
   ]
  },
  {
   "cell_type": "markdown",
   "id": "e68400de",
   "metadata": {},
   "source": [
    "# PDB Command"
   ]
  },
  {
   "cell_type": "code",
   "execution_count": 3,
   "id": "d1f61a79",
   "metadata": {
    "scrolled": true
   },
   "outputs": [
    {
     "name": "stdout",
     "output_type": "stream",
     "text": [
      "loading....\n"
     ]
    },
    {
     "name": "stderr",
     "output_type": "stream",
     "text": [
      "2022-03-31 09:47:19.682 \n",
      "  \u001b[33m\u001b[1mWarning:\u001b[0m to view this Streamlit app on a browser, run it with the following\n",
      "  command:\n",
      "\n",
      "    streamlit run /Users/kyoheikoyama/.pyenv/versions/miniconda3-latest/envs/tcrpred/lib/python3.8/site-packages/ipykernel_launcher.py [ARGUMENTS]\n",
      "../streamlit/streamlit_utils.py:28: ResourceWarning: unclosed file <_io.BufferedReader name='/Users/kyoheikoyama/workspace/tcrpred/analysis/DICT_PDB_Result/20220211_191954_DICT_PDBID_2_Atten12.pickle'>\n",
      "  def pickleload(p): return pickle.load(open(p, \"rb\"))\n",
      "ResourceWarning: Enable tracemalloc to get the object allocation traceback\n",
      "../streamlit/streamlit_utils.py:28: ResourceWarning: unclosed file <_io.BufferedReader name='/Users/kyoheikoyama/workspace/tcrpred/analysis/DICT_PDB_Result/20220211_191954_DICT_PDBID_2_MELTDIST.pickle'>\n",
      "  def pickleload(p): return pickle.load(open(p, \"rb\"))\n",
      "ResourceWarning: Enable tracemalloc to get the object allocation traceback\n",
      "../streamlit/streamlit_utils.py:28: ResourceWarning: unclosed file <_io.BufferedReader name='/Users/kyoheikoyama/workspace/tcrpred/analysis/DICT_PDB_Result/20220211_191954_DICT_PDBID_2_model_out.pickle'>\n",
      "  def pickleload(p): return pickle.load(open(p, \"rb\"))\n",
      "ResourceWarning: Enable tracemalloc to get the object allocation traceback\n",
      "../streamlit/streamlit_utils.py:28: ResourceWarning: unclosed file <_io.BufferedReader name='/Users/kyoheikoyama/workspace/tcrpred/analysis/DICT_PDB_Result/20220211_191954_DICT_PDBID_2_CHAINNAMES.pickle'>\n",
      "  def pickleload(p): return pickle.load(open(p, \"rb\"))\n",
      "ResourceWarning: Enable tracemalloc to get the object allocation traceback\n",
      "../streamlit/streamlit_utils.py:28: ResourceWarning: unclosed file <_io.BufferedReader name='/Users/kyoheikoyama/workspace/tcrpred/analysis/DICT_PDB_Result/20220211_191954_DICT_PDBID_2_CDRS.pickle'>\n",
      "  def pickleload(p): return pickle.load(open(p, \"rb\"))\n",
      "ResourceWarning: Enable tracemalloc to get the object allocation traceback\n",
      "../streamlit/streamlit_utils.py:28: ResourceWarning: unclosed file <_io.BufferedReader name='/Users/kyoheikoyama/workspace/tcrpred/analysis/DICT_PDB_Result/20220211_191954_DICT_PDBID_2_RESIDUES.pickle'>\n",
      "  def pickleload(p): return pickle.load(open(p, \"rb\"))\n",
      "ResourceWarning: Enable tracemalloc to get the object allocation traceback\n",
      "  0%|                                                            | 0/4 [00:00<?, ?it/s]"
     ]
    },
    {
     "name": "stdout",
     "output_type": "stream",
     "text": [
      "ending... loading....\n"
     ]
    },
    {
     "name": "stderr",
     "output_type": "stream",
     "text": [
      "100%|████████████████████████████████████████████████████| 4/4 [00:02<00:00,  1.66it/s]\n",
      "100%|████████████████████████████████████████████████████| 4/4 [00:02<00:00,  1.39it/s]\n",
      "21it [00:00, 50.14it/s]"
     ]
    },
    {
     "name": "stdout",
     "output_type": "stream",
     "text": [
      "2OL3 has only delta-chain and beta-chain\n"
     ]
    },
    {
     "name": "stderr",
     "output_type": "stream",
     "text": [
      "61it [00:01, 36.85it/s]"
     ]
    },
    {
     "name": "stdout",
     "output_type": "stream",
     "text": [
      "4QRR has only delta-chain and beta-chain\n",
      "5JHD has only delta-chain and beta-chain\n",
      "5JZI has only delta-chain and beta-chain\n"
     ]
    },
    {
     "name": "stderr",
     "output_type": "stream",
     "text": [
      "79it [00:01, 42.18it/s]\n",
      "/Users/kyoheikoyama/.pyenv/versions/miniconda3-latest/envs/tcrpred/lib/python3.8/site-packages/pandas/core/generic.py:6392: SettingWithCopyWarning: \n",
      "A value is trying to be set on a copy of a slice from a DataFrame\n",
      "\n",
      "See the caveats in the documentation: https://pandas.pydata.org/pandas-docs/stable/user_guide/indexing.html#returning-a-view-versus-a-copy\n",
      "  return self._update_inplace(result)\n"
     ]
    }
   ],
   "source": [
    "sys.path.append('../streamlit/')\n",
    "from streamlit_utils import *"
   ]
  },
  {
   "cell_type": "code",
   "execution_count": 4,
   "id": "335b4e9a",
   "metadata": {
    "scrolled": false
   },
   "outputs": [
    {
     "name": "stderr",
     "output_type": "stream",
     "text": [
      "/Users/kyoheikoyama/.pyenv/versions/miniconda3-latest/envs/tcrpred/lib/python3.8/site-packages/Bio/PDB/StructureBuilder.py:89: PDBConstructionWarning: WARNING: Chain B is discontinuous at line 13784.\n",
      "  warnings.warn(\n",
      "/Users/kyoheikoyama/.pyenv/versions/miniconda3-latest/envs/tcrpred/lib/python3.8/site-packages/Bio/PDB/StructureBuilder.py:89: PDBConstructionWarning: WARNING: Chain D is discontinuous at line 13789.\n",
      "  warnings.warn(\n",
      "/Users/kyoheikoyama/.pyenv/versions/miniconda3-latest/envs/tcrpred/lib/python3.8/site-packages/Bio/PDB/StructureBuilder.py:89: PDBConstructionWarning: WARNING: Chain E is discontinuous at line 13794.\n",
      "  warnings.warn(\n",
      "/Users/kyoheikoyama/.pyenv/versions/miniconda3-latest/envs/tcrpred/lib/python3.8/site-packages/Bio/PDB/StructureBuilder.py:89: PDBConstructionWarning: WARNING: Chain B is discontinuous at line 13804.\n",
      "  warnings.warn(\n"
     ]
    }
   ],
   "source": [
    "from Bio.PDB.PDBParser import PDBParser\n",
    "\n",
    "parser = PDBParser()\n",
    "structure = parser.get_structure(pdbid, f\"./../analysis/analysis1_alldata/pdb//pdb{pdbid.lower()}.ent\")\n"
   ]
  },
  {
   "cell_type": "code",
   "execution_count": 5,
   "id": "198789a4",
   "metadata": {},
   "outputs": [],
   "source": [
    "pdbids = list(DICT_PDBID_2_CDRS.keys())"
   ]
  },
  {
   "cell_type": "code",
   "execution_count": 6,
   "id": "609818db",
   "metadata": {
    "scrolled": true
   },
   "outputs": [
    {
     "name": "stdout",
     "output_type": "stream",
     "text": [
      "E E\n",
      "J J, L\n",
      "E E, J\n",
      "B B\n",
      "E E\n",
      "E E, J, O, T\n",
      "E E, J\n",
      "E E, J, O, T\n",
      "E E\n",
      "E E\n",
      "E E, J, O, T\n",
      "E E\n",
      "E E, J, O, T\n",
      "E E\n",
      "E E\n",
      "E E\n",
      "H H\n",
      "E E\n",
      "E E\n",
      "F F, H\n",
      "E E\n",
      "J J\n",
      "F F, M\n",
      "D D\n",
      "E E\n",
      "E E\n",
      "E E, J\n",
      "E E, J\n",
      "B B, F\n",
      "E E\n",
      "F F, H\n",
      "F F, M\n",
      "F F, M\n",
      "E E\n",
      "B B\n",
      "E E\n",
      "E E\n",
      "E E\n",
      "E E\n",
      "D D\n",
      "D D, H\n",
      "D D, E\n",
      "B B\n",
      "E E\n",
      "E E\n",
      "F F, H\n",
      "E E\n",
      "F F, H\n",
      "D D, H\n",
      "F F, H\n",
      "E E, J, P, U\n",
      "E E\n",
      "B B\n",
      "E E\n",
      "J J, L, P, F\n",
      "B B, F\n",
      "E E\n",
      "E E\n",
      "D D\n",
      "E E, J\n",
      "E E\n",
      "E E, J\n",
      "E E, J\n",
      "E E\n"
     ]
    }
   ],
   "source": [
    "KKK = 1\n",
    "for p in pdbids:\n",
    "    if len(DICT_PDBID_2_CDRS[p][KKK])==0: continue\n",
    "    i = DICT_PDBID_2_CHAINNAMES[p]\n",
    "    print(DICT_PDBID_2_CDRS[p][KKK][0].get_full_id()[2], i[KKK])"
   ]
  },
  {
   "cell_type": "code",
   "execution_count": 7,
   "id": "cb4d5195",
   "metadata": {},
   "outputs": [],
   "source": [
    "def add_commnad(Pymol_COMMAND, text):\n",
    "    return Pymol_COMMAND + text + '\\n'\n",
    "\n",
    "def get_command(pdbid):\n",
    "    Pymol_COMMAND = ''\n",
    "    chain_list = list([c.get_id() for c in structure.get_chains()])\n",
    "    \n",
    "    residues_chain_cdr_alpha = DICT_PDBID_2_CDRS[pdbid][0]\n",
    "    residues_chain_cdr_beta = DICT_PDBID_2_CDRS[pdbid][1]\n",
    "    chain2_cdr3_pdb_pos = [r.get_full_id()[3][1] for r in residues_chain_cdr_beta]\n",
    "    chain1_cdr3_pdb_pos = [r.get_full_id()[3][1] for r in residues_chain_cdr_alpha]\n",
    "\n",
    "    ALPHA_CHAIN_NAME, BETA_CHAIN_NAME, EPITOPE_CHAIN_NAME = \\\n",
    "        DICT_PDBID_2_CDRS[pdbid][0][0].get_full_id()[2], DICT_PDBID_2_CDRS[pdbid][1][0].get_full_id()[2], DICT_PDBID_2_CDRS[pdbid][2][0].get_full_id()[2]\n",
    "    MHC_CHAIN_NAME = [c for c in chain_list if c not in ALPHA_CHAIN_NAME+BETA_CHAIN_NAME+EPITOPE_CHAIN_NAME]\n",
    "\n",
    "    attn_output_weights1_list, attn_output_weights2_list = DICT_PDBID_2_Atten12[pdbid]\n",
    "    attention_residue_index = []\n",
    "    attention_residue_headnum = []\n",
    "    for headi in range(4):\n",
    "        atten = attn_output_weights2_list[headi]\n",
    "        good_vals = (atten > (atten.values.ravel().mean() + 5.0 * atten.values.ravel().std())).any()\n",
    "        attention_residue_index += [i for i,v in enumerate(good_vals.values) if v]\n",
    "        attention_residue_headnum += [headi for _ in range(sum(good_vals.values))]\n",
    "\n",
    "    residues_all = residues_chain_cdr_alpha + [None] + residues_chain_cdr_beta\n",
    "    attention_residue_alpha = [residues_all[i] for i in attention_residue_index if i<len(residues_chain_cdr_alpha)]\n",
    "    attention_residue_alpha_head = [attention_residue_headnum[i] for i, ri in enumerate(attention_residue_index) if ri<len(residues_chain_cdr_alpha)]\n",
    "    attention_residue_beta = [residues_all[i] for i in attention_residue_index if i>=len(residues_chain_cdr_beta)]\n",
    "    attention_residue_beta_head = [attention_residue_headnum[i] for i, ri in enumerate(attention_residue_index) if ri>=len(residues_chain_cdr_alpha)]\n",
    "    attention_pos_alpha = [r.get_full_id()[3][1] for r in attention_residue_alpha]\n",
    "    attention_pos_beta = [r.get_full_id()[3][1] for r in attention_residue_beta]\n",
    "\n",
    "    ###. Base commands ################################################################\n",
    "    \n",
    "    Pymol_COMMAND = add_commnad(Pymol_COMMAND, f'fetch {pdbid};')\n",
    "    Pymol_COMMAND = add_commnad(Pymol_COMMAND, 'set seq_view, 1;')\n",
    "    Pymol_COMMAND = add_commnad(Pymol_COMMAND, 'bg_color white;')\n",
    "    Pymol_COMMAND = add_commnad(Pymol_COMMAND, 'set_color blue60, [ 0, 0, 110 ];')\n",
    "    Pymol_COMMAND = add_commnad(Pymol_COMMAND, 'set_color blue30, [ 0, 0, 20 ];')\n",
    "    Pymol_COMMAND = add_commnad(Pymol_COMMAND, 'set_color red60, [ 110, 0, 0 ];')\n",
    "    Pymol_COMMAND = add_commnad(Pymol_COMMAND, 'set_color red30, [ 20, 0, 0 ];')\n",
    "    Pymol_COMMAND = add_commnad(Pymol_COMMAND, 'hide all;')\n",
    "    ##############################################################################\n",
    "    \n",
    "    \n",
    "    ### Base chains and colors ###################################################\n",
    "    Pymol_COMMAND = add_commnad(Pymol_COMMAND, f'select beta, chain {BETA_CHAIN_NAME} and not solvent;')\n",
    "    Pymol_COMMAND = add_commnad(Pymol_COMMAND, f'select alpha, chain {ALPHA_CHAIN_NAME} and not solvent;')\n",
    "    if len(MHC_CHAIN_NAME)==1:\n",
    "        mhc_chain = f'chain {MHC_CHAIN_NAME[0]}'\n",
    "    else:\n",
    "        mhc_chain = ''\n",
    "        for m in MHC_CHAIN_NAME:\n",
    "            mhc_chain += f'chain {m} or '\n",
    "        mhc_chain = mhc_chain[:-4]\n",
    "    Pymol_COMMAND = add_commnad(Pymol_COMMAND, f'select mhc, ({mhc_chain}) and not solvent;')    \n",
    "    coloring_commands = ['show ribbon, alpha;', 'color salmon, alpha;', 'show ribbon, beta;', 'color cyan, beta;', \n",
    "                'show ribbon, mhc;', 'color grey70, mhc;']\n",
    "    for com in coloring_commands:\n",
    "        Pymol_COMMAND = add_commnad(Pymol_COMMAND, com)\n",
    "    ##############################################################################\n",
    "    \n",
    "    \n",
    "    if len(BETA_CHAIN_NAME)==1:\n",
    "        Pymol_COMMAND = add_commnad(Pymol_COMMAND, f'sel beta_cdr3, (chain {BETA_CHAIN_NAME} and resi {chain2_cdr3_pdb_pos[0]}:{chain2_cdr3_pdb_pos[-1]});')\n",
    "        Pymol_COMMAND = add_commnad(Pymol_COMMAND, 'set cartoon_side_chain_helper, on')\n",
    "        Pymol_COMMAND = add_commnad(Pymol_COMMAND, 'show sticks, beta_cdr3;')\n",
    "        Pymol_COMMAND = add_commnad(Pymol_COMMAND, f'util.cbag beta_cdr3;')\n",
    "    else:\n",
    "        for b in BETA_CHAIN_NAME.split(', '):\n",
    "            Pymol_COMMAND = add_commnad(Pymol_COMMAND, f'sel beta_cdr3, (chain {b} and resi {chain2_cdr3_pdb_pos[0]}:{chain2_cdr3_pdb_pos[-1]});')\n",
    "            Pymol_COMMAND = add_commnad(Pymol_COMMAND, 'set cartoon_side_chain_helper, on')\n",
    "            Pymol_COMMAND = add_commnad(Pymol_COMMAND, 'show sticks, beta_cdr3;')\n",
    "            Pymol_COMMAND = add_commnad(Pymol_COMMAND, 'util.cbag beta_cdr3;')\n",
    "        \n",
    "    \n",
    "    if len(ALPHA_CHAIN_NAME)==1:        \n",
    "        Pymol_COMMAND = add_commnad(Pymol_COMMAND, f'sel alpha_cdr3, (chain {ALPHA_CHAIN_NAME} and resi {chain1_cdr3_pdb_pos[0]}:{chain1_cdr3_pdb_pos[-1]});')\n",
    "        Pymol_COMMAND = add_commnad(Pymol_COMMAND, 'set cartoon_side_chain_helper, on')\n",
    "        Pymol_COMMAND = add_commnad(Pymol_COMMAND, 'show sticks, alpha_cdr3;')\n",
    "        Pymol_COMMAND = add_commnad(Pymol_COMMAND, f'util.cbag alpha_cdr3;')\n",
    "    else:\n",
    "        for a in ALPHA_CHAIN_NAME.split(', '):\n",
    "            Pymol_COMMAND = add_commnad(Pymol_COMMAND, f'sel alpha_cdr3, (chain {a} and resi {chain1_cdr3_pdb_pos[0]}:{chain1_cdr3_pdb_pos[-1]});')\n",
    "            Pymol_COMMAND = add_commnad(Pymol_COMMAND, 'set cartoon_side_chain_helper, on')\n",
    "            Pymol_COMMAND = add_commnad(Pymol_COMMAND, 'show sticks, alpha_cdr3;')\n",
    "            Pymol_COMMAND = add_commnad(Pymol_COMMAND, f'util.cbag alpha_cdr3;')\n",
    "\n",
    "    if len(EPITOPE_CHAIN_NAME)==1:\n",
    "        Pymol_COMMAND = add_commnad(Pymol_COMMAND, f'sel epitope, chain {EPITOPE_CHAIN_NAME} and not solvent;')\n",
    "        Pymol_COMMAND = add_commnad(Pymol_COMMAND, 'show sticks, epitope;')\n",
    "    else:\n",
    "        for e in EPITOPE_CHAIN_NAME.split(', '):\n",
    "            Pymol_COMMAND = add_commnad(Pymol_COMMAND, f'sel epitope, chain {e} and not solvent;')\n",
    "            Pymol_COMMAND = add_commnad(Pymol_COMMAND, 'show sticks, epitope;')\n",
    "    \n",
    "    \n",
    "    \n",
    "    bond_distance_commands = [\"util.cbay epitope;\",\n",
    "            \"select cdr3, alpha_cdr3 or beta_cdr3;\",\n",
    "            \"select tcr, alpha or beta;\",\n",
    "            \"dist H_cdr_p, cdr3, epitope, mode=2;\",\n",
    "            \"hide labels, H_cdr_p;\",\n",
    "            \"color black, H_cdr_p;\",\n",
    "            \"dist H_cdr_tcr, cdr3, tcr, mode=2;\",\n",
    "            \"hide labels, H_cdr_tcr;\",\n",
    "            \"color grey, H_cdr_tcr;\",]\n",
    "    \n",
    "    for com in bond_distance_commands:\n",
    "        Pymol_COMMAND = add_commnad(Pymol_COMMAND, com)\n",
    "\n",
    "    '''Attention'''\n",
    "    if len(ALPHA_CHAIN_NAME)==1:\n",
    "        for hi, ap in zip(attention_residue_alpha_head, attention_pos_alpha):\n",
    "            Pymol_COMMAND = add_commnad(Pymol_COMMAND, f'sel atten_a_head{hi}, (chain {ALPHA_CHAIN_NAME} and resi {ap});')\n",
    "            Pymol_COMMAND = add_commnad(Pymol_COMMAND, f'color pink, atten_a_head{hi};')\n",
    "    else:\n",
    "        for a in ALPHA_CHAIN_NAME.split(', '):\n",
    "            for hi, ap in zip(attention_residue_alpha_head, attention_pos_alpha):\n",
    "                Pymol_COMMAND = add_commnad(Pymol_COMMAND, f'sel atten_a_head{hi}, (chain {a} and resi {ap});')\n",
    "                Pymol_COMMAND = add_commnad(Pymol_COMMAND, f'color pink, atten_a_head{hi};')\n",
    "        \n",
    "    if len(BETA_CHAIN_NAME)==1:\n",
    "        for hi, ap in zip(attention_residue_beta_head, attention_pos_beta):\n",
    "            Pymol_COMMAND = add_commnad(Pymol_COMMAND, f'sel atten_b_head{hi}, (chain {BETA_CHAIN_NAME} and resi {ap});')\n",
    "            Pymol_COMMAND = add_commnad(Pymol_COMMAND, f'color pink, atten_b_head{hi};')\n",
    "    else:\n",
    "        for b in BETA_CHAIN_NAME.split(', '):\n",
    "            for hi, ap in zip(attention_residue_beta_head, attention_pos_beta):\n",
    "                Pymol_COMMAND = add_commnad(Pymol_COMMAND, f'sel atten_b_head{hi}, (chain {b} and resi {ap});')\n",
    "                Pymol_COMMAND = add_commnad(Pymol_COMMAND, f'color pink, atten_b_head{hi};')            \n",
    "    return Pymol_COMMAND"
   ]
  },
  {
   "cell_type": "code",
   "execution_count": 33,
   "id": "65654699",
   "metadata": {
    "scrolled": true
   },
   "outputs": [
    {
     "name": "stdout",
     "output_type": "stream",
     "text": [
      "fetch 1LP9;\n",
      "set seq_view, 1;\n",
      "bg_color white;\n",
      "set_color blue60, [ 0, 0, 110 ];\n",
      "set_color blue30, [ 0, 0, 20 ];\n",
      "set_color red60, [ 110, 0, 0 ];\n",
      "set_color red30, [ 20, 0, 0 ];\n",
      "hide all;\n",
      "select beta, chain F and not solvent;\n",
      "select alpha, chain E and not solvent;\n",
      "select mhc, (chain A or chain B or chain D) and not solvent;\n",
      "show ribbon, alpha;\n",
      "color salmon, alpha;\n",
      "show ribbon, beta;\n",
      "color cyan, beta;\n",
      "show ribbon, mhc;\n",
      "color grey70, mhc;\n",
      "sel beta_cdr3, (chain F and resi 92:108);\n",
      "set cartoon_side_chain_helper, on\n",
      "show sticks, beta_cdr3;\n",
      "util.cbag beta_cdr3;\n",
      "sel alpha_cdr3, (chain E and resi 90:106);\n",
      "set cartoon_side_chain_helper, on\n",
      "show sticks, alpha_cdr3;\n",
      "util.cbag alpha_cdr3;\n",
      "sel epitope, chain C and not solvent;\n",
      "show sticks, epitope;\n",
      "util.cbay epitope;\n",
      "select cdr3, alpha_cdr3 or beta_cdr3;\n",
      "select tcr, alpha or beta;\n",
      "dist H_cdr_p, cdr3, epitope, mode=2;\n",
      "hide labels, H_cdr_p;\n",
      "color black, H_cdr_p;\n",
      "dist H_cdr_tcr, cdr3, tcr, mode=2;\n",
      "hide labels, H_cdr_tcr;\n",
      "color grey, H_cdr_tcr;\n",
      "sel atten_a_head0, (chain E and resi 103);\n",
      "color pink, atten_a_head0;\n",
      "sel atten_a_head1, (chain E and resi 101);\n",
      "color pink, atten_a_head1;\n",
      "sel atten_b_head1, (chain F and resi 100);\n",
      "color pink, atten_b_head1;\n",
      "sel atten_b_head1, (chain F and resi 107);\n",
      "color pink, atten_b_head1;\n",
      "sel atten_b_head2, (chain F and resi 98);\n",
      "color pink, atten_b_head2;\n",
      "sel atten_b_head3, (chain F and resi 106);\n",
      "color pink, atten_b_head3;\n",
      "\n"
     ]
    }
   ],
   "source": [
    "print(get_command(pdbid='1LP9'))"
   ]
  },
  {
   "cell_type": "markdown",
   "id": "defea2e8",
   "metadata": {},
   "source": [
    "# Save command into file"
   ]
  },
  {
   "cell_type": "code",
   "execution_count": 34,
   "id": "95ec5371",
   "metadata": {},
   "outputs": [],
   "source": [
    "positive_pdbid_list = [k for k,v in DICT_PDBID_2_model_out.items() if v[-1]>0.5]"
   ]
  },
  {
   "cell_type": "code",
   "execution_count": 35,
   "id": "19d9ba16",
   "metadata": {},
   "outputs": [
    {
     "name": "stdout",
     "output_type": "stream",
     "text": [
      "mkdir: ./../streamlit/pymolcommand_ribons: File exists\r\n"
     ]
    }
   ],
   "source": [
    "!mkdir ./../streamlit/pymolcommand_ribons"
   ]
  },
  {
   "cell_type": "code",
   "execution_count": 36,
   "id": "72b5568a",
   "metadata": {},
   "outputs": [],
   "source": [
    "for pdbid in positive_pdbid_list:\n",
    "    if pdbid not in DICT_PDBID_2_Atten12:\n",
    "        continue\n",
    "    with open(f'./../streamlit/pymolcommand_ribons/{pdbid}.txt', 'w') as f:\n",
    "        f.writelines(get_command(pdbid))\n"
   ]
  },
  {
   "cell_type": "code",
   "execution_count": 40,
   "id": "8f71740a",
   "metadata": {},
   "outputs": [],
   "source": [
    "def res_to_alphabetseq(rlist):\n",
    "    return ''.join([AACODES_DICT.get(r.get_resname(), 'X') for r in rlist])\n",
    "\n",
    "DICT_PDBID_2_SEQ = {k:[res_to_alphabetseq(v) for v in vv] for k,vv in DICT_PDBID_2_CDRS.items()}"
   ]
  },
  {
   "cell_type": "code",
   "execution_count": 47,
   "id": "bca6015c",
   "metadata": {},
   "outputs": [
    {
     "data": {
      "text/plain": [
       "(39, 3)"
      ]
     },
     "execution_count": 47,
     "metadata": {},
     "output_type": "execute_result"
    }
   ],
   "source": [
    "df_seq_paired = pd.DataFrame(DICT_PDBID_2_SEQ).T\n",
    "df_seq_paired = df_seq_paired.loc[positive_pdbid_list]\n",
    "df_seq_paired.drop_duplicates(subset=[0,1,2]).shape"
   ]
  },
  {
   "cell_type": "code",
   "execution_count": 37,
   "id": "a7ae46f6",
   "metadata": {},
   "outputs": [
    {
     "data": {
      "text/plain": [
       "(0, 47, 47)"
      ]
     },
     "execution_count": 37,
     "metadata": {},
     "output_type": "execute_result"
    }
   ],
   "source": [
    "len([pdbid for pdbid in positive_pdbid_list if pdbid not in DICT_PDBID_2_Atten12]),\\\n",
    "len([pdbid for pdbid in positive_pdbid_list if pdbid in DICT_PDBID_2_Atten12]),\\\n",
    "len(positive_pdbid_list)"
   ]
  },
  {
   "cell_type": "code",
   "execution_count": null,
   "id": "f6f43015",
   "metadata": {},
   "outputs": [],
   "source": []
  },
  {
   "cell_type": "code",
   "execution_count": null,
   "id": "95ada5e0",
   "metadata": {},
   "outputs": [],
   "source": []
  },
  {
   "cell_type": "code",
   "execution_count": null,
   "id": "a4ae9ccf",
   "metadata": {},
   "outputs": [],
   "source": []
  }
 ],
 "metadata": {
  "kernelspec": {
   "display_name": "tcrpred",
   "language": "python",
   "name": "tcrpred"
  },
  "language_info": {
   "codemirror_mode": {
    "name": "ipython",
    "version": 3
   },
   "file_extension": ".py",
   "mimetype": "text/x-python",
   "name": "python",
   "nbconvert_exporter": "python",
   "pygments_lexer": "ipython3",
   "version": "3.8.3"
  },
  "toc": {
   "base_numbering": 1,
   "nav_menu": {},
   "number_sections": true,
   "sideBar": true,
   "skip_h1_title": false,
   "title_cell": "Table of Contents",
   "title_sidebar": "Contents",
   "toc_cell": false,
   "toc_position": {},
   "toc_section_display": true,
   "toc_window_display": false
  }
 },
 "nbformat": 4,
 "nbformat_minor": 5
}
