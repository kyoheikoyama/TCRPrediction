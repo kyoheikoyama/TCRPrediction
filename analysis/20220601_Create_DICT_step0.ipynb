{
 "cells": [
  {
   "cell_type": "markdown",
   "metadata": {},
   "source": [
    "# All training data"
   ]
  },
  {
   "cell_type": "code",
   "execution_count": 1,
   "metadata": {},
   "outputs": [],
   "source": [
    "%config Completer.use_jedi = False"
   ]
  },
  {
   "cell_type": "markdown",
   "metadata": {},
   "source": [
    "### \n",
    "- now using \n",
    "    - 20211029_011638: ./dir_kicker/logs/files__all_train_kfold_20211029_031110.csv\n",
    "\n",
    "\n",
    "- all data\n",
    "    - (Don't use) 20211025_012816: ./logs/files_20211025_020358_alldata.csv\n",
    "    - (Use) files_20220212_200237_alldata.csv\n",
    "    \n",
    "        - or \n",
    "            - scripts/dir_kicker/logs/kicker.sh.o205129\n",
    "            - "
   ]
  },
  {
   "cell_type": "code",
   "execution_count": 2,
   "metadata": {},
   "outputs": [
    {
     "name": "stdout",
     "output_type": "stream",
     "text": [
      "files_20211025_001501_mcpas.csv\r\n",
      "files_20211025_012422_alltrain.csv\r\n",
      "files_20211025_020358_alldata.csv\r\n",
      "files_20220212_200237_alldata.csv\r\n",
      "files__all_train_kfold_20211029_031110.csv\r\n",
      "files_fake020211027_051219.csv\r\n",
      "kicker.sh.o205127\r\n",
      "kicker.sh.o205128\r\n",
      "kicker.sh.o205129\r\n",
      "kicker.sh.o205130\r\n",
      "kicker.sh.o205131\r\n",
      "kicker.sh.o365034\r\n",
      "kicker.sh.o380085\r\n"
     ]
    }
   ],
   "source": [
    "!ls ../scripts/dir_kicker/logs/"
   ]
  },
  {
   "cell_type": "code",
   "execution_count": 3,
   "metadata": {},
   "outputs": [],
   "source": [
    "from analysis_util import pdread\n",
    "import pandas as pd\n",
    "from scipy.special import expit, softmax\n",
    "from sklearn.metrics import roc_auc_score\n",
    "import os, sys\n",
    "import joblib, functools\n",
    "from functools import partial\n",
    "import pickle\n",
    "from sklearn.model_selection import KFold\n",
    "\n",
    "sys.path.append('../recipes/')\n",
    "import dataset\n",
    "MCPASDataset = dataset.MCPASDataset\n",
    "\n",
    "\n",
    "def get_file_paths(bucket, dirname, feat_name, extension='.parquet'):\n",
    "    import boto3\n",
    "    dataroot = f\"s3://{bucket}/\"\n",
    "    objs = boto3.resource(\"s3\").Bucket(f\"{bucket}\").objects.filter(\n",
    "        Prefix=f\"{dirname}/{feat_name}\")\n",
    "    files = [obj.key for obj in objs\n",
    "             if not obj.key.startswith(f\"{dirname}.ipynb_checkpoints\") and obj.key.endswith(extension)]\n",
    "    files = [os.path.join(dataroot, f) for f in files]\n",
    "    return files\n",
    "\n",
    "\n",
    "def delete_padding(weights1):\n",
    "    if len([c for c in weights1.columns if '8_' in c])>0: \n",
    "        weights1 = weights1.drop(columns=[c for c in weights1.columns if '8_' in c])\n",
    "    if len([c for c in weights1.index if '8_' in c])>0: \n",
    "        weights1 = weights1.drop(index=[c for c in weights1.index if '8_' in c])\n",
    "    return weights1\n",
    "\n",
    "@functools.lru_cache(maxsize=10)\n",
    "def get_data_i_from_attenmatdict(ind):\n",
    "    '''Get the data: attention, tcra, tcrb, peptides, sign etc'''\n",
    "    attn_output_weights1, attn_output_weights2, abseq_with_comma, peptide, ypred, sign = ATTENTION_MATRIX_DICT[ind]\n",
    "    aseq_from_comma, bseq_from_comma =  abseq_with_comma.split(':')\n",
    "    aseq = DF_TCR.iloc[ind]['tcra']\n",
    "    bseq = DF_TCR.iloc[ind]['tcrb']\n",
    "    assert aseq==aseq_from_comma\n",
    "    assert bseq==bseq_from_comma\n",
    "    abseq = convert_len(aseq, MAXLENGTH_A) + convert_len(bseq, MAXLENGTH_B) \n",
    "    peptide = convert_len(DF_TCR.iloc[ind]['peptide'], max_len_epitope)\n",
    "    return attn_output_weights1, attn_output_weights2, abseq_with_comma, peptide, ypred, sign, aseq, bseq, abseq, peptide\n",
    "\n",
    "\n",
    "def get_weight1_on_headi(attn_output_weights1, head_i, \n",
    "                                   aseq, maxlength_a, \n",
    "                                   bseq, maxlength_b, \n",
    "                                   peptide,\n",
    "                                   sign\n",
    "                                  ):\n",
    "    weights1 = pd.DataFrame(attn_output_weights1[head_i])\n",
    "    weights1 = pd.DataFrame(attn_output_weights1[head_i])\n",
    "    weights1.index = [f\"{tup[1]}_{tup[0]}\" for tup in list(enumerate(convert_len(aseq, maxlength_a)))] +\\\n",
    "        [f\"{tup[1]}_{tup[0]}\" for tup in list(enumerate(convert_len(bseq, maxlength_b)))]\n",
    "    weights1.columns = [f\"{tup[1]}_{tup[0]}\" for tup in list(enumerate(peptide))]\n",
    "\n",
    "    weights1 = delete_padding(weights1)\n",
    "    weights1 = weights1.melt(ignore_index=False).reset_index().rename(columns={'variable':'peptide', 'index':'tcr'})\n",
    "    weights1['sign'] = sign\n",
    "    weights1['atten_head'] = head_i\n",
    "    return weights1\n",
    "\n",
    "\n",
    "def get_weight2_on_headi(attn_output_weights2, head_i, \n",
    "                           aseq, maxlength_a, \n",
    "                           bseq, maxlength_b,\n",
    "                           peptide,\n",
    "                           sign):\n",
    "    weights2 = pd.DataFrame(attn_output_weights2[head_i])\n",
    "    weights2.index = [f\"{tup[1]}_{tup[0]}\" for tup in list(enumerate(peptide))]\n",
    "    weights2.columns = [f\"{tup[1]}_{tup[0]}\" for tup in list(enumerate(convert_len(aseq, maxlength_a)))] + \\\n",
    "        [f\"{tup[1]}_{tup[0]}\" for tup in list(enumerate(convert_len(bseq, maxlength_b)))]\n",
    "    weights2 = delete_padding(weights2)\n",
    "    weights2 = weights2.melt(ignore_index=False).reset_index().rename(columns={'variable':'tcr', 'index':'peptide'})\n",
    "    weights2['sign'] = sign\n",
    "    weights2['atten_head'] = head_i\n",
    "    return weights2\n",
    "\n",
    "\n",
    "\n",
    "def get_attention_weights_from_index(attention_matrix_dict, index):\n",
    "    weights1_list = []\n",
    "    weights2_list = []\n",
    "\n",
    "    for head_i in range(4):\n",
    "        for ind in tqdm(index):            \n",
    "            attn_output_weights1, attn_output_weights2, abseq_with_comma, peptide, ypred, sign, aseq, bseq, abseq, peptide = \\\n",
    "                get_data_i_from_attenmatdict(ind)\n",
    "\n",
    "            weights1 = get_weight1_on_headi(attn_output_weights1, head_i, \n",
    "                                   aseq, MAXLENGTH_A, \n",
    "                                   bseq, MAXLENGTH_B,\n",
    "                                   peptide,\n",
    "                                   sign\n",
    "                                  )\n",
    "            \n",
    "            weights1_list.append(weights1)\n",
    "            \n",
    "            weights2 = get_weight2_on_headi(attn_output_weights2, head_i, \n",
    "                                   aseq, MAXLENGTH_A, \n",
    "                                   bseq, MAXLENGTH_B,\n",
    "                                   peptide,\n",
    "                                   sign)\n",
    "            \n",
    "            weights2_list.append(weights2)\n",
    "\n",
    "        weights1_total = pd.concat(weights1_list)\n",
    "        weights1_total['type'] = f'weights1_total: sum1onPeptide'\n",
    "        weights2_total = pd.concat(weights2_list)\n",
    "        weights2_total['type'] = f'weights2_total: sum1onTCR'\n",
    "    df_attention_weights = pd.concat([weights1_total, weights2_total])\n",
    "    _split_tcr = pd.DataFrame(df_attention_weights['tcr'].str.split('_', 1).tolist())\n",
    "    _split_tcr.columns = ['tcr', 'position_of_tcr']\n",
    "    _split_tcr['position_of_tcr'] = _split_tcr['position_of_tcr'].astype(int)\n",
    "    _split_peptide = pd.DataFrame(df_attention_weights['peptide'].str.split('_', 1).tolist())\n",
    "    _split_peptide.columns = ['peptide', 'position_of_peptide']\n",
    "    _split_peptide['position_of_peptide'] = _split_peptide['position_of_peptide'].astype(int)\n",
    "    \n",
    "    df_attention_weights = df_attention_weights.rename(columns={'tcr':'tcr_position', 'peptide':'peptide_position'})\n",
    "    df_attention_weights = pd.concat([df_attention_weights.reset_index(drop=True), \n",
    "               _split_tcr.reset_index(drop=True), \n",
    "               _split_peptide.reset_index(drop=True)], axis=1)\n",
    "    df_attention_weights['cross_layer_side'] = df_attention_weights['type'].str.split(': ').str.get(1)\n",
    "    return df_attention_weights\n",
    "\n",
    "def get_attention_weights(dataset_test, model, index=0):\n",
    "    analysis_loader = torch.utils.data.DataLoader(dataset=dataset_test, batch_size=1, shuffle=False)\n",
    "    for i, (xx,yy) in enumerate(analysis_loader):\n",
    "        if i==index:\n",
    "            break\n",
    "    __xx = [x.to(device) for x in xx]\n",
    "    #print(__xx)\n",
    "    explain_model = Explain_TCRModel(d_model=d_model, d_ff=d_ff, n_head=n_head, n_local_encoder=n_local_encoder, \n",
    "                                     n_global_encoder=n_global_encoder, dropout=dropout, scope=4, \n",
    "                                     n_tok=n_tok, n_pos1=n_pos1, n_pos2=n_pos2, n_seg=n_seg)\n",
    "    explain_model.load_state_dict(model.state_dict(), strict=False)\n",
    "    model.to(device)\n",
    "    explain_model = explain_model.to(device)\n",
    "    model = model.eval()\n",
    "    explain_model = explain_model.eval()\n",
    "    \n",
    "    with torch.no_grad():\n",
    "        tcrab, epitope, src_kwargs, tgt_kwargs = explain_model(__xx)  #  (L,B,E)\n",
    "        attn_output1, attn_output_weights1 = model.enc.cgr.mha.fg.f.mha(\n",
    "            query=tcrab,  # target  27\n",
    "            key=epitope,   # source  10  (source is usually the output of encoder)\n",
    "            value=epitope,   # source  10  \n",
    "            **{'key_padding_mask': tgt_kwargs['memory_key_padding_mask']}\n",
    "        )\n",
    "\n",
    "        attn_output2, attn_output_weights2 = model.enc.cgr.mha.fg.g.f.mha(\n",
    "            query=epitope, \n",
    "            key=tcrab, \n",
    "            value=tcrab,\n",
    "            **{'key_padding_mask': src_kwargs['memory_key_padding_mask']}\n",
    "        )\n",
    "        \n",
    "        ypred = model(__xx)\n",
    "    return attn_output_weights1, attn_output_weights2, ypred\n",
    "\n",
    "\n",
    "def vis_attn_to_tcr_from_epitope(attn_output_weights1, tcr_ab_seq, episeq):\n",
    "    attention_weight = attn_output_weights1[0][:len(tcr_ab_seq), :len(episeq)]\n",
    "    print((attention_weight.sum(axis=1)))\n",
    "    x_label = [f'{x}_{i}' for i,x in enumerate(\n",
    "        list(episeq) + ['<pad>']*(attention_weight.shape[1]-len(episeq)))]\n",
    "    y_label = [f'{x}_{i}' for i,x in enumerate(\n",
    "        list(tcr_ab_seq) + ['<pad>']*(attention_weight.shape[0]-len(tcr_ab_seq)))]\n",
    "    fig = px.imshow(attention_weight, x=x_label, y =y_label,  width=500, height=600)\n",
    "    fig.update_layout(autosize=False)\n",
    "    fig.show()\n",
    "\n",
    "def vis_attn_to_epitope_from_tcr(attn_output_weights2, tcr_ab_seq, episeq):\n",
    "    attention_weight = attn_output_weights2[0][:len(episeq), :len(tcr_ab_seq)]\n",
    "    print((attention_weight.sum(axis=1)))\n",
    "    x_label = [f'{x}_{i}' for i,x in enumerate(\n",
    "        list(episeq) + ['<pad>']*(attention_weight.shape[0]-len(episeq)))]\n",
    "    y_label = [f'{x}_{i}' for i,x in enumerate(\n",
    "        list(tcr_ab_seq) + ['<pad>']*(attention_weight.shape[1]-len(tcr_ab_seq)))]\n",
    "    fig = px.imshow(attention_weight, x=y_label, y =x_label, width=600, height=600)\n",
    "    fig.update_layout(autosize=False)\n",
    "    fig.show()\n",
    "\n",
    "\n",
    "\n",
    "def remove_UNK_and_take_subset(df_train):\n",
    "    df_nounk = df_train[df_train['tcra']!='UNK']\n",
    "    print(\"df_nounk.value_counts() \\n\\t \", df_nounk.sign.value_counts().to_dict())\n",
    "    print(\"df_nounk.drop_duplicates('tcrb') \\n\\t \", df_nounk.drop_duplicates('tcrb').sign.value_counts().to_dict())\n",
    "    return df_nounk"
   ]
  },
  {
   "cell_type": "code",
   "execution_count": 4,
   "metadata": {},
   "outputs": [
    {
     "name": "stdout",
     "output_type": "stream",
     "text": [
      "dt 20220211_191954\n",
      "KFOLD_I 3\n"
     ]
    }
   ],
   "source": [
    "# FNAME ='../../scripts/dir_kicker/logs/files_fake020211027_051219.csv'\n",
    "# FNAME ='files__all_train_kfold_20211029_031110.csv'\n",
    "\n",
    "FNAME ='../scripts/dir_kicker/logs/files_20220212_200237_alldata.csv'\n",
    "\n",
    "INTERGER_SELECTOR = 1\n",
    "logdf = pd.read_csv(FNAME)\n",
    "dt = logdf.checkp[INTERGER_SELECTOR].split('/')[-1]\n",
    "\n",
    "print('dt', dt)\n",
    "\n",
    "# CHECK_POINT_DIR = f'../../../tcrpred/../checkpoint/{dt}/'\n",
    "CHECKPOINT_DIR = f's3://sg-playground-kkoyama-temp/tcrpred/checkpoint/{dt}'\n",
    "\n",
    "OUT_DIR = '../../../tcr_attention_cachedir'\n",
    "\n",
    "PATH = f\"./fakedata_v0.parquet\"  # This is for torch.Dataset\n",
    "KFOLD_I = logdf.knum[INTERGER_SELECTOR].item()\n",
    "print('KFOLD_I', KFOLD_I)\n",
    "REPLACE_TUPLE = ('~/jupyter_notebook/user_work/tcrpred/scripts/../../hhyylog/', \n",
    "                 '../../../hhyylog/')\n",
    "\n",
    "checkpoint_files = get_file_paths('sg-playground-kkoyama-temp', 'tcrpred/checkpoint', '', '.pt')\n",
    "checkpoint_files_withdt = [f for f in checkpoint_files if f'_{dt}_' in f]\n",
    "\n",
    "CHECKPOINT_PATH = checkpoint_files_withdt[0].split('/')[-1]\n",
    "\n",
    "# os.system(f'''aws s3 sync {CHECKPOINT_DIR}/ ./../../../checkpoint/{dt}/''')\n",
    "# os.system(f'''aws s3 sync s3://sg-playground-kkoyama-temp/tcrpred/hhyylog/{dt}_results_attention_tra.pickle ./../../hhyylog/''')\n"
   ]
  },
  {
   "cell_type": "code",
   "execution_count": 5,
   "metadata": {
    "scrolled": true
   },
   "outputs": [
    {
     "data": {
      "text/plain": [
       "['s3://sg-playground-kkoyama-temp/tcrpred/checkpoint/20220211_191954/best_20220211_191954_checkpoint_94_pr_auc_on_one=0.7952.pt',\n",
       " 's3://sg-playground-kkoyama-temp/tcrpred/checkpoint/20220211_191954/best_20220211_191954_checkpoint_96_pr_auc_on_one=0.7978.pt']"
      ]
     },
     "execution_count": 5,
     "metadata": {},
     "output_type": "execute_result"
    }
   ],
   "source": [
    "checkpoint_files_withdt"
   ]
  },
  {
   "cell_type": "code",
   "execution_count": 6,
   "metadata": {},
   "outputs": [
    {
     "name": "stdout",
     "output_type": "stream",
     "text": [
      "2022-03-09 12:48:02   28750105 best_20220211_191951_checkpoint_100_pr_auc_on_one=0.7924.pt\r\n",
      "2022-03-09 12:48:03   28750105 best_20220211_191951_checkpoint_99_pr_auc_on_one=0.7901.pt\r\n",
      "2022-03-09 12:49:03   28750105 best_20220211_191954_checkpoint_94_pr_auc_on_one=0.7952.pt\r\n",
      "2022-03-09 12:49:03   28750105 best_20220211_191954_checkpoint_96_pr_auc_on_one=0.7978.pt\r\n"
     ]
    }
   ],
   "source": [
    "!aws s3 ls s3://sg-playground-kkoyama-temp/tcrpred/checkpoint/{dt}/"
   ]
  },
  {
   "cell_type": "code",
   "execution_count": 7,
   "metadata": {},
   "outputs": [
    {
     "data": {
      "text/plain": [
       "['s3://sg-playground-kkoyama-temp/tcrpred/hhyylog/20220211_191954_k3_datasettest.pickle',\n",
       " 's3://sg-playground-kkoyama-temp/tcrpred/hhyylog/20220211_191954_k3_test_hh.pickle',\n",
       " 's3://sg-playground-kkoyama-temp/tcrpred/hhyylog/20220211_191954_k3_test_yy.pickle']"
      ]
     },
     "execution_count": 7,
     "metadata": {},
     "output_type": "execute_result"
    }
   ],
   "source": [
    "hhfiles = get_file_paths('sg-playground-kkoyama-temp', 'tcrpred/hhyylog', '', '.pickle')\n",
    "hhfiles_withdt = sorted([f for f in hhfiles if dt in f and f'k{KFOLD_I}' in f])\n",
    "hhfiles_withdt"
   ]
  },
  {
   "cell_type": "markdown",
   "metadata": {},
   "source": [
    "# Score of Results"
   ]
  },
  {
   "cell_type": "code",
   "execution_count": 9,
   "metadata": {},
   "outputs": [
    {
     "data": {
      "text/html": [
       "<div>\n",
       "<style scoped>\n",
       "    .dataframe tbody tr th:only-of-type {\n",
       "        vertical-align: middle;\n",
       "    }\n",
       "\n",
       "    .dataframe tbody tr th {\n",
       "        vertical-align: top;\n",
       "    }\n",
       "\n",
       "    .dataframe thead th {\n",
       "        text-align: right;\n",
       "    }\n",
       "</style>\n",
       "<table border=\"1\" class=\"dataframe\">\n",
       "  <thead>\n",
       "    <tr style=\"text-align: right;\">\n",
       "      <th></th>\n",
       "      <th>knum</th>\n",
       "      <th>yyyymmdd</th>\n",
       "      <th>hhpath</th>\n",
       "      <th>yypath</th>\n",
       "      <th>checkp</th>\n",
       "      <th>sh.o.file</th>\n",
       "      <th>sh.o.name</th>\n",
       "    </tr>\n",
       "  </thead>\n",
       "  <tbody>\n",
       "    <tr>\n",
       "      <th>0</th>\n",
       "      <td>1</td>\n",
       "      <td>20220211_191950</td>\n",
       "      <td>~/jupyter_notebook/user_work/tcrpred/scripts/....</td>\n",
       "      <td>~/jupyter_notebook/user_work/tcrpred/scripts/....</td>\n",
       "      <td>~/jupyter_notebook/user_work/tcrpred/scripts/....</td>\n",
       "      <td>~/~/jupyter_notebook/user_work/tcrpred/scripts...</td>\n",
       "      <td>kicker.sh.o205128</td>\n",
       "    </tr>\n",
       "    <tr>\n",
       "      <th>1</th>\n",
       "      <td>3</td>\n",
       "      <td>20220211_191954</td>\n",
       "      <td>~/jupyter_notebook/user_work/tcrpred/scripts/....</td>\n",
       "      <td>~/jupyter_notebook/user_work/tcrpred/scripts/....</td>\n",
       "      <td>~/jupyter_notebook/user_work/tcrpred/scripts/....</td>\n",
       "      <td>~/~/jupyter_notebook/user_work/tcrpred/scripts...</td>\n",
       "      <td>kicker.sh.o205130</td>\n",
       "    </tr>\n",
       "    <tr>\n",
       "      <th>2</th>\n",
       "      <td>0</td>\n",
       "      <td>20220211_191951</td>\n",
       "      <td>~/jupyter_notebook/user_work/tcrpred/scripts/....</td>\n",
       "      <td>~/jupyter_notebook/user_work/tcrpred/scripts/....</td>\n",
       "      <td>~/jupyter_notebook/user_work/tcrpred/scripts/....</td>\n",
       "      <td>~/~/jupyter_notebook/user_work/tcrpred/scripts...</td>\n",
       "      <td>kicker.sh.o205127</td>\n",
       "    </tr>\n",
       "    <tr>\n",
       "      <th>3</th>\n",
       "      <td>2</td>\n",
       "      <td>20220211_191950</td>\n",
       "      <td>~/jupyter_notebook/user_work/tcrpred/scripts/....</td>\n",
       "      <td>~/jupyter_notebook/user_work/tcrpred/scripts/....</td>\n",
       "      <td>~/jupyter_notebook/user_work/tcrpred/scripts/....</td>\n",
       "      <td>~/~/jupyter_notebook/user_work/tcrpred/scripts...</td>\n",
       "      <td>kicker.sh.o205129</td>\n",
       "    </tr>\n",
       "    <tr>\n",
       "      <th>4</th>\n",
       "      <td>4</td>\n",
       "      <td>20220211_192004</td>\n",
       "      <td>~/jupyter_notebook/user_work/tcrpred/scripts/....</td>\n",
       "      <td>~/jupyter_notebook/user_work/tcrpred/scripts/....</td>\n",
       "      <td>~/jupyter_notebook/user_work/tcrpred/scripts/....</td>\n",
       "      <td>~/~/jupyter_notebook/user_work/tcrpred/scripts...</td>\n",
       "      <td>kicker.sh.o205131</td>\n",
       "    </tr>\n",
       "  </tbody>\n",
       "</table>\n",
       "</div>"
      ],
      "text/plain": [
       "   knum         yyyymmdd                                             hhpath  \\\n",
       "0     1  20220211_191950  ~/jupyter_notebook/user_work/tcrpred/scripts/....   \n",
       "1     3  20220211_191954  ~/jupyter_notebook/user_work/tcrpred/scripts/....   \n",
       "2     0  20220211_191951  ~/jupyter_notebook/user_work/tcrpred/scripts/....   \n",
       "3     2  20220211_191950  ~/jupyter_notebook/user_work/tcrpred/scripts/....   \n",
       "4     4  20220211_192004  ~/jupyter_notebook/user_work/tcrpred/scripts/....   \n",
       "\n",
       "                                              yypath  \\\n",
       "0  ~/jupyter_notebook/user_work/tcrpred/scripts/....   \n",
       "1  ~/jupyter_notebook/user_work/tcrpred/scripts/....   \n",
       "2  ~/jupyter_notebook/user_work/tcrpred/scripts/....   \n",
       "3  ~/jupyter_notebook/user_work/tcrpred/scripts/....   \n",
       "4  ~/jupyter_notebook/user_work/tcrpred/scripts/....   \n",
       "\n",
       "                                              checkp  \\\n",
       "0  ~/jupyter_notebook/user_work/tcrpred/scripts/....   \n",
       "1  ~/jupyter_notebook/user_work/tcrpred/scripts/....   \n",
       "2  ~/jupyter_notebook/user_work/tcrpred/scripts/....   \n",
       "3  ~/jupyter_notebook/user_work/tcrpred/scripts/....   \n",
       "4  ~/jupyter_notebook/user_work/tcrpred/scripts/....   \n",
       "\n",
       "                                           sh.o.file          sh.o.name  \n",
       "0  ~/~/jupyter_notebook/user_work/tcrpred/scripts...  kicker.sh.o205128  \n",
       "1  ~/~/jupyter_notebook/user_work/tcrpred/scripts...  kicker.sh.o205130  \n",
       "2  ~/~/jupyter_notebook/user_work/tcrpred/scripts...  kicker.sh.o205127  \n",
       "3  ~/~/jupyter_notebook/user_work/tcrpred/scripts...  kicker.sh.o205129  \n",
       "4  ~/~/jupyter_notebook/user_work/tcrpred/scripts...  kicker.sh.o205131  "
      ]
     },
     "metadata": {},
     "output_type": "display_data"
    }
   ],
   "source": [
    "import warnings\n",
    "import torch, os, sys\n",
    "warnings.simplefilter(action='ignore')\n",
    "\n",
    "import numpy as np\n",
    "import pandas as pd\n",
    "sys.path.append('../')\n",
    "sys.path.append('../..')\n",
    "from attention_extractor import Explain_TCRModel, Explain_Before_Cross\n",
    "from Bio.PDB import *\n",
    "from Bio.PDB.PDBParser import PDBParser\n",
    "\n",
    "\n",
    "display(logdf)\n",
    "\n"
   ]
  },
  {
   "cell_type": "code",
   "execution_count": 10,
   "metadata": {
    "scrolled": false
   },
   "outputs": [
    {
     "name": "stdout",
     "output_type": "stream",
     "text": [
      "(175211,) (175211,)\n",
      "- acc 0.8010170594312\n",
      "- balanced_acc 0.8610591678937332\n",
      "- precision on 1:  0.45304500024536665\n",
      "- precision on 0:  0.9874910149196164\n",
      "- confusion matrix tn, fp, fn, tp: 112651, 33437, 1427, 27696\n",
      "- roc_auc_score 0.9289183509705629\n",
      "- pr_auc_score on 1 0.7290842933535833\n",
      "- pr_auc_score on 0 0.9847696330980469\n"
     ]
    },
    {
     "data": {
      "image/png": "[encoded data removed]",
      "text/plain": [
       "<Figure size 720x720 with 4 Axes>"
      ]
     },
     "metadata": {
      "needs_background": "light"
     },
     "output_type": "display_data"
    },
    {
     "name": "stdout",
     "output_type": "stream",
     "text": [
      "None\n"
     ]
    }
   ],
   "source": [
    "hh = pdread(hhfiles_withdt[1])\n",
    "hh_result = hh.apply(softmax, axis=1)\n",
    "hh_ave = hh_result[1]\n",
    "\n",
    "yy = pdread(hhfiles_withdt[2])\n",
    "yy = yy[0]\n",
    "print(hh_ave.shape, yy.shape)\n",
    "\n",
    "\n",
    "AA_DICT = {'CYS': 'C', 'ASP': 'D', 'SER': 'S', 'GLN': 'Q', 'GLIN': 'Q', 'LYS': 'K',\n",
    "     'ILE': 'I', 'PRO': 'P', 'THR': 'T', 'PHE': 'F', 'ASN': 'N', 'GLY': 'G',\n",
    "     'HIS': 'H', 'LEU': 'L', 'ARG': 'R', 'TRP': 'W', 'ALA': 'A', 'VAL':'V',\n",
    "     'GLU': 'E', 'TYR': 'Y', 'MET': 'M', 'SEC':'U', 'PYL':'O', 'HOH':'X'}\n",
    "\n",
    "SEED = 9\n",
    "os.environ['PYTHONHASHSEED'] = str(SEED)\n",
    "np.random.seed(SEED)\n",
    "torch.manual_seed(SEED)\n",
    "torch.cuda.manual_seed(SEED)\n",
    "torch.backends.cudnn.deterministic = True\n",
    "torch.backends.cudnn.benchmark = False\n",
    "\n",
    "\n",
    "DEVICE = 'cpu'\n",
    "from utils import get_infer_report, get_metrics\n",
    "print(get_infer_report(yy, hh_ave))"
   ]
  },
  {
   "cell_type": "code",
   "execution_count": 11,
   "metadata": {
    "scrolled": true
   },
   "outputs": [
    {
     "name": "stdout",
     "output_type": "stream",
     "text": [
      "\t\t\t tn, fp, fn, tp    | acc, bacc, precision_1, precision_0, recall, roc_auc \n",
      "thh = 0.1 \t | 110160, 35928, 1150, 27973 \t | 0.7884, 0.8573, 0.4378, 0.9897, 0.9605, 0.8573\n",
      "thh = 0.2 \t | 111020, 35068, 1229, 27894 \t | 0.7928, 0.8589, 0.4430, 0.9891, 0.9578, 0.8589\n",
      "thh = 0.3 \t | 111628, 34460, 1293, 27830 \t | 0.7959, 0.8599, 0.4468, 0.9885, 0.9556, 0.8599\n",
      "thh = 0.4 \t | 112114, 33974, 1358, 27765 \t | 0.7983, 0.8604, 0.4497, 0.9880, 0.9534, 0.8604\n",
      "thh = 0.5 \t | 112651, 33437, 1427, 27696 \t | 0.8010, 0.8611, 0.4530, 0.9875, 0.9510, 0.8611\n",
      "thh = 0.6 \t | 113366, 32722, 1533, 27590 \t | 0.8045, 0.8617, 0.4575, 0.9867, 0.9474, 0.8617\n",
      "thh = 0.7 \t | 114745, 31343, 1787, 27336 \t | 0.8109, 0.8620, 0.4659, 0.9847, 0.9386, 0.8620\n",
      "thh = 0.8 \t | 119052, 27036, 2870, 26253 \t | 0.8293, 0.8582, 0.4927, 0.9765, 0.9015, 0.8582\n",
      "thh = 0.9 \t | 134160, 11928, 9626, 19497 \t | 0.8770, 0.7939, 0.6204, 0.9331, 0.6695, 0.7939\n"
     ]
    }
   ],
   "source": [
    "from sklearn.metrics import confusion_matrix, roc_curve, roc_auc_score, auc, accuracy_score, average_precision_score, balanced_accuracy_score, precision_score, precision_recall_curve, recall_score\n",
    "print('''\\t\\t\\t tn, fp, fn, tp    | acc, bacc, precision_1, precision_0, recall, roc_auc ''')\n",
    "RANGE = 10\n",
    "for i in range(1,RANGE):\n",
    "    thh = i/RANGE\n",
    "    print(f\"thh = {thh} \\t | \", end='')\n",
    "    tn, fp, fn, tp, acc, bacc, precision_1, precision_0, recall = get_metrics(yy, hh_ave >= thh)\n",
    "    "
   ]
  },
  {
   "cell_type": "markdown",
   "metadata": {},
   "source": [
    "# Attention"
   ]
  },
  {
   "cell_type": "code",
   "execution_count": 14,
   "metadata": {},
   "outputs": [
    {
     "data": {
      "text/plain": [
       "'best_20220211_191954_checkpoint_94_pr_auc_on_one=0.7952.pt'"
      ]
     },
     "execution_count": 14,
     "metadata": {},
     "output_type": "execute_result"
    }
   ],
   "source": [
    "CHECKPOINT_PATH"
   ]
  },
  {
   "cell_type": "markdown",
   "metadata": {},
   "source": [
    "### Copy attention-mat and checkpoint from s3 to local"
   ]
  },
  {
   "cell_type": "code",
   "execution_count": 13,
   "metadata": {},
   "outputs": [],
   "source": [
    "torch_check_point_local = '../../checkpoint/'\n",
    "fro = os.path.join(CHECKPOINT_DIR, CHECKPOINT_PATH)\n",
    "if not os.path.exists(os.path.join(torch_check_point_local, CHECKPOINT_PATH)):\n",
    "    print('loading...')\n",
    "    os.system(f'''aws s3 cp {fro} {torch_check_point_local}''')\n",
    "    "
   ]
  },
  {
   "cell_type": "code",
   "execution_count": 22,
   "metadata": {},
   "outputs": [
    {
     "name": "stdout",
     "output_type": "stream",
     "text": [
      "download: s3://sg-playground-kkoyama-temp/tcrpred/checkpoint/20220211_191954/best_20220211_191954_checkpoint_94_pr_auc_on_one=0.7952.pt to ./best_20220211_191954_checkpoint_94_pr_auc_on_one=0.7952.pt\n"
     ]
    },
    {
     "data": {
      "text/plain": [
       "0"
      ]
     },
     "execution_count": 22,
     "metadata": {},
     "output_type": "execute_result"
    }
   ],
   "source": [
    "os.system(f'''aws s3 cp {fro} ./''')"
   ]
  },
  {
   "cell_type": "code",
   "execution_count": 20,
   "metadata": {},
   "outputs": [
    {
     "name": "stdout",
     "output_type": "stream",
     "text": [
      "total 277384\r\n",
      "drwxr-xr-x   6 kyoheikoyama  staff   192B Oct 25  2021 \u001b[34m20210901_021352\u001b[m\u001b[m\r\n",
      "drwxr-xr-x   6 kyoheikoyama  staff   192B Oct 25  2021 \u001b[34m20210907_175614\u001b[m\u001b[m\r\n",
      "drwxr-xr-x   6 kyoheikoyama  staff   192B Oct 25  2021 \u001b[34m20210907_193255\u001b[m\u001b[m\r\n",
      "drwxr-xr-x   4 kyoheikoyama  staff   128B Oct 25  2021 \u001b[34m20210907_193531\u001b[m\u001b[m\r\n",
      "drwxr-xr-x   4 kyoheikoyama  staff   128B Oct 25  2021 \u001b[34m20210908_012715\u001b[m\u001b[m\r\n",
      "drwxr-xr-x   4 kyoheikoyama  staff   128B Oct 25  2021 \u001b[34m20210911_030554\u001b[m\u001b[m\r\n",
      "drwxr-xr-x   4 kyoheikoyama  staff   128B Oct 25  2021 \u001b[34m20210911_030913\u001b[m\u001b[m\r\n",
      "drwxr-xr-x   4 kyoheikoyama  staff   128B Oct 25  2021 \u001b[34m20210911_033545\u001b[m\u001b[m\r\n",
      "drwxr-xr-x   4 kyoheikoyama  staff   128B Oct 25  2021 \u001b[34m20210911_040850\u001b[m\u001b[m\r\n",
      "drwxr-xr-x   4 kyoheikoyama  staff   128B Oct 25  2021 \u001b[34m20210911_043036\u001b[m\u001b[m\r\n",
      "drwxr-xr-x   4 kyoheikoyama  staff   128B Oct 25  2021 \u001b[34m20210911_044036\u001b[m\u001b[m\r\n",
      "drwxr-xr-x   4 kyoheikoyama  staff   128B Oct 25  2021 \u001b[34m20210911_045039\u001b[m\u001b[m\r\n",
      "drwxr-xr-x   4 kyoheikoyama  staff   128B Oct 25  2021 \u001b[34m20210911_050046\u001b[m\u001b[m\r\n",
      "drwxr-xr-x   4 kyoheikoyama  staff   128B Oct 16  2021 \u001b[34m20210911_051047\u001b[m\u001b[m\r\n",
      "drwxr-xr-x   4 kyoheikoyama  staff   128B Oct 25  2021 \u001b[34m20210915_195759\u001b[m\u001b[m\r\n",
      "drwxr-xr-x   4 kyoheikoyama  staff   128B Oct 25  2021 \u001b[34m20210915_200245\u001b[m\u001b[m\r\n",
      "drwxr-xr-x   4 kyoheikoyama  staff   128B Oct 25  2021 \u001b[34m20210915_200505\u001b[m\u001b[m\r\n",
      "drwxr-xr-x   4 kyoheikoyama  staff   128B Oct 25  2021 \u001b[34m20210915_201436\u001b[m\u001b[m\r\n",
      "drwxr-xr-x   4 kyoheikoyama  staff   128B Oct 25  2021 \u001b[34m20210915_201651\u001b[m\u001b[m\r\n",
      "drwxr-xr-x   4 kyoheikoyama  staff   128B Oct 25  2021 \u001b[34m20210915_201838\u001b[m\u001b[m\r\n",
      "drwxr-xr-x   4 kyoheikoyama  staff   128B Oct 25  2021 \u001b[34m20210916_021707\u001b[m\u001b[m\r\n",
      "drwxr-xr-x   4 kyoheikoyama  staff   128B Oct 25  2021 \u001b[34m20210916_021929\u001b[m\u001b[m\r\n",
      "drwxr-xr-x   4 kyoheikoyama  staff   128B Oct 25  2021 \u001b[34m20210916_022850\u001b[m\u001b[m\r\n",
      "drwxr-xr-x   4 kyoheikoyama  staff   128B Oct 25  2021 \u001b[34m20210916_023108\u001b[m\u001b[m\r\n",
      "drwxr-xr-x   4 kyoheikoyama  staff   128B Oct 25  2021 \u001b[34m20210916_023324\u001b[m\u001b[m\r\n",
      "drwxr-xr-x   4 kyoheikoyama  staff   128B Oct 25  2021 \u001b[34m20210916_060721\u001b[m\u001b[m\r\n",
      "drwxr-xr-x   4 kyoheikoyama  staff   128B Oct 25  2021 \u001b[34m20210916_060941\u001b[m\u001b[m\r\n",
      "drwxr-xr-x   4 kyoheikoyama  staff   128B Oct 25  2021 \u001b[34m20210916_061903\u001b[m\u001b[m\r\n",
      "drwxr-xr-x   4 kyoheikoyama  staff   128B Oct 25  2021 \u001b[34m20210916_062120\u001b[m\u001b[m\r\n",
      "drwxr-xr-x   4 kyoheikoyama  staff   128B Oct 25  2021 \u001b[34m20210916_062335\u001b[m\u001b[m\r\n",
      "drwxr-xr-x   4 kyoheikoyama  staff   128B Oct 25  2021 \u001b[34m20210916_072639\u001b[m\u001b[m\r\n",
      "drwxr-xr-x   4 kyoheikoyama  staff   128B Oct 25  2021 \u001b[34m20210916_073438\u001b[m\u001b[m\r\n",
      "drwxr-xr-x   4 kyoheikoyama  staff   128B Oct 25  2021 \u001b[34m20210916_075502\u001b[m\u001b[m\r\n",
      "drwxr-xr-x   4 kyoheikoyama  staff   128B Oct 25  2021 \u001b[34m20210916_080040\u001b[m\u001b[m\r\n",
      "drwxr-xr-x   4 kyoheikoyama  staff   128B Oct 25  2021 \u001b[34m20210916_080243\u001b[m\u001b[m\r\n",
      "drwxr-xr-x   4 kyoheikoyama  staff   128B Oct 25  2021 \u001b[34m20210916_081725\u001b[m\u001b[m\r\n",
      "drwxr-xr-x   4 kyoheikoyama  staff   128B Oct 25  2021 \u001b[34m20210920_001553\u001b[m\u001b[m\r\n",
      "drwxr-xr-x   4 kyoheikoyama  staff   128B Oct 25  2021 \u001b[34m20210920_002131\u001b[m\u001b[m\r\n",
      "drwxr-xr-x   4 kyoheikoyama  staff   128B Oct 25  2021 \u001b[34m20210920_002715\u001b[m\u001b[m\r\n",
      "drwxr-xr-x   4 kyoheikoyama  staff   128B Oct 25  2021 \u001b[34m20210920_003253\u001b[m\u001b[m\r\n",
      "drwxr-xr-x   4 kyoheikoyama  staff   128B Oct 25  2021 \u001b[34m20210920_003835\u001b[m\u001b[m\r\n",
      "drwxr-xr-x   4 kyoheikoyama  staff   128B Oct 25  2021 \u001b[34m20211003_203309\u001b[m\u001b[m\r\n",
      "drwxr-xr-x   4 kyoheikoyama  staff   128B Oct 25  2021 \u001b[34m20211003_204125\u001b[m\u001b[m\r\n",
      "drwxr-xr-x   4 kyoheikoyama  staff   128B Oct 25  2021 \u001b[34m20211003_204940\u001b[m\u001b[m\r\n",
      "drwxr-xr-x   4 kyoheikoyama  staff   128B Oct 25  2021 \u001b[34m20211003_205757\u001b[m\u001b[m\r\n",
      "drwxr-xr-x   4 kyoheikoyama  staff   128B Oct 25  2021 \u001b[34m20211003_210611\u001b[m\u001b[m\r\n",
      "drwxr-xr-x   4 kyoheikoyama  staff   128B Oct 25  2021 \u001b[34m20211003_222925\u001b[m\u001b[m\r\n",
      "drwxr-xr-x   4 kyoheikoyama  staff   128B Oct 25  2021 \u001b[34m20211003_223741\u001b[m\u001b[m\r\n",
      "drwxr-xr-x   4 kyoheikoyama  staff   128B Oct 25  2021 \u001b[34m20211003_224843\u001b[m\u001b[m\r\n",
      "drwxr-xr-x   4 kyoheikoyama  staff   128B Oct 25  2021 \u001b[34m20211003_225725\u001b[m\u001b[m\r\n",
      "drwxr-xr-x   4 kyoheikoyama  staff   128B Oct 25  2021 \u001b[34m20211003_230535\u001b[m\u001b[m\r\n",
      "drwxr-xr-x   4 kyoheikoyama  staff   128B Oct 25  2021 \u001b[34m20211004_040146\u001b[m\u001b[m\r\n",
      "drwxr-xr-x   4 kyoheikoyama  staff   128B Oct 25  2021 \u001b[34m20211004_043522\u001b[m\u001b[m\r\n",
      "drwxr-xr-x   4 kyoheikoyama  staff   128B Oct 25  2021 \u001b[34m20211004_044539\u001b[m\u001b[m\r\n",
      "drwxr-xr-x   4 kyoheikoyama  staff   128B Oct 25  2021 \u001b[34m20211004_045556\u001b[m\u001b[m\r\n",
      "drwxr-xr-x   4 kyoheikoyama  staff   128B Oct 25  2021 \u001b[34m20211004_050843\u001b[m\u001b[m\r\n",
      "drwxr-xr-x   4 kyoheikoyama  staff   128B Oct 25  2021 \u001b[34m20211004_051918\u001b[m\u001b[m\r\n",
      "drwxr-xr-x   4 kyoheikoyama  staff   128B Oct 25  2021 \u001b[34m20211004_052934\u001b[m\u001b[m\r\n",
      "drwxr-xr-x   4 kyoheikoyama  staff   128B Oct 25  2021 \u001b[34m20211004_053949\u001b[m\u001b[m\r\n",
      "drwxr-xr-x  12 kyoheikoyama  staff   384B Oct 25  2021 \u001b[34m20211004_065131\u001b[m\u001b[m\r\n",
      "drwxr-xr-x   4 kyoheikoyama  staff   128B Oct 25  2021 \u001b[34m20211012_060552\u001b[m\u001b[m\r\n",
      "drwxr-xr-x   4 kyoheikoyama  staff   128B Oct 25  2021 \u001b[34m20211012_063152\u001b[m\u001b[m\r\n",
      "drwxr-xr-x   4 kyoheikoyama  staff   128B Oct 25  2021 \u001b[34m20211012_063156\u001b[m\u001b[m\r\n",
      "drwxr-xr-x   4 kyoheikoyama  staff   128B Oct 25  2021 \u001b[34m20211012_063201\u001b[m\u001b[m\r\n",
      "drwxr-xr-x   4 kyoheikoyama  staff   128B Oct 25  2021 \u001b[34m20211012_063206\u001b[m\u001b[m\r\n",
      "drwxr-xr-x   4 kyoheikoyama  staff   128B Oct 16  2021 \u001b[34m20211012_063211\u001b[m\u001b[m\r\n",
      "drwxr-xr-x   4 kyoheikoyama  staff   128B Oct 25  2021 \u001b[34m20211016_005257\u001b[m\u001b[m\r\n",
      "drwxr-xr-x   4 kyoheikoyama  staff   128B Oct 25  2021 \u001b[34m20211016_005658\u001b[m\u001b[m\r\n",
      "drwxr-xr-x   4 kyoheikoyama  staff   128B Oct 25  2021 \u001b[34m20211016_005700\u001b[m\u001b[m\r\n",
      "drwxr-xr-x   4 kyoheikoyama  staff   128B Oct 25  2021 \u001b[34m20211016_005705\u001b[m\u001b[m\r\n",
      "drwxr-xr-x   4 kyoheikoyama  staff   128B Oct 25  2021 \u001b[34m20211016_005710\u001b[m\u001b[m\r\n",
      "drwxr-xr-x   4 kyoheikoyama  staff   128B Oct 25  2021 \u001b[34m20211016_005716\u001b[m\u001b[m\r\n",
      "drwxr-xr-x   5 kyoheikoyama  staff   160B Oct 25  2021 \u001b[34m20211025_000225\u001b[m\u001b[m\r\n",
      "drwxr-xr-x   6 kyoheikoyama  staff   192B Oct 25  2021 \u001b[34m20211025_000230\u001b[m\u001b[m\r\n",
      "drwxr-xr-x   5 kyoheikoyama  staff   160B Oct 25  2021 \u001b[34m20211025_000235\u001b[m\u001b[m\r\n",
      "drwxr-xr-x   4 kyoheikoyama  staff   128B Oct 25  2021 \u001b[34m20211025_000247\u001b[m\u001b[m\r\n",
      "drwxr-xr-x   4 kyoheikoyama  staff   128B Oct 25  2021 \u001b[34m20211025_000252\u001b[m\u001b[m\r\n",
      "drwxr-xr-x   4 kyoheikoyama  staff   128B Oct 25  2021 \u001b[34m20211025_002712\u001b[m\u001b[m\r\n",
      "drwxr-xr-x   4 kyoheikoyama  staff   128B Oct 25  2021 \u001b[34m20211025_003840\u001b[m\u001b[m\r\n",
      "drwxr-xr-x   4 kyoheikoyama  staff   128B Oct 25  2021 \u001b[34m20211025_010611\u001b[m\u001b[m\r\n",
      "drwxr-xr-x   4 kyoheikoyama  staff   128B Oct 25  2021 \u001b[34m20211025_010614\u001b[m\u001b[m\r\n",
      "drwxr-xr-x   4 kyoheikoyama  staff   128B Oct 25  2021 \u001b[34m20211025_010617\u001b[m\u001b[m\r\n",
      "drwxr-xr-x   4 kyoheikoyama  staff   128B Oct 25  2021 \u001b[34m20211025_010618\u001b[m\u001b[m\r\n",
      "drwxr-xr-x   4 kyoheikoyama  staff   128B Oct 25  2021 \u001b[34m20211025_010623\u001b[m\u001b[m\r\n",
      "drwxr-xr-x   2 kyoheikoyama  staff    64B Oct 25  2021 \u001b[34m20211025_012422\u001b[m\u001b[m\r\n",
      "drwxr-xr-x   4 kyoheikoyama  staff   128B Oct 25  2021 \u001b[34m20211025_012741\u001b[m\u001b[m\r\n",
      "drwxr-xr-x   4 kyoheikoyama  staff   128B Oct 25  2021 \u001b[34m20211025_012811\u001b[m\u001b[m\r\n",
      "drwxr-xr-x   4 kyoheikoyama  staff   128B Oct 25  2021 \u001b[34m20211025_012812\u001b[m\u001b[m\r\n",
      "drwxr-xr-x   4 kyoheikoyama  staff   128B Oct 25  2021 \u001b[34m20211025_012816\u001b[m\u001b[m\r\n",
      "drwxr-xr-x   4 kyoheikoyama  staff   128B Oct 25  2021 \u001b[34m20211025_012817\u001b[m\u001b[m\r\n",
      "drwxr-xr-x   3 kyoheikoyama  staff    96B Oct 25  2021 \u001b[34m20211025_022611\u001b[m\u001b[m\r\n",
      "drwxr-xr-x   3 kyoheikoyama  staff    96B Oct 25  2021 \u001b[34m20211025_022618\u001b[m\u001b[m\r\n",
      "drwxr-xr-x   4 kyoheikoyama  staff   128B Oct 27  2021 \u001b[34m20211027_050529\u001b[m\u001b[m\r\n",
      "drwxr-xr-x   4 kyoheikoyama  staff   128B Oct 29  2021 \u001b[34m20211027_103828\u001b[m\u001b[m\r\n",
      "drwxr-xr-x   4 kyoheikoyama  staff   128B Oct 29  2021 \u001b[34m20211029_011638\u001b[m\u001b[m\r\n",
      "drwxr-xr-x   4 kyoheikoyama  staff   128B Oct 29  2021 \u001b[34m20211029_020248\u001b[m\u001b[m\r\n",
      "drwxr-xr-x   4 kyoheikoyama  staff   128B Nov  2  2021 \u001b[34m20211102_005738\u001b[m\u001b[m\r\n",
      "drwxr-xr-x   2 kyoheikoyama  staff    64B Nov  2  2021 \u001b[34m20211102_010135\u001b[m\u001b[m\r\n",
      "drwxr-xr-x   4 kyoheikoyama  staff   128B Nov  2  2021 \u001b[34m20211102_010235\u001b[m\u001b[m\r\n",
      "drwxr-xr-x   4 kyoheikoyama  staff   128B Nov  2  2021 \u001b[34m20211102_010336\u001b[m\u001b[m\r\n",
      "drwxr-xr-x   4 kyoheikoyama  staff   128B Nov  2  2021 \u001b[34m20211102_011545\u001b[m\u001b[m\r\n",
      "drwxr-xr-x   4 kyoheikoyama  staff   128B Nov  2  2021 \u001b[34m20211102_015319\u001b[m\u001b[m\r\n",
      "drwxr-xr-x   4 kyoheikoyama  staff   128B Nov  2  2021 \u001b[34m20211102_015440\u001b[m\u001b[m\r\n",
      "-rw-r--r--   1 kyoheikoyama  staff     7B Oct 16  2021 FileSaving_was_Successful_from_QSUB\r\n",
      "-rw-r--r--   1 kyoheikoyama  staff    27M Oct 29  2021 best_20211029_011638_checkpoint_75_pr_auc_on_one=0.7399.pt\r\n",
      "-rw-r--r--   1 kyoheikoyama  staff    26M Oct 30  2021 best_20211029_011638_checkpoint_75_pr_auc_on_one=0.7399.pt.fFedE6D3\r\n",
      "-rw-r--r--   1 kyoheikoyama  staff    27M Mar  9  2022 best_20220211_191950_checkpoint_100_pr_auc_on_one=0.7909.pt\r\n",
      "-rw-r--r--   1 kyoheikoyama  staff    27M Mar  9  2022 best_20220211_191951_checkpoint_100_pr_auc_on_one=0.7924.pt\r\n",
      "-rw-r--r--   1 kyoheikoyama  staff    27M Mar  9  2022 best_20220211_191954_checkpoint_94_pr_auc_on_one=0.7952.pt\r\n"
     ]
    }
   ],
   "source": [
    "!ls -lh {torch_check_point_local}"
   ]
  },
  {
   "cell_type": "code",
   "execution_count": 23,
   "metadata": {},
   "outputs": [
    {
     "name": "stdout",
     "output_type": "stream",
     "text": [
      "/bin/bash: gita: command not found\r\n"
     ]
    }
   ],
   "source": [
    "!gita best_20220211_191954_checkpoint_94_pr_auc_on_one=0.7952.pt"
   ]
  },
  {
   "cell_type": "code",
   "execution_count": 12,
   "metadata": {
    "scrolled": true
   },
   "outputs": [],
   "source": [
    "# !aws s3 cp s3://sg-playground-kkoyama-temp/tcrpred/hhyylog/{dt}_results_attention_tra.pickle  ../../hhyylog/"
   ]
  },
  {
   "cell_type": "code",
   "execution_count": 13,
   "metadata": {},
   "outputs": [],
   "source": [
    "import pickle\n",
    "results_attention_tra = pickle.load(open(f'../../hhyylog/{dt}_results_attention_tra.pickle','rb'))"
   ]
  },
  {
   "cell_type": "code",
   "execution_count": 14,
   "metadata": {},
   "outputs": [
    {
     "data": {
      "text/plain": [
       "140082"
      ]
     },
     "execution_count": 14,
     "metadata": {},
     "output_type": "execute_result"
    }
   ],
   "source": [
    "len(results_attention_tra)"
   ]
  },
  {
   "cell_type": "markdown",
   "metadata": {},
   "source": [
    "### Restore model"
   ]
  },
  {
   "cell_type": "code",
   "execution_count": 18,
   "metadata": {},
   "outputs": [],
   "source": [
    "import json, torch\n",
    "from recipes.model import TCRModel\n",
    "from ignite.engine import Events, create_supervised_trainer, create_supervised_evaluator\n",
    "from ignite.handlers import Checkpoint, DiskSaver, global_step_from_engine\n",
    "DEVICE = 'cuda' if torch.cuda.is_available() else 'cpu'\n",
    "device = DEVICE\n",
    "\n",
    "n_tok = 29  # NUM_VOCAB\n",
    "n_pos1 = 62  # MAX_LEN_AB (sum of maxlens of a and b)\n",
    "n_pos2 = 26  # MAX_LEN_Epitope\n",
    "n_seg = 3\n",
    "\n",
    "# parameters\n",
    "with open(f'../hpo_params/optuna_best.json', 'r') as fp:\n",
    "    hparams = json.load(fp)\n",
    "\n",
    "d_model, d_ff, n_head,n_local_encoder,n_global_encoder = hparams['d_model'], hparams['d_ff'], hparams['n_head'], hparams['n_local_encoder'], hparams['n_global_encoder']\n",
    "dropout=hparams['dropout']\n",
    "early_stopping_target = \"pr_auc_on_one\"\n",
    "batch_size = hparams['batch_size']\n",
    "lr=hparams['lr']\n",
    "\n",
    "'''Model, optim, trainer'''\n",
    "model = TCRModel(d_model=d_model, d_ff=d_ff, n_head=n_head, n_local_encoder=n_local_encoder, \n",
    "                 n_global_encoder=n_global_encoder, dropout=dropout, scope=4, \n",
    "                 n_tok=n_tok, n_pos1=n_pos1,\n",
    "                n_pos2=n_pos2, n_seg=n_seg,\n",
    "                )\n",
    "\n",
    "# Optimizer\n",
    "optim = torch.optim.Adam(model.parameters(), lr=lr)\n",
    "\n",
    "# Loss\n",
    "loss_fn = torch.nn.CrossEntropyLoss(weight=torch.tensor([1.0, 15.0], device=device))\n",
    "\n",
    "trainer = create_supervised_trainer(\n",
    "    model=model, optimizer=optim, loss_fn=loss_fn, device=device,\n",
    ")\n",
    "\n",
    "## Get the prediction and the best model\n",
    "to_load = {'model': model, 'optimizer': optim, 'trainer': trainer}\n",
    "\n",
    "checkpoint = torch.load(os.path.join(torch_check_point_local, CHECKPOINT_PATH), map_location=torch.device(device))\n",
    "\n",
    "checkpoint['trainer']['seed'] = 9\n",
    "\n",
    "Checkpoint.load_objects(to_load=to_load, checkpoint=checkpoint)\n"
   ]
  },
  {
   "cell_type": "markdown",
   "metadata": {},
   "source": [
    "# Attention Extractor"
   ]
  },
  {
   "cell_type": "code",
   "execution_count": 19,
   "metadata": {},
   "outputs": [],
   "source": [
    "from recipes.dataset import TCRDataset\n",
    "import plotly.express as px\n",
    "from recipes.dataset import Vocab, Dataset"
   ]
  },
  {
   "cell_type": "markdown",
   "metadata": {},
   "source": [
    "# Main"
   ]
  },
  {
   "cell_type": "markdown",
   "metadata": {},
   "source": [
    "## Fix Index to get a specific pdb, interaction"
   ]
  },
  {
   "cell_type": "code",
   "execution_count": 20,
   "metadata": {},
   "outputs": [],
   "source": [
    "def get_values_from_index(ind, df):\n",
    "    PDBID = df['pdb_id'].iloc[ind]\n",
    "    DATA_SERIESE = df.iloc[ind]\n",
    "    e_pdb_chain, tcr_c1_pdb_chain,tcr_c2_pdb_chain,chain1_cdr3_start_calculated,chain1_cdr3_end_calculated,chain2_cdr3_start_calculated, chain2_cdr3_end_calculated =\\\n",
    "                DATA_SERIESE[['e_pdb_chain', 'tcr_c1_pdb_chain','tcr_c2_pdb_chain',\n",
    "                        'chain1_cdr3_start_calculated', 'chain1_cdr3_end_calculated',\n",
    "                    'chain2_cdr3_start_calculated', 'chain2_cdr3_end_calculated']]\n",
    "    return PDBID, e_pdb_chain, tcr_c1_pdb_chain,tcr_c2_pdb_chain,chain1_cdr3_start_calculated,chain1_cdr3_end_calculated,chain2_cdr3_start_calculated, chain2_cdr3_end_calculated\n"
   ]
  },
  {
   "cell_type": "code",
   "execution_count": 21,
   "metadata": {},
   "outputs": [],
   "source": [
    "# print(len(DF_TCR.iloc[INDEX]['ABPairSeq']), len(DF_TCR.iloc[INDEX]['EpiSeq']))\n",
    "# print((DF_TCR.iloc[INDEX]['ABPairSeq']), (DF_TCR.iloc[INDEX]['EpiSeq']))"
   ]
  },
  {
   "cell_type": "code",
   "execution_count": 23,
   "metadata": {},
   "outputs": [],
   "source": [
    "# explain_model = Explain_TCRModel(d_model=d_model, d_ff=d_ff, n_head=n_head, n_local_encoder=n_local_encoder, \n",
    "#                                  n_global_encoder=n_global_encoder, dropout=dropout, scope=4, \n",
    "#                                  n_tok=n_tok, n_pos1=n_pos1, n_pos2=n_pos2, n_seg=n_seg)"
   ]
  },
  {
   "cell_type": "markdown",
   "metadata": {},
   "source": [
    "## Save all"
   ]
  },
  {
   "cell_type": "code",
   "execution_count": 15,
   "metadata": {},
   "outputs": [
    {
     "name": "stdout",
     "output_type": "stream",
     "text": [
      "df_all.value_counts() \n",
      "\t {0: 291315, 1: 58263}\n"
     ]
    }
   ],
   "source": [
    "import pickle\n",
    "import pandas as pd\n",
    "from sklearn.model_selection import KFold\n",
    "sys.path.append('./../scripts/')\n",
    "from dataset_selector import get_df_from_path, get_df\n",
    "\n",
    "\n",
    "p_list = [\n",
    "    f\"../external_data/ERGO-II/Samples/vdjdb_train_samples.pickle\",\n",
    "    f\"../external_data/ERGO-II/Samples/mcpas_train_samples.pickle\",\n",
    "    f\"../external_data/ERGO-II/Samples/vdjdb_test_samples.pickle\",\n",
    "    f\"../external_data/ERGO-II/Samples/mcpas_test_samples.pickle\",]\n",
    "\n",
    "df_all = get_df_from_path(p_list)\n",
    "print(\"df_all.value_counts() \\n\\t\", df_all.sign.value_counts().to_dict())\n"
   ]
  },
  {
   "cell_type": "code",
   "execution_count": 19,
   "metadata": {},
   "outputs": [
    {
     "data": {
      "text/plain": [
       "array(['CAADRNNPRF', 'CIVAAISGSARQLTF'], dtype=object)"
      ]
     },
     "execution_count": 19,
     "metadata": {},
     "output_type": "execute_result"
    }
   ],
   "source": [
    "df_all['tcra'].unique()[-2:]"
   ]
  },
  {
   "cell_type": "code",
   "execution_count": 16,
   "metadata": {},
   "outputs": [
    {
     "data": {
      "text/plain": [
       "(349578, 11)"
      ]
     },
     "execution_count": 16,
     "metadata": {},
     "output_type": "execute_result"
    }
   ],
   "source": [
    "df_all.shape"
   ]
  },
  {
   "cell_type": "code",
   "execution_count": 35,
   "metadata": {},
   "outputs": [
    {
     "data": {
      "text/plain": [
       "175211"
      ]
     },
     "execution_count": 35,
     "metadata": {},
     "output_type": "execute_result"
    }
   ],
   "source": [
    "(df_all.tcra!='UNK').sum()"
   ]
  },
  {
   "cell_type": "code",
   "execution_count": 39,
   "metadata": {},
   "outputs": [
    {
     "name": "stdout",
     "output_type": "stream",
     "text": [
      "df_all.shape (349578, 11)\n",
      "df_all(train).value_counts() \n",
      "\t {0: 291315, 1: 58263}\n",
      "len(train_index), len(valid_index) 279663 69915\n",
      "len(df_train), len(df_valid) 279663 69915\n",
      "datasize and y-vcounts:  (140082, 11) 0    116757\n",
      "1     23325\n",
      "Name: sign, dtype: int64\n",
      "datasize and y-vcounts:  (35129, 11) 0    29331\n",
      "1     5798\n",
      "Name: sign, dtype: int64\n",
      "len(dataset_train), len(df_train), len(dataset_valid), len(dataset_valid) + len(dataset_train)\n",
      "140082 279663 35129 175211\n"
     ]
    }
   ],
   "source": [
    "p_list = [\n",
    "          f\"../../external_data/ERGO-II/Samples/vdjdb_train_samples.pickle\",\n",
    "          f\"../../external_data/ERGO-II/Samples/mcpas_train_samples.pickle\",\n",
    "          f\"../../external_data/ERGO-II/Samples/vdjdb_test_samples.pickle\",\n",
    "          f\"../../external_data/ERGO-II/Samples/mcpas_test_samples.pickle\",\n",
    "]\n",
    "\n",
    "df_all = get_df_from_path(p_list)\n",
    "\n",
    "# ipdb> df_all.shape\n",
    "# (349578, 11)\n",
    "#  len(df_train), len(df_valid)\n",
    "# (279663, 69915)\n",
    "\n",
    "print('df_all.shape', df_all.shape)\n",
    "print(\"df_all(train).value_counts() \\n\\t\", df_all.sign.value_counts().to_dict())\n",
    "\n",
    "kf = KFold(n_splits=5, shuffle=True, random_state=2)\n",
    "train_index, valid_index = [\n",
    "    (train_index, valid_index) for train_index, valid_index in kf.split(df_all)\n",
    "][KFOLD_I]\n",
    "\n",
    "print('len(train_index), len(valid_index)',len(train_index), len(valid_index))\n",
    "df_train, df_valid = df_all.loc[train_index], df_all.loc[valid_index]\n",
    "\n",
    "print('len(df_train), len(df_valid)', len(df_train), len(df_valid))\n",
    "dataset_train, dataset_valid = MCPASDataset(df_train), MCPASDataset(df_valid)\n",
    "\n",
    "\n",
    "print('len(dataset_train), len(df_train), len(dataset_valid), len(dataset_valid) + len(dataset_train)')\n",
    "print(len(dataset_train), len(df_train), len(dataset_valid), len(dataset_valid) + len(dataset_train))"
   ]
  },
  {
   "cell_type": "markdown",
   "metadata": {},
   "source": [
    "# DF_TCR and attention_matrix_dict"
   ]
  },
  {
   "cell_type": "code",
   "execution_count": 41,
   "metadata": {},
   "outputs": [],
   "source": [
    "DF_TCR = df_train"
   ]
  },
  {
   "cell_type": "code",
   "execution_count": 45,
   "metadata": {},
   "outputs": [],
   "source": [
    "from attention_extractor import Explain_TCRModel, Explain_Before_Cross\n",
    "attn_output_weights1, attn_output_weights2, ypred = get_attention_weights(dataset_train, model, index=0)"
   ]
  },
  {
   "cell_type": "code",
   "execution_count": 47,
   "metadata": {},
   "outputs": [],
   "source": [
    "# !aws s3 cp s3://sg-playground-kkoyama-temp/tcrpred/tcr_attention_cachedir/20211029_011638_attention_matrix_dict.pickle ../../tcr_attention_cachedir/"
   ]
  },
  {
   "cell_type": "code",
   "execution_count": 50,
   "metadata": {},
   "outputs": [
    {
     "name": "stderr",
     "output_type": "stream",
     "text": [
      "140082it [3:13:47, 12.05it/s]\n"
     ]
    }
   ],
   "source": [
    "import gc\n",
    "import pickle\n",
    "from tqdm import tqdm\n",
    "\n",
    "NNN = len(dataset_train)\n",
    "\n",
    "assert NNN==len(df_train)\n",
    "\n",
    "# if False: #\n",
    "if os.path.exists(f'{OUT_DIR}/{dt}_attention_matrix_dict.pickle'):\n",
    "    print('reading attention_matrix_dict.pickle.... \\n', f'{OUT_DIR}/{dt}_attention_matrix_dict.pickle')\n",
    "    ATTENTION_MATRIX_DICT = pickle.load(open(f'{OUT_DIR}/{dt}_attention_matrix_dict.pickle','rb'))\n",
    "else:\n",
    "    ATTENTION_MATRIX_DICT = {}\n",
    "    i=0\n",
    "    for ind_row, attn in  tqdm(zip(df_train.iterrows(), results_attention_tra)): #tqdm(range(NNN)):\n",
    "        ind, row = ind_row\n",
    "        attn_output_weights1, attn_output_weights2, ypred, ytrue = attn #get_attention_weights(dataset_train, model, index=ind)\n",
    "        ATTENTION_MATRIX_DICT[i] = (attn_output_weights1, \n",
    "                                      attn_output_weights2,  \n",
    "                                      row['tcra'] + ':' + row['tcrb'], \n",
    "                                      row['peptide'], \n",
    "                                      ypred, \n",
    "                                      row['sign'])\n",
    "        gc.collect()\n",
    "        i+=1\n",
    "    pickle.dump(ATTENTION_MATRIX_DICT, open(f'{OUT_DIR}/{dt}_attention_matrix_dict.pickle', 'wb'))\n",
    "    "
   ]
  }
 ],
 "metadata": {
  "kernelspec": {
   "display_name": "tcrpred",
   "language": "python",
   "name": "tcrpred"
  },
  "language_info": {
   "codemirror_mode": {
    "name": "ipython",
    "version": 3
   },
   "file_extension": ".py",
   "mimetype": "text/x-python",
   "name": "python",
   "nbconvert_exporter": "python",
   "pygments_lexer": "ipython3",
   "version": "3.8.3"
  },
  "toc": {
   "base_numbering": 1,
   "nav_menu": {},
   "number_sections": true,
   "sideBar": true,
   "skip_h1_title": false,
   "title_cell": "Table of Contents",
   "title_sidebar": "Contents",
   "toc_cell": false,
   "toc_position": {},
   "toc_section_display": true,
   "toc_window_display": true
  }
 },
 "nbformat": 4,
 "nbformat_minor": 4
}
