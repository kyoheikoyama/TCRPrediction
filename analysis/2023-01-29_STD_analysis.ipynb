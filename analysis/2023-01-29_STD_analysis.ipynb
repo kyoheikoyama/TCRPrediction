{
 "cells": [
  {
   "cell_type": "markdown",
   "id": "1da0c5d9",
   "metadata": {},
   "source": [
    "# See the diff of (h-bond or non-h-bond) b/w strong and week attention by each head\n",
    "\n",
    "- hbond combination / Attention strong combination.\n",
    "- hbond combination / all combination."
   ]
  },
  {
   "cell_type": "code",
   "execution_count": 1,
   "id": "1b7ab6f7",
   "metadata": {},
   "outputs": [],
   "source": [
    "%config IPCompleter.use_jedi=False"
   ]
  },
  {
   "cell_type": "code",
   "execution_count": 2,
   "id": "261aac60",
   "metadata": {
    "scrolled": true
   },
   "outputs": [],
   "source": [
    "import os\n",
    "import subprocess\n",
    "import pickle\n",
    "from tqdm import tqdm\n",
    "import pandas as pd\n",
    "pd.options.display.float_format = '{:.5g}'.format\n",
    "\n",
    "import numpy as np\n",
    "from analysis_util import calc_melt_df\n",
    "from matplotlib import pyplot as plt\n",
    "from numpy.polynomial.polynomial import polyfit\n",
    "import matplotlib.pyplot as plt\n",
    "import sys\n",
    "from scipy.stats import ttest_ind_from_stats\n",
    "\n",
    "sys.path.append('../streamlit/')\n",
    "\n",
    "flatten = lambda xlist: [x for xx in xlist for x in xx]\n",
    "pickleload = lambda p: pickle.load(open(p,\"rb\"))\n",
    "\n"
   ]
  },
  {
   "cell_type": "code",
   "execution_count": 3,
   "id": "e8e67fa6",
   "metadata": {},
   "outputs": [],
   "source": [
    "DATETIME = '20220211_191954'\n",
    "\n",
    "DICT_PDBID_2_Atten12 = pickleload(\n",
    "    f\"./DICT_PDB_Result/{DATETIME}_DICT_PDBID_2_Atten12.pickle\"\n",
    ")\n",
    "DICT_PDBID_2_MELTDIST = pickleload(\n",
    "    f\"./DICT_PDB_Result/{DATETIME}_DICT_PDBID_2_MELTDIST_allatoms.pickle\"\n",
    ")\n",
    "\n",
    "DICT_PDBID_2_model_out = pickleload(\n",
    "    f\"./DICT_PDB_Result/{DATETIME}_DICT_PDBID_2_model_out.pickle\"\n",
    ")\n",
    "\n",
    "POSITIVE_PRED_IDS = [\n",
    "    k for k, v in DICT_PDBID_2_model_out.items()\n",
    "    if DICT_PDBID_2_model_out[k][-1] > 0.5\n",
    "]\n",
    "\n",
    "\n",
    "STATS_COLUMNS = [\n",
    "        'Large Attention of TCRs', \n",
    "        'Small Attention of TCRs', \n",
    "        'Large Attention of Peptides', \n",
    "        'Small Attention of Peptides', \n",
    "                    ]\n",
    "\n",
    "\n",
    "def get_attention_and_hhb_relationship(strong_atten=False, head_count = 4, std_thh = 3):\n",
    "    givenPEP_distributedTCR_by_head = {}\n",
    "    givenTCR_distributedPEP_by_head = {}\n",
    "    for hi in range(head_count):\n",
    "        givenTCR_distributedPEP_by_head[hi] = []\n",
    "        givenPEP_distributedTCR_by_head[hi] = []\n",
    "        for p, (a1_by_head, a2_by_head) in DICT_PDBID_2_Atten12.items():\n",
    "            if p not in POSITIVE_PRED_IDS:\n",
    "                continue\n",
    "            a1, a2 = calc_melt_df(\n",
    "                DICT_PDBID_2_MELTDIST[p], a1_by_head[hi], a2_by_head[hi]\n",
    "            )\n",
    "            a1[\"pdbid\"] = p\n",
    "            a2[\"pdbid\"] = p\n",
    "            if strong_atten == True:\n",
    "                temp1 = a1[\n",
    "                    (\n",
    "                            a1[\"value_y\"]\n",
    "                            > (a1[\"value_y\"].mean() + std_thh * a1[\"value_y\"].std())\n",
    "                    )\n",
    "                ].copy()\n",
    "                temp2 = a2[\n",
    "                    (\n",
    "                            a2[\"value_y\"]\n",
    "                            > (a2[\"value_y\"].mean() + std_thh * a2[\"value_y\"].std())\n",
    "                    )\n",
    "                ].copy()\n",
    "            else:\n",
    "                temp1 = a1[\n",
    "                    (\n",
    "                            a1[\"value_y\"]\n",
    "                            <= (a1[\"value_y\"].mean() + std_thh * a1[\"value_y\"].std())\n",
    "                    )\n",
    "                ].copy()\n",
    "                temp2 = a2[\n",
    "                    (\n",
    "                            a2[\"value_y\"]\n",
    "                            <= (a2[\"value_y\"].mean() + std_thh * a2[\"value_y\"].std())\n",
    "                    )\n",
    "                ].copy()\n",
    "            temp1[\"head\"] = hi\n",
    "            temp2[\"head\"] = hi\n",
    "            givenPEP_distributedTCR_by_head[hi] += [temp2]\n",
    "            givenTCR_distributedPEP_by_head[hi] += [temp1]\n",
    "    return givenPEP_distributedTCR_by_head, givenTCR_distributedPEP_by_head\n"
   ]
  },
  {
   "cell_type": "code",
   "execution_count": 4,
   "id": "3d873802",
   "metadata": {},
   "outputs": [
    {
     "name": "stdout",
     "output_type": "stream",
     "text": [
      "39\n"
     ]
    }
   ],
   "source": [
    "NEEDED_PDBIDS = [\"2VLK\", \"5WKF\", \"3PQY\", \"4MJI\", \"4P2Q\", \"2YPL\", \"1J8H\", \"4P2R\", \"5MEN\", \"3MV8\", \"4OZF\", \"3VXR\", \"3VXS\", \"4OZG\", \"5TEZ\", \"2J8U\", \"6Q3S\", \"4JRX\", \"3VXU\", \"1U3H\", \"4JRY\", \"4Z7V\", \"4JFE\", \"4JFD\", \"3QIU\", \"2Z31\", \"2BNR\", \"3MBE\", \"4OZH\", \"2NX5\", \"5NHT\", \"4QOK\", \"5D2L\", \"1D9K\", \"4P2O\", \"5WKH\", \"6EQB\", \"2VLR\", \"6EQA\"]\n",
    "print(len(NEEDED_PDBIDS))\n"
   ]
  },
  {
   "cell_type": "code",
   "execution_count": 5,
   "id": "eb2429e0",
   "metadata": {},
   "outputs": [],
   "source": [
    "# New\n",
    "distance_path = './residue_distances.parquet'\n",
    "\n",
    "if os.path.exists(distance_path):\n",
    "    df_distance = pd.read_parquet(distance_path)\n",
    "else:\n",
    "    DATETIME = '20220211_191954'\n",
    "    DICT_PDBID_2_MELTDIST = pickleload(\n",
    "        f\"/Users/kyoheikoyama/workspace/tcrpred/analysis/DICT_PDB_Result/{DATETIME}_DICT_PDBID_2_MELTDIST_allatoms.pickle\"\n",
    "    )\n",
    "    df_distance = pd.concat([df.assign(pdbid=k) for k,df in DICT_PDBID_2_MELTDIST.items()])\n",
    "    df_distance.to_parquet(distance_path)\n",
    "\n",
    "dist_tcr_side = pd.merge(df_distance[['pdbid','tcr', 'value']].groupby(['pdbid','tcr'], as_index=False).min(), \n",
    "         df_distance, \n",
    "         on=['pdbid','tcr', 'value'],\n",
    "        ).rename(columns={'value':'distance_value', 'peptide':'peptide_min'})\n",
    "\n",
    "dist_peptide_side = pd.merge(df_distance[['pdbid','peptide', 'value']].groupby(['pdbid','peptide'], as_index=False).min(), \n",
    "         df_distance, \n",
    "         on=['pdbid','peptide', 'value'],\n",
    "        ).rename(columns={'value':'distance_value', 'tcr':'tcr_min'})\n"
   ]
  },
  {
   "cell_type": "code",
   "execution_count": 6,
   "id": "58cf01b5",
   "metadata": {},
   "outputs": [
    {
     "data": {
      "text/plain": [
       "39"
      ]
     },
     "execution_count": 6,
     "metadata": {},
     "output_type": "execute_result"
    }
   ],
   "source": [
    "df_distance.pdbid.drop_duplicates().isin(NEEDED_PDBIDS).sum()"
   ]
  },
  {
   "cell_type": "markdown",
   "id": "a2e29a81",
   "metadata": {},
   "source": [
    "# By Taking Minimum"
   ]
  },
  {
   "cell_type": "code",
   "execution_count": 7,
   "id": "c6390697",
   "metadata": {},
   "outputs": [],
   "source": [
    "def print_out_ttest(min_df2_strong_atten, min_df2_normal_atten, propname='distance_value'):\n",
    "    describe_series1 = min_df2_strong_atten[propname].describe([0.5])\n",
    "    mean1 = describe_series1.loc['mean']\n",
    "    std1 = describe_series1.loc['std']\n",
    "    nobs1 = len(min_df2_strong_atten)\n",
    "\n",
    "    describe_series2 = min_df2_normal_atten[propname].describe([0.5])\n",
    "    mean2 = describe_series2.loc['mean']\n",
    "    std2 = describe_series2.loc['std']\n",
    "    nobs2 = len(min_df2_normal_atten)\n",
    "    \n",
    "    ttest_ind_from_stats(mean1=mean1, std1=std1, nobs1=nobs1,\n",
    "                         mean2=mean2, std2=std2, nobs2=nobs2)    \n",
    "    print(ttest_ind_from_stats(mean1=mean1, std1=std1, nobs1=nobs1,\n",
    "                     mean2=mean2, std2=std2, nobs2=nobs2)\n",
    "    )"
   ]
  },
  {
   "cell_type": "code",
   "execution_count": 8,
   "id": "2ed1af0a",
   "metadata": {
    "scrolled": true
   },
   "outputs": [
    {
     "name": "stdout",
     "output_type": "stream",
     "text": [
      "stdthh =  2\n"
     ]
    },
    {
     "data": {
      "text/html": [
       "<div>\n",
       "<style scoped>\n",
       "    .dataframe tbody tr th:only-of-type {\n",
       "        vertical-align: middle;\n",
       "    }\n",
       "\n",
       "    .dataframe tbody tr th {\n",
       "        vertical-align: top;\n",
       "    }\n",
       "\n",
       "    .dataframe thead th {\n",
       "        text-align: right;\n",
       "    }\n",
       "</style>\n",
       "<table border=\"1\" class=\"dataframe\">\n",
       "  <thead>\n",
       "    <tr style=\"text-align: right;\">\n",
       "      <th></th>\n",
       "      <th>Large Attention of TCRs</th>\n",
       "      <th>Small Attention of TCRs</th>\n",
       "      <th>Large Attention of Peptides</th>\n",
       "      <th>Small Attention of Peptides</th>\n",
       "    </tr>\n",
       "  </thead>\n",
       "  <tbody>\n",
       "    <tr>\n",
       "      <th>count</th>\n",
       "      <td>569</td>\n",
       "      <td>468</td>\n",
       "      <td>372</td>\n",
       "      <td>65</td>\n",
       "    </tr>\n",
       "    <tr>\n",
       "      <th>mean</th>\n",
       "      <td>7.9392</td>\n",
       "      <td>8.9922</td>\n",
       "      <td>5.0319</td>\n",
       "      <td>6.1692</td>\n",
       "    </tr>\n",
       "  </tbody>\n",
       "</table>\n",
       "</div>"
      ],
      "text/plain": [
       "       Large Attention of TCRs  Small Attention of TCRs  \\\n",
       "count                      569                      468   \n",
       "mean                    7.9392                   8.9922   \n",
       "\n",
       "       Large Attention of Peptides  Small Attention of Peptides  \n",
       "count                          372                           65  \n",
       "mean                        5.0319                       6.1692  "
      ]
     },
     "metadata": {},
     "output_type": "display_data"
    },
    {
     "name": "stdout",
     "output_type": "stream",
     "text": [
      "TCR Ttest_indResult(statistic=-3.7831756541680828, pvalue=0.00016371628595920472)\n",
      "Peptide Ttest_indResult(statistic=-3.0506012585208375, pvalue=0.0024235110633054214)\n",
      "stdthh =  2.5\n"
     ]
    },
    {
     "data": {
      "text/html": [
       "<div>\n",
       "<style scoped>\n",
       "    .dataframe tbody tr th:only-of-type {\n",
       "        vertical-align: middle;\n",
       "    }\n",
       "\n",
       "    .dataframe tbody tr th {\n",
       "        vertical-align: top;\n",
       "    }\n",
       "\n",
       "    .dataframe thead th {\n",
       "        text-align: right;\n",
       "    }\n",
       "</style>\n",
       "<table border=\"1\" class=\"dataframe\">\n",
       "  <thead>\n",
       "    <tr style=\"text-align: right;\">\n",
       "      <th></th>\n",
       "      <th>Large Attention of TCRs</th>\n",
       "      <th>Small Attention of TCRs</th>\n",
       "      <th>Large Attention of Peptides</th>\n",
       "      <th>Small Attention of Peptides</th>\n",
       "    </tr>\n",
       "  </thead>\n",
       "  <tbody>\n",
       "    <tr>\n",
       "      <th>count</th>\n",
       "      <td>441</td>\n",
       "      <td>596</td>\n",
       "      <td>325</td>\n",
       "      <td>112</td>\n",
       "    </tr>\n",
       "    <tr>\n",
       "      <th>mean</th>\n",
       "      <td>8.1005</td>\n",
       "      <td>8.6467</td>\n",
       "      <td>4.911</td>\n",
       "      <td>6.0426</td>\n",
       "    </tr>\n",
       "  </tbody>\n",
       "</table>\n",
       "</div>"
      ],
      "text/plain": [
       "       Large Attention of TCRs  Small Attention of TCRs  \\\n",
       "count                      441                      596   \n",
       "mean                    8.1005                   8.6467   \n",
       "\n",
       "       Large Attention of Peptides  Small Attention of Peptides  \n",
       "count                          325                          112  \n",
       "mean                         4.911                       6.0426  "
      ]
     },
     "metadata": {},
     "output_type": "display_data"
    },
    {
     "name": "stdout",
     "output_type": "stream",
     "text": [
      "TCR Ttest_indResult(statistic=-1.9396231836609699, pvalue=0.052696934605251856)\n",
      "Peptide Ttest_indResult(statistic=-3.7437185790164498, pvalue=0.00020566832357190763)\n",
      "stdthh =  3\n"
     ]
    },
    {
     "data": {
      "text/html": [
       "<div>\n",
       "<style scoped>\n",
       "    .dataframe tbody tr th:only-of-type {\n",
       "        vertical-align: middle;\n",
       "    }\n",
       "\n",
       "    .dataframe tbody tr th {\n",
       "        vertical-align: top;\n",
       "    }\n",
       "\n",
       "    .dataframe thead th {\n",
       "        text-align: right;\n",
       "    }\n",
       "</style>\n",
       "<table border=\"1\" class=\"dataframe\">\n",
       "  <thead>\n",
       "    <tr style=\"text-align: right;\">\n",
       "      <th></th>\n",
       "      <th>Large Attention of TCRs</th>\n",
       "      <th>Small Attention of TCRs</th>\n",
       "      <th>Large Attention of Peptides</th>\n",
       "      <th>Small Attention of Peptides</th>\n",
       "    </tr>\n",
       "  </thead>\n",
       "  <tbody>\n",
       "    <tr>\n",
       "      <th>count</th>\n",
       "      <td>364</td>\n",
       "      <td>673</td>\n",
       "      <td>264</td>\n",
       "      <td>173</td>\n",
       "    </tr>\n",
       "    <tr>\n",
       "      <th>mean</th>\n",
       "      <td>8.0448</td>\n",
       "      <td>8.6144</td>\n",
       "      <td>4.8509</td>\n",
       "      <td>5.7353</td>\n",
       "    </tr>\n",
       "  </tbody>\n",
       "</table>\n",
       "</div>"
      ],
      "text/plain": [
       "       Large Attention of TCRs  Small Attention of TCRs  \\\n",
       "count                      364                      673   \n",
       "mean                    8.0448                   8.6144   \n",
       "\n",
       "       Large Attention of Peptides  Small Attention of Peptides  \n",
       "count                          264                          173  \n",
       "mean                        4.8509                       5.7353  "
      ]
     },
     "metadata": {},
     "output_type": "display_data"
    },
    {
     "name": "stdout",
     "output_type": "stream",
     "text": [
      "TCR Ttest_indResult(statistic=-1.9528603953962522, pvalue=0.05110536380286756)\n",
      "Peptide Ttest_indResult(statistic=-3.2652953658413355, pvalue=0.0011799329273218212)\n",
      "stdthh =  3.5\n"
     ]
    },
    {
     "data": {
      "text/html": [
       "<div>\n",
       "<style scoped>\n",
       "    .dataframe tbody tr th:only-of-type {\n",
       "        vertical-align: middle;\n",
       "    }\n",
       "\n",
       "    .dataframe tbody tr th {\n",
       "        vertical-align: top;\n",
       "    }\n",
       "\n",
       "    .dataframe thead th {\n",
       "        text-align: right;\n",
       "    }\n",
       "</style>\n",
       "<table border=\"1\" class=\"dataframe\">\n",
       "  <thead>\n",
       "    <tr style=\"text-align: right;\">\n",
       "      <th></th>\n",
       "      <th>Large Attention of TCRs</th>\n",
       "      <th>Small Attention of TCRs</th>\n",
       "      <th>Large Attention of Peptides</th>\n",
       "      <th>Small Attention of Peptides</th>\n",
       "    </tr>\n",
       "  </thead>\n",
       "  <tbody>\n",
       "    <tr>\n",
       "      <th>count</th>\n",
       "      <td>299</td>\n",
       "      <td>738</td>\n",
       "      <td>219</td>\n",
       "      <td>218</td>\n",
       "    </tr>\n",
       "    <tr>\n",
       "      <th>mean</th>\n",
       "      <td>8.1315</td>\n",
       "      <td>8.5291</td>\n",
       "      <td>4.8533</td>\n",
       "      <td>5.5504</td>\n",
       "    </tr>\n",
       "  </tbody>\n",
       "</table>\n",
       "</div>"
      ],
      "text/plain": [
       "       Large Attention of TCRs  Small Attention of TCRs  \\\n",
       "count                      299                      738   \n",
       "mean                    8.1315                   8.5291   \n",
       "\n",
       "       Large Attention of Peptides  Small Attention of Peptides  \n",
       "count                          219                          218  \n",
       "mean                        4.8533                       5.5504  "
      ]
     },
     "metadata": {},
     "output_type": "display_data"
    },
    {
     "name": "stdout",
     "output_type": "stream",
     "text": [
      "TCR Ttest_indResult(statistic=-1.292337388477213, pvalue=0.19652878089721895)\n",
      "Peptide Ttest_indResult(statistic=-2.6201528344387874, pvalue=0.009096529250338744)\n",
      "stdthh =  4\n"
     ]
    },
    {
     "data": {
      "text/html": [
       "<div>\n",
       "<style scoped>\n",
       "    .dataframe tbody tr th:only-of-type {\n",
       "        vertical-align: middle;\n",
       "    }\n",
       "\n",
       "    .dataframe tbody tr th {\n",
       "        vertical-align: top;\n",
       "    }\n",
       "\n",
       "    .dataframe thead th {\n",
       "        text-align: right;\n",
       "    }\n",
       "</style>\n",
       "<table border=\"1\" class=\"dataframe\">\n",
       "  <thead>\n",
       "    <tr style=\"text-align: right;\">\n",
       "      <th></th>\n",
       "      <th>Large Attention of TCRs</th>\n",
       "      <th>Small Attention of TCRs</th>\n",
       "      <th>Large Attention of Peptides</th>\n",
       "      <th>Small Attention of Peptides</th>\n",
       "    </tr>\n",
       "  </thead>\n",
       "  <tbody>\n",
       "    <tr>\n",
       "      <th>count</th>\n",
       "      <td>244</td>\n",
       "      <td>793</td>\n",
       "      <td>172</td>\n",
       "      <td>265</td>\n",
       "    </tr>\n",
       "    <tr>\n",
       "      <th>mean</th>\n",
       "      <td>8.1546</td>\n",
       "      <td>8.4944</td>\n",
       "      <td>4.8479</td>\n",
       "      <td>5.4303</td>\n",
       "    </tr>\n",
       "  </tbody>\n",
       "</table>\n",
       "</div>"
      ],
      "text/plain": [
       "       Large Attention of TCRs  Small Attention of TCRs  \\\n",
       "count                      244                      793   \n",
       "mean                    8.1546                   8.4944   \n",
       "\n",
       "       Large Attention of Peptides  Small Attention of Peptides  \n",
       "count                          172                          265  \n",
       "mean                        4.8479                       5.4303  "
      ]
     },
     "metadata": {},
     "output_type": "display_data"
    },
    {
     "name": "stdout",
     "output_type": "stream",
     "text": [
      "TCR Ttest_indResult(statistic=-1.033855218979009, pvalue=0.3014453560039997)\n",
      "Peptide Ttest_indResult(statistic=-2.1334508958419054, pvalue=0.03344668383634446)\n",
      "stdthh =  4.5\n"
     ]
    },
    {
     "data": {
      "text/html": [
       "<div>\n",
       "<style scoped>\n",
       "    .dataframe tbody tr th:only-of-type {\n",
       "        vertical-align: middle;\n",
       "    }\n",
       "\n",
       "    .dataframe tbody tr th {\n",
       "        vertical-align: top;\n",
       "    }\n",
       "\n",
       "    .dataframe thead th {\n",
       "        text-align: right;\n",
       "    }\n",
       "</style>\n",
       "<table border=\"1\" class=\"dataframe\">\n",
       "  <thead>\n",
       "    <tr style=\"text-align: right;\">\n",
       "      <th></th>\n",
       "      <th>Large Attention of TCRs</th>\n",
       "      <th>Small Attention of TCRs</th>\n",
       "      <th>Large Attention of Peptides</th>\n",
       "      <th>Small Attention of Peptides</th>\n",
       "    </tr>\n",
       "  </thead>\n",
       "  <tbody>\n",
       "    <tr>\n",
       "      <th>count</th>\n",
       "      <td>196</td>\n",
       "      <td>841</td>\n",
       "      <td>137</td>\n",
       "      <td>300</td>\n",
       "    </tr>\n",
       "    <tr>\n",
       "      <th>mean</th>\n",
       "      <td>8.4209</td>\n",
       "      <td>8.4129</td>\n",
       "      <td>4.9052</td>\n",
       "      <td>5.3362</td>\n",
       "    </tr>\n",
       "  </tbody>\n",
       "</table>\n",
       "</div>"
      ],
      "text/plain": [
       "       Large Attention of TCRs  Small Attention of TCRs  \\\n",
       "count                      196                      841   \n",
       "mean                    8.4209                   8.4129   \n",
       "\n",
       "       Large Attention of Peptides  Small Attention of Peptides  \n",
       "count                          137                          300  \n",
       "mean                        4.9052                       5.3362  "
      ]
     },
     "metadata": {},
     "output_type": "display_data"
    },
    {
     "name": "stdout",
     "output_type": "stream",
     "text": [
      "TCR Ttest_indResult(statistic=0.022381353779624465, pvalue=0.9821480681761572)\n",
      "Peptide Ttest_indResult(statistic=-1.495166855121628, pvalue=0.13559598093988784)\n",
      "stdthh =  5\n"
     ]
    },
    {
     "data": {
      "text/html": [
       "<div>\n",
       "<style scoped>\n",
       "    .dataframe tbody tr th:only-of-type {\n",
       "        vertical-align: middle;\n",
       "    }\n",
       "\n",
       "    .dataframe tbody tr th {\n",
       "        vertical-align: top;\n",
       "    }\n",
       "\n",
       "    .dataframe thead th {\n",
       "        text-align: right;\n",
       "    }\n",
       "</style>\n",
       "<table border=\"1\" class=\"dataframe\">\n",
       "  <thead>\n",
       "    <tr style=\"text-align: right;\">\n",
       "      <th></th>\n",
       "      <th>Large Attention of TCRs</th>\n",
       "      <th>Small Attention of TCRs</th>\n",
       "      <th>Large Attention of Peptides</th>\n",
       "      <th>Small Attention of Peptides</th>\n",
       "    </tr>\n",
       "  </thead>\n",
       "  <tbody>\n",
       "    <tr>\n",
       "      <th>count</th>\n",
       "      <td>153</td>\n",
       "      <td>884</td>\n",
       "      <td>111</td>\n",
       "      <td>326</td>\n",
       "    </tr>\n",
       "    <tr>\n",
       "      <th>mean</th>\n",
       "      <td>8.2248</td>\n",
       "      <td>8.4473</td>\n",
       "      <td>4.8041</td>\n",
       "      <td>5.3362</td>\n",
       "    </tr>\n",
       "  </tbody>\n",
       "</table>\n",
       "</div>"
      ],
      "text/plain": [
       "       Large Attention of TCRs  Small Attention of TCRs  \\\n",
       "count                      153                      884   \n",
       "mean                    8.2248                   8.4473   \n",
       "\n",
       "       Large Attention of Peptides  Small Attention of Peptides  \n",
       "count                          111                          326  \n",
       "mean                        4.8041                       5.3362  "
      ]
     },
     "metadata": {},
     "output_type": "display_data"
    },
    {
     "name": "stdout",
     "output_type": "stream",
     "text": [
      "TCR Ttest_indResult(statistic=-0.5657919675119434, pvalue=0.5716578462513036)\n",
      "Peptide Ttest_indResult(statistic=-1.7338015670153706, pvalue=0.08366181387772595)\n",
      "stdthh =  5.5\n"
     ]
    },
    {
     "data": {
      "text/html": [
       "<div>\n",
       "<style scoped>\n",
       "    .dataframe tbody tr th:only-of-type {\n",
       "        vertical-align: middle;\n",
       "    }\n",
       "\n",
       "    .dataframe tbody tr th {\n",
       "        vertical-align: top;\n",
       "    }\n",
       "\n",
       "    .dataframe thead th {\n",
       "        text-align: right;\n",
       "    }\n",
       "</style>\n",
       "<table border=\"1\" class=\"dataframe\">\n",
       "  <thead>\n",
       "    <tr style=\"text-align: right;\">\n",
       "      <th></th>\n",
       "      <th>Large Attention of TCRs</th>\n",
       "      <th>Small Attention of TCRs</th>\n",
       "      <th>Large Attention of Peptides</th>\n",
       "      <th>Small Attention of Peptides</th>\n",
       "    </tr>\n",
       "  </thead>\n",
       "  <tbody>\n",
       "    <tr>\n",
       "      <th>count</th>\n",
       "      <td>118</td>\n",
       "      <td>919</td>\n",
       "      <td>81</td>\n",
       "      <td>356</td>\n",
       "    </tr>\n",
       "    <tr>\n",
       "      <th>mean</th>\n",
       "      <td>8.423</td>\n",
       "      <td>8.4133</td>\n",
       "      <td>4.5182</td>\n",
       "      <td>5.3564</td>\n",
       "    </tr>\n",
       "  </tbody>\n",
       "</table>\n",
       "</div>"
      ],
      "text/plain": [
       "       Large Attention of TCRs  Small Attention of TCRs  \\\n",
       "count                      118                      919   \n",
       "mean                     8.423                   8.4133   \n",
       "\n",
       "       Large Attention of Peptides  Small Attention of Peptides  \n",
       "count                           81                          356  \n",
       "mean                        4.5182                       5.3564  "
      ]
     },
     "metadata": {},
     "output_type": "display_data"
    },
    {
     "name": "stdout",
     "output_type": "stream",
     "text": [
      "TCR Ttest_indResult(statistic=0.021976074286672993, pvalue=0.9824712767468564)\n",
      "Peptide Ttest_indResult(statistic=-2.4460679731342276, pvalue=0.01483755573700187)\n",
      "stdthh =  6\n"
     ]
    },
    {
     "data": {
      "text/html": [
       "<div>\n",
       "<style scoped>\n",
       "    .dataframe tbody tr th:only-of-type {\n",
       "        vertical-align: middle;\n",
       "    }\n",
       "\n",
       "    .dataframe tbody tr th {\n",
       "        vertical-align: top;\n",
       "    }\n",
       "\n",
       "    .dataframe thead th {\n",
       "        text-align: right;\n",
       "    }\n",
       "</style>\n",
       "<table border=\"1\" class=\"dataframe\">\n",
       "  <thead>\n",
       "    <tr style=\"text-align: right;\">\n",
       "      <th></th>\n",
       "      <th>Large Attention of TCRs</th>\n",
       "      <th>Small Attention of TCRs</th>\n",
       "      <th>Large Attention of Peptides</th>\n",
       "      <th>Small Attention of Peptides</th>\n",
       "    </tr>\n",
       "  </thead>\n",
       "  <tbody>\n",
       "    <tr>\n",
       "      <th>count</th>\n",
       "      <td>97</td>\n",
       "      <td>940</td>\n",
       "      <td>48</td>\n",
       "      <td>389</td>\n",
       "    </tr>\n",
       "    <tr>\n",
       "      <th>mean</th>\n",
       "      <td>8.2079</td>\n",
       "      <td>8.4357</td>\n",
       "      <td>4.3593</td>\n",
       "      <td>5.3049</td>\n",
       "    </tr>\n",
       "  </tbody>\n",
       "</table>\n",
       "</div>"
      ],
      "text/plain": [
       "       Large Attention of TCRs  Small Attention of TCRs  \\\n",
       "count                       97                      940   \n",
       "mean                    8.2079                   8.4357   \n",
       "\n",
       "       Large Attention of Peptides  Small Attention of Peptides  \n",
       "count                           48                          389  \n",
       "mean                        4.3593                       5.3049  "
      ]
     },
     "metadata": {},
     "output_type": "display_data"
    },
    {
     "name": "stdout",
     "output_type": "stream",
     "text": [
      "TCR Ttest_indResult(statistic=-0.4757292794231806, pvalue=0.6343676496975424)\n",
      "Peptide Ttest_indResult(statistic=-2.2178205144141367, pvalue=0.027082982585828006)\n"
     ]
    }
   ],
   "source": [
    "stats_list = list()\n",
    "# for stdthh in [1.5, 2, 2.5, 3, 3.5, 4, 4.5, 5, 5.5, 6, 6.5]:\n",
    "for stdthh in [ 2, 2.5, 3, 3.5, 4, 4.5, 5, 5.5, 6]:\n",
    "    \n",
    "    print('stdthh = ', stdthh)\n",
    "    givenPEP_distributedTCR_by_head_large, givenTCR_distributedPEP_by_head_large =\\\n",
    "        get_attention_and_hhb_relationship(strong_atten=True, std_thh=stdthh)\n",
    "\n",
    "    givenPEP_distributedTCR_by_head, givenTCR_distributedPEP_by_head =\\\n",
    "        get_attention_and_hhb_relationship(strong_atten=False, std_thh=stdthh)\n",
    "\n",
    "\n",
    "    df1_strong_atten = pd.concat(flatten([givenPEP_distributedTCR_by_head_large[hi] for hi in range(4)])) \n",
    "    df2_strong_atten = pd.concat(flatten([givenTCR_distributedPEP_by_head_large[hi] for hi in range(4)]))\n",
    "    df1_normal_atten = pd.concat(flatten([givenPEP_distributedTCR_by_head[hi] for hi in range(4)])) \n",
    "    df2_normal_atten = pd.concat(flatten([givenTCR_distributedPEP_by_head[hi] for hi in range(4)]))\n",
    "\n",
    "    df1_strong_atten = df1_strong_atten.query('pdbid in @NEEDED_PDBIDS')\n",
    "    df1_normal_atten = df1_normal_atten.query('pdbid in @NEEDED_PDBIDS')\n",
    "    df2_strong_atten = df2_strong_atten.query('pdbid in @NEEDED_PDBIDS')\n",
    "    df2_normal_atten = df2_normal_atten.query('pdbid in @NEEDED_PDBIDS')\n",
    "\n",
    "    df1_strong_atten = pd.merge(df1_strong_atten, dist_tcr_side, on=['pdbid','tcr'], how='left')\n",
    "    df1_normal_atten = pd.merge(df1_normal_atten, dist_tcr_side, on=['pdbid','tcr'], how='left' )\n",
    "    df2_strong_atten = pd.merge(df2_strong_atten, dist_peptide_side, on=['pdbid','peptide'], how='left' )\n",
    "    df2_normal_atten = pd.merge(df2_normal_atten, dist_peptide_side, on=['pdbid','peptide'], how='left' )\n",
    "\n",
    "    min_df1_strong_atten = df1_strong_atten.groupby(['pdbid', 'tcr', ]).min().reset_index()\n",
    "    min_df1_normal_atten = df1_normal_atten.groupby(['pdbid', 'tcr', ]).min().reset_index()\n",
    "    min_df2_strong_atten = df2_strong_atten.groupby(['pdbid', 'peptide', ]).min().reset_index()\n",
    "    min_df2_normal_atten = df2_normal_atten.groupby(['pdbid', 'peptide', ]).min().reset_index()\n",
    "\n",
    "    min_df1_normal_atten = min_df1_normal_atten[\n",
    "        ~min_df1_normal_atten[['pdbid','tcr']].apply(tuple,axis=1).isin(\n",
    "            (min_df1_strong_atten[['pdbid','tcr']].apply(tuple,axis=1)))\n",
    "    ]\n",
    "\n",
    "    min_df2_normal_atten = min_df2_normal_atten[\n",
    "        ~min_df2_normal_atten[['pdbid','peptide']].apply(tuple,axis=1).isin(\n",
    "            (min_df2_strong_atten[['pdbid','peptide']].apply(tuple,axis=1)))\n",
    "    ]\n",
    "\n",
    "    stats = pd.concat([\n",
    "        min_df1_strong_atten.distance_value.describe([0.5]),  min_df1_normal_atten.distance_value.describe([0.5]),\n",
    "        min_df2_strong_atten.distance_value.describe([0.5]),  min_df2_normal_atten.distance_value.describe([0.5]),\n",
    "    ], axis=1).rename(index={'50%':'median'})\n",
    "    stats.columns = STATS_COLUMNS\n",
    "    display(stats.loc[['count','mean'], :])\n",
    "    stats.index = [f'{i} stdthh_{stdthh}' for i in stats.index]\n",
    "    stats_list.append(stats)\n",
    "    \n",
    "    print('TCR', end=' ')\n",
    "    print_out_ttest(min_df1_strong_atten, min_df1_normal_atten)\n",
    "    print('Peptide', end=' ')\n",
    "    print_out_ttest(min_df2_strong_atten, min_df2_normal_atten)    "
   ]
  },
  {
   "cell_type": "code",
   "execution_count": 9,
   "id": "6a7cfc80",
   "metadata": {
    "scrolled": false
   },
   "outputs": [
    {
     "data": {
      "text/html": [
       "<div>\n",
       "<style scoped>\n",
       "    .dataframe tbody tr th:only-of-type {\n",
       "        vertical-align: middle;\n",
       "    }\n",
       "\n",
       "    .dataframe tbody tr th {\n",
       "        vertical-align: top;\n",
       "    }\n",
       "\n",
       "    .dataframe thead th {\n",
       "        text-align: right;\n",
       "    }\n",
       "</style>\n",
       "<table border=\"1\" class=\"dataframe\">\n",
       "  <thead>\n",
       "    <tr style=\"text-align: right;\">\n",
       "      <th></th>\n",
       "      <th>Large Attention of TCRs</th>\n",
       "      <th>Small Attention of TCRs</th>\n",
       "      <th>Large Attention of Peptides</th>\n",
       "      <th>Small Attention of Peptides</th>\n",
       "    </tr>\n",
       "  </thead>\n",
       "  <tbody>\n",
       "    <tr>\n",
       "      <th>count stdthh_2</th>\n",
       "      <td>569</td>\n",
       "      <td>468</td>\n",
       "      <td>372</td>\n",
       "      <td>65</td>\n",
       "    </tr>\n",
       "    <tr>\n",
       "      <th>count stdthh_2.5</th>\n",
       "      <td>441</td>\n",
       "      <td>596</td>\n",
       "      <td>325</td>\n",
       "      <td>112</td>\n",
       "    </tr>\n",
       "    <tr>\n",
       "      <th>count stdthh_3</th>\n",
       "      <td>364</td>\n",
       "      <td>673</td>\n",
       "      <td>264</td>\n",
       "      <td>173</td>\n",
       "    </tr>\n",
       "    <tr>\n",
       "      <th>count stdthh_3.5</th>\n",
       "      <td>299</td>\n",
       "      <td>738</td>\n",
       "      <td>219</td>\n",
       "      <td>218</td>\n",
       "    </tr>\n",
       "    <tr>\n",
       "      <th>count stdthh_4</th>\n",
       "      <td>244</td>\n",
       "      <td>793</td>\n",
       "      <td>172</td>\n",
       "      <td>265</td>\n",
       "    </tr>\n",
       "    <tr>\n",
       "      <th>count stdthh_4.5</th>\n",
       "      <td>196</td>\n",
       "      <td>841</td>\n",
       "      <td>137</td>\n",
       "      <td>300</td>\n",
       "    </tr>\n",
       "    <tr>\n",
       "      <th>count stdthh_5</th>\n",
       "      <td>153</td>\n",
       "      <td>884</td>\n",
       "      <td>111</td>\n",
       "      <td>326</td>\n",
       "    </tr>\n",
       "    <tr>\n",
       "      <th>count stdthh_5.5</th>\n",
       "      <td>118</td>\n",
       "      <td>919</td>\n",
       "      <td>81</td>\n",
       "      <td>356</td>\n",
       "    </tr>\n",
       "    <tr>\n",
       "      <th>count stdthh_6</th>\n",
       "      <td>97</td>\n",
       "      <td>940</td>\n",
       "      <td>48</td>\n",
       "      <td>389</td>\n",
       "    </tr>\n",
       "    <tr>\n",
       "      <th>mean stdthh_2</th>\n",
       "      <td>7.9392</td>\n",
       "      <td>8.9922</td>\n",
       "      <td>5.0319</td>\n",
       "      <td>6.1692</td>\n",
       "    </tr>\n",
       "    <tr>\n",
       "      <th>mean stdthh_2.5</th>\n",
       "      <td>8.1005</td>\n",
       "      <td>8.6467</td>\n",
       "      <td>4.911</td>\n",
       "      <td>6.0426</td>\n",
       "    </tr>\n",
       "    <tr>\n",
       "      <th>mean stdthh_3</th>\n",
       "      <td>8.0448</td>\n",
       "      <td>8.6144</td>\n",
       "      <td>4.8509</td>\n",
       "      <td>5.7353</td>\n",
       "    </tr>\n",
       "    <tr>\n",
       "      <th>mean stdthh_3.5</th>\n",
       "      <td>8.1315</td>\n",
       "      <td>8.5291</td>\n",
       "      <td>4.8533</td>\n",
       "      <td>5.5504</td>\n",
       "    </tr>\n",
       "    <tr>\n",
       "      <th>mean stdthh_4</th>\n",
       "      <td>8.1546</td>\n",
       "      <td>8.4944</td>\n",
       "      <td>4.8479</td>\n",
       "      <td>5.4303</td>\n",
       "    </tr>\n",
       "    <tr>\n",
       "      <th>mean stdthh_4.5</th>\n",
       "      <td>8.4209</td>\n",
       "      <td>8.4129</td>\n",
       "      <td>4.9052</td>\n",
       "      <td>5.3362</td>\n",
       "    </tr>\n",
       "    <tr>\n",
       "      <th>mean stdthh_5</th>\n",
       "      <td>8.2248</td>\n",
       "      <td>8.4473</td>\n",
       "      <td>4.8041</td>\n",
       "      <td>5.3362</td>\n",
       "    </tr>\n",
       "    <tr>\n",
       "      <th>mean stdthh_5.5</th>\n",
       "      <td>8.423</td>\n",
       "      <td>8.4133</td>\n",
       "      <td>4.5182</td>\n",
       "      <td>5.3564</td>\n",
       "    </tr>\n",
       "    <tr>\n",
       "      <th>mean stdthh_6</th>\n",
       "      <td>8.2079</td>\n",
       "      <td>8.4357</td>\n",
       "      <td>4.3593</td>\n",
       "      <td>5.3049</td>\n",
       "    </tr>\n",
       "  </tbody>\n",
       "</table>\n",
       "</div>"
      ],
      "text/plain": [
       "                  Large Attention of TCRs  Small Attention of TCRs  \\\n",
       "count stdthh_2                        569                      468   \n",
       "count stdthh_2.5                      441                      596   \n",
       "count stdthh_3                        364                      673   \n",
       "count stdthh_3.5                      299                      738   \n",
       "count stdthh_4                        244                      793   \n",
       "count stdthh_4.5                      196                      841   \n",
       "count stdthh_5                        153                      884   \n",
       "count stdthh_5.5                      118                      919   \n",
       "count stdthh_6                         97                      940   \n",
       "mean stdthh_2                      7.9392                   8.9922   \n",
       "mean stdthh_2.5                    8.1005                   8.6467   \n",
       "mean stdthh_3                      8.0448                   8.6144   \n",
       "mean stdthh_3.5                    8.1315                   8.5291   \n",
       "mean stdthh_4                      8.1546                   8.4944   \n",
       "mean stdthh_4.5                    8.4209                   8.4129   \n",
       "mean stdthh_5                      8.2248                   8.4473   \n",
       "mean stdthh_5.5                     8.423                   8.4133   \n",
       "mean stdthh_6                      8.2079                   8.4357   \n",
       "\n",
       "                  Large Attention of Peptides  Small Attention of Peptides  \n",
       "count stdthh_2                            372                           65  \n",
       "count stdthh_2.5                          325                          112  \n",
       "count stdthh_3                            264                          173  \n",
       "count stdthh_3.5                          219                          218  \n",
       "count stdthh_4                            172                          265  \n",
       "count stdthh_4.5                          137                          300  \n",
       "count stdthh_5                            111                          326  \n",
       "count stdthh_5.5                           81                          356  \n",
       "count stdthh_6                             48                          389  \n",
       "mean stdthh_2                          5.0319                       6.1692  \n",
       "mean stdthh_2.5                         4.911                       6.0426  \n",
       "mean stdthh_3                          4.8509                       5.7353  \n",
       "mean stdthh_3.5                        4.8533                       5.5504  \n",
       "mean stdthh_4                          4.8479                       5.4303  \n",
       "mean stdthh_4.5                        4.9052                       5.3362  \n",
       "mean stdthh_5                          4.8041                       5.3362  \n",
       "mean stdthh_5.5                        4.5182                       5.3564  \n",
       "mean stdthh_6                          4.3593                       5.3049  "
      ]
     },
     "execution_count": 9,
     "metadata": {},
     "output_type": "execute_result"
    }
   ],
   "source": [
    "stats_list_all = pd.concat(stats_list)\n",
    "stats_list_all.loc[[i for i in stats_list_all.index if 'count' in i or 'mean' in i]].sort_index()"
   ]
  },
  {
   "cell_type": "code",
   "execution_count": 10,
   "id": "9024111b",
   "metadata": {},
   "outputs": [
    {
     "name": "stdout",
     "output_type": "stream",
     "text": [
      "stdthh =  5.5\n"
     ]
    },
    {
     "data": {
      "text/html": [
       "<div>\n",
       "<style scoped>\n",
       "    .dataframe tbody tr th:only-of-type {\n",
       "        vertical-align: middle;\n",
       "    }\n",
       "\n",
       "    .dataframe tbody tr th {\n",
       "        vertical-align: top;\n",
       "    }\n",
       "\n",
       "    .dataframe thead th {\n",
       "        text-align: right;\n",
       "    }\n",
       "</style>\n",
       "<table border=\"1\" class=\"dataframe\">\n",
       "  <thead>\n",
       "    <tr style=\"text-align: right;\">\n",
       "      <th></th>\n",
       "      <th>Large Attention of TCRs</th>\n",
       "      <th>Small Attention of TCRs</th>\n",
       "      <th>Large Attention of Peptides</th>\n",
       "      <th>Small Attention of Peptides</th>\n",
       "    </tr>\n",
       "  </thead>\n",
       "  <tbody>\n",
       "    <tr>\n",
       "      <th>count</th>\n",
       "      <td>118</td>\n",
       "      <td>919</td>\n",
       "      <td>81</td>\n",
       "      <td>356</td>\n",
       "    </tr>\n",
       "    <tr>\n",
       "      <th>mean</th>\n",
       "      <td>8.423</td>\n",
       "      <td>8.4133</td>\n",
       "      <td>4.5182</td>\n",
       "      <td>5.3564</td>\n",
       "    </tr>\n",
       "    <tr>\n",
       "      <th>std</th>\n",
       "      <td>3.9894</td>\n",
       "      <td>4.5511</td>\n",
       "      <td>2.1588</td>\n",
       "      <td>2.9058</td>\n",
       "    </tr>\n",
       "    <tr>\n",
       "      <th>min</th>\n",
       "      <td>2.2843</td>\n",
       "      <td>2.3739</td>\n",
       "      <td>2.505</td>\n",
       "      <td>2.2843</td>\n",
       "    </tr>\n",
       "    <tr>\n",
       "      <th>median</th>\n",
       "      <td>7.864</td>\n",
       "      <td>7.4985</td>\n",
       "      <td>3.4961</td>\n",
       "      <td>4.3383</td>\n",
       "    </tr>\n",
       "    <tr>\n",
       "      <th>max</th>\n",
       "      <td>18.764</td>\n",
       "      <td>19.575</td>\n",
       "      <td>12.272</td>\n",
       "      <td>24.261</td>\n",
       "    </tr>\n",
       "  </tbody>\n",
       "</table>\n",
       "</div>"
      ],
      "text/plain": [
       "        Large Attention of TCRs  Small Attention of TCRs  \\\n",
       "count                       118                      919   \n",
       "mean                      8.423                   8.4133   \n",
       "std                      3.9894                   4.5511   \n",
       "min                      2.2843                   2.3739   \n",
       "median                    7.864                   7.4985   \n",
       "max                      18.764                   19.575   \n",
       "\n",
       "        Large Attention of Peptides  Small Attention of Peptides  \n",
       "count                            81                          356  \n",
       "mean                         4.5182                       5.3564  \n",
       "std                          2.1588                       2.9058  \n",
       "min                           2.505                       2.2843  \n",
       "median                       3.4961                       4.3383  \n",
       "max                          12.272                       24.261  "
      ]
     },
     "metadata": {},
     "output_type": "display_data"
    }
   ],
   "source": [
    "stdthh = 5.5 #3.5\n",
    "# stdthh = 3.5 #3.5\n",
    "# stdthh = 4.0 #3.5\n",
    "givenPEP_distributedTCR_by_head_large, givenTCR_distributedPEP_by_head_large =\\\n",
    "    get_attention_and_hhb_relationship(strong_atten=True, std_thh=stdthh)\n",
    "\n",
    "givenPEP_distributedTCR_by_head, givenTCR_distributedPEP_by_head =\\\n",
    "    get_attention_and_hhb_relationship(strong_atten=False, std_thh=stdthh)\n",
    "\n",
    "\n",
    "df1_strong_atten = pd.concat(flatten([givenPEP_distributedTCR_by_head_large[hi] for hi in range(4)])) \n",
    "df2_strong_atten = pd.concat(flatten([givenTCR_distributedPEP_by_head_large[hi] for hi in range(4)]))\n",
    "df1_normal_atten = pd.concat(flatten([givenPEP_distributedTCR_by_head[hi] for hi in range(4)])) \n",
    "df2_normal_atten = pd.concat(flatten([givenTCR_distributedPEP_by_head[hi] for hi in range(4)]))\n",
    "\n",
    "df1_strong_atten = df1_strong_atten.query('pdbid in @NEEDED_PDBIDS')\n",
    "df1_normal_atten = df1_normal_atten.query('pdbid in @NEEDED_PDBIDS')\n",
    "df2_strong_atten = df2_strong_atten.query('pdbid in @NEEDED_PDBIDS')\n",
    "df2_normal_atten = df2_normal_atten.query('pdbid in @NEEDED_PDBIDS')\n",
    "\n",
    "df1_strong_atten = pd.merge(df1_strong_atten, dist_tcr_side, on=['pdbid','tcr'], how='left')\n",
    "df1_normal_atten = pd.merge(df1_normal_atten, dist_tcr_side, on=['pdbid','tcr'], how='left' )\n",
    "df2_strong_atten = pd.merge(df2_strong_atten, dist_peptide_side, on=['pdbid','peptide'], how='left' )\n",
    "df2_normal_atten = pd.merge(df2_normal_atten, dist_peptide_side, on=['pdbid','peptide'], how='left' )\n",
    "\n",
    "min_df1_strong_atten = df1_strong_atten.groupby(['pdbid', 'tcr', ]).min().reset_index()\n",
    "min_df1_normal_atten = df1_normal_atten.groupby(['pdbid', 'tcr', ]).min().reset_index()\n",
    "min_df2_strong_atten = df2_strong_atten.groupby(['pdbid', 'peptide', ]).min().reset_index()\n",
    "min_df2_normal_atten = df2_normal_atten.groupby(['pdbid', 'peptide', ]).min().reset_index()\n",
    "\n",
    "min_df1_normal_atten = min_df1_normal_atten[\n",
    "    ~min_df1_normal_atten[['pdbid','tcr']].apply(tuple,axis=1).isin(\n",
    "        (min_df1_strong_atten[['pdbid','tcr']].apply(tuple,axis=1)))\n",
    "]\n",
    "min_df2_normal_atten = min_df2_normal_atten[\n",
    "    ~min_df2_normal_atten[['pdbid','peptide']].apply(tuple,axis=1).isin(\n",
    "        (min_df2_strong_atten[['pdbid','peptide']].apply(tuple,axis=1)))\n",
    "]\n",
    "\n",
    "stats = pd.concat([\n",
    "    min_df1_strong_atten.distance_value.describe([0.5]), \n",
    "    min_df1_normal_atten.distance_value.describe([0.5]),\n",
    "    min_df2_strong_atten.distance_value.describe([0.5]), \n",
    "    min_df2_normal_atten.distance_value.describe([0.5]),], axis=1)\n",
    "\n",
    "stats.columns = STATS_COLUMNS\n",
    "print('stdthh = ', stdthh)\n",
    "display(stats.rename(index={'50%':'median'}))\n"
   ]
  },
  {
   "cell_type": "code",
   "execution_count": null,
   "id": "54736d28",
   "metadata": {},
   "outputs": [],
   "source": []
  },
  {
   "cell_type": "markdown",
   "id": "41903809",
   "metadata": {},
   "source": [
    "# By Each Head"
   ]
  },
  {
   "cell_type": "code",
   "execution_count": 11,
   "id": "29104f17",
   "metadata": {
    "scrolled": true
   },
   "outputs": [],
   "source": [
    "# stdthh = 5.5 \n",
    "stdthh = 3.50 \n",
    "\n",
    "givenPEP_distributedTCR_by_head_large, givenTCR_distributedPEP_by_head_large = \\\n",
    "    get_attention_and_hhb_relationship(strong_atten=True, std_thh=stdthh)\n",
    "givenPEP_distributedTCR_by_head, givenTCR_distributedPEP_by_head = \\\n",
    "    get_attention_and_hhb_relationship(strong_atten=False, std_thh=stdthh)\n",
    "\n",
    "df1_strong_atten = pd.concat(flatten([givenPEP_distributedTCR_by_head_large[hi] for hi in range(4)])) \n",
    "df2_strong_atten = pd.concat(flatten([givenTCR_distributedPEP_by_head_large[hi] for hi in range(4)]))\n",
    "df1_normal_atten = pd.concat(flatten([givenPEP_distributedTCR_by_head[hi] for hi in range(4)])) \n",
    "df2_normal_atten = pd.concat(flatten([givenTCR_distributedPEP_by_head[hi] for hi in range(4)]))\n",
    "\n",
    "df1_strong_atten = df1_strong_atten.query('pdbid in @NEEDED_PDBIDS')\n",
    "df1_normal_atten = df1_normal_atten.query('pdbid in @NEEDED_PDBIDS')\n",
    "df2_strong_atten = df2_strong_atten.query('pdbid in @NEEDED_PDBIDS')\n",
    "df2_normal_atten = df2_normal_atten.query('pdbid in @NEEDED_PDBIDS')\n",
    "\n",
    "df1_large_atten_of_pdbHeadTP = df1_strong_atten[['pdbid','head', 'tcr']].apply(tuple, axis=1)\n",
    "df2_large_atten_of_pdbHeadTP = df2_strong_atten[['pdbid','head', 'peptide']].apply(tuple, axis=1)\n",
    "\n",
    "df1_strong_atten = df1_strong_atten.sort_values(by='value_y').drop_duplicates(subset=['pdbid','head', 'tcr'], keep='last')\n",
    "df1_normal_atten = df1_normal_atten.sort_values(by='value_y').drop_duplicates(subset=['pdbid','head', 'tcr'], keep='last')\n",
    "df2_strong_atten = df2_strong_atten.sort_values(by='value_y').drop_duplicates(subset=['pdbid','head', 'peptide'], keep='last')\n",
    "df2_normal_atten = df2_normal_atten.sort_values(by='value_y').drop_duplicates(subset=['pdbid','head', 'peptide'], keep='last')\n",
    "\n",
    "df1_normal_atten = df1_normal_atten[\n",
    "    ~(df1_normal_atten[['pdbid','head', 'tcr']].apply(tuple, axis=1).isin(df1_large_atten_of_pdbHeadTP))\n",
    "                ]\n",
    "\n",
    "df2_normal_atten = df2_normal_atten[\n",
    "    ~(df2_normal_atten[['pdbid','head', 'peptide']].apply(tuple, axis=1).isin(df2_large_atten_of_pdbHeadTP))\n",
    "]\n"
   ]
  },
  {
   "cell_type": "code",
   "execution_count": 12,
   "id": "77b0643d",
   "metadata": {},
   "outputs": [
    {
     "name": "stdout",
     "output_type": "stream",
     "text": [
      "1 13\n",
      "2 16\n",
      "6 20\n",
      "1 10\n",
      "3 13\n",
      "2 11\n",
      "2 13\n",
      "4 17\n",
      "2 10\n",
      "3 13\n",
      "2 13\n",
      "2 10\n",
      "2 12\n",
      "3 13\n",
      "1 13\n",
      "1 10\n",
      "1 11\n",
      "1 9\n",
      "2 11\n",
      "1 10\n",
      "3 14\n",
      "0 9\n",
      "1 12\n",
      "3 13\n",
      "2 10\n",
      "2 11\n",
      "2 9\n",
      "1 9\n",
      "1 10\n",
      "2 9\n",
      "1 9\n",
      "1 10\n",
      "0 9\n",
      "3 10\n",
      "2 10\n",
      "2 9\n",
      "1 9\n",
      "3 9\n",
      "2 8\n"
     ]
    }
   ],
   "source": [
    "for ppp in df2_normal_atten.pdbid.unique():\n",
    "    print(\n",
    "        pd.concat([df2_strong_atten,]).query('head==0 and pdbid==@ppp').shape[0],\n",
    "        pd.concat([df2_strong_atten, df2_normal_atten]).query('head==0 and pdbid==@ppp').shape[0]\n",
    "    )"
   ]
  },
  {
   "cell_type": "code",
   "execution_count": 13,
   "id": "f238639a",
   "metadata": {},
   "outputs": [
    {
     "data": {
      "text/plain": [
       "<AxesSubplot:>"
      ]
     },
     "execution_count": 13,
     "metadata": {},
     "output_type": "execute_result"
    },
    {
     "data": {
      "image/png": "[encoded data removed]",
      "text/plain": [
       "<Figure size 432x288 with 1 Axes>"
      ]
     },
     "metadata": {
      "needs_background": "light"
     },
     "output_type": "display_data"
    }
   ],
   "source": [
    "df1_strong_atten.groupby(by=['pdbid','head'], as_index=False).agg(len) ['tcr'].plot.bar()"
   ]
  },
  {
   "cell_type": "code",
   "execution_count": 14,
   "id": "e72b0157",
   "metadata": {},
   "outputs": [
    {
     "data": {
      "text/plain": [
       "<AxesSubplot:>"
      ]
     },
     "execution_count": 14,
     "metadata": {},
     "output_type": "execute_result"
    },
    {
     "data": {
      "image/png": "[encoded data removed]",
      "text/plain": [
       "<Figure size 432x288 with 1 Axes>"
      ]
     },
     "metadata": {
      "needs_background": "light"
     },
     "output_type": "display_data"
    }
   ],
   "source": [
    "df2_strong_atten.groupby(by=['pdbid','head'], as_index=False).agg(len) ['peptide'].plot.bar()"
   ]
  },
  {
   "cell_type": "markdown",
   "id": "5201d635",
   "metadata": {},
   "source": [
    "# How many items are left from 80 ?"
   ]
  },
  {
   "cell_type": "code",
   "execution_count": 15,
   "id": "0367fdda",
   "metadata": {},
   "outputs": [
    {
     "data": {
      "text/plain": [
       "(124, 129)"
      ]
     },
     "execution_count": 15,
     "metadata": {},
     "output_type": "execute_result"
    }
   ],
   "source": [
    "pd.read_csv('/Users/kyoheikoyama/Downloads/sceptre_result_v2.csv').shape"
   ]
  },
  {
   "cell_type": "code",
   "execution_count": 16,
   "id": "5e6683ff",
   "metadata": {},
   "outputs": [
    {
     "data": {
      "text/plain": [
       "55"
      ]
     },
     "execution_count": 16,
     "metadata": {},
     "output_type": "execute_result"
    }
   ],
   "source": [
    "len(DICT_PDBID_2_model_out.keys())"
   ]
  },
  {
   "cell_type": "code",
   "execution_count": 17,
   "id": "cb5229e4",
   "metadata": {},
   "outputs": [
    {
     "ename": "NameError",
     "evalue": "name 'unique_pdbid_list' is not defined",
     "output_type": "error",
     "traceback": [
      "\u001b[0;31m---------------------------------------------------------------------------\u001b[0m",
      "\u001b[0;31mNameError\u001b[0m                                 Traceback (most recent call last)",
      "Input \u001b[0;32mIn [17]\u001b[0m, in \u001b[0;36m<cell line: 1>\u001b[0;34m()\u001b[0m\n\u001b[1;32m      1\u001b[0m df_cdrs_and_peps \u001b[38;5;241m=\u001b[39m pd\u001b[38;5;241m.\u001b[39mDataFrame([\u001b[38;5;28mtuple\u001b[39m([DICT_PDBID_2_Atten12[p][\u001b[38;5;241m0\u001b[39m][\u001b[38;5;241m0\u001b[39m]\u001b[38;5;241m.\u001b[39mindex\u001b[38;5;241m.\u001b[39mtolist() \u001b[38;5;241m+\u001b[39m DICT_PDBID_2_Atten12[p][\u001b[38;5;241m0\u001b[39m][\u001b[38;5;241m0\u001b[39m]\u001b[38;5;241m.\u001b[39mcolumns\u001b[38;5;241m.\u001b[39mtolist()])\n\u001b[0;32m----> 2\u001b[0m                                     \u001b[38;5;28;01mfor\u001b[39;00m p \u001b[38;5;129;01min\u001b[39;00m \u001b[43munique_pdbid_list\u001b[49m], columns\u001b[38;5;241m=\u001b[39m[\u001b[38;5;124m'\u001b[39m\u001b[38;5;124mpairs\u001b[39m\u001b[38;5;124m'\u001b[39m], index\u001b[38;5;241m=\u001b[39munique_pdbid_list)[\u001b[38;5;124m'\u001b[39m\u001b[38;5;124mpairs\u001b[39m\u001b[38;5;124m'\u001b[39m]\u001b[38;5;241m.\u001b[39mapply(\u001b[38;5;28mtuple\u001b[39m)\n\u001b[1;32m      3\u001b[0m unique_pdbid_list \u001b[38;5;241m=\u001b[39m df_cdrs_and_peps\u001b[38;5;241m.\u001b[39mdrop_duplicates()\u001b[38;5;241m.\u001b[39mindex\n",
      "\u001b[0;31mNameError\u001b[0m: name 'unique_pdbid_list' is not defined"
     ]
    }
   ],
   "source": [
    "df_cdrs_and_peps = pd.DataFrame([tuple([DICT_PDBID_2_Atten12[p][0][0].index.tolist() + DICT_PDBID_2_Atten12[p][0][0].columns.tolist()])\n",
    "                                    for p in unique_pdbid_list], columns=['pairs'], index=unique_pdbid_list)['pairs'].apply(tuple)\n",
    "unique_pdbid_list = df_cdrs_and_peps.drop_duplicates().index\n"
   ]
  },
  {
   "cell_type": "code",
   "execution_count": null,
   "id": "fdd86e39",
   "metadata": {},
   "outputs": [],
   "source": [
    "givenPEP_distributedTCR_by_head, givenTCR_distributedPEP_by_head =\\\n",
    "    get_attention_and_hhb_relationship(strong_atten=False, std_thh=10**20)\n"
   ]
  },
  {
   "cell_type": "code",
   "execution_count": null,
   "id": "5004c765",
   "metadata": {},
   "outputs": [],
   "source": [
    "pd.concat(givenTCR_distributedPEP_by_head[0]).pdbid.unique()"
   ]
  },
  {
   "cell_type": "markdown",
   "id": "f11e6685",
   "metadata": {},
   "source": [
    "# Why did you choose head0? -> No, heads are dealt equally."
   ]
  },
  {
   "cell_type": "code",
   "execution_count": null,
   "id": "8202b3ce",
   "metadata": {},
   "outputs": [],
   "source": [
    "stdthh = 5.5 #3.5\n",
    "# stdthh = 3.5 #3.5\n",
    "\n",
    "givenPEP_distributedTCR_by_head_large, givenTCR_distributedPEP_by_head_large =\\\n",
    "    get_attention_and_hhb_relationship(strong_atten=True, std_thh=stdthh)\n",
    "\n",
    "givenPEP_distributedTCR_by_head, givenTCR_distributedPEP_by_head =\\\n",
    "    get_attention_and_hhb_relationship(strong_atten=False, std_thh=stdthh)\n",
    "\n",
    "df1_strong_atten = pd.concat(flatten([givenPEP_distributedTCR_by_head_large[hi] for hi in range(4)])) \n",
    "df2_strong_atten = pd.concat(flatten([givenTCR_distributedPEP_by_head_large[hi] for hi in range(4)]))\n",
    "df1_normal_atten = pd.concat(flatten([givenPEP_distributedTCR_by_head[hi] for hi in range(4)])) \n",
    "df2_normal_atten = pd.concat(flatten([givenTCR_distributedPEP_by_head[hi] for hi in range(4)]))\n",
    "\n",
    "df1_strong_atten = df1_strong_atten.query('pdbid in @NEEDED_PDBIDS')\n",
    "df1_normal_atten = df1_normal_atten.query('pdbid in @NEEDED_PDBIDS')\n",
    "df2_strong_atten = df2_strong_atten.query('pdbid in @NEEDED_PDBIDS')\n",
    "df2_normal_atten = df2_normal_atten.query('pdbid in @NEEDED_PDBIDS')\n",
    "\n",
    "df1_large_atten_of_pdbHeadTP = df1_strong_atten[['pdbid','head', 'tcr']].apply(tuple, axis=1)\n",
    "df2_large_atten_of_pdbHeadTP = df2_strong_atten[['pdbid','head', 'peptide']].apply(tuple, axis=1)\n",
    "\n",
    "df1_strong_atten = df1_strong_atten.sort_values(by='value_y').drop_duplicates(subset=['pdbid','head', 'tcr'], keep='last')\n",
    "df1_normal_atten = df1_normal_atten.sort_values(by='value_y').drop_duplicates(subset=['pdbid','head', 'tcr'], keep='last')\n",
    "df2_strong_atten = df2_strong_atten.sort_values(by='value_y').drop_duplicates(subset=['pdbid','head', 'peptide'], keep='last')\n",
    "df2_normal_atten = df2_normal_atten.sort_values(by='value_y').drop_duplicates(subset=['pdbid','head', 'peptide'], keep='last')\n",
    "\n",
    "df1_normal_atten = df1_normal_atten[\n",
    "    ~(df1_normal_atten[['pdbid','head', 'tcr']].apply(tuple, axis=1).isin(df1_large_atten_of_pdbHeadTP))]\n",
    "df2_normal_atten = df2_normal_atten[\n",
    "    ~(df2_normal_atten[['pdbid','head', 'peptide']].apply(tuple, axis=1).isin(df2_large_atten_of_pdbHeadTP))]\n",
    "\n"
   ]
  },
  {
   "cell_type": "code",
   "execution_count": null,
   "id": "3a114108",
   "metadata": {},
   "outputs": [],
   "source": [
    "df1_strong_atten['head'].value_counts(), df2_strong_atten['head'].value_counts()"
   ]
  },
  {
   "cell_type": "code",
   "execution_count": null,
   "id": "1f095b46",
   "metadata": {},
   "outputs": [],
   "source": [
    "for hi in range(4):\n",
    "    v = pd.concat([df1_strong_atten, df1_normal_atten]).query('head==@hi')['value_y'].var()\n",
    "    m = pd.concat([df1_strong_atten, df1_normal_atten]).query('head==@hi')['value_y'].mean()\n",
    "    print(hi, v, m)"
   ]
  },
  {
   "cell_type": "code",
   "execution_count": null,
   "id": "bdff88f8",
   "metadata": {},
   "outputs": [],
   "source": [
    "# for hi in range(4):\n",
    "#     m = pd.concat([df1_strong_atten, df1_normal_atten]).groupby(['pdbid', 'head'], as_index=False)\\\n",
    "#     .agg(np.var).query('head==@hi')['value_y'].mean()\n",
    "#     print(hi, m)"
   ]
  },
  {
   "cell_type": "code",
   "execution_count": null,
   "id": "5b6a347b",
   "metadata": {
    "scrolled": true
   },
   "outputs": [],
   "source": [
    "# pd.concat([df1_strong_atten, df1_normal_atten]).groupby(['pdbid', 'head'], as_index=False)\\\n",
    "#     .agg(np.var).query('head==@hi') #['value_y']"
   ]
  },
  {
   "cell_type": "code",
   "execution_count": null,
   "id": "ef5feae6",
   "metadata": {},
   "outputs": [],
   "source": [
    "len(DICT_PDBID_2_Atten12.keys())"
   ]
  },
  {
   "cell_type": "code",
   "execution_count": null,
   "id": "c93a2fad",
   "metadata": {},
   "outputs": [],
   "source": [
    "pdbid_list_55 = sorted(['2VLK', '2ICW', '5WKF', '2VLJ', '3PQY', '4MJI', '4P2Q', '2YPL', '5BRZ',\n",
    "               '6RPB', '1J8H', '4P2R', '5MEN', '3MV8', '4OZF', '3VXR', '3VXS', '4OZG',\n",
    "               '3MV9', '5TEZ', '2J8U', '6Q3S', '4JRX', '5WLG', '3VXU', '1U3H', '4JRY',\n",
    "               '4Z7V', '2UWE', '1LP9', '3W0W', '6AVF', '2BNQ', '4JFE', '4JFD', '3QIU',\n",
    "               '6AVG', '2Z31', '2BNR', '5ISZ', '5KS9', '3MV7', '3MBE', '4OZH', '2NX5',\n",
    "               '5NHT', '4QOK', '5D2L', '1D9K', '1FYT', '4P2O', '5WKH', '6EQB', '2VLR',\n",
    "               '6EQA'])\n",
    "\n",
    "POSITIVE_PRED_IDS = [\n",
    "    k for k, v in DICT_PDBID_2_model_out.items()\n",
    "    if DICT_PDBID_2_model_out[k][-1] > 0.5\n",
    "]\n",
    "\n",
    "cdrs_and_peps = pd.DataFrame([tuple([DICT_PDBID_2_Atten12[p][0][0].index.tolist() + DICT_PDBID_2_Atten12[p][0][0].columns.tolist()])\n",
    "                                        for p in pdbid_list_55], columns=['pairs'], index=pdbid_list_55)['pairs'].apply(tuple)\n",
    "\n",
    "cdrs_and_peps"
   ]
  },
  {
   "cell_type": "code",
   "execution_count": null,
   "id": "92060a91",
   "metadata": {},
   "outputs": [],
   "source": [
    "print([k in pdbid_list_55 for k in POSITIVE_PRED_IDS])"
   ]
  },
  {
   "cell_type": "code",
   "execution_count": null,
   "id": "bef533b0",
   "metadata": {},
   "outputs": [],
   "source": [
    "a = cdrs_and_peps.loc[POSITIVE_PRED_IDS]\n",
    "b = cdrs_and_peps[~cdrs_and_peps.index.isin(POSITIVE_PRED_IDS)]"
   ]
  },
  {
   "cell_type": "code",
   "execution_count": null,
   "id": "d47532af",
   "metadata": {},
   "outputs": [],
   "source": [
    "a.drop_duplicates().shape, b.drop_duplicates().shape"
   ]
  },
  {
   "cell_type": "code",
   "execution_count": null,
   "id": "bd748ba0",
   "metadata": {},
   "outputs": [],
   "source": [
    "cdrs_and_peps.drop_duplicates().shape"
   ]
  },
  {
   "cell_type": "code",
   "execution_count": null,
   "id": "e7786d12",
   "metadata": {},
   "outputs": [],
   "source": [
    "cdrs_and_peps.loc[POSITIVE_PRED_IDS].drop_duplicates().shape"
   ]
  },
  {
   "cell_type": "code",
   "execution_count": null,
   "id": "08418ce9",
   "metadata": {
    "scrolled": true
   },
   "outputs": [],
   "source": [
    "POSITIVE_PRED_IDS"
   ]
  },
  {
   "cell_type": "code",
   "execution_count": null,
   "id": "ecc5163b",
   "metadata": {},
   "outputs": [],
   "source": [
    "cdrs_and_peps.sort_index()"
   ]
  },
  {
   "cell_type": "code",
   "execution_count": null,
   "id": "b719982e",
   "metadata": {},
   "outputs": [],
   "source": [
    "len(sorted(cdrs_and_peps.drop_duplicates().index.tolist()))"
   ]
  },
  {
   "cell_type": "code",
   "execution_count": null,
   "id": "63d8ed33",
   "metadata": {},
   "outputs": [],
   "source": [
    "print(sorted(cdrs_and_peps.drop_duplicates().index.tolist()))"
   ]
  },
  {
   "cell_type": "code",
   "execution_count": null,
   "id": "1fdfb4ac",
   "metadata": {},
   "outputs": [],
   "source": [
    "print(sorted(POSITIVE_PRED_IDS))"
   ]
  },
  {
   "cell_type": "code",
   "execution_count": null,
   "id": "0bf9cdc3",
   "metadata": {},
   "outputs": [],
   "source": [
    "NEEDED_PDBIDS"
   ]
  },
  {
   "cell_type": "code",
   "execution_count": null,
   "id": "879fbe19",
   "metadata": {},
   "outputs": [],
   "source": []
  }
 ],
 "metadata": {
  "kernelspec": {
   "display_name": "tcrpred",
   "language": "python",
   "name": "tcrpred"
  },
  "language_info": {
   "codemirror_mode": {
    "name": "ipython",
    "version": 3
   },
   "file_extension": ".py",
   "mimetype": "text/x-python",
   "name": "python",
   "nbconvert_exporter": "python",
   "pygments_lexer": "ipython3",
   "version": "3.8.3"
  },
  "toc": {
   "base_numbering": 1,
   "nav_menu": {},
   "number_sections": true,
   "sideBar": true,
   "skip_h1_title": false,
   "title_cell": "Table of Contents",
   "title_sidebar": "Contents",
   "toc_cell": false,
   "toc_position": {},
   "toc_section_display": true,
   "toc_window_display": true
  }
 },
 "nbformat": 4,
 "nbformat_minor": 5
}
