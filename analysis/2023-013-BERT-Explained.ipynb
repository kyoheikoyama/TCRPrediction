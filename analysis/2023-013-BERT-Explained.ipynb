{
 "cells": [
  {
   "cell_type": "code",
   "execution_count": 7,
   "id": "37490436",
   "metadata": {},
   "outputs": [],
   "source": [
    "import pandas as pd\n",
    "import  matplotlib.pyplot as plt\n",
    "import numpy as np"
   ]
  },
  {
   "cell_type": "markdown",
   "id": "e61df26d",
   "metadata": {},
   "source": [
    "# Example BERT Colab\n",
    "\n",
    "https://colab.research.google.com/drive/18DrhYyXQefokP1MoqgWvlgPtOnlIUWet?usp=sharing\n"
   ]
  },
  {
   "cell_type": "code",
   "execution_count": 31,
   "id": "f21997d9",
   "metadata": {},
   "outputs": [],
   "source": [
    "attention_bert = np.array([[3.2452e-02, 3.3556e-02, 2.6838e-02, 3.0138e-02, 1.5924e-02, 2.2516e-02,\n",
    "         2.6740e-02, 7.5193e-02, 3.4007e-02, 1.7981e-02, 3.8140e-02, 3.4660e-02,\n",
    "         3.3482e-02, 1.6023e-02, 2.2665e-02, 2.5184e-02, 7.9031e-02, 3.1851e-02,\n",
    "         1.6198e-02, 1.5942e-01, 1.7947e-02, 1.1232e-02, 2.1799e-02, 2.1265e-02,\n",
    "         1.9040e-02, 1.2389e-02, 2.6962e-02, 1.4276e-02, 8.3093e-02],\n",
    "        [1.2620e-02, 1.3214e-02, 4.9008e-02, 4.5310e-02, 9.4430e-02, 5.3830e-02,\n",
    "         4.5434e-02, 1.7970e-02, 4.4488e-02, 9.0671e-02, 1.6084e-02, 4.6502e-02,\n",
    "         4.3896e-02, 9.9858e-02, 5.8760e-02, 5.0497e-02, 1.9213e-02, 4.8390e-02,\n",
    "         1.1726e-01, 1.9331e-02, 1.1473e-03, 2.1994e-03, 1.8056e-03, 1.2981e-03,\n",
    "         1.2333e-03, 2.5614e-03, 9.4619e-04, 1.4370e-03, 6.0327e-04],\n",
    "        [4.4275e-03, 1.3259e-02, 3.5849e-02, 4.7097e-02, 9.7738e-02, 4.4021e-02,\n",
    "         6.0487e-02, 2.2187e-02, 4.2968e-02, 9.7732e-02, 1.5401e-02, 3.6121e-02,\n",
    "         4.6803e-02, 9.5701e-02, 4.7848e-02, 7.1154e-02, 2.5927e-02, 5.0118e-02,\n",
    "         1.2361e-01, 1.6717e-02, 5.4841e-04, 5.8412e-04, 4.2095e-04, 3.8358e-04,\n",
    "         9.5399e-04, 9.5992e-04, 2.7880e-04, 5.4853e-04, 1.5375e-04],\n",
    "        [9.8609e-03, 2.7546e-02, 5.1340e-02, 3.2822e-02, 8.5833e-02, 3.9852e-02,\n",
    "         7.0924e-02, 3.3589e-02, 3.5246e-02, 8.9745e-02, 3.0917e-02, 5.5321e-02,\n",
    "         3.3774e-02, 8.8073e-02, 4.3867e-02, 7.9826e-02, 3.6230e-02, 3.3462e-02,\n",
    "         1.0068e-01, 1.7863e-02, 3.6923e-04, 3.5233e-04, 4.4709e-04, 2.0070e-04,\n",
    "         3.6186e-04, 6.5174e-04, 3.0690e-04, 4.2358e-04, 1.1175e-04],\n",
    "        [4.7424e-03, 2.3293e-02, 4.8415e-02, 4.4765e-02, 8.6392e-02, 4.4605e-02,\n",
    "         5.3556e-02, 2.7592e-02, 4.4515e-02, 8.7697e-02, 2.7694e-02, 4.9535e-02,\n",
    "         4.3632e-02, 8.8742e-02, 4.6594e-02, 5.9334e-02, 3.3852e-02, 4.7594e-02,\n",
    "         1.0750e-01, 2.6205e-02, 3.3369e-04, 4.6617e-04, 4.8006e-04, 3.0309e-04,\n",
    "         5.1392e-04, 7.9892e-04, 2.5324e-04, 4.0572e-04, 1.9078e-04],\n",
    "        [1.2261e-02, 2.1149e-02, 5.0249e-02, 4.7389e-02, 7.4306e-02, 3.5836e-02,\n",
    "         6.4640e-02, 4.2859e-02, 4.7354e-02, 8.0924e-02, 2.2847e-02, 5.3680e-02,\n",
    "         4.8621e-02, 7.7540e-02, 3.7726e-02, 6.6497e-02, 5.2148e-02, 4.9825e-02,\n",
    "         8.9159e-02, 1.7038e-02, 6.4501e-04, 1.0543e-03, 1.1632e-03, 8.1256e-04,\n",
    "         1.0314e-03, 1.1546e-03, 5.9929e-04, 1.1588e-03, 3.3458e-04],\n",
    "        [1.9282e-02, 3.8258e-02, 3.9657e-02, 4.4850e-02, 9.0301e-02, 4.1708e-02,\n",
    "         2.8817e-02, 5.5672e-02, 4.3274e-02, 9.0699e-02, 4.2272e-02, 3.8632e-02,\n",
    "         4.1599e-02, 8.3906e-02, 4.0342e-02, 2.7555e-02, 5.9208e-02, 4.1561e-02,\n",
    "         9.6039e-02, 3.1187e-02, 5.0493e-04, 8.4630e-04, 6.0921e-04, 5.1106e-04,\n",
    "         6.4960e-04, 7.8164e-04, 4.8030e-04, 3.6462e-04, 4.3586e-04],\n",
    "        [2.7772e-02, 3.3387e-02, 4.4350e-02, 3.7349e-02, 9.6873e-02, 6.4381e-02,\n",
    "         6.5049e-02, 3.1356e-02, 3.5072e-02, 8.9840e-02, 3.3140e-02, 4.2267e-02,\n",
    "         2.9893e-02, 7.7206e-02, 5.3997e-02, 5.4787e-02, 2.9112e-02, 2.8438e-02,\n",
    "         7.9459e-02, 3.4162e-02, 1.0423e-03, 1.4850e-03, 1.1700e-03, 7.2149e-04,\n",
    "         1.7977e-03, 2.6065e-03, 9.8219e-04, 1.3544e-03, 9.4812e-04],\n",
    "        [9.7416e-03, 2.8190e-02, 5.2049e-02, 3.7786e-02, 9.1905e-02, 4.0807e-02,\n",
    "         7.7034e-02, 3.6977e-02, 3.8009e-02, 9.0988e-02, 2.8515e-02, 5.0749e-02,\n",
    "         3.4531e-02, 8.2931e-02, 4.0813e-02, 7.6046e-02, 3.5422e-02, 3.3471e-02,\n",
    "         9.2385e-02, 1.8515e-02, 3.5120e-04, 3.3994e-04, 4.1288e-04, 2.0714e-04,\n",
    "         3.7803e-04, 5.8203e-04, 3.1085e-04, 4.2792e-04, 1.2548e-04],\n",
    "        [5.3394e-03, 2.4313e-02, 5.4907e-02, 4.8396e-02, 8.7488e-02, 4.3877e-02,\n",
    "         5.9047e-02, 3.6599e-02, 4.6611e-02, 8.3462e-02, 2.7466e-02, 5.1810e-02,\n",
    "         4.4564e-02, 8.2067e-02, 4.2004e-02, 6.0818e-02, 4.0599e-02, 4.5761e-02,\n",
    "         9.0298e-02, 2.1031e-02, 3.3953e-04, 4.1472e-04, 4.8103e-04, 2.9681e-04,\n",
    "         5.0476e-04, 6.6232e-04, 2.7481e-04, 4.0804e-04, 1.5878e-04],\n",
    "        [1.0564e-02, 1.5361e-02, 5.2920e-02, 5.3229e-02, 1.0230e-01, 5.6010e-02,\n",
    "         5.3598e-02, 2.0160e-02, 4.8035e-02, 9.5484e-02, 1.5418e-02, 4.2099e-02,\n",
    "         4.3970e-02, 9.3407e-02, 5.4822e-02, 5.0089e-02, 1.8208e-02, 4.6611e-02,\n",
    "         1.0558e-01, 1.3579e-02, 6.5715e-04, 1.3575e-03, 1.1183e-03, 8.6670e-04,\n",
    "         7.8228e-04, 1.7435e-03, 6.7151e-04, 1.0297e-03, 3.2777e-04],\n",
    "        [4.8138e-03, 1.4496e-02, 3.9464e-02, 5.2159e-02, 1.0637e-01, 4.8121e-02,\n",
    "         6.2611e-02, 2.8017e-02, 4.4165e-02, 1.0106e-01, 1.4631e-02, 3.4002e-02,\n",
    "         4.4574e-02, 9.0989e-02, 4.7673e-02, 6.4947e-02, 2.8424e-02, 4.6102e-02,\n",
    "         1.1087e-01, 1.2710e-02, 3.8871e-04, 4.5406e-04, 3.3648e-04, 3.0953e-04,\n",
    "         7.9622e-04, 7.3769e-04, 2.3899e-04, 4.2589e-04, 1.0886e-04],\n",
    "        [9.3969e-03, 3.2231e-02, 5.5012e-02, 3.5338e-02, 1.0218e-01, 4.2239e-02,\n",
    "         7.2465e-02, 3.6005e-02, 3.4678e-02, 9.8740e-02, 3.1676e-02, 5.0861e-02,\n",
    "         2.9302e-02, 8.6274e-02, 4.0931e-02, 6.8291e-02, 3.2991e-02, 2.8427e-02,\n",
    "         9.4362e-02, 1.6235e-02, 2.5941e-04, 2.6714e-04, 3.3288e-04, 1.4248e-04,\n",
    "         2.9397e-04, 4.5664e-04, 2.2930e-04, 2.9979e-04, 8.7048e-05],\n",
    "        [3.7813e-03, 2.2420e-02, 5.1234e-02, 4.8009e-02, 1.0072e-01, 4.6728e-02,\n",
    "         5.0583e-02, 2.8709e-02, 4.5464e-02, 9.9421e-02, 2.4803e-02, 4.8774e-02,\n",
    "         4.1871e-02, 8.9755e-02, 4.5349e-02, 5.0813e-02, 3.2761e-02, 4.4637e-02,\n",
    "         1.0543e-01, 1.6049e-02, 2.5341e-04, 3.5038e-04, 3.5757e-04, 2.2096e-04,\n",
    "         4.1857e-04, 5.5699e-04, 1.8605e-04, 2.6031e-04, 9.3506e-05],\n",
    "        [9.0276e-03, 2.0558e-02, 5.8577e-02, 4.6659e-02, 7.6531e-02, 3.8029e-02,\n",
    "         6.3472e-02, 4.4690e-02, 4.6390e-02, 8.3405e-02, 2.1880e-02, 6.2677e-02,\n",
    "         4.7932e-02, 7.7282e-02, 3.8494e-02, 6.3500e-02, 5.3300e-02, 4.7066e-02,\n",
    "         8.4086e-02, 1.1835e-02, 3.9604e-04, 5.8514e-04, 7.9507e-04, 4.5267e-04,\n",
    "         6.2332e-04, 6.4295e-04, 3.4363e-04, 6.2861e-04, 1.4074e-04],\n",
    "        [1.5370e-02, 3.6779e-02, 4.1433e-02, 4.5128e-02, 9.6409e-02, 4.1075e-02,\n",
    "         2.6108e-02, 6.3068e-02, 4.3698e-02, 9.8589e-02, 3.9373e-02, 3.9885e-02,\n",
    "         4.0737e-02, 8.5294e-02, 3.8324e-02, 2.3195e-02, 6.2441e-02, 3.9804e-02,\n",
    "         9.5566e-02, 2.4239e-02, 3.6899e-04, 5.8348e-04, 4.4496e-04, 3.4006e-04,\n",
    "         4.7823e-04, 4.6724e-04, 3.4697e-04, 2.1255e-04, 2.4013e-04],\n",
    "        [2.0461e-02, 2.9114e-02, 4.3404e-02, 4.0549e-02, 1.0647e-01, 6.6246e-02,\n",
    "         6.0513e-02, 3.3379e-02, 3.7713e-02, 9.9589e-02, 2.7657e-02, 3.9958e-02,\n",
    "         3.0970e-02, 8.2447e-02, 5.6257e-02, 4.8771e-02, 2.8756e-02, 2.9500e-02,\n",
    "         8.4399e-02, 2.6515e-02, 7.3145e-04, 9.1283e-04, 7.2044e-04, 4.6067e-04,\n",
    "         1.1696e-03, 1.5392e-03, 6.1573e-04, 7.3310e-04, 4.5452e-04],\n",
    "        [6.6934e-03, 2.8165e-02, 5.4893e-02, 3.7463e-02, 9.8060e-02, 4.2459e-02,\n",
    "         6.9567e-02, 3.8709e-02, 3.7905e-02, 9.7165e-02, 2.8553e-02, 5.2977e-02,\n",
    "         3.2550e-02, 8.7127e-02, 4.3057e-02, 6.7717e-02, 3.6057e-02, 3.1509e-02,\n",
    "         9.3562e-02, 1.3867e-02, 2.3745e-04, 2.0610e-04, 2.8574e-04, 1.2511e-04,\n",
    "         2.3883e-04, 3.6569e-04, 1.9591e-04, 2.3273e-04, 5.7498e-05],\n",
    "        [3.2899e-03, 2.3328e-02, 5.0666e-02, 5.0765e-02, 8.5676e-02, 4.3990e-02,\n",
    "         5.1364e-02, 3.8917e-02, 5.0294e-02, 8.8173e-02, 2.7446e-02, 5.0570e-02,\n",
    "         4.7820e-02, 8.2221e-02, 4.4906e-02, 5.5415e-02, 4.6572e-02, 5.0574e-02,\n",
    "         9.2834e-02, 1.3242e-02, 1.9692e-04, 2.2273e-04, 2.7747e-04, 1.8206e-04,\n",
    "         2.8524e-04, 3.6573e-04, 1.5487e-04, 1.9670e-04, 5.4667e-05],\n",
    "        [3.6723e-02, 3.7785e-02, 4.5215e-02, 4.4350e-02, 4.1560e-02, 3.9781e-02,\n",
    "         6.1823e-02, 6.0960e-02, 5.0468e-02, 4.7623e-02, 4.5784e-02, 5.1846e-02,\n",
    "         5.0922e-02, 4.1229e-02, 4.2492e-02, 6.6474e-02, 6.2584e-02, 4.8922e-02,\n",
    "         4.8900e-02, 6.4545e-02, 1.0969e-03, 7.6101e-04, 1.4532e-03, 1.1327e-03,\n",
    "         9.9345e-04, 8.7115e-04, 1.1091e-03, 1.1875e-03, 1.4089e-03],\n",
    "        [2.5323e-02, 5.4047e-03, 5.1261e-03, 5.2126e-03, 9.5258e-03, 5.9076e-03,\n",
    "         5.3900e-03, 7.4036e-03, 5.3653e-03, 8.7510e-03, 5.0823e-03, 5.2034e-03,\n",
    "         4.9723e-03, 8.8968e-03, 5.2915e-03, 4.4134e-03, 6.1041e-03, 4.5254e-03,\n",
    "         7.2050e-03, 3.8008e-03, 8.8970e-02, 1.9456e-01, 7.0923e-02, 8.2808e-02,\n",
    "         1.0242e-01, 9.2336e-02, 8.2404e-02, 8.1868e-02, 6.4805e-02],\n",
    "        [1.5833e-02, 2.7533e-03, 2.8446e-03, 3.1474e-03, 7.4600e-03, 5.0490e-03,\n",
    "         3.0650e-03, 3.5349e-03, 3.1316e-03, 6.3138e-03, 2.5406e-03, 2.6656e-03,\n",
    "         2.5048e-03, 6.1882e-03, 4.0941e-03, 2.5154e-03, 2.9470e-03, 2.4268e-03,\n",
    "         4.9813e-03, 2.4365e-03, 8.7163e-02, 2.2045e-01, 5.4013e-02, 6.7925e-02,\n",
    "         1.4071e-01, 1.3475e-01, 7.6135e-02, 7.0121e-02, 6.2292e-02],\n",
    "        [2.4001e-02, 4.6079e-03, 6.2974e-03, 9.2827e-03, 2.1738e-02, 1.3800e-02,\n",
    "         9.9340e-03, 8.2208e-03, 8.1576e-03, 1.8721e-02, 3.9674e-03, 5.6811e-03,\n",
    "         7.7700e-03, 1.7665e-02, 1.1625e-02, 8.8446e-03, 6.8094e-03, 7.2940e-03,\n",
    "         1.5416e-02, 3.7484e-03, 7.5628e-02, 1.7369e-01, 3.7071e-02, 5.9984e-02,\n",
    "         1.6181e-01, 1.1947e-01, 5.6527e-02, 6.8790e-02, 3.3453e-02],\n",
    "        [5.3989e-02, 8.2112e-03, 7.8157e-03, 5.3591e-03, 1.6285e-02, 1.0699e-02,\n",
    "         9.5633e-03, 1.0898e-02, 5.5176e-03, 1.4291e-02, 6.7274e-03, 7.5331e-03,\n",
    "         4.4259e-03, 1.3205e-02, 8.6779e-03, 7.4813e-03, 7.7695e-03, 3.7930e-03,\n",
    "         9.9893e-03, 4.8414e-03, 8.2114e-02, 1.6391e-01, 6.0456e-02, 4.5122e-02,\n",
    "         9.4416e-02, 1.1139e-01, 9.7243e-02, 7.6162e-02, 5.2109e-02],\n",
    "        [2.2912e-02, 6.7571e-03, 4.4891e-03, 4.0465e-03, 1.0143e-02, 6.5967e-03,\n",
    "         5.1667e-03, 4.5804e-03, 4.4383e-03, 9.7302e-03, 5.9044e-03, 4.5517e-03,\n",
    "         3.8493e-03, 9.5457e-03, 5.8292e-03, 4.4334e-03, 4.0188e-03, 3.6000e-03,\n",
    "         8.1714e-03, 4.0152e-03, 1.0322e-01, 2.2329e-01, 5.8219e-02, 6.4573e-02,\n",
    "         9.0997e-02, 1.0516e-01, 8.2644e-02, 7.8568e-02, 6.0551e-02],\n",
    "        [4.4569e-02, 8.4635e-03, 8.8145e-03, 9.0120e-03, 1.1488e-02, 1.0187e-02,\n",
    "         9.4036e-03, 1.1972e-02, 9.4988e-03, 1.2087e-02, 8.1329e-03, 9.1904e-03,\n",
    "         9.1798e-03, 1.1749e-02, 9.7406e-03, 7.9879e-03, 1.0573e-02, 8.1300e-03,\n",
    "         9.1377e-03, 3.3551e-03, 9.5092e-02, 1.4801e-01, 7.6629e-02, 8.8618e-02,\n",
    "         9.1738e-02, 5.8026e-02, 9.3556e-02, 8.7750e-02, 3.7905e-02],\n",
    "        [3.3304e-02, 4.3224e-03, 3.2513e-03, 3.2226e-03, 9.2677e-03, 5.1492e-03,\n",
    "         3.8264e-03, 5.1436e-03, 3.3047e-03, 8.1302e-03, 3.5984e-03, 3.1583e-03,\n",
    "         2.6749e-03, 7.3794e-03, 4.2064e-03, 3.0293e-03, 3.6044e-03, 2.2904e-03,\n",
    "         5.6254e-03, 2.3855e-03, 9.0716e-02, 2.3090e-01, 5.6618e-02, 6.5959e-02,\n",
    "         1.2669e-01, 1.0723e-01, 7.6023e-02, 7.1970e-02, 5.7019e-02],\n",
    "        [5.3941e-02, 6.7794e-03, 4.4093e-03, 5.1004e-03, 1.2133e-02, 8.2377e-03,\n",
    "         2.4982e-03, 1.2015e-02, 4.9778e-03, 1.0868e-02, 6.2162e-03, 4.3248e-03,\n",
    "         4.3177e-03, 9.8034e-03, 6.4778e-03, 1.9368e-03, 9.9306e-03, 3.8405e-03,\n",
    "         7.8145e-03, 4.5727e-03, 8.0939e-02, 2.2937e-01, 5.2605e-02, 7.0448e-02,\n",
    "         9.9101e-02, 8.5240e-02, 8.9608e-02, 3.4537e-02, 7.7956e-02],\n",
    "        [6.5827e-02, 3.0706e-03, 1.9338e-03, 1.9131e-03, 2.2386e-03, 3.1504e-03,\n",
    "         2.0394e-03, 4.9150e-03, 2.1830e-03, 2.2173e-03, 3.1786e-03, 2.2397e-03,\n",
    "         2.0267e-03, 1.9955e-03, 2.6952e-03, 1.8144e-03, 4.0860e-03, 1.7435e-03,\n",
    "         1.6549e-03, 5.2488e-03, 8.2983e-02, 1.2857e-01, 6.7422e-02, 8.6597e-02,\n",
    "         8.0753e-02, 5.7484e-02, 1.1173e-01, 6.6615e-02, 2.0167e-01]])"
   ]
  },
  {
   "cell_type": "code",
   "execution_count": 33,
   "id": "13f8b56d",
   "metadata": {},
   "outputs": [
    {
     "data": {
      "text/plain": [
       "((28, 28), 19)"
      ]
     },
     "execution_count": 33,
     "metadata": {},
     "output_type": "execute_result"
    }
   ],
   "source": [
    "attention_bert[1:,1:].shape, len(list('CAALVF:CAASVF|GILGF'))"
   ]
  },
  {
   "cell_type": "code",
   "execution_count": 42,
   "id": "3aaa558f",
   "metadata": {},
   "outputs": [
    {
     "data": {
      "image/png": "[encoded data removed]",
      "text/plain": [
       "<Figure size 720x720 with 1 Axes>"
      ]
     },
     "metadata": {
      "needs_background": "light"
     },
     "output_type": "display_data"
    }
   ],
   "source": [
    "plt.figure(figsize=(10,10))\n",
    "plt.imshow(attention_bert[1:-1,1:-1])\n",
    "xlabels = list('GILGFVFTL:CAASFKLVF&GILGFVF')\n",
    "_ = plt.xticks(ticks=range(len(xlabels)), labels=xlabels)\n",
    "_ = plt.yticks(ticks=range(len(xlabels)), labels=xlabels)"
   ]
  },
  {
   "cell_type": "code",
   "execution_count": null,
   "id": "cef37e99",
   "metadata": {},
   "outputs": [],
   "source": []
  }
 ],
 "metadata": {
  "kernelspec": {
   "display_name": "tcrpred",
   "language": "python",
   "name": "tcrpred"
  },
  "language_info": {
   "codemirror_mode": {
    "name": "ipython",
    "version": 3
   },
   "file_extension": ".py",
   "mimetype": "text/x-python",
   "name": "python",
   "nbconvert_exporter": "python",
   "pygments_lexer": "ipython3",
   "version": "3.8.3"
  },
  "toc": {
   "base_numbering": 1,
   "nav_menu": {},
   "number_sections": true,
   "sideBar": true,
   "skip_h1_title": false,
   "title_cell": "Table of Contents",
   "title_sidebar": "Contents",
   "toc_cell": false,
   "toc_position": {},
   "toc_section_display": true,
   "toc_window_display": false
  }
 },
 "nbformat": 4,
 "nbformat_minor": 5
}
