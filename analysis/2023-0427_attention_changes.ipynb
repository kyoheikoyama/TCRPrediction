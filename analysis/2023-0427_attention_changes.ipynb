{
 "cells": [
  {
   "cell_type": "code",
   "execution_count": 1,
   "id": "35e13722",
   "metadata": {},
   "outputs": [],
   "source": [
    "import plotly.express as px\n",
    "\n",
    "import pandas as pd\n",
    "import numpy as np\n",
    "import os, sys, pickle, warnings, functools, pathlib, json\n",
    "from tqdm import tqdm\n",
    "from matplotlib import pyplot as plt\n",
    "\n",
    "from pathos.threading import ThreadPool\n",
    "import editdistance\n",
    "import multiprocess\n",
    "\n",
    "sys.path.append('../scripts/')\n",
    "from attention_extractor import get_attention_weights, TCRModel, Explain_TCRModel\n",
    "from analysis_util import get_mat_from_result_tuple\n",
    "\n",
    "# Ignite\n",
    "from analysis_util import get_mat_from_result_tuple\n",
    "from ignite.engine import Events, create_supervised_trainer\n",
    "from ignite.handlers import Checkpoint\n",
    "\n",
    "sys.path.append('../')\n",
    "sys.path.append('../..')\n",
    "\n",
    "from recipes.dataset import MCPASDataset\n",
    "\n",
    "import torch"
   ]
  },
  {
   "cell_type": "code",
   "execution_count": 2,
   "id": "2633f464",
   "metadata": {},
   "outputs": [],
   "source": [
    "def remove_UNK_and_take_subset(df_train):\n",
    "    df_nounk = df_train[df_train['tcra']!='UNK']\n",
    "    print(\"df_nounk.value_counts() \\n\\t \", df_nounk.sign.value_counts().to_dict())\n",
    "    print(\"df_nounk.drop_duplicates('tcrb') \\n\\t \", df_nounk.drop_duplicates('tcrb').sign.value_counts().to_dict())\n",
    "    return df_nounk\n",
    "\n",
    "@functools.lru_cache()\n",
    "def get_df(datapath):\n",
    "    return pd.DataFrame(pickle.load(open(datapath, \"rb\"))).assign(datapath=datapath)\n",
    "\n",
    "def get_df_from_path(p_list):\n",
    "    return pd.concat([get_df(d) for d in p_list]).reset_index(drop=True)\n",
    "\n",
    "def split_and_get_first(a):\n",
    "    if ',' in a:\n",
    "        a = a.split(',')[0]\n",
    "    return a\n",
    "\n",
    "\n",
    "\n",
    "def func_multithread(\n",
    "        xs,\n",
    "        func,\n",
    "        n_threads=os.cpu_count()-1\n",
    "):\n",
    "    pool = ThreadPool(nodes=n_threads)\n",
    "    params = xs #[(x, y) for x in xs for y in ys]\n",
    "    result = pool.map(lambda p: func(p), params)\n",
    "    return result"
   ]
  },
  {
   "cell_type": "markdown",
   "id": "907f9896",
   "metadata": {},
   "source": [
    "# Recover model"
   ]
  },
  {
   "cell_type": "code",
   "execution_count": 3,
   "id": "d1ffbde9",
   "metadata": {},
   "outputs": [
    {
     "name": "stdout",
     "output_type": "stream",
     "text": [
      "dt 20220211_191954\n",
      "KFOLD_I 3\n"
     ]
    }
   ],
   "source": [
    "MAXLENGTH_A, MAXLENGTH_B, max_len_epitope = 28, 28, 25\n",
    "\n",
    "KFOLD_I = 3\n",
    "\n",
    "def get_file_paths(bucket, dirname, feat_name, extension='.parquet'):\n",
    "    import boto3\n",
    "    dataroot = f\"s3://{bucket}/\"\n",
    "    objs = boto3.resource(\"s3\").Bucket(f\"{bucket}\").objects.filter(\n",
    "        Prefix=f\"{dirname}/{feat_name}\")\n",
    "    files = [obj.key for obj in objs\n",
    "             if not obj.key.startswith(f\"{dirname}.ipynb_checkpoints\") and obj.key.endswith(extension)]\n",
    "    files = [os.path.join(dataroot, f) for f in files]\n",
    "    return files\n",
    "\n",
    "\n",
    "FNAME ='../scripts/dir_kicker/logs/files_20220212_200237_alldata.csv'\n",
    "INTERGER_SELECTOR = 1\n",
    "logdf = pd.read_csv(FNAME)\n",
    "dt = logdf.checkp[INTERGER_SELECTOR].split('/')[-1]\n",
    "\n",
    "print('dt', dt)\n",
    "\n",
    "CHECKPOINT_DIR = f's3://sg-playground-kkoyama-temp/tcrpred/checkpoint/{dt}'\n",
    "OUT_DIR = '../../../tcr_attention_cachedir'\n",
    "\n",
    "PATH = f\"./fakedata_v0.parquet\"  # This is for torch.Dataset\n",
    "\n",
    "KFOLD_I = logdf.knum[INTERGER_SELECTOR].item()\n",
    "print('KFOLD_I', KFOLD_I)\n",
    "\n",
    "REPLACE_TUPLE = ('~/jupyter_notebook/user_work/tcrpred/scripts/../../hhyylog/', '../../../hhyylog/')\n",
    "checkpoint_files = get_file_paths('sg-playground-kkoyama-temp', 'tcrpred/checkpoint', '', '.pt')\n",
    "checkpoint_files_withdt = [f for f in checkpoint_files if f'_{dt}_' in f]\n",
    "\n",
    "CHECKPOINT_PATH = checkpoint_files_withdt[0].split('/')[-1]\n",
    "\n",
    "# os.system(f'''aws s3 sync {CHECKPOINT_DIR}/ ./../../../checkpoint/{dt}/''')\n",
    "# os.system(f'''aws s3 sync s3://sg-playground-kkoyama-temp/tcrpred/hhyylog/{dt}_results_attention_tra.pickle ./../../hhyylog/''')\n",
    "\n",
    "\n",
    "device = 'cpu'\n",
    "\n",
    "with open(f\"../hpo_params/optuna_best.json\", \"r\") as fp:\n",
    "    hparams = json.load(fp)\n",
    "\n",
    "# fix random seeds\n",
    "seed = 9\n",
    "np.random.seed(seed)\n",
    "os.environ[\"PYTHONHASHSEED\"] = str(seed)\n",
    "torch.manual_seed(seed)\n",
    "torch.cuda.manual_seed(seed)\n",
    "\n",
    "# parameters\n",
    "with open(f'../hpo_params/optuna_best.json', 'r') as fp:\n",
    "    hparams = json.load(fp)\n",
    "\n",
    "d_model, d_ff, n_head,n_local_encoder,n_global_encoder = hparams['d_model'], hparams['d_ff'], hparams['n_head'], hparams['n_local_encoder'], hparams['n_global_encoder']\n",
    "dropout=hparams['dropout']\n",
    "early_stopping_target = \"pr_auc_on_one\"\n",
    "batch_size = hparams['batch_size']\n",
    "lr=hparams['lr']\n",
    "\n",
    "n_tok = 29  # NUM_VOCAB\n",
    "n_pos1 = 62  # MAX_LEN_AB (sum of maxlens of a and b)\n",
    "n_pos2 = 26  # MAX_LEN_Epitope\n",
    "n_seg = 3\n",
    "\n",
    "'''Model, optim, trainer'''\n",
    "model = TCRModel(d_model=d_model, d_ff=d_ff, n_head=n_head, n_local_encoder=n_local_encoder, \n",
    "                 n_global_encoder=n_global_encoder, dropout=dropout, scope=4, \n",
    "                 n_tok=n_tok, n_pos1=n_pos1,\n",
    "                n_pos2=n_pos2, n_seg=n_seg,)\n",
    "\n",
    "explain_model = Explain_TCRModel(d_model=d_model, d_ff=d_ff, n_head=n_head, n_local_encoder=n_local_encoder, \n",
    "                                 n_global_encoder=n_global_encoder, dropout=dropout, scope=4, \n",
    "                                 n_tok=n_tok, n_pos1=n_pos1, n_pos2=n_pos2, n_seg=n_seg)\n",
    "explain_model.load_state_dict(model.state_dict(), strict=False)\n",
    "\n",
    "model.to(device)\n",
    "explain_model = explain_model.to(device)\n",
    "\n",
    "model = model.eval()\n",
    "explain_model = explain_model.eval()\n",
    "\n",
    "\n",
    "# Optimizer\n",
    "optim = torch.optim.Adam(model.parameters(), lr=lr)\n",
    "\n",
    "# Loss\n",
    "loss_fn = torch.nn.CrossEntropyLoss(weight=torch.tensor([1.0, 15.0], device=device))\n",
    "\n",
    "trainer = create_supervised_trainer(\n",
    "    model=model, optimizer=optim, loss_fn=loss_fn, device=device,\n",
    ")\n",
    "\n",
    "checkpoint_files = get_file_paths('sg-playground-kkoyama-temp', 'tcrpred/checkpoint', '', '.pt')\n",
    "checkpoint_files_withdt = [f for f in checkpoint_files if dt in f]\n",
    "CHECKPOINT_DIR = f's3://sg-playground-kkoyama-temp/tcrpred/checkpoint/{dt}'\n",
    "CHECKPOINT_PATH = checkpoint_files_withdt[0].split('/')[-1]\n",
    "\n",
    "## Get the prediction and the best model\n",
    "to_load = {'model': model, 'optimizer': optim, 'trainer': trainer}\n",
    "torch_check_point_local = '../../../checkpoint/'\n",
    "fro = os.path.join(CHECKPOINT_DIR, CHECKPOINT_PATH)\n",
    "if not os.path.exists(os.path.join(torch_check_point_local, CHECKPOINT_PATH)):\n",
    "    os.system(f'''aws s3 cp {fro} {torch_check_point_local}''')\n",
    "    \n",
    "checkpoint = torch.load(os.path.join(torch_check_point_local, CHECKPOINT_PATH), map_location=torch.device(device))\n",
    "checkpoint['trainer']['seed'] = 9\n",
    "\n",
    "Checkpoint.load_objects(to_load=to_load, checkpoint=checkpoint)\n"
   ]
  },
  {
   "cell_type": "markdown",
   "id": "edd26b2b",
   "metadata": {},
   "source": [
    "# Data"
   ]
  },
  {
   "cell_type": "code",
   "execution_count": 4,
   "id": "2d5d2bc7",
   "metadata": {
    "scrolled": true
   },
   "outputs": [
    {
     "name": "stdout",
     "output_type": "stream",
     "text": [
      "df_nounk.value_counts() \n",
      "\t  {0: 146088, 1: 29123}\n",
      "df_nounk.drop_duplicates('tcrb') \n",
      "\t  {0: 15387, 1: 3775}\n",
      "df_ergo.shape with no t-cell-type (175211, 14) -> (169015, 15)\n",
      "df_all.shape (170811, 7)\n"
     ]
    }
   ],
   "source": [
    "TCELLTYPE_MAP = {'MHCI':'CD8', 'MHCII':'CD4', 'CD4,CD8':'CD8', 'CD8':'CD8', 'CD4':'CD4'}\n",
    "\n",
    "RCOLS = ['tcra', 'tcrb', 't_cell','peptide', 'data_type', 'tcra:tcrb', 'sign']\n",
    "\n",
    "p_list = [\n",
    "    f\"../.././external_data/ERGO-II/Samples/vdjdb_train_samples.pickle\",\n",
    "    f\"../.././external_data/ERGO-II/Samples/mcpas_train_samples.pickle\", \n",
    "    \"../.././external_data/ERGO-II/Samples/vdjdb_test_samples.pickle\",\n",
    "    \"../.././external_data/ERGO-II/Samples/mcpas_test_samples.pickle\",\n",
    "         ]\n",
    "\n",
    "df_ergo = get_df_from_path(p_list)\n",
    "df_ergo = remove_UNK_and_take_subset(df_ergo)\n",
    "df_ergo['tcra:tcrb'] = df_ergo['tcra'] + ':' + df_ergo['tcrb']\n",
    "\n",
    "df_ergo['data_type'] = df_ergo.datapath.str.split('/').apply(lambda x: x[-1])\n",
    "\n",
    "print(\"df_ergo.shape with no t-cell-type\", df_ergo.shape, end=' -> ')\n",
    "df_ergo = df_ergo.dropna(subset=['t_cell_type'])\n",
    "df_ergo['t_cell'] = df_ergo['t_cell_type'].map(TCELLTYPE_MAP)\n",
    "print(df_ergo.shape, )\n",
    "\n",
    "jem_20211327_tables3 = pd.read_csv('../data/jem_20211327_tables3.csv')\n",
    "for c in ['CDR3.alpha', 'CDR3.beta', ]:\n",
    "    jem_20211327_tables3 = jem_20211327_tables3.dropna(subset=[c])\n",
    "jem_20211327_tables3['tcra:tcrb'] = jem_20211327_tables3['CDR3.alpha'] + ':' + jem_20211327_tables3['CDR3.beta']\n",
    "\n",
    "jem_20211327_tables3 = jem_20211327_tables3.rename(columns={'CDR3.alpha':'tcra','CDR3.beta':'tcrb'})\n",
    "\n",
    "jem_20211327_tables3['data_type'] = 'jem_20211327_tables3'\n",
    "\n",
    "jem_20211327_tables3['t_cell'] = 'CD4'\n",
    "jem_20211327_tables3['sign'] = np.nan\n",
    "jem_20211327_tables3['peptide'] = np.nan\n",
    "\n",
    "## df_all \n",
    "df_all = pd.concat([jem_20211327_tables3[RCOLS], df_ergo[RCOLS]])\n",
    "\n",
    "print(\"df_all.shape\", df_all.shape)"
   ]
  },
  {
   "cell_type": "code",
   "execution_count": 5,
   "id": "0255b08a",
   "metadata": {
    "scrolled": false
   },
   "outputs": [
    {
     "name": "stdout",
     "output_type": "stream",
     "text": [
      "df_all.shape with no duplicates (170811, 7) ->  (24088, 7)\n",
      "df_all.shape with sampled (24088, 7) ->  (24088, 7)\n"
     ]
    }
   ],
   "source": [
    "df_all.loc[df_all['tcra:tcrb'].duplicated()]\n",
    "\n",
    "print(\"df_all.shape with no duplicates\", df_all.shape, end=' -> ')\n",
    "df_all = df_all[~df_all['tcra:tcrb'].duplicated()] #.data_type.value_counts()\n",
    "\n",
    "print(\"\", df_all.shape, )\n",
    "\n",
    "\n",
    "print(\"df_all.shape with sampled\", df_all.shape, end=' -> ')\n",
    "\n",
    "df_all = pd.concat(\n",
    "    [df_all[df_all['data_type']=='vdjdb_train_samples.pickle'], # .sample(frac=0.6, random_state=0),\n",
    "     df_all[df_all['data_type']!='vdjdb_train_samples.pickle']\n",
    "    ])\n",
    "\n",
    "print(\"\", df_all.shape, )"
   ]
  },
  {
   "cell_type": "code",
   "execution_count": 6,
   "id": "e09cd0ab",
   "metadata": {},
   "outputs": [],
   "source": [
    "# df_all.to_parquet('s3://sg-playground-kkoyama-temp/tcrpred/vdjdb_seq_samples.parquet')"
   ]
  },
  {
   "cell_type": "code",
   "execution_count": 7,
   "id": "a1c9ea09",
   "metadata": {},
   "outputs": [],
   "source": [
    "DICT_DIS = {}\n",
    "\n",
    "def calcdis(s1,s2):\n",
    "    if (s1,s2) in DICT_DIS:\n",
    "        return DICT_DIS[(s1,s2)]\n",
    "    else:\n",
    "        d = editdistance.eval(s1, s2)\n",
    "        DICT_DIS[(s1, s2)] = d\n",
    "        DICT_DIS[(s2, s1)] = d\n",
    "        return d\n",
    "\n",
    "def to_distance_map(seqs):\n",
    "    ret = {}\n",
    "    for s in seqs:\n",
    "        func = functools.partial(calcdis, s2=s)\n",
    "#         with multiprocess.Pool(os.cpu_count()-1) as p:\n",
    "#             dict_list = p.map(func, seqs)\n",
    "        dict_list = func_multithread(seqs, func)\n",
    "        ret[s] = dict_list\n",
    "    return ret\n",
    "\n",
    "\n",
    "def to_distance_map_single(seqs):\n",
    "    ret = {}\n",
    "    for s in tqdm(seqs):\n",
    "        func = functools.partial(calcdis, s2=s)\n",
    "        dict_list = [func(s) for s in seqs]\n",
    "        ret[s] = dict_list\n",
    "    return ret"
   ]
  },
  {
   "cell_type": "code",
   "execution_count": 8,
   "id": "ddd24cb9",
   "metadata": {},
   "outputs": [],
   "source": [
    "df_all['tcraXtcrb'] = df_all['tcra'] + 'P'*100 + df_all['tcrb']"
   ]
  },
  {
   "cell_type": "code",
   "execution_count": 9,
   "id": "15d78231",
   "metadata": {},
   "outputs": [
    {
     "data": {
      "text/plain": [
       "'# !rm tcr_all_distmat.txt tcr_all_aligned.txt tcr_all_fasta.txt '"
      ]
     },
     "execution_count": 9,
     "metadata": {},
     "output_type": "execute_result"
    }
   ],
   "source": [
    "\"\"\"# !rm tcr_all_distmat.txt tcr_all_aligned.txt tcr_all_fasta.txt \"\"\""
   ]
  },
  {
   "cell_type": "code",
   "execution_count": 10,
   "id": "fafc9b8b",
   "metadata": {},
   "outputs": [
    {
     "name": "stdout",
     "output_type": "stream",
     "text": [
      "CPU times: user 19.6 ms, sys: 5.52 ms, total: 25.2 ms\n",
      "Wall time: 30.6 ms\n"
     ]
    }
   ],
   "source": [
    "%%time\n",
    "\n",
    "ofile = open(\"tcr_p100_fasta.txt\", \"w\")\n",
    "for i, seq in enumerate(df_all.tcraXtcrb.tolist()):\n",
    "    ofile.write(\">\" + str(i) + \"\\n\" + seq + \"\\n\")\n",
    "ofile.close()\n",
    "\n",
    "\n",
    "if not os.path.exists('tcr_p100_aligned.txt'):\n",
    "    os.system(\"~/Downloads/clustalo -i tcr_p100_fasta.txt -o tcr_p100_aligned.txt --full --distmat-out=tcr_p100_distmat.txt\")\n"
   ]
  },
  {
   "cell_type": "code",
   "execution_count": 11,
   "id": "c2e7998b",
   "metadata": {
    "scrolled": true
   },
   "outputs": [
    {
     "name": "stdout",
     "output_type": "stream",
     "text": [
      "CPU times: user 8.62 s, sys: 21.5 s, total: 30.2 s\n",
      "Wall time: 10.2 s\n"
     ]
    }
   ],
   "source": [
    "%%time\n",
    "\n",
    "import multiprocess as mp\n",
    "if not os.path.exists('tcr_p100_distmat.parquet'):\n",
    "    pd_reader = pd.read_csv('tcr_p100_distmat.txt',sep=' 0', skiprows=[0], header=None, \n",
    "                                  chunksize=1000\n",
    "                                 ) #.tail(2)\n",
    "\n",
    "    with mp.Pool(os.cpu_count()-1) as p:\n",
    "        df_list = p.map(lambda x:x, pd_reader)\n",
    "        \n",
    "        \n",
    "    df_distmat = pd.concat(df_list)\n",
    "    df_distmat = df_distmat.iloc[:,1:]\n",
    "    df_distmat.columns = df_distmat.columns.astype(str)\n",
    "    df_distmat.to_parquet('tcr_p100_distmat.parquet')\n",
    "else:\n",
    "    df_distmat = pd.read_parquet('tcr_p100_distmat.parquet')\n",
    "    "
   ]
  },
  {
   "cell_type": "code",
   "execution_count": 56,
   "id": "3a551a42",
   "metadata": {},
   "outputs": [],
   "source": [
    "top10_pep = df_all.peptide.value_counts().head(3000000000).index"
   ]
  },
  {
   "cell_type": "code",
   "execution_count": 57,
   "id": "eb19daad",
   "metadata": {},
   "outputs": [
    {
     "data": {
      "text/plain": [
       "<Axes: >"
      ]
     },
     "metadata": {},
     "output_type": "display_data"
    },
    {
     "data": {
      "image/png": "[encoded data removed]",
      "text/plain": [
       "<Figure size 432x288 with 1 Axes>"
      ]
     },
     "metadata": {
      "needs_background": "light"
     },
     "output_type": "display_data"
    }
   ],
   "source": [
    "%%time\n",
    "\n",
    "df_all.reset_index(drop=True, inplace=True)\n",
    "\n",
    "pepKLGGALQAK = df_all[df_all.peptide.isin(top10_pep)]\n",
    "\n",
    "pep_distmat = df_distmat.loc[pepKLGGALQAK.index]\n",
    "pep_distmat.index = pepKLGGALQAK['tcra:tcrb'].values\n",
    "\n",
    "pep_distmat.columns = df_all['tcra:tcrb'].values\n",
    "pep_distmat = pep_distmat.replace(0.0, 100.00)\n",
    "\n",
    "display(pep_distmat.min(axis=1).hist())"
   ]
  },
  {
   "cell_type": "markdown",
   "id": "92bb4429",
   "metadata": {},
   "source": [
    "# Close pairs for mutation"
   ]
  },
  {
   "cell_type": "code",
   "execution_count": 58,
   "id": "b7c1d268",
   "metadata": {},
   "outputs": [],
   "source": [
    "close_pairs = pep_distmat.idxmin(axis=1)\n",
    "close_pairs = close_pairs.to_frame().reset_index().rename(columns={'index':0, 0:1})"
   ]
  },
  {
   "cell_type": "code",
   "execution_count": 59,
   "id": "85d1072a",
   "metadata": {},
   "outputs": [],
   "source": [
    "data0 = pd.merge(close_pairs[[0]], \n",
    "         df_all[['tcra:tcrb','peptide', 'sign']],\n",
    "         left_on=[0],\n",
    "         right_on=['tcra:tcrb'],\n",
    "         suffixes=('_0','_0')\n",
    "        ).drop(columns=['tcra:tcrb']).rename(columns={'peptide':'peptide_0', 'sign':'sign_0'})\n",
    "\n",
    "data1 = pd.merge(close_pairs[[1]], \n",
    "         df_all[['tcra:tcrb','peptide', 'sign']],\n",
    "         left_on=[1],\n",
    "         right_on=['tcra:tcrb'],\n",
    "         suffixes=('_1','_1')\n",
    "        ).drop(columns=['tcra:tcrb']).rename(columns={'peptide':'peptide_1', 'sign':'sign_1'})\n",
    "\n",
    "data01 = pd.concat([data0, data1, ], axis=1)\n",
    "\n",
    "data01 = data01[(data01.peptide_0==data01.peptide_1) &\n",
    "       (data01.sign_0!=data01.sign_1)\n",
    "      ]\n",
    "\n",
    "alphabeta = pd.concat([data01[0].str.split(':').apply(pd.Series).rename(columns={0:'tcra0',1:'tcrb0'}),\n",
    "           data01[1].str.split(':').apply(pd.Series).rename(columns={0:'tcra1',1:'tcrb1'})\n",
    "          ], axis=1)\n",
    "\n",
    "data01 = pd.concat([data01, alphabeta], axis=1)\n",
    "\n",
    "data01['alpha_samelen'] = data01.tcra0.apply(len) == data01.tcra1.apply(len)\n",
    "data01['beta_samelen'] = data01.tcrb0.apply(len) == data01.tcrb1.apply(len)"
   ]
  },
  {
   "cell_type": "code",
   "execution_count": 60,
   "id": "9efb7c2f",
   "metadata": {},
   "outputs": [],
   "source": [
    "data01 = data01[data01.beta_samelen & data01.alpha_samelen]"
   ]
  },
  {
   "cell_type": "code",
   "execution_count": 75,
   "id": "5046ef6b",
   "metadata": {},
   "outputs": [],
   "source": [
    "def t_series_to_TF(t_series):\n",
    "    beta_list, alpha_list = [], []\n",
    "    now_alpha = True\n",
    "\n",
    "    for i in t_series.index:\n",
    "        if ':' in i:\n",
    "            now_alpha = False\n",
    "            continue\n",
    "\n",
    "        if now_alpha:\n",
    "            alpha_list.append('T' if t_series.loc[i] else 'F')\n",
    "        else:\n",
    "            beta_list.append('T' if t_series.loc[i] else 'F')\n",
    "    return ''.join(alpha_list), ''.join(beta_list)\n",
    "\n",
    "def get_attended(alpha, beta, pep, ONLY_HEAD_ZERO=True):\n",
    "    df = pd.DataFrame({'sign':1, 'tcra':alpha,'tcrb':beta, 'peptide':pep}, index=[0])\n",
    "    \n",
    "    torch_dataset = MCPASDataset(df)\n",
    "    analysis_loader = torch.utils.data.DataLoader(torch_dataset)\n",
    "\n",
    "    with torch.no_grad():\n",
    "        for i, (xx,yy) in enumerate(analysis_loader):\n",
    "            result_tuple = get_attention_weights([x.to(device) for x in xx], \n",
    "                                           model, explain_model=explain_model, device=device)\n",
    "\n",
    "    # result_tuple[0].shape, result_tuple[1].shape, result_tuple[2]\n",
    "    # print('prediction =', result_tuple[2])\n",
    "    attention_pep4_tcr4 = get_mat_from_result_tuple(result_tuple, alpha,beta,pep)\n",
    "    \n",
    "    if ONLY_HEAD_ZERO == True:\n",
    "        attention_tcr4 = [(attention_pep4_tcr4[1][i] > 4.5 * attention_pep4_tcr4[1][i].std())\n",
    "                          for i in range(1)]\n",
    "        attention_pep4 = [(attention_pep4_tcr4[0][i] > 5.5 * attention_pep4_tcr4[0][i].std())\n",
    "                      for i in range(1)]\n",
    "    else:\n",
    "        attention_tcr4 = [(attention_pep4_tcr4[1][i] > 4.5 * attention_pep4_tcr4[1][i].std())\n",
    "                          for i in range(4)]\n",
    "        attention_pep4 = [(attention_pep4_tcr4[0][i] > 5.5 * attention_pep4_tcr4[0][i].std())\n",
    "                      for i in range(4)]\n",
    "\n",
    "    attended_tcrs = pd.concat(attention_tcr4).any()\n",
    "    attended_peps = pd.concat(attention_pep4).any()\n",
    "    alpha_tf, beta_tf = t_series_to_TF(attended_tcrs)\n",
    "    return alpha_tf, beta_tf, \"\".join(['T' if p else 'F' for p in attended_peps.values]), result_tuple[2]\n",
    "\n"
   ]
  },
  {
   "cell_type": "code",
   "execution_count": 100,
   "id": "9a098e26",
   "metadata": {
    "collapsed": true
   },
   "outputs": [
    {
     "name": "stdout",
     "output_type": "stream",
     "text": [
      "datasize and y-vcounts:  (1, 4) 1    1\n",
      "Name: sign, dtype: int64\n",
      "aseq=CILAYSGAGSYQLTF, bseq=CASSQSLYGYEQYF, peptide=KLGGALQAK\n",
      "datasize and y-vcounts:  (1, 4) 1    1\n",
      "Name: sign, dtype: int64\n",
      "aseq=CVVNILNTGGFKTIF, bseq=CASSEVGLSYEQYF, peptide=KLGGALQAK\n",
      "datasize and y-vcounts:  (1, 4) 1    1\n",
      "Name: sign, dtype: int64\n",
      "aseq=CAESGYNQGGKLIF, bseq=CASSEAYMNTGELFF, peptide=KLGGALQAK\n",
      "datasize and y-vcounts:  (1, 4) 1    1\n",
      "Name: sign, dtype: int64\n",
      "aseq=CAVSANYAQGLTF, bseq=CASSGQDSAETLYF, peptide=KLGGALQAK\n",
      "datasize and y-vcounts:  (1, 4) 1    1\n",
      "Name: sign, dtype: int64\n",
      "aseq=CAVSRGQAGTALIF, bseq=CAWSLAGGEQFF, peptide=KLGGALQAK\n",
      "datasize and y-vcounts:  (1, 4) 1    1\n",
      "Name: sign, dtype: int64\n",
      "aseq=CAMTRSGYSTLTF, bseq=CASSPDAGNTIYF, peptide=KLGGALQAK\n",
      "datasize and y-vcounts:  (1, 4) 1    1\n",
      "Name: sign, dtype: int64\n",
      "aseq=CAVPNQAGTALIF, bseq=CASSDWDSSYEQYF, peptide=KLGGALQAK\n",
      "datasize and y-vcounts:  (1, 4) 1    1\n",
      "Name: sign, dtype: int64\n",
      "aseq=CAVDSSNTGKLIF, bseq=CASTNPGTTLHF, peptide=KLGGALQAK\n",
      "datasize and y-vcounts:  (1, 4) 1    1\n",
      "Name: sign, dtype: int64\n",
      "aseq=CAVSDPSWGKLQF, bseq=CASRDRSQYEQYF, peptide=KLGGALQAK\n",
      "datasize and y-vcounts:  (1, 4) 1    1\n",
      "Name: sign, dtype: int64\n",
      "aseq=CAVGATNDYKLSF, bseq=CASSLGPNTEAFF, peptide=KLGGALQAK\n",
      "datasize and y-vcounts:  (1, 4) 1    1\n",
      "Name: sign, dtype: int64\n",
      "aseq=CVVSANSDGQKLLF, bseq=CASSVVSGANVLTF, peptide=KLGGALQAK\n",
      "datasize and y-vcounts:  (1, 4) 1    1\n",
      "Name: sign, dtype: int64\n",
      "aseq=CALDGGATNKLIF, bseq=CASSLAGGGLPEETQYF, peptide=KLGGALQAK\n",
      "datasize and y-vcounts:  (1, 4) 1    1\n",
      "Name: sign, dtype: int64\n",
      "aseq=CAFHVNRDDKIIF, bseq=CASSILSPSTEAFF, peptide=KLGGALQAK\n",
      "datasize and y-vcounts:  (1, 4) 1    1\n",
      "Name: sign, dtype: int64\n",
      "aseq=CAGQLPSGGGADGLTF, bseq=CASSFRNREGEQFF, peptide=KLGGALQAK\n",
      "datasize and y-vcounts:  (1, 4) 1    1\n",
      "Name: sign, dtype: int64\n",
      "aseq=CAAKARWGAQKLVF, bseq=CASSLPGQDYGYTF, peptide=KLGGALQAK\n",
      "datasize and y-vcounts:  (1, 4) 1    1\n",
      "Name: sign, dtype: int64\n",
      "aseq=CAASDRSGNTGKLIF, bseq=CASSDDRGPTEAFF, peptide=KLGGALQAK\n",
      "datasize and y-vcounts:  (1, 4) 1    1\n",
      "Name: sign, dtype: int64\n",
      "aseq=CAAGRYNFNKFYF, bseq=CSVDLEANYGYTF, peptide=KLGGALQAK\n",
      "datasize and y-vcounts:  (1, 4) 1    1\n",
      "Name: sign, dtype: int64\n",
      "aseq=CAVTSNYAQGLTF, bseq=CASSRDSAETLYF, peptide=KLGGALQAK\n",
      "datasize and y-vcounts:  (1, 4) 1    1\n",
      "Name: sign, dtype: int64\n",
      "aseq=CAGAGGGSNYKLTF, bseq=CASSRYSGGFGDTQYF, peptide=KLGGALQAK\n",
      "datasize and y-vcounts:  (1, 4) 1    1\n",
      "Name: sign, dtype: int64\n",
      "aseq=CAAIGAGSYQLTF, bseq=CASSFGGANYGYTF, peptide=KLGGALQAK\n",
      "datasize and y-vcounts:  (1, 4) 1    1\n",
      "Name: sign, dtype: int64\n",
      "aseq=CVVMSSGTYKYIF, bseq=CASSLESSYNEQFF, peptide=KLGGALQAK\n",
      "datasize and y-vcounts:  (1, 4) 1    1\n",
      "Name: sign, dtype: int64\n",
      "aseq=CAAEDGGSGNKLIF, bseq=CASSWDRAGNTLYF, peptide=KLGGALQAK\n",
      "datasize and y-vcounts:  (1, 4) 1    1\n",
      "Name: sign, dtype: int64\n",
      "aseq=CAVRRTSGGSYIPTF, bseq=CASSPGTPFYYEQYF, peptide=KLGGALQAK\n",
      "datasize and y-vcounts:  (1, 4) 1    1\n",
      "Name: sign, dtype: int64\n",
      "aseq=CAVPLSNDYKLSF, bseq=CASSRQGENIQYF, peptide=KLGGALQAK\n",
      "datasize and y-vcounts:  (1, 4) 1    1\n",
      "Name: sign, dtype: int64\n",
      "aseq=CAVLSNSGNTPLVF, bseq=CASSVGQGPYEQYF, peptide=KLGGALQAK\n"
     ]
    }
   ],
   "source": [
    "data01_attention0 = pd.DataFrame([get_attended(r['tcra0'], r['tcrb0'], r['peptide_0']) for i, r in data01.iterrows()])"
   ]
  },
  {
   "cell_type": "code",
   "execution_count": 101,
   "id": "322456d1",
   "metadata": {
    "collapsed": true
   },
   "outputs": [
    {
     "name": "stdout",
     "output_type": "stream",
     "text": [
      "datasize and y-vcounts:  (1, 4) 1    1\n",
      "Name: sign, dtype: int64\n",
      "aseq=CAARMIYNQGGKLIF, bseq=CSAIIVGQYYGYTF, peptide=KLGGALQAK\n",
      "datasize and y-vcounts:  (1, 4) 1    1\n",
      "Name: sign, dtype: int64\n",
      "aseq=CAMREDDTNAYKVIF, bseq=CASSLRGDNQAPLF, peptide=KLGGALQAK\n",
      "datasize and y-vcounts:  (1, 4) 1    1\n",
      "Name: sign, dtype: int64\n",
      "aseq=CALSEAGNNNDMRF, bseq=CASSQGGRINQPQHF, peptide=KLGGALQAK\n",
      "datasize and y-vcounts:  (1, 4) 1    1\n",
      "Name: sign, dtype: int64\n",
      "aseq=CAMSLYNFNKFYF, bseq=CASGTSTNIYEQYF, peptide=KLGGALQAK\n",
      "datasize and y-vcounts:  (1, 4) 1    1\n",
      "Name: sign, dtype: int64\n",
      "aseq=CAYRSVFGNEKLTF, bseq=CASTQGLAEQFF, peptide=KLGGALQAK\n",
      "datasize and y-vcounts:  (1, 4) 1    1\n",
      "Name: sign, dtype: int64\n",
      "aseq=CAVGPLNDYKLSF, bseq=CATSSTGLKTQYF, peptide=KLGGALQAK\n",
      "datasize and y-vcounts:  (1, 4) 1    1\n",
      "Name: sign, dtype: int64\n",
      "aseq=CAVRNSGNTPLVF, bseq=CAISESWGGAEAFF, peptide=KLGGALQAK\n",
      "datasize and y-vcounts:  (1, 4) 1    1\n",
      "Name: sign, dtype: int64\n",
      "aseq=CALRETSGSRLTF, bseq=CASRPLAGELFF, peptide=KLGGALQAK\n",
      "datasize and y-vcounts:  (1, 4) 1    1\n",
      "Name: sign, dtype: int64\n",
      "aseq=CAGTNSGNTPLVF, bseq=CASQQGAVTEAFF, peptide=KLGGALQAK\n",
      "datasize and y-vcounts:  (1, 4) 1    1\n",
      "Name: sign, dtype: int64\n",
      "aseq=CALSGGSNYKLTF, bseq=CASSIRSSYEQYF, peptide=KLGGALQAK\n",
      "datasize and y-vcounts:  (1, 4) 1    1\n",
      "Name: sign, dtype: int64\n",
      "aseq=CATGPYNQGGKLIF, bseq=CASSLDTGFVTQYF, peptide=KLGGALQAK\n",
      "datasize and y-vcounts:  (1, 4) 1    1\n",
      "Name: sign, dtype: int64\n",
      "aseq=CAVTKTSGSRLTF, bseq=CASSDNRDRGGGTEAFF, peptide=KLGGALQAK\n",
      "datasize and y-vcounts:  (1, 4) 1    1\n",
      "Name: sign, dtype: int64\n",
      "aseq=CAMRVSSNYQLIW, bseq=CASRGGANTGQLYF, peptide=KLGGALQAK\n",
      "datasize and y-vcounts:  (1, 4) 1    1\n",
      "Name: sign, dtype: int64\n",
      "aseq=CAVRGSIKAAGNKLTF, bseq=CASRSSGIPNEQFF, peptide=KLGGALQAK\n",
      "datasize and y-vcounts:  (1, 4) 1    1\n",
      "Name: sign, dtype: int64\n",
      "aseq=CAMREGSGYSTLTF, bseq=CATSQPGVNTEAFF, peptide=KLGGALQAK\n",
      "datasize and y-vcounts:  (1, 4) 1    1\n",
      "Name: sign, dtype: int64\n",
      "aseq=CLVGAYNTNAGKSTF, bseq=CASSYGQGAYEQYF, peptide=KLGGALQAK\n",
      "datasize and y-vcounts:  (1, 4) 1    1\n",
      "Name: sign, dtype: int64\n",
      "aseq=CAGRFQGAQKLVF, bseq=CASSVGGGTEAFF, peptide=KLGGALQAK\n",
      "datasize and y-vcounts:  (1, 4) 1    1\n",
      "Name: sign, dtype: int64\n",
      "aseq=CAVKNSGNTPLVF, bseq=CASSGQGAAGYTF, peptide=KLGGALQAK\n",
      "datasize and y-vcounts:  (1, 4) 1    1\n",
      "Name: sign, dtype: int64\n",
      "aseq=CAVIVIQGAQKLVF, bseq=CSARDSGDGGYQPQHF, peptide=KLGGALQAK\n",
      "datasize and y-vcounts:  (1, 4) 1    1\n",
      "Name: sign, dtype: int64\n",
      "aseq=CAVEPLYGNKLVF, bseq=CASSQVEDSGELFF, peptide=KLGGALQAK\n",
      "datasize and y-vcounts:  (1, 4) 1    1\n",
      "Name: sign, dtype: int64\n",
      "aseq=CLVGVSSASKIIF, bseq=CASSPGQGPPKLFF, peptide=KLGGALQAK\n",
      "datasize and y-vcounts:  (1, 4) 1    1\n",
      "Name: sign, dtype: int64\n",
      "aseq=CAVSNSGGYQKVTF, bseq=CASSSQGSNYGYTF, peptide=KLGGALQAK\n",
      "datasize and y-vcounts:  (1, 4) 1    1\n",
      "Name: sign, dtype: int64\n",
      "aseq=CAYRSFVWSNNDMRF, bseq=CASSWGGGSHYGYTF, peptide=KLGGALQAK\n",
      "datasize and y-vcounts:  (1, 4) 1    1\n",
      "Name: sign, dtype: int64\n",
      "aseq=CAVRGGGADGLTF, bseq=CASSLDRRNEQYF, peptide=KLGGALQAK\n",
      "datasize and y-vcounts:  (1, 4) 1    1\n",
      "Name: sign, dtype: int64\n",
      "aseq=CAMREANTGNQFYF, bseq=CASSVAGGEAEAFF, peptide=KLGGALQAK\n"
     ]
    }
   ],
   "source": [
    "data01_attention1 = pd.DataFrame([get_attended(r['tcra1'], r['tcrb1'], r['peptide_1']) for i, r in data01.iterrows()])"
   ]
  },
  {
   "cell_type": "code",
   "execution_count": 103,
   "id": "67c594e6",
   "metadata": {},
   "outputs": [],
   "source": [
    "data01_attention0.columns = ['attention_alpha0', 'attention_beta0', 'attention_peptide0', 'prediction0']"
   ]
  },
  {
   "cell_type": "code",
   "execution_count": 104,
   "id": "e1eab3a7",
   "metadata": {},
   "outputs": [],
   "source": [
    "data01_attention1.columns = ['attention_alpha1', 'attention_beta1', 'attention_peptide1', 'prediction1']"
   ]
  },
  {
   "cell_type": "code",
   "execution_count": 110,
   "id": "eb2d9969",
   "metadata": {},
   "outputs": [],
   "source": [
    "pd.set_option('display.max_columns', 500)\n"
   ]
  },
  {
   "cell_type": "code",
   "execution_count": 112,
   "id": "ba73cbf7",
   "metadata": {},
   "outputs": [],
   "source": [
    "pd.concat([data01.reset_index(), data01_attention0, data01_attention1], axis=1).to_csv('/Users/kyoheikoyama/Downloads/attention_result.csv')"
   ]
  },
  {
   "cell_type": "code",
   "execution_count": 95,
   "id": "ee4efec6",
   "metadata": {},
   "outputs": [
    {
     "data": {
      "text/plain": [
       "(1090,\n",
       " 0                CILAYSGAGSYQLTF:CASSQSLYGYEQYF\n",
       " peptide_0                             KLGGALQAK\n",
       " sign_0                                      0.0\n",
       " 1                CAARMIYNQGGKLIF:CSAIIVGQYYGYTF\n",
       " peptide_1                             KLGGALQAK\n",
       " sign_1                                      1.0\n",
       " tcra0                           CILAYSGAGSYQLTF\n",
       " tcrb0                            CASSQSLYGYEQYF\n",
       " tcra1                           CAARMIYNQGGKLIF\n",
       " tcrb1                            CSAIIVGQYYGYTF\n",
       " alpha_samelen                              True\n",
       " beta_samelen                               True\n",
       " Name: 1090, dtype: object)"
      ]
     },
     "execution_count": 95,
     "metadata": {},
     "output_type": "execute_result"
    }
   ],
   "source": [
    "r"
   ]
  },
  {
   "cell_type": "code",
   "execution_count": 90,
   "id": "7e2657a9",
   "metadata": {},
   "outputs": [
    {
     "name": "stdout",
     "output_type": "stream",
     "text": [
      "datasize and y-vcounts:  (1, 4) 1    1\n",
      "Name: sign, dtype: int64\n",
      "aseq=CAGRSDGQKLLF, bseq=CASSPTGQGYNEQFF, peptide=KLGGALQAK\n"
     ]
    }
   ],
   "source": [
    "a, b, p, pred = get_attended('CAGRSDGQKLLF', 'CASSPTGQGYNEQFF', 'KLGGALQAK')"
   ]
  },
  {
   "cell_type": "code",
   "execution_count": null,
   "id": "cede9884",
   "metadata": {},
   "outputs": [],
   "source": []
  },
  {
   "cell_type": "code",
   "execution_count": 91,
   "id": "99baacef",
   "metadata": {},
   "outputs": [
    {
     "data": {
      "text/plain": [
       "('TTTFFFFFFFFF', 'FFFFFFFFFFFFFFF', 'FFFFFFFFF', 0.9196252226829529)"
      ]
     },
     "execution_count": 91,
     "metadata": {},
     "output_type": "execute_result"
    }
   ],
   "source": [
    "a, b, p, pred"
   ]
  },
  {
   "cell_type": "code",
   "execution_count": 77,
   "id": "d64542c8",
   "metadata": {},
   "outputs": [
    {
     "data": {
      "text/plain": [
       "('TTTFFFFFFFFF', 'FFFFFFFFFFFFFFF')"
      ]
     },
     "execution_count": 77,
     "metadata": {},
     "output_type": "execute_result"
    }
   ],
   "source": [
    "t_series_to_TF(t)"
   ]
  },
  {
   "cell_type": "code",
   "execution_count": 72,
   "id": "2f5dfbb4",
   "metadata": {},
   "outputs": [],
   "source": []
  },
  {
   "cell_type": "code",
   "execution_count": 73,
   "id": "453ce91f",
   "metadata": {},
   "outputs": [
    {
     "data": {
      "text/plain": [
       "['F', 'F', 'F', 'F', 'F', 'F', 'F', 'F', 'F', 'F', 'F', 'F', 'F', 'F', 'F']"
      ]
     },
     "execution_count": 73,
     "metadata": {},
     "output_type": "execute_result"
    }
   ],
   "source": [
    "beta_list"
   ]
  },
  {
   "cell_type": "code",
   "execution_count": null,
   "id": "7452513c",
   "metadata": {},
   "outputs": [],
   "source": []
  },
  {
   "cell_type": "code",
   "execution_count": null,
   "id": "4576971c",
   "metadata": {},
   "outputs": [],
   "source": []
  },
  {
   "cell_type": "code",
   "execution_count": null,
   "id": "41f0be3a",
   "metadata": {},
   "outputs": [],
   "source": []
  },
  {
   "cell_type": "code",
   "execution_count": 29,
   "id": "6ccd6b26",
   "metadata": {},
   "outputs": [
    {
     "data": {
      "text/html": [
       "<div>\n",
       "<style scoped>\n",
       "    .dataframe tbody tr th:only-of-type {\n",
       "        vertical-align: middle;\n",
       "    }\n",
       "\n",
       "    .dataframe tbody tr th {\n",
       "        vertical-align: top;\n",
       "    }\n",
       "\n",
       "    .dataframe thead th {\n",
       "        text-align: right;\n",
       "    }\n",
       "</style>\n",
       "<table border=\"1\" class=\"dataframe\">\n",
       "  <thead>\n",
       "    <tr style=\"text-align: right;\">\n",
       "      <th></th>\n",
       "      <th>tcra</th>\n",
       "      <th>tcrb</th>\n",
       "      <th>t_cell</th>\n",
       "      <th>peptide</th>\n",
       "      <th>data_type</th>\n",
       "      <th>tcra:tcrb</th>\n",
       "      <th>sign</th>\n",
       "      <th>tcraXtcrb</th>\n",
       "    </tr>\n",
       "  </thead>\n",
       "  <tbody>\n",
       "    <tr>\n",
       "      <th>0</th>\n",
       "      <td>CAVENYGQNFVF</td>\n",
       "      <td>CASSYDSPTEAFF</td>\n",
       "      <td>CD8</td>\n",
       "      <td>GPGHKARVL</td>\n",
       "      <td>vdjdb_train_samples.pickle</td>\n",
       "      <td>CAVENYGQNFVF:CASSYDSPTEAFF</td>\n",
       "      <td>0.0</td>\n",
       "      <td>CAVENYGQNFVFPPPPPPPPPPPPPPPPPPPPPPPPPPPPPPPPPP...</td>\n",
       "    </tr>\n",
       "    <tr>\n",
       "      <th>1</th>\n",
       "      <td>CAAGGSGGYQKVTF</td>\n",
       "      <td>CASSLADRNTEAFF</td>\n",
       "      <td>CD8</td>\n",
       "      <td>AVFDRKSDAK</td>\n",
       "      <td>vdjdb_train_samples.pickle</td>\n",
       "      <td>CAAGGSGGYQKVTF:CASSLADRNTEAFF</td>\n",
       "      <td>0.0</td>\n",
       "      <td>CAAGGSGGYQKVTFPPPPPPPPPPPPPPPPPPPPPPPPPPPPPPPP...</td>\n",
       "    </tr>\n",
       "    <tr>\n",
       "      <th>2</th>\n",
       "      <td>CALSELGGATNKLIF</td>\n",
       "      <td>CASSLVGLPSSYNSPLHF</td>\n",
       "      <td>CD8</td>\n",
       "      <td>ELAGIGILTV</td>\n",
       "      <td>vdjdb_train_samples.pickle</td>\n",
       "      <td>CALSELGGATNKLIF:CASSLVGLPSSYNSPLHF</td>\n",
       "      <td>0.0</td>\n",
       "      <td>CALSELGGATNKLIFPPPPPPPPPPPPPPPPPPPPPPPPPPPPPPP...</td>\n",
       "    </tr>\n",
       "    <tr>\n",
       "      <th>3</th>\n",
       "      <td>CAASHTNTGNQFYF</td>\n",
       "      <td>CASSSPGKSSYNEQFF</td>\n",
       "      <td>CD8</td>\n",
       "      <td>KLGGALQAK</td>\n",
       "      <td>vdjdb_train_samples.pickle</td>\n",
       "      <td>CAASHTNTGNQFYF:CASSSPGKSSYNEQFF</td>\n",
       "      <td>1.0</td>\n",
       "      <td>CAASHTNTGNQFYFPPPPPPPPPPPPPPPPPPPPPPPPPPPPPPPP...</td>\n",
       "    </tr>\n",
       "    <tr>\n",
       "      <th>4</th>\n",
       "      <td>CLVGDGTGTASKLTF</td>\n",
       "      <td>CASSWGVGSTEAFF</td>\n",
       "      <td>CD8</td>\n",
       "      <td>KLGGALQAK</td>\n",
       "      <td>vdjdb_train_samples.pickle</td>\n",
       "      <td>CLVGDGTGTASKLTF:CASSWGVGSTEAFF</td>\n",
       "      <td>0.0</td>\n",
       "      <td>CLVGDGTGTASKLTFPPPPPPPPPPPPPPPPPPPPPPPPPPPPPPP...</td>\n",
       "    </tr>\n",
       "    <tr>\n",
       "      <th>...</th>\n",
       "      <td>...</td>\n",
       "      <td>...</td>\n",
       "      <td>...</td>\n",
       "      <td>...</td>\n",
       "      <td>...</td>\n",
       "      <td>...</td>\n",
       "      <td>...</td>\n",
       "      <td>...</td>\n",
       "    </tr>\n",
       "    <tr>\n",
       "      <th>24083</th>\n",
       "      <td>CAGSGGYQKVTF</td>\n",
       "      <td>CPSPLVGGGRF</td>\n",
       "      <td>CD4</td>\n",
       "      <td>LPRRSGAAGA</td>\n",
       "      <td>mcpas_test_samples.pickle</td>\n",
       "      <td>CAGSGGYQKVTF:CPSPLVGGGRF</td>\n",
       "      <td>0.0</td>\n",
       "      <td>CAGSGGYQKVTFPPPPPPPPPPPPPPPPPPPPPPPPPPPPPPPPPP...</td>\n",
       "    </tr>\n",
       "    <tr>\n",
       "      <th>24084</th>\n",
       "      <td>CAASGGSNYKLTF</td>\n",
       "      <td>CAWGVLFIGRGVGDYGYTF</td>\n",
       "      <td>CD8</td>\n",
       "      <td>GILGFVFTL</td>\n",
       "      <td>mcpas_test_samples.pickle</td>\n",
       "      <td>CAASGGSNYKLTF:CAWGVLFIGRGVGDYGYTF</td>\n",
       "      <td>1.0</td>\n",
       "      <td>CAASGGSNYKLTFPPPPPPPPPPPPPPPPPPPPPPPPPPPPPPPPP...</td>\n",
       "    </tr>\n",
       "    <tr>\n",
       "      <th>24085</th>\n",
       "      <td>CALGELSSGGYQKVTF</td>\n",
       "      <td>CASSSLGQGAPEAF</td>\n",
       "      <td>CD8</td>\n",
       "      <td>RYPLTFGWCF</td>\n",
       "      <td>mcpas_test_samples.pickle</td>\n",
       "      <td>CALGELSSGGYQKVTF:CASSSLGQGAPEAF</td>\n",
       "      <td>1.0</td>\n",
       "      <td>CALGELSSGGYQKVTFPPPPPPPPPPPPPPPPPPPPPPPPPPPPPP...</td>\n",
       "    </tr>\n",
       "    <tr>\n",
       "      <th>24086</th>\n",
       "      <td>CAAGITF</td>\n",
       "      <td>CASSFRDRGNYAEQF</td>\n",
       "      <td>CD8</td>\n",
       "      <td>SYIPSAEKI</td>\n",
       "      <td>mcpas_test_samples.pickle</td>\n",
       "      <td>CAAGITF:CASSFRDRGNYAEQF</td>\n",
       "      <td>1.0</td>\n",
       "      <td>CAAGITFPPPPPPPPPPPPPPPPPPPPPPPPPPPPPPPPPPPPPPP...</td>\n",
       "    </tr>\n",
       "    <tr>\n",
       "      <th>24087</th>\n",
       "      <td>CAVRGGGADGLTF</td>\n",
       "      <td>CASRLRRSTDTQYF</td>\n",
       "      <td>CD4</td>\n",
       "      <td>TNFKYNYSVIEGGPI</td>\n",
       "      <td>mcpas_test_samples.pickle</td>\n",
       "      <td>CAVRGGGADGLTF:CASRLRRSTDTQYF</td>\n",
       "      <td>1.0</td>\n",
       "      <td>CAVRGGGADGLTFPPPPPPPPPPPPPPPPPPPPPPPPPPPPPPPPP...</td>\n",
       "    </tr>\n",
       "  </tbody>\n",
       "</table>\n",
       "<p>24088 rows × 8 columns</p>\n",
       "</div>"
      ],
      "text/plain": [
       "                   tcra                 tcrb t_cell          peptide  \\\n",
       "0          CAVENYGQNFVF        CASSYDSPTEAFF    CD8        GPGHKARVL   \n",
       "1        CAAGGSGGYQKVTF       CASSLADRNTEAFF    CD8       AVFDRKSDAK   \n",
       "2       CALSELGGATNKLIF   CASSLVGLPSSYNSPLHF    CD8       ELAGIGILTV   \n",
       "3        CAASHTNTGNQFYF     CASSSPGKSSYNEQFF    CD8        KLGGALQAK   \n",
       "4       CLVGDGTGTASKLTF       CASSWGVGSTEAFF    CD8        KLGGALQAK   \n",
       "...                 ...                  ...    ...              ...   \n",
       "24083      CAGSGGYQKVTF          CPSPLVGGGRF    CD4       LPRRSGAAGA   \n",
       "24084     CAASGGSNYKLTF  CAWGVLFIGRGVGDYGYTF    CD8        GILGFVFTL   \n",
       "24085  CALGELSSGGYQKVTF       CASSSLGQGAPEAF    CD8       RYPLTFGWCF   \n",
       "24086           CAAGITF      CASSFRDRGNYAEQF    CD8        SYIPSAEKI   \n",
       "24087     CAVRGGGADGLTF       CASRLRRSTDTQYF    CD4  TNFKYNYSVIEGGPI   \n",
       "\n",
       "                        data_type                           tcra:tcrb  sign  \\\n",
       "0      vdjdb_train_samples.pickle          CAVENYGQNFVF:CASSYDSPTEAFF   0.0   \n",
       "1      vdjdb_train_samples.pickle       CAAGGSGGYQKVTF:CASSLADRNTEAFF   0.0   \n",
       "2      vdjdb_train_samples.pickle  CALSELGGATNKLIF:CASSLVGLPSSYNSPLHF   0.0   \n",
       "3      vdjdb_train_samples.pickle     CAASHTNTGNQFYF:CASSSPGKSSYNEQFF   1.0   \n",
       "4      vdjdb_train_samples.pickle      CLVGDGTGTASKLTF:CASSWGVGSTEAFF   0.0   \n",
       "...                           ...                                 ...   ...   \n",
       "24083   mcpas_test_samples.pickle            CAGSGGYQKVTF:CPSPLVGGGRF   0.0   \n",
       "24084   mcpas_test_samples.pickle   CAASGGSNYKLTF:CAWGVLFIGRGVGDYGYTF   1.0   \n",
       "24085   mcpas_test_samples.pickle     CALGELSSGGYQKVTF:CASSSLGQGAPEAF   1.0   \n",
       "24086   mcpas_test_samples.pickle             CAAGITF:CASSFRDRGNYAEQF   1.0   \n",
       "24087   mcpas_test_samples.pickle        CAVRGGGADGLTF:CASRLRRSTDTQYF   1.0   \n",
       "\n",
       "                                               tcraXtcrb  \n",
       "0      CAVENYGQNFVFPPPPPPPPPPPPPPPPPPPPPPPPPPPPPPPPPP...  \n",
       "1      CAAGGSGGYQKVTFPPPPPPPPPPPPPPPPPPPPPPPPPPPPPPPP...  \n",
       "2      CALSELGGATNKLIFPPPPPPPPPPPPPPPPPPPPPPPPPPPPPPP...  \n",
       "3      CAASHTNTGNQFYFPPPPPPPPPPPPPPPPPPPPPPPPPPPPPPPP...  \n",
       "4      CLVGDGTGTASKLTFPPPPPPPPPPPPPPPPPPPPPPPPPPPPPPP...  \n",
       "...                                                  ...  \n",
       "24083  CAGSGGYQKVTFPPPPPPPPPPPPPPPPPPPPPPPPPPPPPPPPPP...  \n",
       "24084  CAASGGSNYKLTFPPPPPPPPPPPPPPPPPPPPPPPPPPPPPPPPP...  \n",
       "24085  CALGELSSGGYQKVTFPPPPPPPPPPPPPPPPPPPPPPPPPPPPPP...  \n",
       "24086  CAAGITFPPPPPPPPPPPPPPPPPPPPPPPPPPPPPPPPPPPPPPP...  \n",
       "24087  CAVRGGGADGLTFPPPPPPPPPPPPPPPPPPPPPPPPPPPPPPPPP...  \n",
       "\n",
       "[24088 rows x 8 columns]"
      ]
     },
     "execution_count": 29,
     "metadata": {},
     "output_type": "execute_result"
    }
   ],
   "source": [
    "df_all"
   ]
  },
  {
   "cell_type": "code",
   "execution_count": null,
   "id": "5f85c806",
   "metadata": {},
   "outputs": [],
   "source": []
  },
  {
   "cell_type": "code",
   "execution_count": null,
   "id": "a14f75a5",
   "metadata": {},
   "outputs": [],
   "source": []
  },
  {
   "cell_type": "code",
   "execution_count": null,
   "id": "cf959c03",
   "metadata": {},
   "outputs": [],
   "source": []
  },
  {
   "cell_type": "code",
   "execution_count": 13,
   "id": "ec438995",
   "metadata": {},
   "outputs": [
    {
     "name": "stderr",
     "output_type": "stream",
     "text": [
      "/Users/kyoheikoyama/.pyenv/versions/miniconda3-latest/envs/tcrpred/lib/python3.8/site-packages/umap/umap_.py:1780: UserWarning: using precomputed metric; inverse_transform will be unavailable\n",
      "  warn(\"using precomputed metric; inverse_transform will be unavailable\")\n",
      "OMP: Info #270: omp_set_nested routine deprecated, please use omp_set_max_active_levels instead.\n"
     ]
    },
    {
     "name": "stdout",
     "output_type": "stream",
     "text": [
      "embedding.shape (24088, 2)\n"
     ]
    }
   ],
   "source": [
    "import umap\n",
    "reducer = umap.UMAP(metric='precomputed', random_state=42)\n",
    "embedding = reducer.fit_transform(df_distmat)\n",
    "print('embedding.shape', embedding.shape)\n",
    "\n",
    "\n",
    "df_emb = pd.DataFrame(embedding, columns=['umap0','umap1'])\n",
    "df_emb['tcraXtcrb'] = df_all.tcraXtcrb.tolist()\n",
    "\n",
    "df_emb = pd.merge(df_emb, df_all, on=['tcraXtcrb'], how='left')"
   ]
  },
  {
   "cell_type": "code",
   "execution_count": 14,
   "id": "bb17cfa3",
   "metadata": {},
   "outputs": [
    {
     "data": {
      "image/png": "[encoded data removed]",
      "text/plain": [
       "<Figure size 432x432 with 1 Axes>"
      ]
     },
     "metadata": {
      "needs_background": "light"
     },
     "output_type": "display_data"
    }
   ],
   "source": [
    "plt.figure(figsize=(6,6))\n",
    "plt.scatter(df_emb.query('data_type!=\"jem_20211327_tables3\"').umap0, \n",
    "            df_emb.query('data_type!=\"jem_20211327_tables3\"').umap1)\n",
    "plt.scatter(df_emb.query('data_type==\"jem_20211327_tables3\"').umap0, \n",
    "            df_emb.query('data_type==\"jem_20211327_tables3\"').umap1)\n",
    "# plt.title('Pep')\n",
    "plt.xlabel('Umap1')\n",
    "plt.ylabel('Umap0')\n",
    "plt.show()"
   ]
  },
  {
   "cell_type": "code",
   "execution_count": 16,
   "id": "02bc0fad",
   "metadata": {
    "scrolled": true
   },
   "outputs": [],
   "source": [
    "\n",
    "# fig = px.scatter(df_emb, x=\"umap0\", y=\"umap1\",\n",
    "#                  color='data_type', symbol='t_cell', opacity=0.51,\n",
    "# #                  hover_name=\"country\", hover_data=[\"continent\", \"pop\"]\n",
    "#                  title='TCR distribution'\n",
    "#                 )\n",
    "\n",
    "# fig.show()\n"
   ]
  },
  {
   "cell_type": "code",
   "execution_count": 17,
   "id": "bb9a1360",
   "metadata": {
    "scrolled": true
   },
   "outputs": [],
   "source": [
    "\n",
    "# fig = px.scatter(df_emb.sample(600), x=\"umap0\", y=\"umap1\",\n",
    "#                  color='data_type', symbol='t_cell', opacity=0.51,\n",
    "# #                  hover_name=\"country\", hover_data=[\"continent\", \"pop\"]\n",
    "#                  title='TCR distribution (600 TCRs sampled)'\n",
    "#                 )\n",
    "\n",
    "# fig.show()\n"
   ]
  },
  {
   "cell_type": "code",
   "execution_count": 18,
   "id": "657230ff",
   "metadata": {
    "scrolled": true
   },
   "outputs": [],
   "source": [
    "\n",
    "# fig = px.scatter(df_emb, x=\"umap0\", y=\"umap1\",\n",
    "#                  color='t_cell', \n",
    "#                  opacity=0.51,\n",
    "#                 )\n",
    "\n",
    "# fig.show()"
   ]
  },
  {
   "cell_type": "code",
   "execution_count": 20,
   "id": "d6a83ed8",
   "metadata": {
    "scrolled": true
   },
   "outputs": [],
   "source": [
    "\n",
    "# fig = px.scatter(df_emb, x=\"umap0\", y=\"umap1\",\n",
    "# #                  color='data_type', \n",
    "#                  color='data_type', \n",
    "#                  opacity=0.51,\n",
    "                 \n",
    "# #                  hover_name=\"country\", hover_data=[\"continent\", \"pop\"]\n",
    "#                 )\n",
    "\n",
    "# fig.show()\n"
   ]
  },
  {
   "cell_type": "code",
   "execution_count": 21,
   "id": "a294cf7e",
   "metadata": {
    "scrolled": true
   },
   "outputs": [
    {
     "data": {
      "text/plain": [
       "0.0    0.800375\n",
       "1.0    0.199625\n",
       "Name: sign, dtype: float64"
      ]
     },
     "execution_count": 21,
     "metadata": {},
     "output_type": "execute_result"
    }
   ],
   "source": [
    "df_all[df_all.data_type!='jem_20211327_tables3'].sign.value_counts() / ((df_all.data_type!='jem_20211327_tables3').sum())\n"
   ]
  },
  {
   "cell_type": "code",
   "execution_count": 20,
   "id": "931d564d",
   "metadata": {
    "scrolled": false
   },
   "outputs": [],
   "source": [
    "# temp = df_emb.dropna(subset=['sign']).copy()\n",
    "# temp['sign'] = temp['sign'].astype(bool)\n",
    "# fig = px.scatter(temp, x=\"umap0\", y=\"umap1\",\n",
    "#                  color='sign', \n",
    "#                  opacity=0.51,\n",
    "#                 )\n",
    "\n",
    "# fig.show()\n"
   ]
  },
  {
   "cell_type": "code",
   "execution_count": null,
   "id": "bb7535d7",
   "metadata": {},
   "outputs": [],
   "source": [
    "a = df_distmat.values\n",
    "values = a[np.triu(a, k=1)!=0]\n",
    "\n",
    "pd.Series(values).plot.hist(bins=30, title='tcr-tcr distance')"
   ]
  },
  {
   "cell_type": "code",
   "execution_count": null,
   "id": "a35ea5b4",
   "metadata": {},
   "outputs": [],
   "source": [
    "df_emb.data_type.unique()"
   ]
  },
  {
   "cell_type": "code",
   "execution_count": null,
   "id": "3808c6c3",
   "metadata": {},
   "outputs": [],
   "source": [
    "df_vdjdb = pd.concat([\n",
    "    df_emb.query('data_type==\"vdjdb_train_samples.pickle\"'),\n",
    "    df_emb.query('data_type==\"vdjdb_test_samples.pickle\"'),\n",
    "])\n",
    "\n",
    "df_jem = pd.concat([\n",
    "    df_emb.query('data_type==\"jem_20211327_tables3\"'),\n",
    "])"
   ]
  },
  {
   "cell_type": "code",
   "execution_count": null,
   "id": "45442d41",
   "metadata": {},
   "outputs": [],
   "source": [
    "df_vdjdb[['tcra:tcrb', 'tcra','tcrb']].nunique()"
   ]
  },
  {
   "cell_type": "code",
   "execution_count": null,
   "id": "e0a1641e",
   "metadata": {},
   "outputs": [],
   "source": [
    "df_jem[['tcra:tcrb', 'tcra','tcrb']].nunique()"
   ]
  },
  {
   "cell_type": "code",
   "execution_count": null,
   "id": "20fac750",
   "metadata": {},
   "outputs": [],
   "source": [
    "df_vdjdb[df_vdjdb['tcra:tcrb'].isin(df_jem['tcra:tcrb'])]"
   ]
  },
  {
   "cell_type": "code",
   "execution_count": null,
   "id": "f0950400",
   "metadata": {},
   "outputs": [],
   "source": [
    "df_vdjdb[df_vdjdb['tcra'].isin(df_jem['tcra'])]"
   ]
  },
  {
   "cell_type": "code",
   "execution_count": null,
   "id": "23a2ea3a",
   "metadata": {},
   "outputs": [],
   "source": [
    "df_vdjdb[df_vdjdb['tcrb'].isin(df_jem['tcrb'])]"
   ]
  }
 ],
 "metadata": {
  "kernelspec": {
   "display_name": "tcrpred",
   "language": "python",
   "name": "tcrpred"
  },
  "language_info": {
   "codemirror_mode": {
    "name": "ipython",
    "version": 3
   },
   "file_extension": ".py",
   "mimetype": "text/x-python",
   "name": "python",
   "nbconvert_exporter": "python",
   "pygments_lexer": "ipython3",
   "version": "3.8.3"
  },
  "toc": {
   "base_numbering": 1,
   "nav_menu": {},
   "number_sections": true,
   "sideBar": true,
   "skip_h1_title": false,
   "title_cell": "Table of Contents",
   "title_sidebar": "Contents",
   "toc_cell": false,
   "toc_position": {},
   "toc_section_display": true,
   "toc_window_display": true
  }
 },
 "nbformat": 4,
 "nbformat_minor": 5
}
