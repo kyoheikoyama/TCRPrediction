{
 "cells": [
  {
   "cell_type": "markdown",
   "id": "d263e68e",
   "metadata": {},
   "source": [
    "# DataExample"
   ]
  },
  {
   "cell_type": "code",
   "execution_count": 1,
   "id": "7fe2bc43",
   "metadata": {},
   "outputs": [],
   "source": [
    "import pandas as pd"
   ]
  },
  {
   "cell_type": "code",
   "execution_count": 2,
   "id": "08638339",
   "metadata": {},
   "outputs": [],
   "source": [
    "panpepdir = \"/Users/kyoheikoyama/workspace/PanPep\""
   ]
  },
  {
   "cell_type": "code",
   "execution_count": 3,
   "id": "714ecbfe",
   "metadata": {},
   "outputs": [],
   "source": [
    "# !wc ./Data/majority_testing_dataset.csv"
   ]
  },
  {
   "cell_type": "code",
   "execution_count": 4,
   "id": "94b92578",
   "metadata": {},
   "outputs": [
    {
     "data": {
      "text/plain": [
       "1          11616\n",
       "0          11616\n",
       "Unknown     5230\n",
       "Name: Label, dtype: int64"
      ]
     },
     "execution_count": 4,
     "metadata": {},
     "output_type": "execute_result"
    }
   ],
   "source": [
    "pd.read_csv(f\"{panpepdir}/Data/Example_majority.csv\")['Label'].value_counts()"
   ]
  },
  {
   "cell_type": "code",
   "execution_count": 5,
   "id": "c6e9ee39",
   "metadata": {},
   "outputs": [
    {
     "name": "stdout",
     "output_type": "stream",
     "text": [
      "Peptide,CDR3,Label\r\n",
      "ATDALMTGY,CAISESQGNTEAFF,1\r\n",
      "ATDALMTGY,CAISEDRALVSYTF,1\r\n",
      "ATDALMTGY,CAISEDRALNEQFF,1\r\n",
      "ATDALMTGY,CAVQPGQGMQPQHF,1\r\n",
      "ATDALMTGY,CAISEGAMGNQPQHF,1\r\n",
      "ATDALMTGY,CAISDQTSGNQPQHF,1\r\n",
      "ATDALMTGY,CAISDAGAGNQPQHF,1\r\n",
      "ATDALMTGY,CAISEGTGGHQPQHF,1\r\n",
      "ATDALMTGY,CAISESSAGNQPQHF,1\r\n"
     ]
    }
   ],
   "source": [
    "!head {panpepdir}/Data/Example_majority.csv"
   ]
  },
  {
   "cell_type": "code",
   "execution_count": 7,
   "id": "6a0aea7a",
   "metadata": {},
   "outputs": [
    {
     "name": "stdout",
     "output_type": "stream",
     "text": [
      "   28463   28463  829060 /Users/kyoheikoyama/workspace/PanPep/Data/Example_majority.csv\r\n"
     ]
    }
   ],
   "source": [
    "!wc {panpepdir}/Data/Example_majority.csv"
   ]
  },
  {
   "cell_type": "code",
   "execution_count": 7,
   "id": "02920618",
   "metadata": {},
   "outputs": [
    {
     "name": "stdout",
     "output_type": "stream",
     "text": [
      "/bin/bash: ./Data/Small_majority.csv: No such file or directory\r\n"
     ]
    }
   ],
   "source": [
    "!head -n 50000000 ./Data/Example_majority.csv > ./Data/Small_majority.csv"
   ]
  },
  {
   "cell_type": "code",
   "execution_count": 8,
   "id": "ee0e6ff4",
   "metadata": {
    "scrolled": true
   },
   "outputs": [
    {
     "name": "stdout",
     "output_type": "stream",
     "text": [
      "CPU times: user 2 µs, sys: 0 ns, total: 2 µs\n",
      "Wall time: 5.96 µs\n"
     ]
    }
   ],
   "source": [
    "%%time\n",
    "# !python PanPep.py --learning_setting majority \\\n",
    "#     --update_step_test 10 \\\n",
    "#     --input ./Data/Small_majority.csv \\\n",
    "#     --output ./Output/Example_majority_output.csv \n"
   ]
  },
  {
   "cell_type": "markdown",
   "id": "03e96b43",
   "metadata": {},
   "source": [
    "# Create data"
   ]
  },
  {
   "cell_type": "code",
   "execution_count": 9,
   "id": "5823e504",
   "metadata": {},
   "outputs": [],
   "source": [
    "\n",
    "## MCPAS\n",
    "df = pd.read_parquet(\"/Users/kyoheikoyama/workspace/TCRPrediction/data/benchmark_tpp1_mcpas_test.parquet\")\n",
    "df_clean_mcpas =  df.rename(\n",
    "    columns={'tcrb':'CDR3', 'peptide':'Peptide', 'sign':'Label'}\n",
    ")[['Peptide','CDR3','Label',]].sort_values(by=['Peptide'])\n",
    "# .drop(columns=['Label'])\n",
    "# df_clean_mcpas.to_csv('./Data/benchmark_tpp1_mcpas.csv', index=None)\n",
    "\n",
    "## VDJDB\n",
    "df = pd.read_parquet(\"/Users/kyoheikoyama/workspace/TCRPrediction/data/benchmark_tpp1_vdjdb_test.parquet\")\n",
    "df_clean_vdjdb =  df.rename(\n",
    "    columns={'tcrb':'CDR3', 'peptide':'Peptide', 'sign':'Label'}\n",
    ")[['Peptide','CDR3','Label',]].sort_values(by=['Peptide'])\n",
    "# .drop(columns=['Label'])\n",
    "# df_clean_vdjdb.to_csv('./Data/benchmark_tpp1_vdjdb.csv', index=None)"
   ]
  },
  {
   "cell_type": "markdown",
   "id": "4951e834",
   "metadata": {},
   "source": [
    "# Zero-shot"
   ]
  },
  {
   "cell_type": "code",
   "execution_count": 10,
   "id": "4459f824",
   "metadata": {
    "scrolled": true
   },
   "outputs": [
    {
     "name": "stdout",
     "output_type": "stream",
     "text": [
      "python: can't open file 'PanPep.py': [Errno 2] No such file or directory\n",
      "python: can't open file 'PanPep.py': [Errno 2] No such file or directory\n",
      "CPU times: user 7.27 ms, sys: 12.7 ms, total: 19.9 ms\n",
      "Wall time: 333 ms\n"
     ]
    }
   ],
   "source": [
    "%%time\n",
    "\n",
    "!python PanPep.py --learning_setting zero-shot --update_step_test 100 \\\n",
    "    --input ./Data/benchmark_tpp1_vdjdb.csv --output ./Output/benchmark_tpp1_vdjdb_output.csv\n",
    "\n",
    "!python PanPep.py --learning_setting zero-shot --update_step_test 100 \\\n",
    "    --input ./Data/benchmark_tpp1_mcpas.csv --output ./Output/benchmark_tpp1_mcpas_output.csv \n",
    "\n"
   ]
  },
  {
   "cell_type": "code",
   "execution_count": 11,
   "id": "053b15f6",
   "metadata": {},
   "outputs": [],
   "source": [
    "from sklearn.metrics import roc_auc_score\n",
    "\n",
    "ypred_vdjdb = pd.read_csv(f\"{panpepdir}/Output/benchmark_tpp1_vdjdb_output.csv\")\n",
    "ypred_mcpas = pd.read_csv(f\"{panpepdir}/Output/benchmark_tpp1_mcpas_output.csv\")"
   ]
  },
  {
   "cell_type": "markdown",
   "id": "d45d5bc3",
   "metadata": {},
   "source": [
    "# Majority"
   ]
  },
  {
   "cell_type": "code",
   "execution_count": 12,
   "id": "569636c7",
   "metadata": {},
   "outputs": [],
   "source": [
    "def add_tcrpep(df_mcpas_test):\n",
    "    df_mcpas_test['tcr_pep'] = df_mcpas_test['tcra'] + \":\" + df_mcpas_test['tcrb'] + \":\"  + df_mcpas_test['peptide']\n",
    "#     df_mcpas_test['tcr_pep'] = df_mcpas_test['tcrb'] + \":\"  + df_mcpas_test['peptide']\n",
    "    return df_mcpas_test\n",
    "\n"
   ]
  },
  {
   "cell_type": "code",
   "execution_count": 13,
   "id": "bc99b226",
   "metadata": {},
   "outputs": [],
   "source": [
    "import pandas as pd\n",
    "\n",
    "## MCPAS\n",
    "\n",
    "\n",
    "def create_data(dataname):\n",
    "    df_test = pd.read_parquet(f\"/Users/kyoheikoyama/workspace/TCRPrediction/data/benchmark_tpp1_{dataname}_test.parquet\")\n",
    "    df_test.sign = \"Unknown\"\n",
    "    df_train = pd.read_parquet(f\"/Users/kyoheikoyama/workspace/TCRPrediction/data/benchmark_tpp1_{dataname}_train.parquet\")\n",
    "    \n",
    "    df = pd.concat([df_train, df_test])\n",
    "    \n",
    "    df_clean_mcpas =  df.rename(\n",
    "        columns={'tcrb':'CDR3', 'peptide':'Peptide', 'sign':'Label'}\n",
    "    )[['Peptide','CDR3','Label',]].sort_values(by=['Peptide', 'Label'])\n",
    "    \n",
    "    #df_clean_mcpas.to_csv(f'./Data/benchmark_tpp1_majority_{dataname}.csv', index=None)\n",
    "\n",
    "dataname = 'mcpas'\n",
    "create_data(dataname)\n",
    "\n",
    "dataname = 'vdjdb'\n",
    "create_data(dataname)\n"
   ]
  },
  {
   "cell_type": "code",
   "execution_count": 14,
   "id": "1aa1bc95",
   "metadata": {
    "scrolled": true
   },
   "outputs": [
    {
     "name": "stdout",
     "output_type": "stream",
     "text": [
      "CPU times: user 2 µs, sys: 1 µs, total: 3 µs\n",
      "Wall time: 7.15 µs\n"
     ]
    }
   ],
   "source": [
    "%%time\n",
    "# !python PanPep.py --learning_setting majority --update_step_test 200 --input ./Data/benchmark_tpp1_majority_vdjdb.csv --output ./Output/benchmark_tpp1_vdjdb_output_majority.csv\n",
    "\n",
    "# !python PanPep.py --learning_setting majority --update_step_test 200 --input ./Data/benchmark_tpp1_majority_mcpas.csv --output ./Output/benchmark_tpp1_mcpas_output_majority.csv \n"
   ]
  },
  {
   "cell_type": "code",
   "execution_count": 15,
   "id": "4122434b",
   "metadata": {},
   "outputs": [],
   "source": [
    "df_mcpas_train = pd.DataFrame(pd.read_pickle(f\"../../external_data/ERGO-II/Samples/mcpas_train_samples.pickle\")).query('tcra!=\"UNK\"') #.query('sign==1')\n",
    "df_mcpas_train = add_tcrpep(df_mcpas_train)\n",
    "df_vdjdb_train = pd.DataFrame(pd.read_pickle(f\"../../external_data/ERGO-II/Samples/vdjdb_no10x_train_samples.pickle\")).query('tcra!=\"UNK\"') #.query('sign==1')\n",
    "df_vdjdb_train = add_tcrpep(df_vdjdb_train)\n",
    "\n"
   ]
  },
  {
   "cell_type": "markdown",
   "id": "aa8f8361",
   "metadata": {},
   "source": [
    "# MCPAS"
   ]
  },
  {
   "cell_type": "code",
   "execution_count": 16,
   "id": "1f05a897",
   "metadata": {},
   "outputs": [
    {
     "name": "stdout",
     "output_type": "stream",
     "text": [
      "(4729, 15) (4321, 3)\n"
     ]
    }
   ],
   "source": [
    "dataname = 'mcpas'\n",
    "\n",
    "ypred = pd.read_csv(f\"{panpepdir}/Output/benchmark_tpp1_{dataname}_output_majority.csv\")\n",
    "y_test = pd.read_parquet(f\"/Users/kyoheikoyama/workspace/TCRPrediction/data/benchmark_tpp1_{dataname}_test.parquet\")\n",
    "\n",
    "ypred = ypred.drop_duplicates(['CDR3', 'Peptide'])\n",
    "y_test = pd.merge(y_test, ypred, \n",
    "         left_on=['tcrb', 'peptide'], \n",
    "         right_on=['CDR3', 'Peptide'], \n",
    "         how='left')\n",
    "y_test.Score = [float(s.replace('tensor(','').replace(')','')) if isinstance(s, str) else s.item() for s in y_test.Score]\n",
    "\n",
    "y_test = add_tcrpep(y_test)\n",
    "\n",
    "y_test = y_test[~y_test.tcr_pep.isin(df_mcpas_train.tcr_pep)]\n",
    "\n",
    "print(y_test.shape, ypred.shape)\n"
   ]
  },
  {
   "cell_type": "code",
   "execution_count": 17,
   "id": "4b20ac56",
   "metadata": {
    "scrolled": true
   },
   "outputs": [
    {
     "name": "stdout",
     "output_type": "stream",
     "text": [
      "roc_auc_score 0.8373969080247107\n",
      "average_precision_score 0.4518658630841503\n"
     ]
    }
   ],
   "source": [
    "from sklearn.metrics import roc_auc_score, average_precision_score\n",
    "\n",
    "print(\"roc_auc_score\", roc_auc_score(y_test.sign, y_test.Score))\n",
    "\n",
    "print(\"average_precision_score\",average_precision_score(y_test.sign, y_test.Score))"
   ]
  },
  {
   "cell_type": "code",
   "execution_count": 18,
   "id": "354c9bd2",
   "metadata": {},
   "outputs": [
    {
     "data": {
      "text/plain": [
       "(4729, 15)"
      ]
     },
     "execution_count": 18,
     "metadata": {},
     "output_type": "execute_result"
    }
   ],
   "source": [
    "y_test.shape"
   ]
  },
  {
   "cell_type": "markdown",
   "id": "9d400732",
   "metadata": {},
   "source": [
    "# VDJDB"
   ]
  },
  {
   "cell_type": "code",
   "execution_count": 19,
   "id": "3b43ad4b",
   "metadata": {},
   "outputs": [
    {
     "name": "stdout",
     "output_type": "stream",
     "text": [
      "(4485, 11) (4485, 3)\n",
      "(4485, 14) (3360, 3)\n",
      "(4010, 15) (3360, 3)\n",
      "roc_auc_score 0.9009326715410326\n",
      "average_precision_score 0.6435366106466862\n"
     ]
    }
   ],
   "source": [
    "dataname = 'vdjdb'\n",
    "\n",
    "ypred = pd.read_csv(f\"{panpepdir}/Output/benchmark_tpp1_{dataname}_output_majority.csv\")\n",
    "y_test = pd.read_parquet(f\"/Users/kyoheikoyama/workspace/TCRPrediction/data/benchmark_tpp1_{dataname}_test.parquet\")\n",
    "print(y_test.shape, ypred.shape)\n",
    "\n",
    "ypred = ypred.drop_duplicates(['CDR3', 'Peptide'])\n",
    "y_test = pd.merge(y_test, ypred, \n",
    "         left_on=['tcrb', 'peptide'], \n",
    "         right_on=['CDR3', 'Peptide'], \n",
    "         how='left')\n",
    "\n",
    "print(y_test.shape, ypred.shape)\n",
    "\n",
    "\n",
    "y_test.Score = [float(s.replace('tensor(','').replace(')','')) if isinstance(s, str) else s.item() for s in y_test.Score]\n",
    "\n",
    "y_test = add_tcrpep(y_test)\n",
    "\n",
    "\n",
    "y_test = y_test[~y_test.tcr_pep.isin(df_vdjdb_train.tcr_pep)]\n",
    "\n",
    "print(y_test.shape, ypred.shape)\n",
    "\n",
    "print(\"roc_auc_score\",roc_auc_score(y_test.sign, y_test.Score))\n",
    "\n",
    "print(\"average_precision_score\",average_precision_score(y_test.sign, y_test.Score))\n",
    "\n",
    "\n"
   ]
  },
  {
   "cell_type": "code",
   "execution_count": 20,
   "id": "15753356",
   "metadata": {},
   "outputs": [
    {
     "data": {
      "text/plain": [
       "((4010, 15), (3360, 3))"
      ]
     },
     "execution_count": 20,
     "metadata": {},
     "output_type": "execute_result"
    }
   ],
   "source": [
    "y_test.shape, ypred.shape"
   ]
  },
  {
   "cell_type": "code",
   "execution_count": 21,
   "id": "0a34b559",
   "metadata": {},
   "outputs": [
    {
     "data": {
      "text/plain": [
       "False    4010\n",
       "Name: tcr_pep, dtype: int64"
      ]
     },
     "execution_count": 21,
     "metadata": {},
     "output_type": "execute_result"
    }
   ],
   "source": [
    "pd.value_counts(y_test.tcr_pep.isin(df_vdjdb_train.tcr_pep))"
   ]
  },
  {
   "cell_type": "code",
   "execution_count": null,
   "id": "c7f2d1c5",
   "metadata": {},
   "outputs": [],
   "source": []
  },
  {
   "cell_type": "code",
   "execution_count": null,
   "id": "ece4b16b",
   "metadata": {},
   "outputs": [],
   "source": []
  },
  {
   "cell_type": "code",
   "execution_count": null,
   "id": "11f46334",
   "metadata": {
    "scrolled": true
   },
   "outputs": [],
   "source": []
  },
  {
   "cell_type": "code",
   "execution_count": null,
   "id": "7e382fe3",
   "metadata": {},
   "outputs": [],
   "source": []
  }
 ],
 "metadata": {
  "kernelspec": {
   "display_name": "py39",
   "language": "python",
   "name": "py39"
  },
  "language_info": {
   "codemirror_mode": {
    "name": "ipython",
    "version": 3
   },
   "file_extension": ".py",
   "mimetype": "text/x-python",
   "name": "python",
   "nbconvert_exporter": "python",
   "pygments_lexer": "ipython3",
   "version": "3.9.16"
  },
  "toc": {
   "base_numbering": 1,
   "nav_menu": {},
   "number_sections": true,
   "sideBar": true,
   "skip_h1_title": false,
   "title_cell": "Table of Contents",
   "title_sidebar": "Contents",
   "toc_cell": false,
   "toc_position": {},
   "toc_section_display": true,
   "toc_window_display": false
  }
 },
 "nbformat": 4,
 "nbformat_minor": 5
}
