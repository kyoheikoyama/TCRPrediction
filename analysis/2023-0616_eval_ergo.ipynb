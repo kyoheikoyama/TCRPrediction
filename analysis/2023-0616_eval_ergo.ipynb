{
 "cells": [
  {
   "cell_type": "code",
   "execution_count": 1,
   "id": "2057e6d5",
   "metadata": {},
   "outputs": [],
   "source": [
    "import pandas as pd\n",
    "\n",
    "\n",
    "def add_tcrspep(df):\n",
    "    df[\"tcrs_pep\"] = df[\"tcra\"] + \":\" + df[\"tcrb\"] + \"&\"  + df[\"peptide\"] \n",
    "    return df\n",
    "\n",
    "def renamecolumns(df):\n",
    "    dic = {'TRA':\"tcra\", \"TRB\":\"tcrb\", \n",
    "           \"TRAV\":\"va\", \"TRAJ\":\"ja\",\n",
    "              \"TRBV\":\"vb\", \"TRBJ\":\"jb\",\n",
    "                \"T-Cell-Type\":\"t_cell_type\",\n",
    "                \"Peptide\":\"peptide\", \"MHC\":\"mhc\"}\n",
    "    inverse_dic = {v:k for k,v in dic.items()}\n",
    "           \n",
    "    return df.rename(columns=dic)\n",
    "\n",
    "\n",
    "train_mcpas = pd.DataFrame(pd.read_pickle(\"./Samples/mcpas_train_samples.pickle\")).query('tcra!=\"UNK\"')\n",
    "train_mcpas = add_tcrspep(train_mcpas)\n",
    "train_vdjdb = pd.DataFrame(pd.read_pickle(\"./Samples/vdjdb_no10x_train_samples.pickle\")).query('tcra!=\"UNK\"')\n",
    "train_vdjdb = add_tcrspep(train_vdjdb)\n"
   ]
  },
  {
   "cell_type": "code",
   "execution_count": 2,
   "id": "05f822e1",
   "metadata": {},
   "outputs": [
    {
     "data": {
      "text/html": [
       "<div>\n",
       "<style scoped>\n",
       "    .dataframe tbody tr th:only-of-type {\n",
       "        vertical-align: middle;\n",
       "    }\n",
       "\n",
       "    .dataframe tbody tr th {\n",
       "        vertical-align: top;\n",
       "    }\n",
       "\n",
       "    .dataframe thead th {\n",
       "        text-align: right;\n",
       "    }\n",
       "</style>\n",
       "<table border=\"1\" class=\"dataframe\">\n",
       "  <thead>\n",
       "    <tr style=\"text-align: right;\">\n",
       "      <th></th>\n",
       "      <th>TRA</th>\n",
       "      <th>TRB</th>\n",
       "      <th>TRAV</th>\n",
       "      <th>TRAJ</th>\n",
       "      <th>TRBV</th>\n",
       "      <th>TRBJ</th>\n",
       "      <th>T-Cell-Type</th>\n",
       "      <th>Peptide</th>\n",
       "      <th>protein</th>\n",
       "      <th>MHC</th>\n",
       "      <th>sign</th>\n",
       "      <th>Score</th>\n",
       "    </tr>\n",
       "  </thead>\n",
       "  <tbody>\n",
       "    <tr>\n",
       "      <th>0</th>\n",
       "      <td>CAASNYGSSGNKLIF</td>\n",
       "      <td>CTCSAGTGGYNYAEQFF</td>\n",
       "      <td>TRAV1-01</td>\n",
       "      <td>TRAJ3-01</td>\n",
       "      <td>TRBV1-01</td>\n",
       "      <td>TRBJ2-1:01</td>\n",
       "      <td>CD8</td>\n",
       "      <td>SSPPMFRV</td>\n",
       "      <td>M38</td>\n",
       "      <td>H-2Kb</td>\n",
       "      <td>0</td>\n",
       "      <td>9.213172e-01</td>\n",
       "    </tr>\n",
       "    <tr>\n",
       "      <th>1</th>\n",
       "      <td>UNK</td>\n",
       "      <td>CASSQWPGHQPQHF</td>\n",
       "      <td>None</td>\n",
       "      <td>None</td>\n",
       "      <td>TRBV4-1</td>\n",
       "      <td>TRBJ1-5</td>\n",
       "      <td>CD8</td>\n",
       "      <td>LPRRSGAAGA</td>\n",
       "      <td>NP177</td>\n",
       "      <td>HLA-B7</td>\n",
       "      <td>0</td>\n",
       "      <td>7.332439e-01</td>\n",
       "    </tr>\n",
       "    <tr>\n",
       "      <th>2</th>\n",
       "      <td>CAEIPRSPMFSGGYNKLIF</td>\n",
       "      <td>CASSIFTRRGYEQYF</td>\n",
       "      <td>TRAV5</td>\n",
       "      <td>None</td>\n",
       "      <td>TRBV28</td>\n",
       "      <td>None</td>\n",
       "      <td>None</td>\n",
       "      <td>SSLENFRAYV</td>\n",
       "      <td>PA</td>\n",
       "      <td>H-2Db</td>\n",
       "      <td>0</td>\n",
       "      <td>1.404658e-08</td>\n",
       "    </tr>\n",
       "    <tr>\n",
       "      <th>3</th>\n",
       "      <td>UNK</td>\n",
       "      <td>CSGRSKGAVNEKLFF</td>\n",
       "      <td>None</td>\n",
       "      <td>None</td>\n",
       "      <td>TRBV29-1</td>\n",
       "      <td>TRBJ1-4</td>\n",
       "      <td>CD8</td>\n",
       "      <td>NLVPMVATV</td>\n",
       "      <td>pp65</td>\n",
       "      <td>HLA-A2</td>\n",
       "      <td>0</td>\n",
       "      <td>6.738620e-01</td>\n",
       "    </tr>\n",
       "    <tr>\n",
       "      <th>4</th>\n",
       "      <td>UNK</td>\n",
       "      <td>CASSTGDYAEQF</td>\n",
       "      <td>None</td>\n",
       "      <td>None</td>\n",
       "      <td>TRBV6</td>\n",
       "      <td>TRBJ2-1</td>\n",
       "      <td>CD8</td>\n",
       "      <td>LPRRSGAAGA</td>\n",
       "      <td>NP177</td>\n",
       "      <td>HLA-B7</td>\n",
       "      <td>0</td>\n",
       "      <td>1.168027e-06</td>\n",
       "    </tr>\n",
       "  </tbody>\n",
       "</table>\n",
       "</div>"
      ],
      "text/plain": [
       "                   TRA                TRB      TRAV      TRAJ      TRBV   \n",
       "0      CAASNYGSSGNKLIF  CTCSAGTGGYNYAEQFF  TRAV1-01  TRAJ3-01  TRBV1-01  \\\n",
       "1                  UNK     CASSQWPGHQPQHF      None      None   TRBV4-1   \n",
       "2  CAEIPRSPMFSGGYNKLIF    CASSIFTRRGYEQYF     TRAV5      None    TRBV28   \n",
       "3                  UNK    CSGRSKGAVNEKLFF      None      None  TRBV29-1   \n",
       "4                  UNK       CASSTGDYAEQF      None      None     TRBV6   \n",
       "\n",
       "         TRBJ T-Cell-Type     Peptide protein     MHC  sign         Score  \n",
       "0  TRBJ2-1:01         CD8    SSPPMFRV     M38   H-2Kb     0  9.213172e-01  \n",
       "1     TRBJ1-5         CD8  LPRRSGAAGA   NP177  HLA-B7     0  7.332439e-01  \n",
       "2        None        None  SSLENFRAYV      PA   H-2Db     0  1.404658e-08  \n",
       "3     TRBJ1-4         CD8   NLVPMVATV    pp65  HLA-A2     0  6.738620e-01  \n",
       "4     TRBJ2-1         CD8  LPRRSGAAGA   NP177  HLA-B7     0  1.168027e-06  "
      ]
     },
     "execution_count": 2,
     "metadata": {},
     "output_type": "execute_result"
    }
   ],
   "source": [
    "pd.read_parquet(\"./mcpas_results.parquet\").head()"
   ]
  },
  {
   "cell_type": "code",
   "execution_count": 3,
   "id": "9207c213",
   "metadata": {},
   "outputs": [],
   "source": [
    "# df_mcpas = pd.read_parquet(\"./mcpas_results.parquet\")\n",
    "# df_vdjdb = pd.read_parquet(\"./vdjdb_results.parquet\")\n",
    "\n",
    "df_mcpas = pd.read_parquet(\"./mcpas_onlyseqsresults.parquet\")\n",
    "df_vdjdb = pd.read_parquet(\"./vdjdb_onlyseqsresults.parquet\")\n",
    "\n",
    "\n",
    "\n",
    "df_mcpas = renamecolumns(df_mcpas).query('tcra!=\"UNK\"')\n",
    "df_mcpas = add_tcrspep(df_mcpas)\n",
    "\n",
    "df_vdjdb = renamecolumns(df_vdjdb).query('tcra!=\"UNK\"')\n",
    "df_vdjdb = add_tcrspep(df_vdjdb)"
   ]
  },
  {
   "cell_type": "code",
   "execution_count": 4,
   "id": "153bb7e8",
   "metadata": {},
   "outputs": [],
   "source": [
    "from sklearn.metrics import roc_auc_score, average_precision_score\n",
    "\n",
    "def eval_df(df):\n",
    "    print(\"len(df)\", len(df))\n",
    "    print(\"pos rate\", df.sign.mean())\n",
    "    yt = df.sign\n",
    "    yp = df.Score\n",
    "    print(\"roc\", roc_auc_score(yt,yp))    \n",
    "    print(\"avp\", average_precision_score(yt,yp))"
   ]
  },
  {
   "cell_type": "code",
   "execution_count": 5,
   "id": "500a1dd4",
   "metadata": {},
   "outputs": [
    {
     "name": "stdout",
     "output_type": "stream",
     "text": [
      "len(df) 4729\n",
      "pos rate 0.1511947557623176\n",
      "roc 0.8128513489500035\n",
      "avp 0.39786160973452506\n"
     ]
    }
   ],
   "source": [
    "eval_df(df_mcpas[~df_mcpas.tcrs_pep.isin(train_mcpas.tcrs_pep)])"
   ]
  },
  {
   "cell_type": "code",
   "execution_count": 6,
   "id": "2213f06b",
   "metadata": {},
   "outputs": [
    {
     "name": "stdout",
     "output_type": "stream",
     "text": [
      "len(df) 4010\n",
      "pos rate 0.15037406483790525\n",
      "roc 0.844517019637163\n",
      "avp 0.48111121905385096\n"
     ]
    }
   ],
   "source": [
    "# eval_df(df_mcpas)\n",
    "\n",
    "eval_df(df_vdjdb[~df_vdjdb.tcrs_pep.isin(train_vdjdb.tcrs_pep)])\n"
   ]
  },
  {
   "cell_type": "code",
   "execution_count": null,
   "id": "62ba65f0",
   "metadata": {},
   "outputs": [],
   "source": []
  }
 ],
 "metadata": {
  "kernelspec": {
   "display_name": "cryoem2",
   "language": "python",
   "name": "cryoem2"
  },
  "language_info": {
   "codemirror_mode": {
    "name": "ipython",
    "version": 3
   },
   "file_extension": ".py",
   "mimetype": "text/x-python",
   "name": "python",
   "nbconvert_exporter": "python",
   "pygments_lexer": "ipython3",
   "version": "3.10.11"
  }
 },
 "nbformat": 4,
 "nbformat_minor": 5
}
