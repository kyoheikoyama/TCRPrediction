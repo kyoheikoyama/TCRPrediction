{
 "cells": [
  {
   "cell_type": "code",
   "execution_count": 1,
   "id": "2057e6d5",
   "metadata": {},
   "outputs": [],
   "source": [
    "import pandas as pd\n",
    "from sklearn.metrics import roc_auc_score, average_precision_score\n",
    "\n",
    "\n",
    "def add_tcrspep(df, setting=\"onlyseq\"):\n",
    "    if setting==\"noTCellType\":\n",
    "        for i, col in enumerate([\"tcra\",\"tcrb\",\"peptide\",\"va\",\"ja\",\"vb\",\"ja\",\"mhc\"]):\n",
    "            if i ==0: ser = df[col]\n",
    "            else: ser += \":\" + df[col]\n",
    "        df[\"tcrs_pep\"] = ser\n",
    "    elif setting==\"onlyseq\":\n",
    "        df[\"tcrs_pep\"] = df[\"tcra\"] + \":\" + df[\"tcrb\"] + \"&\"  + df[\"peptide\"] \n",
    "    \n",
    "    return df\n",
    "\n",
    "def renamecolumns(df):\n",
    "    dic = {'TRA':\"tcra\", \"TRB\":\"tcrb\", \n",
    "           \"TRAV\":\"va\", \"TRAJ\":\"ja\",\n",
    "              \"TRBV\":\"vb\", \"TRBJ\":\"jb\",\n",
    "                \"T-Cell-Type\":\"t_cell_type\",\n",
    "                \"Peptide\":\"peptide\", \"MHC\":\"mhc\"}\n",
    "    inverse_dic = {v:k for k,v in dic.items()}\n",
    "           \n",
    "    return df.rename(columns=dic)\n",
    "\n",
    "def eval_df(df):\n",
    "    print(\"len(df)\", len(df))\n",
    "    print(\"pos rate\", df.sign.mean())\n",
    "    yt = df.sign\n",
    "    yp = df.Score\n",
    "    print(\"roc\", roc_auc_score(yt,yp))    \n",
    "    print(\"avp\", average_precision_score(yt,yp))\n",
    "\n",
    "train_mcpas = pd.DataFrame(pd.read_pickle(\"./Samples/mcpas_train_samples.pickle\")).query('tcra!=\"UNK\"')\n",
    "train_mcpas = add_tcrspep(train_mcpas)\n",
    "train_vdjdb = pd.DataFrame(pd.read_pickle(\"./Samples/vdjdb_no10x_train_samples.pickle\")).query('tcra!=\"UNK\"')\n",
    "train_vdjdb = add_tcrspep(train_vdjdb)\n"
   ]
  },
  {
   "cell_type": "code",
   "execution_count": 2,
   "id": "9207c213",
   "metadata": {},
   "outputs": [],
   "source": [
    "# df_mcpas = pd.read_parquet(\"./mcpas_results.parquet\")\n",
    "# df_vdjdb = pd.read_parquet(\"./vdjdb_results.parquet\")\n",
    "\n",
    "df_mcpas = pd.read_parquet(\"./mcpas_onlyseqresults.parquet\")\n",
    "df_vdjdb = pd.read_parquet(\"./vdjdb_onlyseqresults.parquet\")\n",
    "\n",
    "\n",
    "\n",
    "df_mcpas = renamecolumns(df_mcpas).query('tcra!=\"UNK\"')\n",
    "df_mcpas = add_tcrspep(df_mcpas, \"onlyseq\")\n",
    "\n",
    "df_vdjdb = renamecolumns(df_vdjdb).query('tcra!=\"UNK\"')\n",
    "df_vdjdb = add_tcrspep(df_vdjdb, \"onlyseq\")"
   ]
  },
  {
   "cell_type": "code",
   "execution_count": 3,
   "id": "27a47551",
   "metadata": {},
   "outputs": [
    {
     "name": "stdout",
     "output_type": "stream",
     "text": [
      "len(df) 4729\n",
      "pos rate 0.1511947557623176\n",
      "roc 0.6938775474649913\n",
      "avp 0.27838590829185034\n"
     ]
    }
   ],
   "source": [
    "eval_df(df_mcpas[~df_mcpas.tcrs_pep.isin(train_mcpas.tcrs_pep)])"
   ]
  },
  {
   "cell_type": "code",
   "execution_count": 4,
   "id": "6b713871",
   "metadata": {},
   "outputs": [
    {
     "name": "stdout",
     "output_type": "stream",
     "text": [
      "len(df) 4010\n",
      "pos rate 0.15037406483790525\n",
      "roc 0.6162972438463198\n",
      "avp 0.17918598732717866\n"
     ]
    }
   ],
   "source": [
    "# eval_df(df_mcpas)\n",
    "df_vdjdb = df_vdjdb[~df_vdjdb.tcrs_pep.isin(train_vdjdb.tcrs_pep)]\n",
    "eval_df(df_vdjdb)\n"
   ]
  },
  {
   "cell_type": "markdown",
   "id": "6bb9a7c1",
   "metadata": {},
   "source": [
    "# No Tcell Type"
   ]
  },
  {
   "cell_type": "code",
   "execution_count": 5,
   "id": "a4f63065",
   "metadata": {},
   "outputs": [],
   "source": [
    "# df_mcpas = pd.read_parquet(\"./mcpas_results.parquet\")\n",
    "# df_vdjdb = pd.read_parquet(\"./vdjdb_results.parquet\")\n",
    "\n",
    "df_mcpas2 = pd.read_parquet(\"./mcpas_noTCellTyperesults.parquet\")\n",
    "df_vdjdb2 = pd.read_parquet(\"./vdjdb_noTCellTyperesults.parquet\")\n",
    "\n",
    "df_mcpas2 = renamecolumns(df_mcpas2).query('tcra!=\"UNK\"')\n",
    "df_mcpas2 = add_tcrspep(df_mcpas2, \"noTCellType\")\n",
    "\n",
    "df_vdjdb2 = renamecolumns(df_vdjdb2).query('tcra!=\"UNK\"')\n",
    "df_vdjdb2 = add_tcrspep(df_vdjdb2, \"noTCellType\")"
   ]
  },
  {
   "cell_type": "code",
   "execution_count": 6,
   "id": "975aeb37",
   "metadata": {},
   "outputs": [
    {
     "name": "stdout",
     "output_type": "stream",
     "text": [
      "len(df) 5611\n",
      "pos rate 0.16717162716093387\n",
      "roc 0.7239629555441892\n",
      "avp 0.3095484825704622\n"
     ]
    }
   ],
   "source": [
    "eval_df(df_mcpas2[~df_mcpas2.tcrs_pep.isin(train_mcpas.tcrs_pep)])"
   ]
  },
  {
   "cell_type": "code",
   "execution_count": 7,
   "id": "8e8f0803",
   "metadata": {},
   "outputs": [
    {
     "name": "stdout",
     "output_type": "stream",
     "text": [
      "len(df) 4010\n",
      "pos rate 0.15037406483790525\n",
      "roc 0.44781717087198775\n",
      "avp 0.12977735554536068\n"
     ]
    }
   ],
   "source": [
    "a = df_vdjdb2[~df_vdjdb2.tcrs_pep.isin(train_vdjdb.tcrs_pep)].loc[df_vdjdb.index]\n",
    "eval_df(a)\n"
   ]
  },
  {
   "cell_type": "code",
   "execution_count": 8,
   "id": "6b64b547",
   "metadata": {},
   "outputs": [
    {
     "name": "stdout",
     "output_type": "stream",
     "text": [
      "/bin/bash: /home/kyohei/miniconda3/envs/cryoem/lib/libtinfo.so.6: no version information available (required by /bin/bash)\r\n",
      "-rw-rw-r-- 1 kyohei kyohei 314733  6月 18 01:03 mcpas_noTCellTyperesults.parquet\r\n",
      "-rw-rw-r-- 1 kyohei kyohei 310220  6月 18 01:04 mcpas_onlyseqresults.parquet\r\n",
      "-rw-rw-r-- 1 kyohei kyohei 456221  6月 18 01:04 vdjdb_noTCellTyperesults.parquet\r\n",
      "-rw-rw-r-- 1 kyohei kyohei 443035  6月 18 01:04 vdjdb_onlyseqresults.parquet\r\n"
     ]
    }
   ],
   "source": [
    "!ls -l *.parquet"
   ]
  },
  {
   "cell_type": "code",
   "execution_count": 10,
   "id": "edf31cb2",
   "metadata": {},
   "outputs": [
    {
     "name": "stdout",
     "output_type": "stream",
     "text": [
      "len(df) 4729\n",
      "pos rate 0.1511947557623176\n",
      "roc 0.7306497189905262\n",
      "avp 0.28110697086616077\n",
      "len(df) 4010\n",
      "pos rate 0.15037406483790525\n",
      "roc 0.44781717087198775\n",
      "avp 0.12977735554536068\n"
     ]
    }
   ],
   "source": [
    "\n",
    "df_mcpas2 = pd.read_parquet(\"./mcpas_noTCellTyperesults.parquet\")\n",
    "df_vdjdb2 = pd.read_parquet(\"./vdjdb_noTCellTyperesults.parquet\")\n",
    "\n",
    "df_mcpas2 = renamecolumns(df_mcpas2).query('tcra!=\"UNK\"')\n",
    "df_mcpas2 = add_tcrspep(df_mcpas2, \"onlyseq\")\n",
    "\n",
    "df_vdjdb2 = renamecolumns(df_vdjdb2).query('tcra!=\"UNK\"')\n",
    "df_vdjdb2 = add_tcrspep(df_vdjdb2, \"onlyseq\")\n",
    "\n",
    "\n",
    "eval_df(df_mcpas2[~df_mcpas2.tcrs_pep.isin(train_mcpas.tcrs_pep)])\n",
    "\n",
    "eval_df(df_vdjdb2[~df_vdjdb2.tcrs_pep.isin(train_vdjdb.tcrs_pep)])\n"
   ]
  },
  {
   "cell_type": "code",
   "execution_count": 11,
   "id": "e385f007",
   "metadata": {},
   "outputs": [
    {
     "name": "stdout",
     "output_type": "stream",
     "text": [
      "/bin/bash: /home/kyohei/miniconda3/envs/cryoem/lib/libtinfo.so.6: no version information available (required by /bin/bash)\r\n",
      "/home/kyohei/workspace/ERGO-II\r\n"
     ]
    }
   ],
   "source": [
    "!mv ./eval_ergo.ipynb ../TCRPrediction/analysis/2023-0616_eval_ergo.ipynb"
   ]
  },
  {
   "cell_type": "code",
   "execution_count": null,
   "id": "fd918a68",
   "metadata": {},
   "outputs": [],
   "source": []
  }
 ],
 "metadata": {
  "kernelspec": {
   "display_name": "cryoem2",
   "language": "python",
   "name": "cryoem2"
  },
  "language_info": {
   "codemirror_mode": {
    "name": "ipython",
    "version": 3
   },
   "file_extension": ".py",
   "mimetype": "text/x-python",
   "name": "python",
   "nbconvert_exporter": "python",
   "pygments_lexer": "ipython3",
   "version": "3.10.11"
  }
 },
 "nbformat": 4,
 "nbformat_minor": 5
}
