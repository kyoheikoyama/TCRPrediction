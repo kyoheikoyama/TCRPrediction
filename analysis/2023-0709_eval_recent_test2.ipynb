{
 "cells": [
  {
   "cell_type": "code",
   "execution_count": 1,
   "id": "89f84454",
   "metadata": {},
   "outputs": [],
   "source": [
    "import pandas as pd\n",
    "from sklearn.metrics import roc_auc_score, average_precision_score\n",
    "from scipy.special import softmax\n",
    "\n",
    "def get_prediction(df):\n",
    "    return df.apply(softmax, axis=1).apply(lambda x:x[1]).values\n",
    "\n",
    "\n",
    "def calc_scores(df):\n",
    "    r = roc_auc_score(df['sign'], df['prediction'])\n",
    "    a = average_precision_score(df['sign'], df['prediction'])\n",
    "    print('\\t\\t roc_auc_score: ', r)\n",
    "    print('\\t\\t average_precision_score: ', a)\n",
    "    return r,a\n",
    "    "
   ]
  },
  {
   "cell_type": "markdown",
   "id": "24e4272b",
   "metadata": {},
   "source": [
    "# Evaluation by known or new peptides"
   ]
  },
  {
   "cell_type": "code",
   "execution_count": 2,
   "id": "c0a80548",
   "metadata": {},
   "outputs": [],
   "source": [
    "df0 = pd.read_parquet('../data/entire_data.parquet')\n",
    "\n",
    "df1 = pd.read_parquet(\"../data/recent_data_test_NetTCR2.parquet\")\n",
    "df1['sign'] = df1.binder\n",
    "\n",
    "df2 = pd.read_parquet(\"../data/recent_data_test_entire_crossatten.parquet\")\n",
    "\n",
    "df2['prediction'] = get_prediction(df2[['pred0','pred1']])\n",
    "\n",
    "df3 = pd.read_parquet(\"../../TCRPrediction/data/recent_data_test_PanPep.parquet\")\n",
    "df3['sign'] = df3.ytrue\n",
    "df3['binder'] = df3.ytrue\n",
    "\n",
    "df3['prediction'] = df3.ypred\n",
    "df3['peptide'] = df3.Peptide"
   ]
  },
  {
   "cell_type": "code",
   "execution_count": 3,
   "id": "8d68ef88",
   "metadata": {},
   "outputs": [],
   "source": [
    "df1 = df1.drop_duplicates(['peptide','CDR3b'])\n",
    "df2 = df2.drop_duplicates(['peptide','tcrb'])"
   ]
  },
  {
   "cell_type": "code",
   "execution_count": 4,
   "id": "6ea1dcd9",
   "metadata": {},
   "outputs": [
    {
     "data": {
      "text/plain": [
       "(30221, 30221)"
      ]
     },
     "execution_count": 4,
     "metadata": {},
     "output_type": "execute_result"
    }
   ],
   "source": [
    "len(df3), len(df2)"
   ]
  },
  {
   "cell_type": "markdown",
   "id": "ff11cb4f",
   "metadata": {},
   "source": [
    "## Total"
   ]
  },
  {
   "cell_type": "code",
   "execution_count": 5,
   "id": "88f33b39",
   "metadata": {},
   "outputs": [],
   "source": [
    "score_df = []"
   ]
  },
  {
   "cell_type": "code",
   "execution_count": 6,
   "id": "ded8e828",
   "metadata": {},
   "outputs": [
    {
     "name": "stdout",
     "output_type": "stream",
     "text": [
      "NetTCR2.0,  30221\n",
      "\t\t roc_auc_score:  0.525653879698067\n",
      "\t\t average_precision_score:  0.18992668169051194\n",
      "Ours Cross,  30221\n",
      "\t\t roc_auc_score:  0.5438322862701774\n",
      "\t\t average_precision_score:  0.19846698443822874\n",
      "Ours PanPep,  30221\n",
      "\t\t roc_auc_score:  0.5336874870031201\n",
      "\t\t average_precision_score:  0.18967045761441126\n"
     ]
    }
   ],
   "source": [
    "print(\"NetTCR2.0, \", len(df1))\n",
    "# print('\\t roc_auc_score: ', roc_auc_score(df1['sign'], df1.prediction))\n",
    "# print('\\t average_precision_score: ', average_precision_score(df1['sign'], df1.prediction))\n",
    "r,a = calc_scores(df1)\n",
    "\n",
    "# score_df.append({\"NetTCR2.0\": {\"ROCAUC\":r, \"APS\":a}})\n",
    "score_df.append((r,a, len(df1), df1.binder.mean()))\n",
    "\n",
    "print(\"Ours Cross, \", len(df2))\n",
    "# print('\\t roc_auc_score: ', roc_auc_score(df2['sign'], df2.prediction))\n",
    "# print('\\t average_precision_score: ', average_precision_score(df2['sign'], df2.prediction))\n",
    "\n",
    "r,a = calc_scores(df2)\n",
    "\n",
    "# score_df.append({\"Ours\": {\"ROCAUC\":r, \"APS\":a}})\n",
    "score_df.append((r,a, len(df1), df1.binder.mean()))\n",
    "\n",
    "\n",
    "print(\"Ours PanPep, \", len(df2))\n",
    "r,a = calc_scores(df3)\n",
    "\n",
    "# score_df.append({\"Ours\": {\"ROCAUC\":r, \"APS\":a}})\n",
    "score_df.append((r,a, len(df3), df3.binder.mean()))\n"
   ]
  },
  {
   "cell_type": "code",
   "execution_count": 7,
   "id": "911030db",
   "metadata": {},
   "outputs": [
    {
     "data": {
      "text/html": [
       "<div>\n",
       "<style scoped>\n",
       "    .dataframe tbody tr th:only-of-type {\n",
       "        vertical-align: middle;\n",
       "    }\n",
       "\n",
       "    .dataframe tbody tr th {\n",
       "        vertical-align: top;\n",
       "    }\n",
       "\n",
       "    .dataframe thead th {\n",
       "        text-align: right;\n",
       "    }\n",
       "</style>\n",
       "<table border=\"1\" class=\"dataframe\">\n",
       "  <thead>\n",
       "    <tr style=\"text-align: right;\">\n",
       "      <th></th>\n",
       "      <th>0</th>\n",
       "      <th>1</th>\n",
       "      <th>2</th>\n",
       "      <th>3</th>\n",
       "    </tr>\n",
       "  </thead>\n",
       "  <tbody>\n",
       "    <tr>\n",
       "      <th>0</th>\n",
       "      <td>0.525654</td>\n",
       "      <td>0.189927</td>\n",
       "      <td>30221</td>\n",
       "      <td>0.174481</td>\n",
       "    </tr>\n",
       "    <tr>\n",
       "      <th>1</th>\n",
       "      <td>0.543832</td>\n",
       "      <td>0.198467</td>\n",
       "      <td>30221</td>\n",
       "      <td>0.174481</td>\n",
       "    </tr>\n",
       "    <tr>\n",
       "      <th>2</th>\n",
       "      <td>0.533687</td>\n",
       "      <td>0.189670</td>\n",
       "      <td>30221</td>\n",
       "      <td>0.174481</td>\n",
       "    </tr>\n",
       "  </tbody>\n",
       "</table>\n",
       "</div>"
      ],
      "text/plain": [
       "          0         1      2         3\n",
       "0  0.525654  0.189927  30221  0.174481\n",
       "1  0.543832  0.198467  30221  0.174481\n",
       "2  0.533687  0.189670  30221  0.174481"
      ]
     },
     "execution_count": 7,
     "metadata": {},
     "output_type": "execute_result"
    }
   ],
   "source": [
    "pd.DataFrame(score_df)"
   ]
  },
  {
   "cell_type": "markdown",
   "id": "753d7e68",
   "metadata": {},
   "source": [
    "## New pep"
   ]
  },
  {
   "cell_type": "code",
   "execution_count": 8,
   "id": "c9574d60",
   "metadata": {
    "scrolled": true
   },
   "outputs": [
    {
     "name": "stdout",
     "output_type": "stream",
     "text": [
      "Brand-new pep scores:\n",
      "\t NetTCR2.0 with brand new pep\n",
      "\t\t roc_auc_score:  0.5096581995856684\n",
      "\t\t average_precision_score:  0.17921800600325016\n",
      "\t Ours with brand new pep\n",
      "\t\t roc_auc_score:  0.518130305783687\n",
      "\t\t average_precision_score:  0.18320302173588984\n",
      "\t PanPep with brand new pep\n",
      "\t\t roc_auc_score:  0.5358842184672962\n",
      "\t\t average_precision_score:  0.19079822061297727\n"
     ]
    }
   ],
   "source": [
    "\n",
    "df1_new_pep = df1[~df1.peptide.isin(df0.peptide)]\n",
    "\n",
    "df2_new_pep = df2[~df2.peptide.isin(df0.peptide)]\n",
    "\n",
    "df3_new_pep = df3[~df3.peptide.isin(df0.peptide)]\n",
    "\n",
    "\n",
    "print('Brand-new pep scores:')\n",
    "print('\\t NetTCR2.0 with brand new pep')\n",
    "r,a = calc_scores(df1_new_pep)\n",
    "\n",
    "# score_df.append({\"NetTCR2.0 rocauc (New pep)\":r, \"NetTCR2.0 APS (New pep)\":a})\n",
    "score_df.append((r,a, len(df1_new_pep), df1_new_pep.binder.mean()))\n",
    "\n",
    "\n",
    "\n",
    "print('\\t Ours with brand new pep')\n",
    "r,a = calc_scores(df2_new_pep)\n",
    "\n",
    "# score_df.append({\"Ours rocauc (New pep)\":r, \"Ours APS (New pep)\":a})\n",
    "score_df.append((r,a, len(df1_new_pep), df1_new_pep.binder.mean()))\n",
    "\n",
    "\n",
    "print('\\t PanPep with brand new pep')\n",
    "r,a = calc_scores(df3_new_pep)\n",
    "\n",
    "# score_df.append({\"Ours rocauc (New pep)\":r, \"Ours APS (New pep)\":a})\n",
    "score_df.append((r,a, len(df3_new_pep), df3_new_pep.ytrue.mean()))\n",
    "\n",
    "\n",
    "df3_new_pep = df3[~df3.peptide.isin(df0.peptide)]"
   ]
  },
  {
   "cell_type": "markdown",
   "id": "aa1fc015",
   "metadata": {},
   "source": [
    "## Known Pep"
   ]
  },
  {
   "cell_type": "code",
   "execution_count": 9,
   "id": "c3cc3327",
   "metadata": {},
   "outputs": [
    {
     "name": "stdout",
     "output_type": "stream",
     "text": [
      "Known pep scores:\n",
      "\t NetTCR2.0 with known pep\n",
      "\t\t roc_auc_score:  0.6284454317287734\n",
      "\t\t average_precision_score:  0.30590774864880876\n",
      "\t Ours with known pep\n",
      "\t\t roc_auc_score:  0.6559003486009751\n",
      "\t\t average_precision_score:  0.3398960223994808\n",
      "\t PanPep with known pep\n",
      "\t\t roc_auc_score:  0.5199369235824169\n",
      "\t\t average_precision_score:  0.18520207110505726\n"
     ]
    }
   ],
   "source": [
    "df1_known_pep = df1[df1.peptide.isin(df0.peptide)]\n",
    "df2_known_pep = df2[df2.peptide.isin(df0.peptide)]\n",
    "df3_known_pep = df3[df3.peptide.isin(df0.peptide)]\n",
    "\n",
    "print('Known pep scores:')\n",
    "\n",
    "print('\\t NetTCR2.0 with known pep')\n",
    "r, a = calc_scores(df1_known_pep)\n",
    "# score_df.append({\"NetTCR2.0 rocauc (Known pep)\":r, \"NetTCR2.0 APS (Known pep)\":a})\n",
    "score_df.append((r,a, len(df1_known_pep), df1_known_pep.binder.mean()))\n",
    "\n",
    "\n",
    "print('\\t Ours with known pep')\n",
    "r,a = calc_scores(df2_known_pep)\n",
    "\n",
    "# score_df.append({\"Ours rocauc (Known pep)\":r, \"Ours APS (Known pep)\":a})\n",
    "score_df.append((r,a, len(df1_known_pep), df1_known_pep.binder.mean()))\n",
    "\n",
    "\n",
    "print('\\t PanPep with known pep')\n",
    "r,a = calc_scores(df3_known_pep)\n",
    "score_df.append((r,a, len(df3_known_pep), df3_known_pep.ytrue.mean()))"
   ]
  },
  {
   "cell_type": "code",
   "execution_count": 10,
   "id": "98481c0b",
   "metadata": {},
   "outputs": [],
   "source": [
    "_score_df = pd.DataFrame(score_df)\n",
    "_score_df.columns = ['ROCAUC', 'APS', 'num interactions', 'pos rate']\n",
    "_score_df.index = ['NetTCR2.0', 'Ours', 'PanPep',\n",
    "                  'NetTCR2.0 (New peptides)', 'Ours (New peptides)',  'PanPep (New peptides)',\n",
    "                  'NetTCR2.0 (Known peptides)', 'Ours (Known peptides)',  'PanPep (Known peptides)',\n",
    "                 ]"
   ]
  },
  {
   "cell_type": "code",
   "execution_count": 11,
   "id": "2c4aa943",
   "metadata": {},
   "outputs": [
    {
     "data": {
      "text/html": [
       "<div>\n",
       "<style scoped>\n",
       "    .dataframe tbody tr th:only-of-type {\n",
       "        vertical-align: middle;\n",
       "    }\n",
       "\n",
       "    .dataframe tbody tr th {\n",
       "        vertical-align: top;\n",
       "    }\n",
       "\n",
       "    .dataframe thead th {\n",
       "        text-align: right;\n",
       "    }\n",
       "</style>\n",
       "<table border=\"1\" class=\"dataframe\">\n",
       "  <thead>\n",
       "    <tr style=\"text-align: right;\">\n",
       "      <th></th>\n",
       "      <th>ROCAUC</th>\n",
       "      <th>APS</th>\n",
       "      <th>num interactions</th>\n",
       "      <th>pos rate</th>\n",
       "    </tr>\n",
       "  </thead>\n",
       "  <tbody>\n",
       "    <tr>\n",
       "      <th>PanPep (New peptides)</th>\n",
       "      <td>0.535884</td>\n",
       "      <td>0.190798</td>\n",
       "      <td>25661</td>\n",
       "      <td>0.173883</td>\n",
       "    </tr>\n",
       "    <tr>\n",
       "      <th>PanPep (Known peptides)</th>\n",
       "      <td>0.519937</td>\n",
       "      <td>0.185202</td>\n",
       "      <td>4560</td>\n",
       "      <td>0.177851</td>\n",
       "    </tr>\n",
       "    <tr>\n",
       "      <th>PanPep</th>\n",
       "      <td>0.533687</td>\n",
       "      <td>0.189670</td>\n",
       "      <td>30221</td>\n",
       "      <td>0.174481</td>\n",
       "    </tr>\n",
       "    <tr>\n",
       "      <th>Ours (New peptides)</th>\n",
       "      <td>0.518130</td>\n",
       "      <td>0.183203</td>\n",
       "      <td>25661</td>\n",
       "      <td>0.173883</td>\n",
       "    </tr>\n",
       "    <tr>\n",
       "      <th>Ours (Known peptides)</th>\n",
       "      <td>0.655900</td>\n",
       "      <td>0.339896</td>\n",
       "      <td>4560</td>\n",
       "      <td>0.177851</td>\n",
       "    </tr>\n",
       "    <tr>\n",
       "      <th>Ours</th>\n",
       "      <td>0.543832</td>\n",
       "      <td>0.198467</td>\n",
       "      <td>30221</td>\n",
       "      <td>0.174481</td>\n",
       "    </tr>\n",
       "    <tr>\n",
       "      <th>NetTCR2.0 (New peptides)</th>\n",
       "      <td>0.509658</td>\n",
       "      <td>0.179218</td>\n",
       "      <td>25661</td>\n",
       "      <td>0.173883</td>\n",
       "    </tr>\n",
       "    <tr>\n",
       "      <th>NetTCR2.0 (Known peptides)</th>\n",
       "      <td>0.628445</td>\n",
       "      <td>0.305908</td>\n",
       "      <td>4560</td>\n",
       "      <td>0.177851</td>\n",
       "    </tr>\n",
       "    <tr>\n",
       "      <th>NetTCR2.0</th>\n",
       "      <td>0.525654</td>\n",
       "      <td>0.189927</td>\n",
       "      <td>30221</td>\n",
       "      <td>0.174481</td>\n",
       "    </tr>\n",
       "  </tbody>\n",
       "</table>\n",
       "</div>"
      ],
      "text/plain": [
       "                              ROCAUC       APS  num interactions  pos rate\n",
       "PanPep (New peptides)       0.535884  0.190798             25661  0.173883\n",
       "PanPep (Known peptides)     0.519937  0.185202              4560  0.177851\n",
       "PanPep                      0.533687  0.189670             30221  0.174481\n",
       "Ours (New peptides)         0.518130  0.183203             25661  0.173883\n",
       "Ours (Known peptides)       0.655900  0.339896              4560  0.177851\n",
       "Ours                        0.543832  0.198467             30221  0.174481\n",
       "NetTCR2.0 (New peptides)    0.509658  0.179218             25661  0.173883\n",
       "NetTCR2.0 (Known peptides)  0.628445  0.305908              4560  0.177851\n",
       "NetTCR2.0                   0.525654  0.189927             30221  0.174481"
      ]
     },
     "execution_count": 11,
     "metadata": {},
     "output_type": "execute_result"
    }
   ],
   "source": [
    "_score_df.sort_index(ascending=False)"
   ]
  },
  {
   "cell_type": "markdown",
   "id": "394754ea",
   "metadata": {},
   "source": [
    "## New TCR"
   ]
  },
  {
   "cell_type": "code",
   "execution_count": 12,
   "id": "2fff90e8",
   "metadata": {},
   "outputs": [
    {
     "name": "stdout",
     "output_type": "stream",
     "text": [
      "Brand-new tcr scores:\n",
      "\t NetTCR2.0 with brand new tcr\n",
      "\t\t roc_auc_score:  0.5248037006705324\n",
      "\t\t average_precision_score:  0.18880041269743578\n",
      "\t Ours with brand new tcr\n",
      "\t\t roc_auc_score:  0.5430312119125861\n",
      "\t\t average_precision_score:  0.19733887110598386\n",
      "\t PanPep with brand new tcr\n",
      "\t\t roc_auc_score:  0.5373796631264116\n",
      "\t\t average_precision_score:  0.1923422566755408\n"
     ]
    }
   ],
   "source": [
    "df1_new_tcr = df1[~df1.tcr_combined.isin(df0.tcr_combined)]\n",
    "df2_new_tcr = df2[~df2.tcr_combined.isin(df0.tcr_combined)]\n",
    "\n",
    "df3_new_tcr = df3[~df3.CDR3.isin(df0.tcrb)]\n",
    "\n",
    "print('Brand-new tcr scores:')\n",
    "print('\\t NetTCR2.0 with brand new tcr')\n",
    "r, a = calc_scores(df1_new_tcr)\n",
    "score_df.append((r,a, len(df1_new_tcr), df1_new_tcr.binder.mean()))\n",
    "\n",
    "print('\\t Ours with brand new tcr')\n",
    "r, a  = calc_scores(df2_new_tcr)\n",
    "score_df.append((r,a, len(df1_new_tcr), df1_new_tcr.binder.mean()))\n",
    "\n",
    "print('\\t PanPep with brand new tcr')\n",
    "r, a  = calc_scores(df3_new_tcr)\n",
    "score_df.append((r,a, len(df3_new_tcr), df3_new_tcr.ytrue.mean()))\n"
   ]
  },
  {
   "cell_type": "markdown",
   "id": "eb32b7fd",
   "metadata": {},
   "source": [
    "## Known TCRs"
   ]
  },
  {
   "cell_type": "code",
   "execution_count": 13,
   "id": "4186a709",
   "metadata": {},
   "outputs": [
    {
     "name": "stdout",
     "output_type": "stream",
     "text": [
      "Known tcr scores:\n",
      "\t NetTCR2.0 with brand new tcr\n"
     ]
    }
   ],
   "source": [
    "df1_known_tcr = df1[df1.tcr_combined.isin(df0.tcr_combined)]\n",
    "df2_known_tcr = df2[df2.tcr_combined.isin(df0.tcr_combined)]\n",
    "df3_known_tcr = df3[df3.CDR3.isin(df0.tcrb)]\n",
    "\n",
    "\n",
    "print('Known tcr scores:')\n",
    "print('\\t NetTCR2.0 with brand new tcr')\n",
    "# r, a = calc_scores(df1_known_tcr)\n",
    "# score_df.append((r,a))\n",
    "\n",
    "# print('\\t Ours with brand new tcr')\n",
    "# r, a  = calc_scores(df2_known_tcr)\n",
    "# score_df.append((r,a))\n"
   ]
  },
  {
   "cell_type": "code",
   "execution_count": 14,
   "id": "09ac3a07",
   "metadata": {},
   "outputs": [
    {
     "data": {
      "text/plain": [
       "(1076, 24)"
      ]
     },
     "execution_count": 14,
     "metadata": {},
     "output_type": "execute_result"
    }
   ],
   "source": [
    "len(df3_known_tcr), len(df1_known_tcr)"
   ]
  },
  {
   "cell_type": "code",
   "execution_count": 15,
   "id": "076a5d8f",
   "metadata": {},
   "outputs": [
    {
     "name": "stdout",
     "output_type": "stream",
     "text": [
      "recall_score 0.4583333333333333\n",
      "recall_score 0.5833333333333334\n",
      "recall_score (Panpep) 0.12\n"
     ]
    }
   ],
   "source": [
    "from sklearn.metrics import precision_score, recall_score\n",
    "print(\"recall_score\", recall_score(df1_known_tcr.binder, df1_known_tcr.prediction>0.5))\n",
    "\n",
    "print(\"recall_score\", recall_score(df1_known_tcr.binder, df2_known_tcr.prediction>0.5))\n",
    "\n",
    "r = recall_score(df3_known_tcr.ytrue, df3_known_tcr.prediction>0.5)\n",
    "print(\"recall_score (Panpep)\", f\"{r:.2f}\")"
   ]
  },
  {
   "cell_type": "code",
   "execution_count": 16,
   "id": "5368daae",
   "metadata": {},
   "outputs": [],
   "source": [
    "\n",
    "# score_df = pd.DataFrame(score_df)\n",
    "# score_df.columns = ['ROCAUC', 'APS', '# of interactions', 'Positive rate']\n",
    "# score_df.index = ['NetTCR2.0', 'Ours', \n",
    "#                   'NetTCR2.0 (New peptides)', 'Ours (New peptides)', \n",
    "#                   'NetTCR2.0 (Known peptides)', 'Ours (Known peptides)', \n",
    "#                   'NetTCR2.0 (New CDR3s)', 'Ours (New CDR3s)', \n",
    "#                  ]"
   ]
  },
  {
   "cell_type": "code",
   "execution_count": 17,
   "id": "6df5626e",
   "metadata": {},
   "outputs": [],
   "source": [
    "_score_df = pd.DataFrame(score_df)\n",
    "_score_df.columns = ['ROCAUC', 'APS', 'num interactions', 'pos rate']\n",
    "_score_df.index = ['NetTCR2.0', 'Ours', 'PanPep',\n",
    "                  'NetTCR2.0 (New peptides)', 'Ours (New peptides)',  'PanPep (New peptides)',\n",
    "                  'NetTCR2.0 (Known peptides)', 'Ours (Known peptides)',  'PanPep (Known peptides)',\n",
    "                   'NetTCR2.0 (New CDR3s)', 'Ours (New CDR3s)', 'PanPep (New CDR3s)',\n",
    "                 ]"
   ]
  },
  {
   "cell_type": "code",
   "execution_count": 18,
   "id": "dcd32397",
   "metadata": {},
   "outputs": [
    {
     "data": {
      "text/html": [
       "<div>\n",
       "<style scoped>\n",
       "    .dataframe tbody tr th:only-of-type {\n",
       "        vertical-align: middle;\n",
       "    }\n",
       "\n",
       "    .dataframe tbody tr th {\n",
       "        vertical-align: top;\n",
       "    }\n",
       "\n",
       "    .dataframe thead th {\n",
       "        text-align: right;\n",
       "    }\n",
       "</style>\n",
       "<table border=\"1\" class=\"dataframe\">\n",
       "  <thead>\n",
       "    <tr style=\"text-align: right;\">\n",
       "      <th></th>\n",
       "      <th>ROCAUC</th>\n",
       "      <th>APS</th>\n",
       "      <th>num interactions</th>\n",
       "      <th>pos rate</th>\n",
       "    </tr>\n",
       "  </thead>\n",
       "  <tbody>\n",
       "    <tr>\n",
       "      <th>PanPep (New peptides)</th>\n",
       "      <td>0.535884</td>\n",
       "      <td>0.190798</td>\n",
       "      <td>25661</td>\n",
       "      <td>0.173883</td>\n",
       "    </tr>\n",
       "    <tr>\n",
       "      <th>PanPep (New CDR3s)</th>\n",
       "      <td>0.537380</td>\n",
       "      <td>0.192342</td>\n",
       "      <td>29145</td>\n",
       "      <td>0.175193</td>\n",
       "    </tr>\n",
       "    <tr>\n",
       "      <th>PanPep (Known peptides)</th>\n",
       "      <td>0.519937</td>\n",
       "      <td>0.185202</td>\n",
       "      <td>4560</td>\n",
       "      <td>0.177851</td>\n",
       "    </tr>\n",
       "    <tr>\n",
       "      <th>PanPep</th>\n",
       "      <td>0.533687</td>\n",
       "      <td>0.189670</td>\n",
       "      <td>30221</td>\n",
       "      <td>0.174481</td>\n",
       "    </tr>\n",
       "    <tr>\n",
       "      <th>Ours (New peptides)</th>\n",
       "      <td>0.518130</td>\n",
       "      <td>0.183203</td>\n",
       "      <td>25661</td>\n",
       "      <td>0.173883</td>\n",
       "    </tr>\n",
       "    <tr>\n",
       "      <th>Ours (New CDR3s)</th>\n",
       "      <td>0.543031</td>\n",
       "      <td>0.197339</td>\n",
       "      <td>30197</td>\n",
       "      <td>0.173825</td>\n",
       "    </tr>\n",
       "    <tr>\n",
       "      <th>Ours (Known peptides)</th>\n",
       "      <td>0.655900</td>\n",
       "      <td>0.339896</td>\n",
       "      <td>4560</td>\n",
       "      <td>0.177851</td>\n",
       "    </tr>\n",
       "    <tr>\n",
       "      <th>Ours</th>\n",
       "      <td>0.543832</td>\n",
       "      <td>0.198467</td>\n",
       "      <td>30221</td>\n",
       "      <td>0.174481</td>\n",
       "    </tr>\n",
       "    <tr>\n",
       "      <th>NetTCR2.0 (New peptides)</th>\n",
       "      <td>0.509658</td>\n",
       "      <td>0.179218</td>\n",
       "      <td>25661</td>\n",
       "      <td>0.173883</td>\n",
       "    </tr>\n",
       "    <tr>\n",
       "      <th>NetTCR2.0 (New CDR3s)</th>\n",
       "      <td>0.524804</td>\n",
       "      <td>0.188800</td>\n",
       "      <td>30197</td>\n",
       "      <td>0.173825</td>\n",
       "    </tr>\n",
       "    <tr>\n",
       "      <th>NetTCR2.0 (Known peptides)</th>\n",
       "      <td>0.628445</td>\n",
       "      <td>0.305908</td>\n",
       "      <td>4560</td>\n",
       "      <td>0.177851</td>\n",
       "    </tr>\n",
       "    <tr>\n",
       "      <th>NetTCR2.0</th>\n",
       "      <td>0.525654</td>\n",
       "      <td>0.189927</td>\n",
       "      <td>30221</td>\n",
       "      <td>0.174481</td>\n",
       "    </tr>\n",
       "  </tbody>\n",
       "</table>\n",
       "</div>"
      ],
      "text/plain": [
       "                              ROCAUC       APS  num interactions  pos rate\n",
       "PanPep (New peptides)       0.535884  0.190798             25661  0.173883\n",
       "PanPep (New CDR3s)          0.537380  0.192342             29145  0.175193\n",
       "PanPep (Known peptides)     0.519937  0.185202              4560  0.177851\n",
       "PanPep                      0.533687  0.189670             30221  0.174481\n",
       "Ours (New peptides)         0.518130  0.183203             25661  0.173883\n",
       "Ours (New CDR3s)            0.543031  0.197339             30197  0.173825\n",
       "Ours (Known peptides)       0.655900  0.339896              4560  0.177851\n",
       "Ours                        0.543832  0.198467             30221  0.174481\n",
       "NetTCR2.0 (New peptides)    0.509658  0.179218             25661  0.173883\n",
       "NetTCR2.0 (New CDR3s)       0.524804  0.188800             30197  0.173825\n",
       "NetTCR2.0 (Known peptides)  0.628445  0.305908              4560  0.177851\n",
       "NetTCR2.0                   0.525654  0.189927             30221  0.174481"
      ]
     },
     "execution_count": 18,
     "metadata": {},
     "output_type": "execute_result"
    }
   ],
   "source": [
    "_score_df.sort_index(ascending=False)"
   ]
  },
  {
   "cell_type": "code",
   "execution_count": 19,
   "id": "c5caed59",
   "metadata": {},
   "outputs": [],
   "source": [
    "import pandas as pd\n",
    "pd.set_option('display.precision', 4)\n"
   ]
  },
  {
   "cell_type": "code",
   "execution_count": 20,
   "id": "9560e051",
   "metadata": {},
   "outputs": [
    {
     "name": "stdout",
     "output_type": "stream",
     "text": [
      "\\begin{tabular}{lrrrr}\n",
      "\\toprule\n",
      "{} &  ROCAUC &     APS &  num interactions &  pos rate \\\\\n",
      "\\midrule\n",
      "NetTCR2.0                  &  0.5257 &  0.1899 &             30221 &    0.1745 \\\\\n",
      "NetTCR2.0 (Known peptides) &  0.6284 &  0.3059 &              4560 &    0.1779 \\\\\n",
      "NetTCR2.0 (New CDR3s)      &  0.5248 &  0.1888 &             30197 &    0.1738 \\\\\n",
      "NetTCR2.0 (New peptides)   &  0.5097 &  0.1792 &             25661 &    0.1739 \\\\\n",
      "Ours                       &  0.5438 &  0.1985 &             30221 &    0.1745 \\\\\n",
      "Ours (Known peptides)      &  0.6559 &  0.3399 &              4560 &    0.1779 \\\\\n",
      "Ours (New CDR3s)           &  0.5430 &  0.1973 &             30197 &    0.1738 \\\\\n",
      "Ours (New peptides)        &  0.5181 &  0.1832 &             25661 &    0.1739 \\\\\n",
      "PanPep                     &  0.5337 &  0.1897 &             30221 &    0.1745 \\\\\n",
      "PanPep (Known peptides)    &  0.5199 &  0.1852 &              4560 &    0.1779 \\\\\n",
      "PanPep (New CDR3s)         &  0.5374 &  0.1923 &             29145 &    0.1752 \\\\\n",
      "PanPep (New peptides)      &  0.5359 &  0.1908 &             25661 &    0.1739 \\\\\n",
      "\\bottomrule\n",
      "\\end{tabular}\n",
      "\n"
     ]
    },
    {
     "name": "stderr",
     "output_type": "stream",
     "text": [
      "/var/folders/0t/4gd_k20d0_l07n5xyz8pvych0000gn/T/ipykernel_14810/3925054261.py:1: FutureWarning: In future versions `DataFrame.to_latex` is expected to utilise the base implementation of `Styler.to_latex` for formatting and rendering. The arguments signature may therefore change. It is recommended instead to use `DataFrame.style.to_latex` which also contains additional functionality.\n",
      "  print(_score_df.sort_index(ascending=True).to_latex())\n"
     ]
    }
   ],
   "source": [
    "print(_score_df.sort_index(ascending=True).to_latex())"
   ]
  },
  {
   "cell_type": "code",
   "execution_count": 21,
   "id": "cd4ad6ef",
   "metadata": {},
   "outputs": [],
   "source": [
    "# df1_known_tcr = df1[df1.tcr_combined.isin(df0.tcr_combined)]\n",
    "# df2_known_tcr = df2[df2.tcr_combined.isin(df0.tcr_combined)]\n",
    "\n",
    "# print('Brand-known tcr scores:')\n",
    "# print('\\t NetTCR2.0 with brand known tcr')\n",
    "# calc_scores(df1_known_tcr)\n",
    "\n",
    "# print('\\t Ours with brand known tcr')\n",
    "# calc_scores(df2_known_tcr)"
   ]
  },
  {
   "cell_type": "code",
   "execution_count": 22,
   "id": "13233bd3",
   "metadata": {},
   "outputs": [
    {
     "name": "stdout",
     "output_type": "stream",
     "text": [
      "temp_aligned.txt     temp_distmat.txt\r\n",
      "temp_distmat.parquet temp_fasta.txt\r\n"
     ]
    }
   ],
   "source": [
    "!ls temp_*"
   ]
  },
  {
   "cell_type": "markdown",
   "id": "a7b5cd43",
   "metadata": {},
   "source": [
    "# TCR Distribution"
   ]
  },
  {
   "cell_type": "code",
   "execution_count": 23,
   "id": "87d189c2",
   "metadata": {},
   "outputs": [
    {
     "name": "stderr",
     "output_type": "stream",
     "text": [
      "/Users/kyoheikoyama/.pyenv/versions/miniconda3-latest/envs/electric/lib/python3.8/site-packages/umap/umap_.py:1780: UserWarning: using precomputed metric; inverse_transform will be unavailable\n",
      "  warn(\"using precomputed metric; inverse_transform will be unavailable\")\n"
     ]
    },
    {
     "name": "stdout",
     "output_type": "stream",
     "text": [
      "embedding.shape (18033, 2)\n"
     ]
    }
   ],
   "source": [
    "import umap\n",
    "reducer = umap.UMAP(metric='precomputed', random_state=42)\n",
    "\n",
    "df_distmat = pd.read_parquet(\"temp_distmat.parquet\")\n",
    "\n",
    "embedding = reducer.fit_transform(df_distmat)\n",
    "print('embedding.shape', embedding.shape)\n",
    "\n",
    "df_emb = pd.DataFrame(embedding, columns=['umap0','umap1'])\n"
   ]
  },
  {
   "cell_type": "code",
   "execution_count": 24,
   "id": "5e0b7009",
   "metadata": {},
   "outputs": [
    {
     "name": "stdout",
     "output_type": "stream",
     "text": [
      "CPU times: user 6.7 s, sys: 12.1 s, total: 18.8 s\n",
      "Wall time: 7.39 s\n"
     ]
    }
   ],
   "source": [
    "%%time\n",
    "from analysis_util import make_distance_mat\n",
    "nn = 10000\n",
    "distmat = make_distance_mat(df0.sample(nn, random_state=nn), \n",
    "                  df1.sample(nn, random_state=nn),  'temp')"
   ]
  },
  {
   "cell_type": "code",
   "execution_count": 25,
   "id": "59e6753c",
   "metadata": {},
   "outputs": [],
   "source": [
    "df_emb['tcr_combined'] = distmat.index\n",
    "\n",
    "df_emb['is_in_entire'] = df_emb['tcr_combined'].isin(df0.tcr_combined)\n",
    "df_emb['is_in_recenttest'] = df_emb['tcr_combined'].isin(df1.tcr_combined)\n",
    "\n",
    "df_emb['is_in_both'] = (df_emb['is_in_entire']) & (df_emb['is_in_recenttest'])"
   ]
  },
  {
   "cell_type": "code",
   "execution_count": 26,
   "id": "30a282d9",
   "metadata": {
    "scrolled": false
   },
   "outputs": [
    {
     "data": {
      "image/png": "[encoded data removed]",
      "text/plain": [
       "<Figure size 600x600 with 1 Axes>"
      ]
     },
     "metadata": {},
     "output_type": "display_data"
    }
   ],
   "source": [
    "from matplotlib import pyplot as plt\n",
    "\n",
    "\n",
    "nni=500\n",
    "sampled_emb = pd.concat([df_emb.query('is_in_entire!=True').sample(nni),\n",
    "                         df_emb.query('is_in_recenttest!=True').sample(nni),\n",
    "                        ])\n",
    "\n",
    "\n",
    "plt.figure(figsize=(6,6))\n",
    "\n",
    "plt.scatter(sampled_emb.query('is_in_entire==True').umap0, \n",
    "            sampled_emb.query('is_in_entire==True').umap1, alpha=0.4,\n",
    "            marker='*'\n",
    "           )\n",
    "\n",
    "plt.scatter(sampled_emb.query('is_in_recenttest==True').umap0, \n",
    "            sampled_emb.query('is_in_recenttest==True').umap1, alpha=0.4, \n",
    "            marker='x'\n",
    "           )\n",
    "\n",
    "plt.title('CDRs')\n",
    "plt.legend(['entire', 'test'])\n",
    "plt.xlabel('Umap1')\n",
    "plt.ylabel('Umap0')\n",
    "plt.show()"
   ]
  },
  {
   "cell_type": "markdown",
   "id": "196ff325",
   "metadata": {},
   "source": [
    "# Peptide Distribution"
   ]
  },
  {
   "cell_type": "code",
   "execution_count": 27,
   "id": "69aef6ad",
   "metadata": {},
   "outputs": [
    {
     "name": "stdout",
     "output_type": "stream",
     "text": [
      "CPU times: user 30.2 ms, sys: 21.8 ms, total: 52 ms\n",
      "Wall time: 115 ms\n"
     ]
    }
   ],
   "source": [
    "%%time\n",
    "import os\n",
    "\n",
    "peptide_all_unique = list(set(df0.peptide.dropna().unique().tolist()+df1.peptide.dropna().unique().tolist()))\n",
    "\n",
    "ofile = open(\"peptide_all_fasta.txt\", \"w\")\n",
    "for i, seq in enumerate(peptide_all_unique):\n",
    "    ofile.write(\">\" + str(i) + \"\\n\" + seq + \"\\n\")\n",
    "ofile.close()\n",
    "\n",
    "if not os.path.exists('peptide_all_entire.txt'):\n",
    "    os.system(\"~/Downloads/clustalo -i peptide_all_fasta.txt -o peptide_all_entire.txt --full --distmat-out=peptide_all_entire_distmat.txt\")\n",
    "\n"
   ]
  },
  {
   "cell_type": "code",
   "execution_count": 28,
   "id": "223d2a1e",
   "metadata": {},
   "outputs": [],
   "source": [
    "df_distmat = pd.read_csv('peptide_all_entire_distmat.txt',sep=' ', skiprows=[0], header=None, skipinitialspace=True)\n"
   ]
  },
  {
   "cell_type": "code",
   "execution_count": 29,
   "id": "53b64b0c",
   "metadata": {},
   "outputs": [],
   "source": [
    "df_distmat = df_distmat.iloc[:,1:]\n",
    "df_distmat.columns = peptide_all_unique\n",
    "df_distmat.index = peptide_all_unique\n",
    "df_distmat.to_parquet('peptide_all_entire_distmat.parquet')\n"
   ]
  },
  {
   "cell_type": "code",
   "execution_count": 30,
   "id": "ef1d7a74",
   "metadata": {},
   "outputs": [
    {
     "name": "stderr",
     "output_type": "stream",
     "text": [
      "/Users/kyoheikoyama/.pyenv/versions/miniconda3-latest/envs/electric/lib/python3.8/site-packages/umap/umap_.py:1780: UserWarning: using precomputed metric; inverse_transform will be unavailable\n",
      "  warn(\"using precomputed metric; inverse_transform will be unavailable\")\n",
      "\n",
      "KeyboardInterrupt\n",
      "\n"
     ]
    }
   ],
   "source": [
    "reducer = umap.UMAP(metric='precomputed', random_state=42)\n",
    "\n",
    "df_distmat = pd.read_parquet(\"peptide_all_entire_distmat.parquet\")\n",
    "\n",
    "embedding = reducer.fit_transform(df_distmat)\n",
    "print('embedding.shape', embedding.shape)\n",
    "\n",
    "df_emb = pd.DataFrame(embedding, columns=['umap0','umap1'])\n"
   ]
  },
  {
   "cell_type": "code",
   "execution_count": null,
   "id": "a9281f51",
   "metadata": {},
   "outputs": [],
   "source": [
    "df_emb['peptide'] = peptide_all_unique\n",
    "\n",
    "df_emb['is_in_entire'] = df_emb['peptide'].isin(df0.peptide)\n",
    "df_emb['is_in_recenttest'] = df_emb['peptide'].isin(df1.peptide)\n",
    "\n",
    "df_emb['is_in_both'] = (df_emb['is_in_entire']) & (df_emb['is_in_recenttest'])"
   ]
  },
  {
   "cell_type": "code",
   "execution_count": null,
   "id": "cb55728e",
   "metadata": {
    "scrolled": true
   },
   "outputs": [],
   "source": [
    "from matplotlib import pyplot as plt\n",
    "\n",
    "\n",
    "nni=100\n",
    "\n",
    "sampled_emb = pd.concat([df_emb.query('is_in_entire==True').sample(nni),\n",
    "                         df_emb.query('is_in_recenttest==True').sample(nni),\n",
    "                        ])\n",
    "\n",
    "\n",
    "plt.figure(figsize=(6,6))\n",
    "\n",
    "plt.scatter(sampled_emb.query('is_in_entire==True').umap0, \n",
    "            sampled_emb.query('is_in_entire==True').umap1, alpha=0.4,\n",
    "            marker='*'\n",
    "           )\n",
    "\n",
    "plt.scatter(sampled_emb.query('is_in_recenttest==True').umap0, \n",
    "            sampled_emb.query('is_in_recenttest==True').umap1, alpha=0.4, \n",
    "            marker='x'\n",
    "           )\n",
    "\n",
    "plt.title('Peptide')\n",
    "plt.legend(['entire', 'test'])\n",
    "plt.xlabel('Umap1')\n",
    "plt.ylabel('Umap0')\n",
    "plt.show()"
   ]
  },
  {
   "cell_type": "code",
   "execution_count": null,
   "id": "3fee80fe",
   "metadata": {},
   "outputs": [],
   "source": []
  }
 ],
 "metadata": {
  "kernelspec": {
   "display_name": "electric",
   "language": "python",
   "name": "electric"
  },
  "language_info": {
   "codemirror_mode": {
    "name": "ipython",
    "version": 3
   },
   "file_extension": ".py",
   "mimetype": "text/x-python",
   "name": "python",
   "nbconvert_exporter": "python",
   "pygments_lexer": "ipython3",
   "version": "3.8.12"
  },
  "toc": {
   "base_numbering": 1,
   "nav_menu": {},
   "number_sections": true,
   "sideBar": true,
   "skip_h1_title": false,
   "title_cell": "Table of Contents",
   "title_sidebar": "Contents",
   "toc_cell": false,
   "toc_position": {},
   "toc_section_display": true,
   "toc_window_display": true
  }
 },
 "nbformat": 4,
 "nbformat_minor": 5
}
