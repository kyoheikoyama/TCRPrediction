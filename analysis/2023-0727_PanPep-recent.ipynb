{
 "cells": [
  {
   "cell_type": "markdown",
   "id": "d263e68e",
   "metadata": {},
   "source": [
    "# DataExample"
   ]
  },
  {
   "cell_type": "code",
   "execution_count": 17,
   "id": "7fe2bc43",
   "metadata": {},
   "outputs": [],
   "source": [
    "import pandas as pd\n",
    "from sklearn.metrics import average_precision_score, roc_auc_score\n",
    "\n",
    "def show_scores(df):\n",
    "    print(\"roc_auc_score\",roc_auc_score(y_true=df.ytrue, y_score=df.ypred))\n",
    "    print(\"average_precision_score\", average_precision_score(df.ytrue, df.ypred))    "
   ]
  },
  {
   "cell_type": "code",
   "execution_count": 2,
   "id": "08638339",
   "metadata": {},
   "outputs": [],
   "source": [
    "panpepdir = \"/Users/kyoheikoyama/workspace/PanPep\""
   ]
  },
  {
   "cell_type": "code",
   "execution_count": 3,
   "id": "714ecbfe",
   "metadata": {},
   "outputs": [],
   "source": [
    "# !wc ./Data/majority_testing_dataset.csv"
   ]
  },
  {
   "cell_type": "code",
   "execution_count": 4,
   "id": "94b92578",
   "metadata": {},
   "outputs": [
    {
     "data": {
      "text/plain": [
       "1          11616\n",
       "0          11616\n",
       "Unknown     5230\n",
       "Name: Label, dtype: int64"
      ]
     },
     "execution_count": 4,
     "metadata": {},
     "output_type": "execute_result"
    }
   ],
   "source": [
    "pd.read_csv(f\"{panpepdir}/Data/Example_majority.csv\")['Label'].value_counts()"
   ]
  },
  {
   "cell_type": "code",
   "execution_count": 5,
   "id": "c6e9ee39",
   "metadata": {},
   "outputs": [
    {
     "name": "stdout",
     "output_type": "stream",
     "text": [
      "Peptide,CDR3,Label\r\n",
      "ATDALMTGY,CAISESQGNTEAFF,1\r\n",
      "ATDALMTGY,CAISEDRALVSYTF,1\r\n",
      "ATDALMTGY,CAISEDRALNEQFF,1\r\n",
      "ATDALMTGY,CAVQPGQGMQPQHF,1\r\n",
      "ATDALMTGY,CAISEGAMGNQPQHF,1\r\n",
      "ATDALMTGY,CAISDQTSGNQPQHF,1\r\n",
      "ATDALMTGY,CAISDAGAGNQPQHF,1\r\n",
      "ATDALMTGY,CAISEGTGGHQPQHF,1\r\n",
      "ATDALMTGY,CAISESSAGNQPQHF,1\r\n"
     ]
    }
   ],
   "source": [
    "!head {panpepdir}/Data/Example_majority.csv"
   ]
  },
  {
   "cell_type": "markdown",
   "id": "bafee5c7",
   "metadata": {},
   "source": [
    "# Process Data"
   ]
  },
  {
   "cell_type": "code",
   "execution_count": 6,
   "id": "3fe8efd3",
   "metadata": {},
   "outputs": [],
   "source": [
    "df1 = pd.read_parquet('../data/entire_data.parquet')\n",
    "df1['Label'] = df1['sign'].values\n",
    "\n",
    "df2 = pd.read_parquet(\"../data/recent_data_test_entire_crossatten.parquet\")\n",
    "df2['Label'] = \"Unknown\"\n",
    "df0 = pd.concat([df2, df1])\n",
    "\n",
    "df0 = df0.drop_duplicates(subset=['peptide','tcrb'])\n",
    "df0['Peptide'] = df0['peptide']\n",
    "df0['CDR3'] = df0['tcrb']\n",
    "# df0['Label'] = df0['sign']\n",
    "df0 = df0.sort_values(by=['peptide', 'tcrb', 'sign'])\n",
    "df0[[\"CDR3\",\"Label\",\"Peptide\"]].to_csv(\"../../PanPep/Data/recent-test-withTrain.csv\", index=None)"
   ]
  },
  {
   "cell_type": "code",
   "execution_count": 7,
   "id": "34aeccb2",
   "metadata": {},
   "outputs": [
    {
     "data": {
      "text/plain": [
       "0          90848\n",
       "Unknown    30221\n",
       "1          13511\n",
       "Name: Label, dtype: int64"
      ]
     },
     "execution_count": 7,
     "metadata": {},
     "output_type": "execute_result"
    }
   ],
   "source": [
    "df0.Label.value_counts()"
   ]
  },
  {
   "cell_type": "code",
   "execution_count": 10,
   "id": "f825eb7e",
   "metadata": {},
   "outputs": [],
   "source": [
    "df0 = pd.read_parquet(\"../data/recent_data_test_entire_crossatten.parquet\")\n",
    "df0 = df0.drop_duplicates(subset=['peptide','tcrb'])\n",
    "df0['Peptide'] = df0['peptide']\n",
    "df0['CDR3'] = df0['tcrb']\n",
    "df0['Label'] = df0['sign']\n",
    "df0 = df0.sort_values(by=['peptide', 'tcrb', 'sign'])\n",
    "df0[[\"CDR3\",\"Label\",\"Peptide\"]].to_csv(\"../../PanPep/Data/recent-test.csv\", index=None)"
   ]
  },
  {
   "cell_type": "code",
   "execution_count": 11,
   "id": "b94bb403",
   "metadata": {
    "scrolled": true
   },
   "outputs": [
    {
     "name": "stdout",
     "output_type": "stream",
     "text": [
      "CDR3,Label,Peptide\r\n",
      "CAISDLTGEIYSGYTF,0,AAFKRSCLK\r\n",
      "CASSFGGSRLGEETQYF,0,AAFKRSCLK\r\n",
      "CASSFGQRDRGYWRNTEAFF,0,AAFKRSCLK\r\n",
      "CASSHPEGDVLTF,0,AAFKRSCLK\r\n",
      "CASSKTAGWEYGYTF,0,AAFKRSCLK\r\n",
      "CASSLILAGLNQPQHF,0,AAFKRSCLK\r\n",
      "CASSLTSGSEQFF,0,AAFKRSCLK\r\n",
      "CASSNPGPWGSPLHF,0,AAFKRSCLK\r\n",
      "CASSPIKDTRQEYTGELFF,0,AAFKRSCLK\r\n"
     ]
    }
   ],
   "source": [
    "!head ../../PanPep/Data/recent-test.csv"
   ]
  },
  {
   "cell_type": "code",
   "execution_count": 12,
   "id": "6e745620",
   "metadata": {},
   "outputs": [
    {
     "name": "stdout",
     "output_type": "stream",
     "text": [
      "   30222   30222  853306 ../../PanPep/Data/recent-test.csv\r\n"
     ]
    }
   ],
   "source": [
    "!wc ../../PanPep/Data/recent-test.csv"
   ]
  },
  {
   "cell_type": "code",
   "execution_count": 13,
   "id": "3e5ab258",
   "metadata": {},
   "outputs": [],
   "source": [
    "path = \"../../PanPep/Data/recent-test.csv\"\n",
    "df = pd.read_csv(path)\n",
    "df = df.sort_values(by=['Peptide','CDR3'])\n",
    "df.to_csv(path,index=None)"
   ]
  },
  {
   "cell_type": "code",
   "execution_count": 14,
   "id": "28377d6b",
   "metadata": {
    "scrolled": true
   },
   "outputs": [
    {
     "data": {
      "text/plain": [
       "('No duplicates of (pep, cdr3) = ', True)"
      ]
     },
     "execution_count": 14,
     "metadata": {},
     "output_type": "execute_result"
    }
   ],
   "source": [
    "\"No duplicates of (pep, cdr3) = \", len(df)==len(df.drop_duplicates(subset=['Peptide','CDR3'])) #.Label.value_counts()"
   ]
  },
  {
   "cell_type": "code",
   "execution_count": 15,
   "id": "d55e3bec",
   "metadata": {
    "scrolled": true
   },
   "outputs": [],
   "source": [
    "# df.Peptide.value_counts(), df.CDR3.value_counts()"
   ]
  },
  {
   "cell_type": "markdown",
   "id": "93bb307f",
   "metadata": {},
   "source": [
    "# Please run these in the Panpep directory"
   ]
  },
  {
   "cell_type": "raw",
   "id": "f990c3b4",
   "metadata": {},
   "source": [
    "python ./PanPepCPU.py --learning_setting zero-shot \\\n",
    "    --input ./Data/recent-test.csv \\\n",
    "    --output ./Output/recent-test_output.csv\n",
    "    \n",
    "    \n",
    "python ./PanPepCPU.py --learning_setting few-shot --input ./Data/recent-test.csv     --output ./Output/recent-test_output-fewshot.csv\n",
    "\n",
    "python ./PanPepCPU.py --learning_setting majority --input ./Data/recent-test.csv     --output ./Output/recent-test_output-majority.csv\n",
    "\n",
    "\n",
    "python ./PanPepCPU.py --learning_setting majority --input ./Data/recent-test-withTrain.csv     --output ./Output/recent-test_output-fewshot.csv\n"
   ]
  },
  {
   "cell_type": "markdown",
   "id": "9b4dd6c3",
   "metadata": {
    "scrolled": true
   },
   "source": [
    "## Test set output"
   ]
  },
  {
   "cell_type": "code",
   "execution_count": 12,
   "id": "fc5665bf",
   "metadata": {},
   "outputs": [],
   "source": [
    "path = \"../../PanPep/Output/recent-test_output.csv\"\n",
    "df_panpep_recenttest = pd.read_csv(path)\n",
    "\n",
    "df_panpep_recenttest = pd.merge(df_panpep_recenttest, df[['Peptide', 'CDR3', 'Label']],\n",
    "         how='left'\n",
    "        )\n",
    "\n",
    "df_panpep_recenttest['ytrue'] = df_panpep_recenttest.Label\n",
    "df_panpep_recenttest['ypred'] = df_panpep_recenttest.Score"
   ]
  },
  {
   "cell_type": "code",
   "execution_count": 13,
   "id": "a1c8861f",
   "metadata": {},
   "outputs": [
    {
     "name": "stdout",
     "output_type": "stream",
     "text": [
      "roc_auc_score 0.49139034908520973\n",
      "average_precision_score 0.17123114269525874\n"
     ]
    }
   ],
   "source": [
    "show_scores(df_panpep_recenttest)"
   ]
  },
  {
   "cell_type": "code",
   "execution_count": 14,
   "id": "ee4173a1",
   "metadata": {},
   "outputs": [
    {
     "data": {
      "text/plain": [
       "Index(['Peptide', 'CDR3', 'Score', 'Label', 'ytrue', 'ypred'], dtype='object')"
      ]
     },
     "execution_count": 14,
     "metadata": {},
     "output_type": "execute_result"
    }
   ],
   "source": [
    "df_panpep_recenttest.columns"
   ]
  },
  {
   "cell_type": "code",
   "execution_count": 15,
   "id": "cfc9d7be",
   "metadata": {},
   "outputs": [],
   "source": [
    "df_panpep_recenttest[['Peptide', 'CDR3','ytrue', 'ypred']]\\\n",
    ".to_parquet(\"../../TCRPrediction/data/recent_data_test_PanPep.parquet\")"
   ]
  },
  {
   "cell_type": "code",
   "execution_count": 19,
   "id": "87012c43",
   "metadata": {},
   "outputs": [
    {
     "name": "stdout",
     "output_type": "stream",
     "text": [
      "roc_auc_score 0.5336874870031201\n",
      "average_precision_score 0.18967045761441126\n"
     ]
    }
   ],
   "source": [
    "path = \"../../PanPep/Output/recent-test_output-fewshot.csv\"\n",
    "\n",
    "df_panpep_recenttest = pd.read_csv(path)\n",
    "df_panpep_recenttest = pd.merge(df_panpep_recenttest, df[['Peptide', 'CDR3', 'Label']],\n",
    "         how='left'\n",
    "        )\n",
    "\n",
    "df_panpep_recenttest['ytrue'] = df_panpep_recenttest.Label\n",
    "df_panpep_recenttest['ypred'] = df_panpep_recenttest.Score\n",
    "\n",
    "show_scores(df_panpep_recenttest)"
   ]
  },
  {
   "cell_type": "code",
   "execution_count": 20,
   "id": "9f0d0e54",
   "metadata": {},
   "outputs": [
    {
     "name": "stdout",
     "output_type": "stream",
     "text": [
      "roc_auc_score 0.5336874870031201\n",
      "average_precision_score 0.18967045761441126\n"
     ]
    }
   ],
   "source": [
    "path = \"../../PanPep/Output/recent-test_output-majority.csv\"\n",
    "\n",
    "df_panpep_recenttest = pd.read_csv(path)\n",
    "df_panpep_recenttest = pd.merge(df_panpep_recenttest, df[['Peptide', 'CDR3', 'Label']],\n",
    "         how='left'\n",
    "        )\n",
    "\n",
    "df_panpep_recenttest['ytrue'] = df_panpep_recenttest.Label\n",
    "df_panpep_recenttest['ypred'] = df_panpep_recenttest.Score\n",
    "\n",
    "show_scores(df_panpep_recenttest)"
   ]
  },
  {
   "cell_type": "code",
   "execution_count": 21,
   "id": "5e2abb7a",
   "metadata": {},
   "outputs": [],
   "source": [
    "# df_panpep_recenttest[['Peptide', 'CDR3','ytrue', 'ypred']]\\\n",
    "# .to_parquet(\"../../TCRPrediction/data/recent_data_test_PanPep.parquet\")"
   ]
  },
  {
   "cell_type": "code",
   "execution_count": 28,
   "id": "b18af394",
   "metadata": {},
   "outputs": [],
   "source": [
    "temp = df_panpep_recenttest.sort_values(by=['ytrue'], ascending=False)\n",
    "\n",
    "temp = pd.concat([temp.query('ytrue==1'), \n",
    "                  temp.query('ytrue!=1').sample(temp.ytrue.sum(), random_state=0)\n",
    "                 ])"
   ]
  },
  {
   "cell_type": "code",
   "execution_count": 30,
   "id": "f2680906",
   "metadata": {},
   "outputs": [
    {
     "name": "stdout",
     "output_type": "stream",
     "text": [
      "roc_auc_score 0.5358552558110228\n",
      "average_precision_score 0.5253360409793577\n"
     ]
    }
   ],
   "source": [
    "show_scores(temp)"
   ]
  },
  {
   "cell_type": "code",
   "execution_count": null,
   "id": "31aac941",
   "metadata": {},
   "outputs": [],
   "source": []
  },
  {
   "cell_type": "code",
   "execution_count": null,
   "id": "ed8186d6",
   "metadata": {},
   "outputs": [],
   "source": []
  },
  {
   "cell_type": "code",
   "execution_count": null,
   "id": "e08042a9",
   "metadata": {},
   "outputs": [],
   "source": []
  },
  {
   "cell_type": "markdown",
   "id": "51f7a3d9",
   "metadata": {},
   "source": [
    "## Model including the entire-data training as input csv"
   ]
  },
  {
   "cell_type": "code",
   "execution_count": 64,
   "id": "eb6f2327",
   "metadata": {},
   "outputs": [
    {
     "name": "stdout",
     "output_type": "stream",
     "text": [
      "30221\n",
      "roc_auc_score 0.49139166416649194\n",
      "average_precision_score 0.17122693558591198\n"
     ]
    }
   ],
   "source": [
    "path = \"../../PanPep/Output/recent-test_output-majority-withTrain.csv\"\n",
    "\n",
    "df_panpep_recenttest = pd.read_csv(path)\n",
    "df_panpep_recenttest = pd.merge(df_panpep_recenttest, df0.query('Label==\"Unknown\"')[['sign','Peptide', 'CDR3', 'Label']],\n",
    "         how='right'\n",
    "        )\n",
    "\n",
    "df_panpep_recenttest['ytrue'] = df_panpep_recenttest.sign\n",
    "df_panpep_recenttest['ypred'] = df_panpep_recenttest.Score\n",
    "df_panpep_recenttest['ypred'] = df_panpep_recenttest['ypred'].apply(process)\n",
    "print(len(df_panpep_recenttest))\n",
    "show_scores(df_panpep_recenttest)"
   ]
  },
  {
   "cell_type": "code",
   "execution_count": null,
   "id": "8ce81f28",
   "metadata": {},
   "outputs": [],
   "source": []
  },
  {
   "cell_type": "code",
   "execution_count": 65,
   "id": "8d004fab",
   "metadata": {},
   "outputs": [],
   "source": [
    "path = \"../../PanPep/Data/zero_dataset.csv\"\n",
    "\n",
    "df_zeroshot = pd.read_csv(path)"
   ]
  },
  {
   "cell_type": "code",
   "execution_count": 67,
   "id": "1c09d4c3",
   "metadata": {},
   "outputs": [
    {
     "data": {
      "text/plain": [
       "1    857\n",
       "Name: label, dtype: int64"
      ]
     },
     "execution_count": 67,
     "metadata": {},
     "output_type": "execute_result"
    }
   ],
   "source": [
    "df_zeroshot.label.value_counts()"
   ]
  },
  {
   "cell_type": "code",
   "execution_count": 70,
   "id": "c17932d0",
   "metadata": {},
   "outputs": [
    {
     "data": {
      "text/plain": [
       "VQYLGMFPV      4\n",
       "RPHERNGFTV     4\n",
       "EENLLDFVRF     4\n",
       "YLLFMIGYT      4\n",
       "RMAAISNTV      4\n",
       "              ..\n",
       "TYDTVHRHL      1\n",
       "VLDLFQGQL      1\n",
       "HIMPDTAEI      1\n",
       "TLYSLTLLY      1\n",
       "LAITPEIAPYF    1\n",
       "Name: peptide, Length: 491, dtype: int64"
      ]
     },
     "execution_count": 70,
     "metadata": {},
     "output_type": "execute_result"
    }
   ],
   "source": [
    "df_zeroshot.peptide.value_counts()"
   ]
  }
 ],
 "metadata": {
  "kernelspec": {
   "display_name": "py39",
   "language": "python",
   "name": "py39"
  },
  "language_info": {
   "codemirror_mode": {
    "name": "ipython",
    "version": 3
   },
   "file_extension": ".py",
   "mimetype": "text/x-python",
   "name": "python",
   "nbconvert_exporter": "python",
   "pygments_lexer": "ipython3",
   "version": "3.9.16"
  },
  "toc": {
   "base_numbering": 1,
   "nav_menu": {},
   "number_sections": true,
   "sideBar": true,
   "skip_h1_title": false,
   "title_cell": "Table of Contents",
   "title_sidebar": "Contents",
   "toc_cell": false,
   "toc_position": {},
   "toc_section_display": true,
   "toc_window_display": false
  }
 },
 "nbformat": 4,
 "nbformat_minor": 5
}
