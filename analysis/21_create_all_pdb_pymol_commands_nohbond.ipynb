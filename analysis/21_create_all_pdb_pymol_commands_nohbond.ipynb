{
 "cells": [
  {
   "cell_type": "code",
   "execution_count": 1,
   "id": "90c8f688",
   "metadata": {},
   "outputs": [],
   "source": [
    "%load_ext autoreload \n",
    "%autoreload 2"
   ]
  },
  {
   "cell_type": "code",
   "execution_count": 2,
   "id": "117013e0",
   "metadata": {},
   "outputs": [],
   "source": [
    "import pathlib, json\n",
    "import torch\n",
    "import os\n",
    "import pandas as pd\n",
    "import numpy as np\n",
    "import pandas as pd\n",
    "import pickle, sys\n",
    "import warnings\n",
    "from tqdm import tqdm\n",
    "from sklearn.model_selection import KFold\n",
    "\n",
    "sys.path.append('../')\n",
    "sys.path.append('../../')\n",
    "\n",
    "from recipes.dataset import MCPASDataset\n",
    "\n",
    "# from analysis_util import display_mat_from_ind\n",
    "# from analysis_util import convert_len\n",
    "\n",
    "from Bio.PDB import *\n",
    "\n",
    "# from pdb_util import get_chain_list, calc_dist, remove_HOH, get_structure_from_id, from_str_to_chain_names, get_residues_from_names\n",
    "# from pdb_util import get_cdrs_from_anarci\n",
    "# from pdb_util import get_seqs_from_residues\n",
    "warnings.filterwarnings(action='once')\n",
    "\n",
    "def read_hhb_text_and_find_chain(text, chainsletters):\n",
    "    ress_atoms = text[:45].replace('  ',' ').replace('  ',' ').replace('  ',' ').replace('  ',' ').split(' ')\n",
    "    donor_res = ress_atoms[0]\n",
    "    acceptor_res = ress_atoms[2]\n",
    "    if donor_res.split('/')[1][:1] in chainsletters or \\\n",
    "            acceptor_res.split('/')[1][:1] in chainsletters:\n",
    "        return text\n"
   ]
  },
  {
   "cell_type": "markdown",
   "id": "ce8a06f4",
   "metadata": {},
   "source": [
    "# PDB Command"
   ]
  },
  {
   "cell_type": "code",
   "execution_count": 3,
   "id": "51a187cb",
   "metadata": {},
   "outputs": [
    {
     "name": "stdout",
     "output_type": "stream",
     "text": [
      "loading....\n"
     ]
    },
    {
     "name": "stderr",
     "output_type": "stream",
     "text": [
      "2022-04-09 17:50:40.371 \n",
      "  \u001b[33m\u001b[1mWarning:\u001b[0m to view this Streamlit app on a browser, run it with the following\n",
      "  command:\n",
      "\n",
      "    streamlit run /Users/kyoheikoyama/.pyenv/versions/miniconda3-latest/envs/tcrpred/lib/python3.8/site-packages/ipykernel_launcher.py [ARGUMENTS]\n",
      "../streamlit/streamlit_utils.py:28: ResourceWarning: unclosed file <_io.BufferedReader name='/Users/kyoheikoyama/workspace/tcrpred/analysis/DICT_PDB_Result/20220211_191954_DICT_PDBID_2_Atten12.pickle'>\n",
      "  def pickleload(p): return pickle.load(open(p, \"rb\"))\n",
      "ResourceWarning: Enable tracemalloc to get the object allocation traceback\n",
      "../streamlit/streamlit_utils.py:28: ResourceWarning: unclosed file <_io.BufferedReader name='/Users/kyoheikoyama/workspace/tcrpred/analysis/DICT_PDB_Result/20220211_191954_DICT_PDBID_2_MELTDIST.pickle'>\n",
      "  def pickleload(p): return pickle.load(open(p, \"rb\"))\n",
      "ResourceWarning: Enable tracemalloc to get the object allocation traceback\n",
      "../streamlit/streamlit_utils.py:28: ResourceWarning: unclosed file <_io.BufferedReader name='/Users/kyoheikoyama/workspace/tcrpred/analysis/DICT_PDB_Result/20220211_191954_DICT_PDBID_2_model_out.pickle'>\n",
      "  def pickleload(p): return pickle.load(open(p, \"rb\"))\n",
      "ResourceWarning: Enable tracemalloc to get the object allocation traceback\n",
      "../streamlit/streamlit_utils.py:28: ResourceWarning: unclosed file <_io.BufferedReader name='/Users/kyoheikoyama/workspace/tcrpred/analysis/DICT_PDB_Result/20220211_191954_DICT_PDBID_2_CHAINNAMES.pickle'>\n",
      "  def pickleload(p): return pickle.load(open(p, \"rb\"))\n",
      "ResourceWarning: Enable tracemalloc to get the object allocation traceback\n",
      "../streamlit/streamlit_utils.py:28: ResourceWarning: unclosed file <_io.BufferedReader name='/Users/kyoheikoyama/workspace/tcrpred/analysis/DICT_PDB_Result/20220211_191954_DICT_PDBID_2_CDRS.pickle'>\n",
      "  def pickleload(p): return pickle.load(open(p, \"rb\"))\n",
      "ResourceWarning: Enable tracemalloc to get the object allocation traceback\n",
      "../streamlit/streamlit_utils.py:28: ResourceWarning: unclosed file <_io.BufferedReader name='/Users/kyoheikoyama/workspace/tcrpred/analysis/DICT_PDB_Result/20220211_191954_DICT_PDBID_2_RESIDUES.pickle'>\n",
      "  def pickleload(p): return pickle.load(open(p, \"rb\"))\n",
      "ResourceWarning: Enable tracemalloc to get the object allocation traceback\n",
      "  0%|                                                                                           | 0/4 [00:00<?, ?it/s]"
     ]
    },
    {
     "name": "stdout",
     "output_type": "stream",
     "text": [
      "ending... loading....\n"
     ]
    },
    {
     "name": "stderr",
     "output_type": "stream",
     "text": [
      "100%|███████████████████████████████████████████████████████████████████████████████████| 4/4 [00:02<00:00,  1.92it/s]\n",
      "100%|███████████████████████████████████████████████████████████████████████████████████| 4/4 [00:01<00:00,  2.05it/s]\n",
      "28it [00:00, 62.35it/s]"
     ]
    },
    {
     "name": "stdout",
     "output_type": "stream",
     "text": [
      "2OL3 has only delta-chain and beta-chain\n"
     ]
    },
    {
     "name": "stderr",
     "output_type": "stream",
     "text": [
      "59it [00:01, 49.57it/s]"
     ]
    },
    {
     "name": "stdout",
     "output_type": "stream",
     "text": [
      "4QRR has only delta-chain and beta-chain\n",
      "5JHD has only delta-chain and beta-chain\n",
      "5JZI has only delta-chain and beta-chain\n"
     ]
    },
    {
     "name": "stderr",
     "output_type": "stream",
     "text": [
      "79it [00:01, 56.82it/s]\n",
      "/Users/kyoheikoyama/.pyenv/versions/miniconda3-latest/envs/tcrpred/lib/python3.8/site-packages/pandas/core/generic.py:6392: SettingWithCopyWarning: \n",
      "A value is trying to be set on a copy of a slice from a DataFrame\n",
      "\n",
      "See the caveats in the documentation: https://pandas.pydata.org/pandas-docs/stable/user_guide/indexing.html#returning-a-view-versus-a-copy\n",
      "  return self._update_inplace(result)\n"
     ]
    }
   ],
   "source": [
    "sys.path.append('../streamlit/')\n",
    "from streamlit_utils import *"
   ]
  },
  {
   "cell_type": "code",
   "execution_count": 4,
   "id": "7877c0fb",
   "metadata": {
    "scrolled": false
   },
   "outputs": [
    {
     "name": "stderr",
     "output_type": "stream",
     "text": [
      "/Users/kyoheikoyama/.pyenv/versions/miniconda3-latest/envs/tcrpred/lib/python3.8/site-packages/Bio/PDB/StructureBuilder.py:89: PDBConstructionWarning: WARNING: Chain B is discontinuous at line 13784.\n",
      "  warnings.warn(\n",
      "/Users/kyoheikoyama/.pyenv/versions/miniconda3-latest/envs/tcrpred/lib/python3.8/site-packages/Bio/PDB/StructureBuilder.py:89: PDBConstructionWarning: WARNING: Chain D is discontinuous at line 13789.\n",
      "  warnings.warn(\n",
      "/Users/kyoheikoyama/.pyenv/versions/miniconda3-latest/envs/tcrpred/lib/python3.8/site-packages/Bio/PDB/StructureBuilder.py:89: PDBConstructionWarning: WARNING: Chain E is discontinuous at line 13794.\n",
      "  warnings.warn(\n",
      "/Users/kyoheikoyama/.pyenv/versions/miniconda3-latest/envs/tcrpred/lib/python3.8/site-packages/Bio/PDB/StructureBuilder.py:89: PDBConstructionWarning: WARNING: Chain B is discontinuous at line 13804.\n",
      "  warnings.warn(\n"
     ]
    }
   ],
   "source": [
    "from Bio.PDB.PDBParser import PDBParser\n",
    "\n",
    "parser = PDBParser()\n",
    "structure = parser.get_structure(pdbid, f\"./../analysis/analysis1_alldata/pdb//pdb{pdbid.lower()}.ent\")\n"
   ]
  },
  {
   "cell_type": "code",
   "execution_count": 5,
   "id": "d0988459",
   "metadata": {},
   "outputs": [],
   "source": [
    "pdbids = list(DICT_PDBID_2_CDRS.keys())"
   ]
  },
  {
   "cell_type": "code",
   "execution_count": 6,
   "id": "187f1820",
   "metadata": {
    "scrolled": true
   },
   "outputs": [],
   "source": [
    "# KKK = 1\n",
    "# for p in pdbids:\n",
    "#     if len(DICT_PDBID_2_CDRS[p][KKK])==0: continue\n",
    "#     i = DICT_PDBID_2_CHAINNAMES[p]\n",
    "#     print(DICT_PDBID_2_CDRS[p][KKK][0].get_full_id()[2], i[KKK])"
   ]
  },
  {
   "cell_type": "code",
   "execution_count": 7,
   "id": "eb4073bd",
   "metadata": {},
   "outputs": [
    {
     "data": {
      "text/html": [
       "<div>\n",
       "<style scoped>\n",
       "    .dataframe tbody tr th:only-of-type {\n",
       "        vertical-align: middle;\n",
       "    }\n",
       "\n",
       "    .dataframe tbody tr th {\n",
       "        vertical-align: top;\n",
       "    }\n",
       "\n",
       "    .dataframe thead th {\n",
       "        text-align: right;\n",
       "    }\n",
       "</style>\n",
       "<table border=\"1\" class=\"dataframe\">\n",
       "  <thead>\n",
       "    <tr style=\"text-align: right;\">\n",
       "      <th></th>\n",
       "      <th>Unnamed: 0</th>\n",
       "      <th>pdbid</th>\n",
       "      <th>nobond</th>\n",
       "    </tr>\n",
       "  </thead>\n",
       "  <tbody>\n",
       "    <tr>\n",
       "      <th>0</th>\n",
       "      <td>0</td>\n",
       "      <td>6EQA</td>\n",
       "      <td>[E0099, E0101]</td>\n",
       "    </tr>\n",
       "    <tr>\n",
       "      <th>1</th>\n",
       "      <td>1</td>\n",
       "      <td>3VXU</td>\n",
       "      <td>[]</td>\n",
       "    </tr>\n",
       "  </tbody>\n",
       "</table>\n",
       "</div>"
      ],
      "text/plain": [
       "   Unnamed: 0 pdbid          nobond\n",
       "0           0  6EQA  [E0099, E0101]\n",
       "1           1  3VXU              []"
      ]
     },
     "execution_count": 7,
     "metadata": {},
     "output_type": "execute_result"
    }
   ],
   "source": [
    "df_nohbond_largeattention = pd.read_csv('./nohbond_largeattention.csv')\n",
    "df_nohbond_largeattention['nobond'] = df_nohbond_largeattention['nobond'].apply(eval)\n",
    "df_nohbond_largeattention.head(2)"
   ]
  },
  {
   "cell_type": "code",
   "execution_count": 8,
   "id": "18ade75e",
   "metadata": {},
   "outputs": [],
   "source": [
    "def add_commnad(Pymol_COMMAND, text):\n",
    "    return Pymol_COMMAND + text + '\\n'\n",
    "\n",
    "def get_command(pdbid):\n",
    "    Pymol_COMMAND = ''\n",
    "    chain_list = list([c.get_id() for c in structure.get_chains()])\n",
    "    \n",
    "    residues_chain_cdr_alpha = DICT_PDBID_2_CDRS[pdbid][0]\n",
    "    residues_chain_cdr_beta = DICT_PDBID_2_CDRS[pdbid][1]\n",
    "    chain2_cdr3_pdb_pos = [r.get_full_id()[3][1] for r in residues_chain_cdr_beta]\n",
    "    chain1_cdr3_pdb_pos = [r.get_full_id()[3][1] for r in residues_chain_cdr_alpha]\n",
    "\n",
    "    ALPHA_CHAIN_NAME, BETA_CHAIN_NAME, EPITOPE_CHAIN_NAME = \\\n",
    "        DICT_PDBID_2_CDRS[pdbid][0][0].get_full_id()[2], DICT_PDBID_2_CDRS[pdbid][1][0].get_full_id()[2], DICT_PDBID_2_CDRS[pdbid][2][0].get_full_id()[2]\n",
    "    MHC_CHAIN_NAME = [c for c in chain_list if c not in ALPHA_CHAIN_NAME+BETA_CHAIN_NAME+EPITOPE_CHAIN_NAME]\n",
    "\n",
    "    attn_output_weights1_list, attn_output_weights2_list = DICT_PDBID_2_Atten12[pdbid]\n",
    "    attention_residue_index = []\n",
    "    attention_residue_headnum = []\n",
    "    for headi in range(4):\n",
    "        atten = attn_output_weights2_list[headi]\n",
    "        good_vals = (atten > (atten.values.ravel().mean() + 5.0 * atten.values.ravel().std())).any()\n",
    "        attention_residue_index += [i for i,v in enumerate(good_vals.values) if v]\n",
    "        attention_residue_headnum += [headi for _ in range(sum(good_vals.values))]\n",
    "\n",
    "    residues_all = residues_chain_cdr_alpha + [None] + residues_chain_cdr_beta\n",
    "    attention_residue_alpha = [residues_all[i] for i in attention_residue_index if i<len(residues_chain_cdr_alpha)]\n",
    "    attention_residue_alpha_head = [attention_residue_headnum[i] for i, ri in enumerate(attention_residue_index) if ri<len(residues_chain_cdr_alpha)]\n",
    "    attention_residue_beta = [residues_all[i] for i in attention_residue_index if i>=len(residues_chain_cdr_beta)]\n",
    "    attention_residue_beta_head = [attention_residue_headnum[i] for i, ri in enumerate(attention_residue_index) if ri>=len(residues_chain_cdr_alpha)]\n",
    "    attention_pos_alpha = [r.get_full_id()[3][1] for r in attention_residue_alpha]\n",
    "    attention_pos_beta = [r.get_full_id()[3][1] for r in attention_residue_beta]\n",
    "\n",
    "    ###. Base commands ################################################################\n",
    "    \n",
    "    Pymol_COMMAND = add_commnad(Pymol_COMMAND, f'fetch {pdbid};')\n",
    "    Pymol_COMMAND = add_commnad(Pymol_COMMAND, 'set seq_view, 1;')\n",
    "    Pymol_COMMAND = add_commnad(Pymol_COMMAND, 'bg_color white;')\n",
    "    Pymol_COMMAND = add_commnad(Pymol_COMMAND, 'set_color blue60, [ 0, 0, 110 ];')\n",
    "    Pymol_COMMAND = add_commnad(Pymol_COMMAND, 'set_color blue30, [ 0, 0, 20 ];')\n",
    "    Pymol_COMMAND = add_commnad(Pymol_COMMAND, 'set_color red60, [ 110, 0, 0 ];')\n",
    "    Pymol_COMMAND = add_commnad(Pymol_COMMAND, 'set_color red30, [ 20, 0, 0 ];')\n",
    "    Pymol_COMMAND = add_commnad(Pymol_COMMAND, 'hide all;')\n",
    "    ##############################################################################\n",
    "    \n",
    "    \n",
    "    ### Base chains and colors ###################################################\n",
    "    Pymol_COMMAND = add_commnad(Pymol_COMMAND, f'select beta, chain {BETA_CHAIN_NAME} and not solvent;')\n",
    "    Pymol_COMMAND = add_commnad(Pymol_COMMAND, f'select alpha, chain {ALPHA_CHAIN_NAME} and not solvent;')\n",
    "    if len(MHC_CHAIN_NAME)==1:\n",
    "        mhc_chain = f'chain {MHC_CHAIN_NAME[0]}'\n",
    "    else:\n",
    "        mhc_chain = ''\n",
    "        for m in MHC_CHAIN_NAME:\n",
    "            mhc_chain += f'chain {m} or '\n",
    "        mhc_chain = mhc_chain[:-4]\n",
    "    Pymol_COMMAND = add_commnad(Pymol_COMMAND, f'select mhc, ({mhc_chain}) and not solvent;')    \n",
    "    coloring_commands = ['show ribbon, alpha;', 'color salmon, alpha;', 'show ribbon, beta;', 'color cyan, beta;', \n",
    "                'show ribbon, mhc;', 'color grey70, mhc;']\n",
    "    for com in coloring_commands:\n",
    "        Pymol_COMMAND = add_commnad(Pymol_COMMAND, com)\n",
    "    ##############################################################################\n",
    "    \n",
    "    \n",
    "    if len(BETA_CHAIN_NAME)==1:\n",
    "        Pymol_COMMAND = add_commnad(Pymol_COMMAND, f'sel beta_cdr3, (chain {BETA_CHAIN_NAME} and resi {chain2_cdr3_pdb_pos[0]}:{chain2_cdr3_pdb_pos[-1]});')\n",
    "        Pymol_COMMAND = add_commnad(Pymol_COMMAND, 'set cartoon_side_chain_helper, on')\n",
    "        Pymol_COMMAND = add_commnad(Pymol_COMMAND, 'show sticks, beta_cdr3;')\n",
    "        Pymol_COMMAND = add_commnad(Pymol_COMMAND, f'util.cbag beta_cdr3;')\n",
    "    else:\n",
    "        for b in BETA_CHAIN_NAME.split(', '):\n",
    "            Pymol_COMMAND = add_commnad(Pymol_COMMAND, f'sel beta_cdr3, (chain {b} and resi {chain2_cdr3_pdb_pos[0]}:{chain2_cdr3_pdb_pos[-1]});')\n",
    "            Pymol_COMMAND = add_commnad(Pymol_COMMAND, 'set cartoon_side_chain_helper, on')\n",
    "            Pymol_COMMAND = add_commnad(Pymol_COMMAND, 'show sticks, beta_cdr3;')\n",
    "            Pymol_COMMAND = add_commnad(Pymol_COMMAND, 'util.cbag beta_cdr3;')\n",
    "        \n",
    "    \n",
    "    if len(ALPHA_CHAIN_NAME)==1:        \n",
    "        Pymol_COMMAND = add_commnad(Pymol_COMMAND, f'sel alpha_cdr3, (chain {ALPHA_CHAIN_NAME} and resi {chain1_cdr3_pdb_pos[0]}:{chain1_cdr3_pdb_pos[-1]});')\n",
    "        Pymol_COMMAND = add_commnad(Pymol_COMMAND, 'set cartoon_side_chain_helper, on')\n",
    "        Pymol_COMMAND = add_commnad(Pymol_COMMAND, 'show sticks, alpha_cdr3;')\n",
    "        Pymol_COMMAND = add_commnad(Pymol_COMMAND, f'util.cbag alpha_cdr3;')\n",
    "    else:\n",
    "        for a in ALPHA_CHAIN_NAME.split(', '):\n",
    "            Pymol_COMMAND = add_commnad(Pymol_COMMAND, f'sel alpha_cdr3, (chain {a} and resi {chain1_cdr3_pdb_pos[0]}:{chain1_cdr3_pdb_pos[-1]});')\n",
    "            Pymol_COMMAND = add_commnad(Pymol_COMMAND, 'set cartoon_side_chain_helper, on')\n",
    "            Pymol_COMMAND = add_commnad(Pymol_COMMAND, 'show sticks, alpha_cdr3;')\n",
    "            Pymol_COMMAND = add_commnad(Pymol_COMMAND, f'util.cbag alpha_cdr3;')\n",
    "\n",
    "    if len(EPITOPE_CHAIN_NAME)==1:\n",
    "        Pymol_COMMAND = add_commnad(Pymol_COMMAND, f'sel epitope, chain {EPITOPE_CHAIN_NAME} and not solvent;')\n",
    "        Pymol_COMMAND = add_commnad(Pymol_COMMAND, 'show sticks, epitope;')\n",
    "    else:\n",
    "        for e in EPITOPE_CHAIN_NAME.split(', '):\n",
    "            Pymol_COMMAND = add_commnad(Pymol_COMMAND, f'sel epitope, chain {e} and not solvent;')\n",
    "            Pymol_COMMAND = add_commnad(Pymol_COMMAND, 'show sticks, epitope;')\n",
    "    \n",
    "    \n",
    "    \n",
    "    bond_distance_commands = [\"util.cbay epitope;\",\n",
    "            \"select cdr3, alpha_cdr3 or beta_cdr3;\",\n",
    "            \"select tcr, alpha or beta;\",\n",
    "            \"dist H_cdr_p, cdr3, epitope, mode=2;\",\n",
    "            \"hide labels, H_cdr_p;\",\n",
    "            \"color black, H_cdr_p;\",\n",
    "            \"dist H_cdr_tcr, cdr3, tcr, mode=2;\",\n",
    "            \"hide labels, H_cdr_tcr;\",\n",
    "            \"color grey, H_cdr_tcr;\",]\n",
    "    \n",
    "    for com in bond_distance_commands:\n",
    "        Pymol_COMMAND = add_commnad(Pymol_COMMAND, com)\n",
    "\n",
    "    '''Attention'''\n",
    "    if len(ALPHA_CHAIN_NAME)==1:\n",
    "        for hi, ap in zip(attention_residue_alpha_head, attention_pos_alpha):\n",
    "            Pymol_COMMAND = add_commnad(Pymol_COMMAND, f'sel atten_a_head{hi}, (chain {ALPHA_CHAIN_NAME} and resi {ap});')\n",
    "            Pymol_COMMAND = add_commnad(Pymol_COMMAND, f'color pink, atten_a_head{hi};')\n",
    "    else:\n",
    "        for a in ALPHA_CHAIN_NAME.split(', '):\n",
    "            for hi, ap in zip(attention_residue_alpha_head, attention_pos_alpha):\n",
    "                Pymol_COMMAND = add_commnad(Pymol_COMMAND, f'sel atten_a_head{hi}, (chain {a} and resi {ap});')\n",
    "                Pymol_COMMAND = add_commnad(Pymol_COMMAND, f'color pink, atten_a_head{hi};')\n",
    "        \n",
    "    if len(BETA_CHAIN_NAME)==1:\n",
    "        for hi, ap in zip(attention_residue_beta_head, attention_pos_beta):\n",
    "            Pymol_COMMAND = add_commnad(Pymol_COMMAND, f'sel atten_b_head{hi}, (chain {BETA_CHAIN_NAME} and resi {ap});')\n",
    "            Pymol_COMMAND = add_commnad(Pymol_COMMAND, f'color pink, atten_b_head{hi};')\n",
    "    else:\n",
    "        for b in BETA_CHAIN_NAME.split(', '):\n",
    "            for hi, ap in zip(attention_residue_beta_head, attention_pos_beta):\n",
    "                Pymol_COMMAND = add_commnad(Pymol_COMMAND, f'sel atten_b_head{hi}, (chain {b} and resi {ap});')\n",
    "                Pymol_COMMAND = add_commnad(Pymol_COMMAND, f'color pink, atten_b_head{hi};')            \n",
    "                \n",
    "    '''No HBond but attention'''\n",
    "    temp_list = df_nohbond_largeattention.query('pdbid==@pdbid')['nobond'].item()\n",
    "    print(temp_list)\n",
    "    for string4digit in temp_list:\n",
    "        if isinstance(string4digit,str):\n",
    "            chain = string4digit[0]\n",
    "            position = string4digit[1:]\n",
    "            Pymol_COMMAND = add_commnad(Pymol_COMMAND, f'sel nohbond_largeatten, (chain {chain} and resi {int(position)});')\n",
    "            Pymol_COMMAND = add_commnad(Pymol_COMMAND, f'color black, nohbond_largeatten;')\n",
    "    \n",
    "    return Pymol_COMMAND"
   ]
  },
  {
   "cell_type": "code",
   "execution_count": 9,
   "id": "a3b78d85",
   "metadata": {},
   "outputs": [
    {
     "name": "stdout",
     "output_type": "stream",
     "text": [
      "E0106\n",
      "E0115\n"
     ]
    }
   ],
   "source": [
    "pdbid='4OZH'\n",
    "for n in df_nohbond_largeattention.query('pdbid==@pdbid')['nobond'].values.item():\n",
    "    if isinstance(n,str):\n",
    "        print(n)"
   ]
  },
  {
   "cell_type": "code",
   "execution_count": 10,
   "id": "7cd08fab",
   "metadata": {},
   "outputs": [
    {
     "data": {
      "text/html": [
       "<div>\n",
       "<style scoped>\n",
       "    .dataframe tbody tr th:only-of-type {\n",
       "        vertical-align: middle;\n",
       "    }\n",
       "\n",
       "    .dataframe tbody tr th {\n",
       "        vertical-align: top;\n",
       "    }\n",
       "\n",
       "    .dataframe thead th {\n",
       "        text-align: right;\n",
       "    }\n",
       "</style>\n",
       "<table border=\"1\" class=\"dataframe\">\n",
       "  <thead>\n",
       "    <tr style=\"text-align: right;\">\n",
       "      <th></th>\n",
       "      <th>Unnamed: 0</th>\n",
       "      <th>pdbid</th>\n",
       "      <th>nobond</th>\n",
       "    </tr>\n",
       "  </thead>\n",
       "  <tbody>\n",
       "    <tr>\n",
       "      <th>13</th>\n",
       "      <td>13</td>\n",
       "      <td>4OZH</td>\n",
       "      <td>[E0106, E0115]</td>\n",
       "    </tr>\n",
       "  </tbody>\n",
       "</table>\n",
       "</div>"
      ],
      "text/plain": [
       "    Unnamed: 0 pdbid          nobond\n",
       "13          13  4OZH  [E0106, E0115]"
      ]
     },
     "execution_count": 10,
     "metadata": {},
     "output_type": "execute_result"
    }
   ],
   "source": [
    "df_nohbond_largeattention.query('pdbid==@pdbid')"
   ]
  },
  {
   "cell_type": "markdown",
   "id": "871ec8f1",
   "metadata": {},
   "source": [
    "# Save command into file"
   ]
  },
  {
   "cell_type": "code",
   "execution_count": 11,
   "id": "c32e78e7",
   "metadata": {},
   "outputs": [],
   "source": [
    "positive_pdbid_list = [k for k,v in DICT_PDBID_2_model_out.items() if v[-1]>0.5]"
   ]
  },
  {
   "cell_type": "code",
   "execution_count": 12,
   "id": "2e57e203",
   "metadata": {
    "scrolled": true
   },
   "outputs": [
    {
     "name": "stdout",
     "output_type": "stream",
     "text": [
      "2VLK []\n",
      "5WKF ['D0097']\n",
      "3PQY ['D0110', 'D0115']\n",
      "4MJI ['E0103']\n",
      "4P2Q ['E0102']\n",
      "2YPL []\n",
      "1J8H []\n",
      "4P2R ['E0102']\n",
      "5MEN []\n",
      "3MV8 []\n",
      "4OZF ['G0116']\n",
      "3VXR ['E0099']\n",
      "3VXS []\n",
      "4OZG ['E0116']\n",
      "5TEZ []\n",
      "2J8U ['E0101', 'F0098']\n",
      "6Q3S []\n",
      "4JRX ['D0118']\n",
      "3VXU []\n",
      "1U3H ['B0108']\n",
      "4JRY []\n",
      "4Z7V []\n",
      "4JFE []\n",
      "4JFD []\n",
      "3QIU ['C0095']\n",
      "2Z31 ['A0103']\n",
      "2BNR []\n",
      "3MBE ['C0116']\n",
      "4OZH ['E0106', 'E0115']\n",
      "2NX5 ['D0096', 'E0108']\n",
      "5NHT ['A0096']\n",
      "4QOK ['E0102', 'E0099']\n",
      "5D2L ['I0097', 'I0100']\n",
      "1D9K ['A0106', 'B0108', 'B0097']\n",
      "4P2O []\n",
      "5WKH ['D0109', 'E0118']\n",
      "6EQB []\n",
      "2VLR []\n",
      "6EQA ['E0099', 'E0101']\n"
     ]
    }
   ],
   "source": [
    "for pdbid in positive_pdbid_list:\n",
    "    if pdbid not in DICT_PDBID_2_Atten12:\n",
    "        continue\n",
    "    if pdbid not in df_nohbond_largeattention.pdbid.tolist():\n",
    "        continue\n",
    "    print(pdbid, end=' ')    \n",
    "    with open(f'./../streamlit/pymolcommand_ribons_v2/{pdbid}.pml', 'w') as f:\n",
    "        f.writelines(get_command(pdbid))\n"
   ]
  },
  {
   "cell_type": "code",
   "execution_count": 33,
   "id": "58e0f46c",
   "metadata": {
    "scrolled": false
   },
   "outputs": [
    {
     "name": "stdout",
     "output_type": "stream",
     "text": [
      "1D9K.pml 2NX5.pml 3MBE.pml 3VXS.pml 4JRY.pml 4P2O.pml 5D2L.pml 5WKH.pml\r\n",
      "1J8H.pml 2VLK.pml 3MV8.pml 3VXU.pml 4MJI.pml 4P2Q.pml 5MEN.pml 6EQA.pml\r\n",
      "1U3H.pml 2VLR.pml 3PQY.pml 4JFD.pml 4OZF.pml 4P2R.pml 5NHT.pml 6EQB.pml\r\n",
      "2BNR.pml 2YPL.pml 3QIU.pml 4JFE.pml 4OZG.pml 4QOK.pml 5TEZ.pml 6Q3S.pml\r\n",
      "2J8U.pml 2Z31.pml 3VXR.pml 4JRX.pml 4OZH.pml 4Z7V.pml 5WKF.pml\r\n"
     ]
    }
   ],
   "source": [
    "!ls /Users/kyoheikoyama/workspace/tcrpred/streamlit/pymolcommand_ribons_v2/"
   ]
  },
  {
   "cell_type": "code",
   "execution_count": null,
   "id": "d6c05be5",
   "metadata": {},
   "outputs": [],
   "source": [
    "/Users/kyoheikoyama/workspace/tcrpred/streamlit/pymolcommand_ribons_v2/5WKF.pml"
   ]
  },
  {
   "cell_type": "code",
   "execution_count": 35,
   "id": "c82d4429",
   "metadata": {
    "scrolled": true
   },
   "outputs": [
    {
     "name": "stdout",
     "output_type": "stream",
     "text": [
      "fetch 4OZH;\r\n",
      "set seq_view, 1;\r\n",
      "bg_color white;\r\n",
      "set_color blue60, [ 0, 0, 110 ];\r\n",
      "set_color blue30, [ 0, 0, 20 ];\r\n",
      "set_color red60, [ 110, 0, 0 ];\r\n",
      "set_color red30, [ 20, 0, 0 ];\r\n",
      "hide all;\r\n",
      "select beta, chain F and not solvent;\r\n",
      "select alpha, chain E and not solvent;\r\n",
      "select mhc, (chain A or chain B or chain C or chain D) and not solvent;\r\n",
      "show ribbon, alpha;\r\n",
      "color salmon, alpha;\r\n",
      "show ribbon, beta;\r\n",
      "color cyan, beta;\r\n",
      "show ribbon, mhc;\r\n",
      "color grey70, mhc;\r\n",
      "sel beta_cdr3, (chain F and resi 104:118);\r\n",
      "set cartoon_side_chain_helper, on\r\n",
      "show sticks, beta_cdr3;\r\n",
      "util.cbag beta_cdr3;\r\n",
      "sel alpha_cdr3, (chain E and resi 104:118);\r\n",
      "set cartoon_side_chain_helper, on\r\n",
      "show sticks, alpha_cdr3;\r\n",
      "util.cbag alpha_cdr3;\r\n",
      "sel epitope, chain I and not solvent;\r\n",
      "show sticks, epitope;\r\n",
      "util.cbay epitope;\r\n",
      "select cdr3, alpha_cdr3 or beta_cdr3;\r\n",
      "select tcr, alpha or beta;\r\n",
      "dist H_cdr_p, cdr3, epitope, mode=2;\r\n",
      "hide labels, H_cdr_p;\r\n",
      "color black, H_cdr_p;\r\n",
      "dist H_cdr_tcr, cdr3, tcr, mode=2;\r\n",
      "hide labels, H_cdr_tcr;\r\n",
      "color grey, H_cdr_tcr;\r\n",
      "sel atten_a_head0, (chain E and resi 106);\r\n",
      "color pink, atten_a_head0;\r\n",
      "sel atten_a_head0, (chain E and resi 108);\r\n",
      "color pink, atten_a_head0;\r\n",
      "sel atten_a_head1, (chain E and resi 115);\r\n",
      "color pink, atten_a_head1;\r\n",
      "sel atten_a_head2, (chain E and resi 116);\r\n",
      "color pink, atten_a_head2;\r\n",
      "sel atten_b_head2, (chain F and resi 114);\r\n",
      "color pink, atten_b_head2;\r\n",
      "sel atten_b_head3, (chain F and resi 116);\r\n",
      "color pink, atten_b_head3;\r\n",
      "sel atten_b_head3, (chain F and resi 117);\r\n",
      "color pink, atten_b_head3;\r\n",
      "sel nohbond_largeatten, (chain E and resi 106);\r\n",
      "color black, nohbond_largeatten;\r\n",
      "sel nohbond_largeatten, (chain E and resi 115);\r\n",
      "color black, nohbond_largeatten;\r\n"
     ]
    }
   ],
   "source": [
    "!cat /Users/kyoheikoyama/workspace/tcrpred/streamlit/pymolcommand_ribons_v2/4OZH.pml"
   ]
  },
  {
   "cell_type": "code",
   "execution_count": null,
   "id": "f2882209",
   "metadata": {},
   "outputs": [],
   "source": []
  }
 ],
 "metadata": {
  "kernelspec": {
   "display_name": "tcrpred",
   "language": "python",
   "name": "tcrpred"
  },
  "language_info": {
   "codemirror_mode": {
    "name": "ipython",
    "version": 3
   },
   "file_extension": ".py",
   "mimetype": "text/x-python",
   "name": "python",
   "nbconvert_exporter": "python",
   "pygments_lexer": "ipython3",
   "version": "3.8.3"
  },
  "toc": {
   "base_numbering": 1,
   "nav_menu": {},
   "number_sections": true,
   "sideBar": true,
   "skip_h1_title": false,
   "title_cell": "Table of Contents",
   "title_sidebar": "Contents",
   "toc_cell": false,
   "toc_position": {},
   "toc_section_display": true,
   "toc_window_display": false
  }
 },
 "nbformat": 4,
 "nbformat_minor": 5
}
