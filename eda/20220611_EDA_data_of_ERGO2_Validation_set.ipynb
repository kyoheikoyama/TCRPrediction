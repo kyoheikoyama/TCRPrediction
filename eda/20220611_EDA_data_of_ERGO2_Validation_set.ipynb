{
 "cells": [
  {
   "cell_type": "code",
   "execution_count": 1,
   "id": "920cd35b",
   "metadata": {},
   "outputs": [],
   "source": [
    "%config Completer.use_jedi = False"
   ]
  },
  {
   "cell_type": "code",
   "execution_count": 2,
   "id": "a7e17e4e",
   "metadata": {},
   "outputs": [],
   "source": [
    "import pandas as pd\n",
    "import pickle, os, sys"
   ]
  },
  {
   "cell_type": "code",
   "execution_count": 3,
   "id": "dc7ad589",
   "metadata": {},
   "outputs": [
    {
     "name": "stdout",
     "output_type": "stream",
     "text": [
      "2022-03-16 02:50:05   10820250 20220211_191954_k3_datasettest.pickle\r\n",
      "2022-03-16 02:50:07    2804102 20220211_191954_k3_test_hh.pickle\r\n",
      "2022-03-16 02:50:08    2804066 20220211_191954_k3_test_yy.pickle\r\n",
      "2022-03-16 02:50:08 7868901734 20220211_191954_results_attention_tes.pickle\r\n",
      "2022-03-16 02:53:39 6291223148 20220211_191954_results_attention_tra.pickle\r\n",
      "2022-03-16 02:53:41 1577678752 20220211_191954_results_attention_val.pickle\r\n"
     ]
    }
   ],
   "source": [
    "!aws s3 ls s3://sg-playground-kkoyama-temp/tcrpred/hhyylog/ | grep 20220211_191954"
   ]
  },
  {
   "cell_type": "markdown",
   "id": "6d2d7b3b",
   "metadata": {},
   "source": [
    "# Files"
   ]
  },
  {
   "cell_type": "code",
   "execution_count": 4,
   "id": "90e8e025",
   "metadata": {},
   "outputs": [],
   "source": [
    "plist = ['s3://sg-playground-kkoyama-temp/tcrpred/hhyylog/20220211_191954_k3_datasettest.pickle',\n",
    " 's3://sg-playground-kkoyama-temp/tcrpred/hhyylog/20220211_191954_k3_test_hh.pickle',\n",
    " 's3://sg-playground-kkoyama-temp/tcrpred/hhyylog/20220211_191954_k3_test_yy.pickle']"
   ]
  },
  {
   "cell_type": "code",
   "execution_count": 5,
   "id": "453a1c16",
   "metadata": {
    "scrolled": true
   },
   "outputs": [
    {
     "name": "stdout",
     "output_type": "stream",
     "text": [
      "2022-03-16 02:46:31   10820250 20220211_191950_k1_datasettest.pickle\r\n",
      "2022-03-16 02:46:32   10820250 20220211_191950_k2_datasettest.pickle\r\n",
      "2022-03-16 02:46:34   10820250 20220211_191951_k0_datasettest.pickle\r\n",
      "2022-03-16 02:50:05   10820250 20220211_191954_k3_datasettest.pickle\r\n",
      "2022-03-16 02:55:30   10820250 20220211_192004_k4_datasettest.pickle\r\n"
     ]
    }
   ],
   "source": [
    "!aws s3 ls s3://sg-playground-kkoyama-temp/tcrpred/hhyylog/ | grep 20220211 | grep datasettest"
   ]
  },
  {
   "cell_type": "code",
   "execution_count": 7,
   "id": "5a4c3b20",
   "metadata": {
    "scrolled": true
   },
   "outputs": [],
   "source": [
    "import sys\n",
    "sys.path.append('../recipes/')\n",
    "sys.path.append('../scripts/')\n",
    "from dataset import MCPASDataset\n",
    "from dataset_selector import dataset_select\n"
   ]
  },
  {
   "cell_type": "code",
   "execution_count": 8,
   "id": "f586e23b",
   "metadata": {},
   "outputs": [
    {
     "name": "stderr",
     "output_type": "stream",
     "text": [
      "../recipes/dataset.py:166: SettingWithCopyWarning: \n",
      "A value is trying to be set on a copy of a slice from a DataFrame.\n",
      "Try using .loc[row_indexer,col_indexer] = value instead\n",
      "\n",
      "See the caveats in the documentation: https://pandas.pydata.org/pandas-docs/stable/user_guide/indexing.html#returning-a-view-versus-a-copy\n",
      "  df['sign'] = df['sign'].astype(int)\n"
     ]
    },
    {
     "name": "stdout",
     "output_type": "stream",
     "text": [
      "datasize and y-vcounts:  (140082, 11) 0    116757\n",
      "1     23325\n",
      "Name: sign, dtype: int64\n",
      "datasize and y-vcounts:  (35129, 11) 0    29331\n",
      "1     5798\n",
      "Name: sign, dtype: int64\n",
      "datasize and y-vcounts:  (175211, 11) 0    146088\n",
      "1     29123\n",
      "Name: sign, dtype: int64\n"
     ]
    }
   ],
   "source": [
    "KFOLDNUM = 3\n",
    "\n",
    "# ret = dataset_select('all',kfold=3)\n",
    "\n",
    "df_all,  dataset_train, dataset_valid, dataset_test, n_tok, n_pos1, n_pos2, n_seg = \\\n",
    "    dataset_select('all', kfold=KFOLDNUM)\n"
   ]
  },
  {
   "cell_type": "code",
   "execution_count": 9,
   "id": "b65db252",
   "metadata": {},
   "outputs": [
    {
     "data": {
      "text/plain": [
       "(140082, 35129, 175211)"
      ]
     },
     "execution_count": 9,
     "metadata": {},
     "output_type": "execute_result"
    }
   ],
   "source": [
    "len(dataset_train), len(dataset_valid), len(dataset_test)"
   ]
  },
  {
   "cell_type": "code",
   "execution_count": 10,
   "id": "058ee974",
   "metadata": {},
   "outputs": [],
   "source": [
    "p_list = [\n",
    "    \"../external_data/ERGO-II/Samples/vdjdb_train_samples.pickle\",\n",
    "    \"../external_data/ERGO-II/Samples/mcpas_train_samples.pickle\",\n",
    "    \"../external_data/ERGO-II/Samples/vdjdb_test_samples.pickle\",\n",
    "    \"../external_data/ERGO-II/Samples/mcpas_test_samples.pickle\",\n",
    "]\n",
    "\n",
    "def get_df(datapath):\n",
    "    return pd.DataFrame(pickle.load(open(datapath, \"rb\")))\n",
    "\n",
    "def get_df_from_path(p_list):\n",
    "    return pd.concat([get_df(d) for d in p_list]).reset_index(drop=True)\n",
    "\n",
    "df_all = get_df_from_path(p_list)"
   ]
  },
  {
   "cell_type": "code",
   "execution_count": 11,
   "id": "35c2eee7",
   "metadata": {},
   "outputs": [],
   "source": [
    "from sklearn.model_selection import KFold\n",
    "kf = KFold(n_splits=5, shuffle=True, random_state=2)\n",
    "\n",
    "train_index, valid_index = [\n",
    "    (train_index, valid_index) for train_index, valid_index in kf.split(df_all)\n",
    "][KFOLDNUM]"
   ]
  },
  {
   "cell_type": "code",
   "execution_count": 12,
   "id": "08fe6840",
   "metadata": {},
   "outputs": [],
   "source": [
    "df_train, df_valid = df_all.loc[train_index], df_all.loc[valid_index]"
   ]
  },
  {
   "cell_type": "code",
   "execution_count": 13,
   "id": "6eb8dc7f",
   "metadata": {},
   "outputs": [],
   "source": [
    "df_train = df_train.query('tcra!=\"UNK\"')\n",
    "df_valid = df_valid.query('tcra!=\"UNK\"')"
   ]
  },
  {
   "cell_type": "code",
   "execution_count": 14,
   "id": "f1e9a43a",
   "metadata": {},
   "outputs": [
    {
     "data": {
      "text/plain": [
       "(35129, 11)"
      ]
     },
     "execution_count": 14,
     "metadata": {},
     "output_type": "execute_result"
    }
   ],
   "source": [
    "df_valid.shape"
   ]
  },
  {
   "cell_type": "markdown",
   "id": "0a786ef9",
   "metadata": {},
   "source": [
    "# hhyy analysis"
   ]
  },
  {
   "cell_type": "code",
   "execution_count": 15,
   "id": "4ad39b00",
   "metadata": {},
   "outputs": [],
   "source": [
    "from scipy.special import softmax\n",
    "from utils import get_infer_report, get_metrics"
   ]
  },
  {
   "cell_type": "code",
   "execution_count": 16,
   "id": "a2fd9592",
   "metadata": {},
   "outputs": [],
   "source": [
    "d20220211_191954_k3_test_hh = pd.read_pickle(plist[1]).apply(softmax, axis=1)\n",
    "d20220211_191954_k3_test_yy = pd.read_pickle(plist[2])"
   ]
  },
  {
   "cell_type": "code",
   "execution_count": 17,
   "id": "e134cafd",
   "metadata": {},
   "outputs": [
    {
     "data": {
      "text/plain": [
       "(50379, 11)"
      ]
     },
     "execution_count": 17,
     "metadata": {},
     "output_type": "execute_result"
    }
   ],
   "source": [
    "isin_valid_index = dataset_test.data.apply(tuple,axis=1).isin(dataset_valid.data.apply(tuple,axis=1))\n",
    "isin_valid_df = dataset_test.data.loc[isin_valid_index]\n",
    "isin_valid_df.shape"
   ]
  },
  {
   "cell_type": "code",
   "execution_count": 18,
   "id": "0b9e1d5d",
   "metadata": {},
   "outputs": [
    {
     "data": {
      "text/plain": [
       "(149674, 11)"
      ]
     },
     "execution_count": 18,
     "metadata": {},
     "output_type": "execute_result"
    }
   ],
   "source": [
    "isin_train_index = dataset_test.data.apply(tuple,axis=1).isin(dataset_train.data.apply(tuple,axis=1))\n",
    "isin_train_df = dataset_test.data.loc[isin_train_index]\n",
    "isin_train_df.shape"
   ]
  },
  {
   "cell_type": "markdown",
   "id": "6025ea17",
   "metadata": {},
   "source": [
    "## Validation set"
   ]
  },
  {
   "cell_type": "code",
   "execution_count": 19,
   "id": "69260386",
   "metadata": {
    "scrolled": true
   },
   "outputs": [
    {
     "name": "stdout",
     "output_type": "stream",
     "text": [
      "- acc 0.6756585085055281\n",
      "- balanced_acc 0.7211840521829265\n",
      "- precision on 1:  0.2547443068318018\n",
      "- precision on 0:  0.9533190578158458\n",
      "- confusion matrix tn, fp, fn, tp: 28938, 14923, 1417, 5101\n",
      "- roc_auc_score 0.8175009851304436\n",
      "- pr_auc_score on 1 0.46215746084731496\n",
      "- pr_auc_score on 0 0.9666643011993737\n"
     ]
    },
    {
     "data": {
      "image/png": "[encoded data removed]",
      "text/plain": [
       "<Figure size 720x720 with 4 Axes>"
      ]
     },
     "metadata": {
      "needs_background": "light"
     },
     "output_type": "display_data"
    }
   ],
   "source": [
    "ypred = d20220211_191954_k3_test_hh.iloc[isin_valid_df.index][1]\n",
    "ytrue = d20220211_191954_k3_test_yy.iloc[isin_valid_df.index].values\n",
    "get_infer_report(ytrue, ypred)"
   ]
  },
  {
   "cell_type": "markdown",
   "id": "221432eb",
   "metadata": {},
   "source": [
    "## Training set"
   ]
  },
  {
   "cell_type": "code",
   "execution_count": 20,
   "id": "7a1f233a",
   "metadata": {
    "scrolled": true
   },
   "outputs": [
    {
     "name": "stdout",
     "output_type": "stream",
     "text": [
      "- acc 0.7980744818739394\n",
      "- balanced_acc 0.8799166742629394\n",
      "- precision on 1:  0.438993593909572\n",
      "- precision on 0:  0.9998956365647732\n",
      "- confusion matrix tn, fp, fn, tp: 95809, 30213, 10, 23642\n",
      "- roc_auc_score 0.9500170737317377\n",
      "- pr_auc_score on 1 0.7837038633464529\n",
      "- pr_auc_score on 0 0.9906427507737353\n"
     ]
    },
    {
     "data": {
      "image/png": "[encoded data removed]",
      "text/plain": [
       "<Figure size 720x720 with 4 Axes>"
      ]
     },
     "metadata": {
      "needs_background": "light"
     },
     "output_type": "display_data"
    }
   ],
   "source": [
    "ypred = d20220211_191954_k3_test_hh.iloc[isin_train_df.index].apply(softmax, axis=1)[1]\n",
    "ytrue = d20220211_191954_k3_test_yy.iloc[isin_train_df.index].values\n",
    "get_infer_report(ytrue, ypred)"
   ]
  },
  {
   "cell_type": "code",
   "execution_count": null,
   "id": "946bf1b2",
   "metadata": {},
   "outputs": [],
   "source": []
  },
  {
   "cell_type": "code",
   "execution_count": null,
   "id": "12a9e3e1",
   "metadata": {},
   "outputs": [],
   "source": []
  },
  {
   "cell_type": "markdown",
   "id": "5b8ed87d",
   "metadata": {},
   "source": [
    "# PDB"
   ]
  },
  {
   "cell_type": "code",
   "execution_count": 22,
   "id": "223f1b42",
   "metadata": {
    "scrolled": true
   },
   "outputs": [
    {
     "name": "stdout",
     "output_type": "stream",
     "text": [
      "2021_DICT_PDBID_2_Atten12.pickle\r\n",
      "2021_DICT_PDBID_2_CDRS.pickle\r\n",
      "2021_DICT_PDBID_2_CHAINNAMES.pickle\r\n",
      "2021_DICT_PDBID_2_DISTANCE.pickle\r\n",
      "2021_DICT_PDBID_2_MELTDIST.pickle\r\n",
      "2021_DICT_PDBID_2_RESIDUES.pickle\r\n",
      "2021_DICT_PDBID_2_SEQUENCES_CDR.pickle\r\n",
      "2021_DICT_PDBID_2_dfhhb.pickle\r\n",
      "2021_DICT_PDBID_2_dfnnb.pickle\r\n",
      "2021_DICT_PDBID_2_model_out.pickle\r\n",
      "20220211_191954_DICT_PDBID_2_Atten12.pickle\r\n",
      "20220211_191954_DICT_PDBID_2_CDRS.pickle\r\n",
      "20220211_191954_DICT_PDBID_2_CHAINNAMES.pickle\r\n",
      "20220211_191954_DICT_PDBID_2_DISTANCE.pickle\r\n",
      "20220211_191954_DICT_PDBID_2_MELTDIST.pickle\r\n",
      "20220211_191954_DICT_PDBID_2_RESIDUES.pickle\r\n",
      "20220211_191954_DICT_PDBID_2_SEQUENCES_CDR.pickle\r\n",
      "20220211_191954_DICT_PDBID_2_dfhhb.pickle\r\n",
      "20220211_191954_DICT_PDBID_2_model_out.pickle\r\n"
     ]
    }
   ],
   "source": [
    "directory = \"../analysis/DICT_PDB_Result\"\n",
    "!ls {directory}"
   ]
  },
  {
   "cell_type": "code",
   "execution_count": 27,
   "id": "268e2788",
   "metadata": {},
   "outputs": [],
   "source": [
    "pickleload = lambda p: pickle.load(open(p,\"rb\"))\n",
    "DICT_PDBID_2_SEQUENCES_CDR = pickleload(f\"{directory}/20220211_191954_DICT_PDBID_2_SEQUENCES_CDR.pickle\")"
   ]
  },
  {
   "cell_type": "code",
   "execution_count": 28,
   "id": "d0503dcf",
   "metadata": {},
   "outputs": [
    {
     "data": {
      "text/plain": [
       "(49, 3)"
      ]
     },
     "execution_count": 28,
     "metadata": {},
     "output_type": "execute_result"
    }
   ],
   "source": [
    "df_DICT_PDBID_2_SEQUENCES_CDR = pd.DataFrame(DICT_PDBID_2_SEQUENCES_CDR).T\n",
    "df_DICT_PDBID_2_SEQUENCES_CDR.columns = ['tcra','tcrb','peptide']\n",
    "df_DICT_PDBID_2_SEQUENCES_CDR.drop_duplicates(subset=['tcra','tcrb','peptide'], inplace=True)\n",
    "df_DICT_PDBID_2_SEQUENCES_CDR.shape"
   ]
  },
  {
   "cell_type": "code",
   "execution_count": 29,
   "id": "639735b0",
   "metadata": {},
   "outputs": [
    {
     "data": {
      "text/html": [
       "<div>\n",
       "<style scoped>\n",
       "    .dataframe tbody tr th:only-of-type {\n",
       "        vertical-align: middle;\n",
       "    }\n",
       "\n",
       "    .dataframe tbody tr th {\n",
       "        vertical-align: top;\n",
       "    }\n",
       "\n",
       "    .dataframe thead th {\n",
       "        text-align: right;\n",
       "    }\n",
       "</style>\n",
       "<table border=\"1\" class=\"dataframe\">\n",
       "  <thead>\n",
       "    <tr style=\"text-align: right;\">\n",
       "      <th></th>\n",
       "      <th>tcra</th>\n",
       "      <th>tcrb</th>\n",
       "      <th>peptide</th>\n",
       "    </tr>\n",
       "  </thead>\n",
       "  <tbody>\n",
       "    <tr>\n",
       "      <th>2VLK</th>\n",
       "      <td>CAGAGSQGNLIF</td>\n",
       "      <td>CASSSRSSYEQYF</td>\n",
       "      <td>GILGFVFTL</td>\n",
       "    </tr>\n",
       "    <tr>\n",
       "      <th>2ICW</th>\n",
       "      <td>CAVSGFASALTF</td>\n",
       "      <td>CASGGGGTLYF</td>\n",
       "      <td>PKYVKQNTLKLAT</td>\n",
       "    </tr>\n",
       "  </tbody>\n",
       "</table>\n",
       "</div>"
      ],
      "text/plain": [
       "              tcra           tcrb        peptide\n",
       "2VLK  CAGAGSQGNLIF  CASSSRSSYEQYF      GILGFVFTL\n",
       "2ICW  CAVSGFASALTF    CASGGGGTLYF  PKYVKQNTLKLAT"
      ]
     },
     "execution_count": 29,
     "metadata": {},
     "output_type": "execute_result"
    }
   ],
   "source": [
    "df_DICT_PDBID_2_SEQUENCES_CDR.head(2)"
   ]
  },
  {
   "cell_type": "code",
   "execution_count": 74,
   "id": "a71e645d",
   "metadata": {},
   "outputs": [],
   "source": [
    "dfall = get_df_from_path(p_list)\n",
    "merged_df = pd.merge(dfall,  \n",
    "                     df_DICT_PDBID_2_SEQUENCES_CDR.reset_index(),  \n",
    "                     on=['tcra','tcrb','peptide'],\n",
    "                     how='inner')"
   ]
  },
  {
   "cell_type": "code",
   "execution_count": 81,
   "id": "cc8137bf",
   "metadata": {
    "scrolled": true
   },
   "outputs": [
    {
     "data": {
      "text/plain": [
       "(73, 12)"
      ]
     },
     "execution_count": 81,
     "metadata": {},
     "output_type": "execute_result"
    }
   ],
   "source": [
    "merged_df = merged_df.rename(columns={'index':'pdbid'})\n",
    "merged_df.shape"
   ]
  },
  {
   "cell_type": "code",
   "execution_count": 82,
   "id": "9a4febe0",
   "metadata": {},
   "outputs": [],
   "source": [
    "DICT_PDBID_2_model_out = pickleload(f'{directory}/20220211_191954_DICT_PDBID_2_model_out.pickle')"
   ]
  },
  {
   "cell_type": "code",
   "execution_count": 88,
   "id": "75e8a49f",
   "metadata": {},
   "outputs": [],
   "source": [
    "merged_df['in_pdb'] = merged_df['pdbid'].isin(DICT_PDBID_2_model_out.keys()) #.drop_duplicates(subset=['tcra','tcrb','peptide'])"
   ]
  },
  {
   "cell_type": "code",
   "execution_count": 91,
   "id": "42147830",
   "metadata": {
    "scrolled": true
   },
   "outputs": [
    {
     "data": {
      "text/plain": [
       "30"
      ]
     },
     "execution_count": 91,
     "metadata": {},
     "output_type": "execute_result"
    }
   ],
   "source": [
    "merged_df['pdbid'].nunique()"
   ]
  },
  {
   "cell_type": "code",
   "execution_count": 92,
   "id": "ba3726be",
   "metadata": {},
   "outputs": [
    {
     "data": {
      "text/plain": [
       "55"
      ]
     },
     "execution_count": 92,
     "metadata": {},
     "output_type": "execute_result"
    }
   ],
   "source": [
    "len(DICT_PDBID_2_model_out)"
   ]
  },
  {
   "cell_type": "code",
   "execution_count": 93,
   "id": "fe1203cf",
   "metadata": {
    "scrolled": true
   },
   "outputs": [
    {
     "data": {
      "text/plain": [
       "0      True\n",
       "1     False\n",
       "2      True\n",
       "3     False\n",
       "4      True\n",
       "5      True\n",
       "6      True\n",
       "7      True\n",
       "8     False\n",
       "9     False\n",
       "10     True\n",
       "11     True\n",
       "12    False\n",
       "13     True\n",
       "14     True\n",
       "15     True\n",
       "16     True\n",
       "17     True\n",
       "18    False\n",
       "19     True\n",
       "20    False\n",
       "21     True\n",
       "22     True\n",
       "23    False\n",
       "24    False\n",
       "25     True\n",
       "26     True\n",
       "27     True\n",
       "28    False\n",
       "29    False\n",
       "30    False\n",
       "31    False\n",
       "32    False\n",
       "33    False\n",
       "34    False\n",
       "35     True\n",
       "36    False\n",
       "37     True\n",
       "38     True\n",
       "39    False\n",
       "40    False\n",
       "41    False\n",
       "42     True\n",
       "43     True\n",
       "44     True\n",
       "45    False\n",
       "46    False\n",
       "47     True\n",
       "48     True\n",
       "49    False\n",
       "50     True\n",
       "51     True\n",
       "52    False\n",
       "53     True\n",
       "54    False\n",
       "dtype: bool"
      ]
     },
     "execution_count": 93,
     "metadata": {},
     "output_type": "execute_result"
    }
   ],
   "source": [
    "pd.Series(DICT_PDBID_2_model_out.keys()).isin(merged_df.pdbid)"
   ]
  },
  {
   "cell_type": "code",
   "execution_count": 100,
   "id": "e175dd54",
   "metadata": {
    "scrolled": true
   },
   "outputs": [
    {
     "name": "stdout",
     "output_type": "stream",
     "text": [
      "    in 2VLK 0.89269\n",
      "not in 2ICW 0.00000\n",
      "    in 5WKF 0.99989\n",
      "not in 2VLJ 0.89269\n",
      "    in 3PQY 0.99885\n",
      "    in 4MJI 0.99678\n",
      "    in 4P2Q 0.99391\n",
      "    in 2YPL 0.99995\n",
      "not in 5BRZ 0.00001\n",
      "not in 6RPB 0.02039\n",
      "    in 1J8H 0.99992\n",
      "    in 4P2R 0.99996\n",
      "not in 5MEN 0.98003\n",
      "    in 3MV8 0.99999\n",
      "    in 4OZF 0.98565\n",
      "    in 3VXR 0.99581\n",
      "    in 3VXS 0.98201\n",
      "    in 4OZG 0.99433\n",
      "not in 3MV9 0.99999\n",
      "    in 5TEZ 0.96738\n",
      "not in 2J8U 0.99946\n",
      "    in 6Q3S 0.99993\n",
      "    in 4JRX 0.99988\n",
      "not in 5WLG 0.00000\n",
      "not in 3VXU 0.99808\n",
      "    in 1U3H 0.99955\n",
      "    in 4JRY 0.99962\n",
      "    in 4Z7V 0.98460\n",
      "not in 2UWE 0.99946\n",
      "not in 1LP9 0.99946\n",
      "not in 3W0W 0.99808\n",
      "not in 6AVF 0.08695\n",
      "not in 2BNQ 0.99993\n",
      "not in 4JFE 0.99997\n",
      "not in 4JFD 0.99997\n",
      "    in 3QIU 0.99055\n",
      "not in 6AVG 0.00018\n",
      "    in 2Z31 0.99913\n",
      "    in 2BNR 0.99990\n",
      "not in 5ISZ 0.15928\n",
      "not in 5KS9 0.00000\n",
      "not in 3MV7 0.99999\n",
      "    in 3MBE 0.99915\n",
      "    in 4OZH 0.98000\n",
      "    in 2NX5 0.99816\n",
      "not in 5NHT 0.99960\n",
      "not in 4QOK 0.99813\n",
      "    in 5D2L 0.99572\n",
      "    in 1D9K 0.99978\n",
      "not in 1FYT 0.99992\n",
      "    in 4P2O 0.99002\n",
      "    in 5WKH 0.99977\n",
      "not in 6EQB 0.87943\n",
      "    in 2VLR 0.93318\n",
      "not in 6EQA 0.99810\n"
     ]
    }
   ],
   "source": [
    "for k in DICT_PDBID_2_model_out.keys():\n",
    "    if k in merged_df.pdbid.tolist():\n",
    "        print(\"    in\", k, f'{DICT_PDBID_2_model_out[k][2]:.5f}')\n",
    "    else:\n",
    "        print(\"not in\", k, f'{DICT_PDBID_2_model_out[k][2]:.5f}')"
   ]
  },
  {
   "cell_type": "code",
   "execution_count": null,
   "id": "130f36f9",
   "metadata": {},
   "outputs": [],
   "source": []
  },
  {
   "cell_type": "code",
   "execution_count": null,
   "id": "d5e36918",
   "metadata": {},
   "outputs": [],
   "source": []
  },
  {
   "cell_type": "code",
   "execution_count": null,
   "id": "05212821",
   "metadata": {},
   "outputs": [],
   "source": []
  }
 ],
 "metadata": {
  "kernelspec": {
   "display_name": "tcrpred",
   "language": "python",
   "name": "tcrpred"
  },
  "language_info": {
   "codemirror_mode": {
    "name": "ipython",
    "version": 3
   },
   "file_extension": ".py",
   "mimetype": "text/x-python",
   "name": "python",
   "nbconvert_exporter": "python",
   "pygments_lexer": "ipython3",
   "version": "3.8.3"
  },
  "toc": {
   "base_numbering": 1,
   "nav_menu": {},
   "number_sections": true,
   "sideBar": true,
   "skip_h1_title": false,
   "title_cell": "Table of Contents",
   "title_sidebar": "Contents",
   "toc_cell": false,
   "toc_position": {},
   "toc_section_display": true,
   "toc_window_display": true
  }
 },
 "nbformat": 4,
 "nbformat_minor": 5
}
