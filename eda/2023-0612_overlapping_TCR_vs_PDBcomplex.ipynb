{
 "cells": [
  {
   "cell_type": "code",
   "execution_count": 1,
   "id": "96e02494",
   "metadata": {},
   "outputs": [],
   "source": [
    "%config Completer.use_jedi = False"
   ]
  },
  {
   "cell_type": "code",
   "execution_count": 2,
   "id": "086cfe47",
   "metadata": {},
   "outputs": [],
   "source": [
    "import pandas as pd\n",
    "import pickle, os, sys"
   ]
  },
  {
   "cell_type": "code",
   "execution_count": 3,
   "id": "0d4bb9f6",
   "metadata": {},
   "outputs": [],
   "source": [
    "# !aws s3 ls s3://sg-playground-kkoyama-temp/tcrpred/hhyylog/ | grep 20220211_191954"
   ]
  },
  {
   "cell_type": "code",
   "execution_count": 4,
   "id": "c8f1f79b",
   "metadata": {},
   "outputs": [],
   "source": [
    "def get_df(datapath):\n",
    "    return pd.DataFrame(pickle.load(open(datapath, \"rb\")))\n",
    "\n",
    "def get_df_from_path(p_list):\n",
    "    return pd.concat([get_df(d) for d in p_list]).reset_index(drop=True)\n",
    "\n"
   ]
  },
  {
   "cell_type": "markdown",
   "id": "67435bb2",
   "metadata": {},
   "source": [
    "# Benchmark data"
   ]
  },
  {
   "cell_type": "code",
   "execution_count": null,
   "id": "97b53389",
   "metadata": {},
   "outputs": [],
   "source": [
    "train_df = "
   ]
  },
  {
   "cell_type": "code",
   "execution_count": null,
   "id": "828310c2",
   "metadata": {},
   "outputs": [],
   "source": [
    "train_df['tcra:tcrb'] = train_df['tcra'] + \":\" + train_df['tcrb']\n",
    "valid_df['tcra:tcrb'] = valid_df['tcra'] + \":\" + valid_df['tcrb']"
   ]
  },
  {
   "cell_type": "code",
   "execution_count": null,
   "id": "5700ff9b",
   "metadata": {},
   "outputs": [],
   "source": []
  },
  {
   "cell_type": "code",
   "execution_count": null,
   "id": "cc6351a6",
   "metadata": {},
   "outputs": [],
   "source": []
  },
  {
   "cell_type": "code",
   "execution_count": null,
   "id": "1600e486",
   "metadata": {},
   "outputs": [],
   "source": []
  },
  {
   "cell_type": "markdown",
   "id": "55fa632f",
   "metadata": {},
   "source": [
    "# Files"
   ]
  },
  {
   "cell_type": "code",
   "execution_count": 4,
   "id": "fa178b39",
   "metadata": {},
   "outputs": [],
   "source": [
    "plist = ['s3://sg-playground-kkoyama-temp/tcrpred/hhyylog/20220211_191954_k3_datasettest.pickle',\n",
    " 's3://sg-playground-kkoyama-temp/tcrpred/hhyylog/20220211_191954_k3_test_hh.pickle',\n",
    " 's3://sg-playground-kkoyama-temp/tcrpred/hhyylog/20220211_191954_k3_test_yy.pickle']\n",
    "\n",
    "plist = [p.replace(\"s3://sg-playground-kkoyama-temp/tcrpred/\", \"s3://tcrpred/tcrpred/\") for p in plist]"
   ]
  },
  {
   "cell_type": "code",
   "execution_count": 5,
   "id": "39ebc5e5",
   "metadata": {},
   "outputs": [],
   "source": [
    "# s3://tcrpred/tcrpred/"
   ]
  },
  {
   "cell_type": "code",
   "execution_count": 6,
   "id": "66a6c51c",
   "metadata": {
    "scrolled": true
   },
   "outputs": [
    {
     "name": "stdout",
     "output_type": "stream",
     "text": [
      "\r\n",
      "An error occurred (NoSuchBucket) when calling the ListObjectsV2 operation: The specified bucket does not exist\r\n"
     ]
    }
   ],
   "source": [
    "!aws s3 ls s3://sg-playground-kkoyama-temp/tcrpred/hhyylog/ | grep 20220211 | grep datasettest"
   ]
  },
  {
   "cell_type": "code",
   "execution_count": 7,
   "id": "88c52f94",
   "metadata": {
    "scrolled": true
   },
   "outputs": [],
   "source": [
    "import sys\n",
    "sys.path.append('../recipes/')\n",
    "sys.path.append('../scripts/')\n",
    "from dataset import MCPASDataset\n",
    "from dataset_selector import dataset_select\n"
   ]
  },
  {
   "cell_type": "code",
   "execution_count": 8,
   "id": "1bd8fea9",
   "metadata": {},
   "outputs": [
    {
     "name": "stderr",
     "output_type": "stream",
     "text": [
      "../recipes/dataset.py:166: SettingWithCopyWarning: \n",
      "A value is trying to be set on a copy of a slice from a DataFrame.\n",
      "Try using .loc[row_indexer,col_indexer] = value instead\n",
      "\n",
      "See the caveats in the documentation: https://pandas.pydata.org/pandas-docs/stable/user_guide/indexing.html#returning-a-view-versus-a-copy\n",
      "  df['sign'] = df['sign'].astype(int)\n",
      "../recipes/dataset.py:166: SettingWithCopyWarning: \n",
      "A value is trying to be set on a copy of a slice from a DataFrame.\n",
      "Try using .loc[row_indexer,col_indexer] = value instead\n",
      "\n",
      "See the caveats in the documentation: https://pandas.pydata.org/pandas-docs/stable/user_guide/indexing.html#returning-a-view-versus-a-copy\n",
      "  df['sign'] = df['sign'].astype(int)\n"
     ]
    },
    {
     "name": "stdout",
     "output_type": "stream",
     "text": [
      "datasize and y-vcounts:  (140082, 11) 0    116757\n",
      "1     23325\n",
      "Name: sign, dtype: int64\n",
      "datasize and y-vcounts:  (35129, 11) 0    29331\n",
      "1     5798\n",
      "Name: sign, dtype: int64\n",
      "datasize and y-vcounts:  (175211, 11) 0    146088\n",
      "1     29123\n",
      "Name: sign, dtype: int64\n"
     ]
    },
    {
     "name": "stderr",
     "output_type": "stream",
     "text": [
      "../recipes/dataset.py:166: SettingWithCopyWarning: \n",
      "A value is trying to be set on a copy of a slice from a DataFrame.\n",
      "Try using .loc[row_indexer,col_indexer] = value instead\n",
      "\n",
      "See the caveats in the documentation: https://pandas.pydata.org/pandas-docs/stable/user_guide/indexing.html#returning-a-view-versus-a-copy\n",
      "  df['sign'] = df['sign'].astype(int)\n"
     ]
    }
   ],
   "source": [
    "KFOLDNUM = 3\n",
    "\n",
    "# ret = dataset_select('all',kfold=3)\n",
    "\n",
    "df_all,  dataset_train, dataset_valid, dataset_test, n_tok, n_pos1, n_pos2, n_seg = \\\n",
    "    dataset_select('all', kfold=KFOLDNUM)\n"
   ]
  },
  {
   "cell_type": "code",
   "execution_count": 9,
   "id": "a08f4575",
   "metadata": {},
   "outputs": [
    {
     "data": {
      "text/plain": [
       "(140082, 35129, 175211)"
      ]
     },
     "execution_count": 9,
     "metadata": {},
     "output_type": "execute_result"
    }
   ],
   "source": [
    "len(dataset_train), len(dataset_valid), len(dataset_test)"
   ]
  },
  {
   "cell_type": "code",
   "execution_count": 10,
   "id": "15616117",
   "metadata": {},
   "outputs": [],
   "source": [
    "p_list = [\n",
    "    \"../external_data/ERGO-II/Samples/vdjdb_train_samples.pickle\",\n",
    "    \"../external_data/ERGO-II/Samples/mcpas_train_samples.pickle\",\n",
    "    \"../external_data/ERGO-II/Samples/vdjdb_test_samples.pickle\",\n",
    "    \"../external_data/ERGO-II/Samples/mcpas_test_samples.pickle\",\n",
    "]\n",
    "\n",
    "df_all = get_df_from_path(p_list)"
   ]
  },
  {
   "cell_type": "code",
   "execution_count": 11,
   "id": "a0673d7e",
   "metadata": {},
   "outputs": [],
   "source": [
    "from sklearn.model_selection import KFold\n",
    "kf = KFold(n_splits=5, shuffle=True, random_state=2)\n",
    "\n",
    "train_index, valid_index = [\n",
    "    (train_index, valid_index) for train_index, valid_index in kf.split(df_all)\n",
    "][KFOLDNUM]"
   ]
  },
  {
   "cell_type": "code",
   "execution_count": 12,
   "id": "aae4085e",
   "metadata": {},
   "outputs": [],
   "source": [
    "df_train, df_valid = df_all.loc[train_index], df_all.loc[valid_index]"
   ]
  },
  {
   "cell_type": "code",
   "execution_count": 13,
   "id": "db9ff83a",
   "metadata": {},
   "outputs": [],
   "source": [
    "df_train = df_train.query('tcra!=\"UNK\"')\n",
    "df_valid = df_valid.query('tcra!=\"UNK\"')"
   ]
  },
  {
   "cell_type": "code",
   "execution_count": 14,
   "id": "79f30aad",
   "metadata": {},
   "outputs": [
    {
     "data": {
      "text/plain": [
       "(35129, 11)"
      ]
     },
     "execution_count": 14,
     "metadata": {},
     "output_type": "execute_result"
    }
   ],
   "source": [
    "df_valid.shape"
   ]
  },
  {
   "cell_type": "markdown",
   "id": "eed318bc",
   "metadata": {},
   "source": [
    "# hhyy analysis"
   ]
  },
  {
   "cell_type": "code",
   "execution_count": 15,
   "id": "8c64951c",
   "metadata": {},
   "outputs": [],
   "source": [
    "from scipy.special import softmax\n",
    "from utils import get_infer_report, get_metrics"
   ]
  },
  {
   "cell_type": "code",
   "execution_count": 20,
   "id": "56b70d8e",
   "metadata": {
    "scrolled": true
   },
   "outputs": [],
   "source": [
    "# !pip uninstall awscli s3fs boto3 -y\n",
    "\n",
    "# !pip install boto3  --force-reinstall --upgrade\n",
    "\n",
    "# !pip install awscli --force-reinstall --upgrade\n",
    "\n",
    "# !pip install s3fs"
   ]
  },
  {
   "cell_type": "code",
   "execution_count": 17,
   "id": "af995827",
   "metadata": {
    "scrolled": true
   },
   "outputs": [
    {
     "name": "stdout",
     "output_type": "stream",
     "text": [
      "                           PRE ERGO/\r\n",
      "                           PRE checkpoint/\r\n",
      "                           PRE external_data/\r\n",
      "                           PRE hhyylog/\r\n",
      "2023-05-02 06:39:22   36353783 01.05.VDJdb_only_grep.tsv\r\n",
      "2023-05-02 06:39:57   59211517 01.VDJdb.tsv\r\n",
      "2023-05-02 06:38:22    2365302 02.VDJdb.tsv\r\n",
      "2023-05-02 06:38:21    1476352 03.VDJdb.tsv\r\n",
      "2023-05-02 06:38:19     495356 03.VDJdb_noKLGGALQAK.tsv\r\n",
      "2023-05-02 06:39:58   59576331 04.tape.pickle\r\n",
      "2023-05-02 06:39:56   58359146 SearchTable-2021-04-18 18_47_15.405.tsv\r\n",
      "2023-05-02 06:38:18      11945 TCRData.csv\r\n",
      "2023-05-02 06:38:18      11945 TCRData_umd.csv\r\n",
      "2023-05-02 06:41:05  102760448 all_structures.zip\r\n",
      "2023-05-02 06:46:41     561421 dataset_test.csv\r\n",
      "2023-05-02 06:46:46     745396 df_embedding_edit_distance_of_TCRs.parquet\r\n",
      "2023-05-02 06:46:46     121473 distance_matrix.pickle\r\n",
      "2023-05-02 06:53:49  387447564 edit_distance_of_TCRs.parquet\r\n",
      "2023-05-02 06:50:10     191194 rcsb_pdb_20210501225436.fasta\r\n",
      "2023-05-02 06:50:13     916460 rcsb_pdb_custom_report_20210331201554.csv\r\n",
      "2023-05-02 06:50:17    3423151 rcsb_pdb_custom_report_20210331201842.json\r\n",
      "2023-05-02 06:50:12       9192 tcr_with_crystal.csv\r\n",
      "2023-05-02 06:50:14     268838 tcrdb_summary_all.tsv\r\n",
      "2023-05-02 06:50:18    1054661 vdjdb_seq_samples.parquet\r\n"
     ]
    }
   ],
   "source": [
    "!aws s3 ls s3://tcrpred/tcrpred/"
   ]
  },
  {
   "cell_type": "code",
   "execution_count": 18,
   "id": "e0b1fe95",
   "metadata": {},
   "outputs": [
    {
     "data": {
      "text/plain": [
       "'s3://tcrpred/tcrpred/hhyylog/20220211_191954_k3_test_hh.pickle'"
      ]
     },
     "execution_count": 18,
     "metadata": {},
     "output_type": "execute_result"
    }
   ],
   "source": [
    "plist[1]"
   ]
  },
  {
   "cell_type": "code",
   "execution_count": 19,
   "id": "7478c5f3",
   "metadata": {},
   "outputs": [],
   "source": [
    "d20220211_191954_k3_test_hh = pd.read_pickle(plist[1]).apply(softmax, axis=1)\n",
    "d20220211_191954_k3_test_yy = pd.read_pickle(plist[2])"
   ]
  },
  {
   "cell_type": "code",
   "execution_count": 21,
   "id": "ce11d047",
   "metadata": {},
   "outputs": [
    {
     "data": {
      "text/plain": [
       "(50379, 11)"
      ]
     },
     "execution_count": 21,
     "metadata": {},
     "output_type": "execute_result"
    }
   ],
   "source": [
    "isin_valid_index = dataset_test.data.apply(tuple,axis=1).isin(dataset_valid.data.apply(tuple,axis=1))\n",
    "isin_valid_df = dataset_test.data.loc[isin_valid_index]\n",
    "isin_valid_df.shape"
   ]
  },
  {
   "cell_type": "code",
   "execution_count": 22,
   "id": "279e8c2e",
   "metadata": {},
   "outputs": [
    {
     "data": {
      "text/plain": [
       "(149674, 11)"
      ]
     },
     "execution_count": 22,
     "metadata": {},
     "output_type": "execute_result"
    }
   ],
   "source": [
    "isin_train_index = dataset_test.data.apply(tuple,axis=1).isin(dataset_train.data.apply(tuple,axis=1))\n",
    "isin_train_df = dataset_test.data.loc[isin_train_index]\n",
    "isin_train_df.shape"
   ]
  },
  {
   "cell_type": "markdown",
   "id": "b35fbee0",
   "metadata": {},
   "source": [
    "## Validation set"
   ]
  },
  {
   "cell_type": "code",
   "execution_count": 23,
   "id": "7f8f1a01",
   "metadata": {
    "scrolled": true
   },
   "outputs": [
    {
     "name": "stdout",
     "output_type": "stream",
     "text": [
      "- acc 0.6756585085055281\n",
      "- balanced_acc 0.7211840521829265\n",
      "- precision on 1:  0.2547443068318018\n",
      "- precision on 0:  0.9533190578158458\n",
      "- confusion matrix tn, fp, fn, tp: 28938, 14923, 1417, 5101\n",
      "- roc_auc_score 0.8175009851304436\n",
      "- pr_auc_score on 1 0.46215746084731496\n",
      "- pr_auc_score on 0 0.9666643011993737\n"
     ]
    },
    {
     "data": {
      "image/png": "[encoded data removed]",
      "text/plain": [
       "<Figure size 720x720 with 4 Axes>"
      ]
     },
     "metadata": {
      "needs_background": "light"
     },
     "output_type": "display_data"
    }
   ],
   "source": [
    "ypred = d20220211_191954_k3_test_hh.iloc[isin_valid_df.index][1]\n",
    "ytrue = d20220211_191954_k3_test_yy.iloc[isin_valid_df.index].values\n",
    "get_infer_report(ytrue, ypred)"
   ]
  },
  {
   "cell_type": "code",
   "execution_count": 25,
   "id": "dcce2927",
   "metadata": {},
   "outputs": [
    {
     "data": {
      "text/html": [
       "<div>\n",
       "<style scoped>\n",
       "    .dataframe tbody tr th:only-of-type {\n",
       "        vertical-align: middle;\n",
       "    }\n",
       "\n",
       "    .dataframe tbody tr th {\n",
       "        vertical-align: top;\n",
       "    }\n",
       "\n",
       "    .dataframe thead th {\n",
       "        text-align: right;\n",
       "    }\n",
       "</style>\n",
       "<table border=\"1\" class=\"dataframe\">\n",
       "  <thead>\n",
       "    <tr style=\"text-align: right;\">\n",
       "      <th></th>\n",
       "      <th>0</th>\n",
       "      <th>1</th>\n",
       "    </tr>\n",
       "  </thead>\n",
       "  <tbody>\n",
       "    <tr>\n",
       "      <th>0</th>\n",
       "      <td>1.000000</td>\n",
       "      <td>3.645487e-10</td>\n",
       "    </tr>\n",
       "    <tr>\n",
       "      <th>1</th>\n",
       "      <td>0.309951</td>\n",
       "      <td>6.900491e-01</td>\n",
       "    </tr>\n",
       "    <tr>\n",
       "      <th>2</th>\n",
       "      <td>1.000000</td>\n",
       "      <td>3.712091e-16</td>\n",
       "    </tr>\n",
       "    <tr>\n",
       "      <th>3</th>\n",
       "      <td>0.169171</td>\n",
       "      <td>8.308287e-01</td>\n",
       "    </tr>\n",
       "    <tr>\n",
       "      <th>4</th>\n",
       "      <td>0.110146</td>\n",
       "      <td>8.898538e-01</td>\n",
       "    </tr>\n",
       "  </tbody>\n",
       "</table>\n",
       "</div>"
      ],
      "text/plain": [
       "          0             1\n",
       "0  1.000000  3.645487e-10\n",
       "1  0.309951  6.900491e-01\n",
       "2  1.000000  3.712091e-16\n",
       "3  0.169171  8.308287e-01\n",
       "4  0.110146  8.898538e-01"
      ]
     },
     "execution_count": 25,
     "metadata": {},
     "output_type": "execute_result"
    }
   ],
   "source": [
    "d20220211_191954_k3_test_hh.head()"
   ]
  },
  {
   "cell_type": "code",
   "execution_count": null,
   "id": "7f6e4c7a",
   "metadata": {},
   "outputs": [],
   "source": []
  },
  {
   "cell_type": "markdown",
   "id": "ead7509b",
   "metadata": {},
   "source": [
    "## Training set"
   ]
  },
  {
   "cell_type": "code",
   "execution_count": 24,
   "id": "b2e23bac",
   "metadata": {
    "scrolled": true
   },
   "outputs": [
    {
     "name": "stdout",
     "output_type": "stream",
     "text": [
      "- acc 0.7980744818739394\n",
      "- balanced_acc 0.8799166742629394\n",
      "- precision on 1:  0.438993593909572\n",
      "- precision on 0:  0.9998956365647732\n",
      "- confusion matrix tn, fp, fn, tp: 95809, 30213, 10, 23642\n",
      "- roc_auc_score 0.9500170737317377\n",
      "- pr_auc_score on 1 0.7837038633464529\n",
      "- pr_auc_score on 0 0.9906427507737353\n"
     ]
    },
    {
     "data": {
      "image/png": "[encoded data removed]",
      "text/plain": [
       "<Figure size 720x720 with 4 Axes>"
      ]
     },
     "metadata": {
      "needs_background": "light"
     },
     "output_type": "display_data"
    }
   ],
   "source": [
    "ypred = d20220211_191954_k3_test_hh.iloc[isin_train_df.index].apply(softmax, axis=1)[1]\n",
    "ytrue = d20220211_191954_k3_test_yy.iloc[isin_train_df.index].values\n",
    "get_infer_report(ytrue, ypred)"
   ]
  },
  {
   "cell_type": "code",
   "execution_count": null,
   "id": "b539b49a",
   "metadata": {},
   "outputs": [],
   "source": []
  },
  {
   "cell_type": "code",
   "execution_count": null,
   "id": "f2a4cf55",
   "metadata": {},
   "outputs": [],
   "source": []
  },
  {
   "cell_type": "markdown",
   "id": "29ac7c7d",
   "metadata": {},
   "source": [
    "# PDB"
   ]
  },
  {
   "cell_type": "code",
   "execution_count": 5,
   "id": "e2efee47",
   "metadata": {
    "scrolled": true
   },
   "outputs": [
    {
     "name": "stdout",
     "output_type": "stream",
     "text": [
      "20220211_191954_DICT_PDBID_2_Atten12.pickle\r\n",
      "20220211_191954_DICT_PDBID_2_CDRS.pickle\r\n",
      "20220211_191954_DICT_PDBID_2_CHAINNAMES.pickle\r\n",
      "20220211_191954_DICT_PDBID_2_DISTANCE.pickle\r\n",
      "20220211_191954_DICT_PDBID_2_MELTDIST.pickle\r\n",
      "20220211_191954_DICT_PDBID_2_RESIDUES.pickle\r\n",
      "20220211_191954_DICT_PDBID_2_SEQUENCES_CDR.pickle\r\n",
      "20220211_191954_DICT_PDBID_2_dfhhb.pickle\r\n",
      "20220211_191954_DICT_PDBID_2_model_out.pickle\r\n"
     ]
    }
   ],
   "source": [
    "directory = \"../analysis/DICT_PDB_Result\"\n",
    "!ls {directory}"
   ]
  },
  {
   "cell_type": "code",
   "execution_count": 6,
   "id": "584df2ca",
   "metadata": {},
   "outputs": [],
   "source": [
    "pickleload = lambda p: pickle.load(open(p,\"rb\"))\n",
    "DICT_PDBID_2_SEQUENCES_CDR = pickleload(f\"{directory}/20220211_191954_DICT_PDBID_2_SEQUENCES_CDR.pickle\")"
   ]
  },
  {
   "cell_type": "code",
   "execution_count": 29,
   "id": "101d64d6",
   "metadata": {},
   "outputs": [
    {
     "data": {
      "text/plain": [
       "55"
      ]
     },
     "execution_count": 29,
     "metadata": {},
     "output_type": "execute_result"
    }
   ],
   "source": [
    "DICT_PDBID_2_model_out = pickleload(f'{directory}/20220211_191954_DICT_PDBID_2_model_out.pickle')\n",
    "len(DICT_PDBID_2_model_out)"
   ]
  },
  {
   "cell_type": "code",
   "execution_count": 44,
   "id": "6b2ff230",
   "metadata": {},
   "outputs": [
    {
     "name": "stdout",
     "output_type": "stream",
     "text": [
      "These are the deduped list of 55 structures: 2VLK, 2ICW, 5WKF, 2VLJ, 3PQY, 4MJI, 4P2Q, 2YPL, 5BRZ, 6RPB, 1J8H, 4P2R, 5MEN, 3MV8, 4OZF, 3VXR, 3VXS, 4OZG, 3MV9, 5TEZ, 2J8U, 6Q3S, 4JRX, 5WLG, 3VXU, 1U3H, 4JRY, 4Z7V, 2UWE, 1LP9, 3W0W, 6AVF, 2BNQ, 4JFE, 4JFD, 3QIU, 6AVG, 2Z31, 2BNR, 5ISZ, 5KS9, 3MV7, 3MBE, 4OZH, 2NX5, 5NHT, 4QOK, 5D2L, 1D9K, 1FYT, 4P2O, 5WKH, 6EQB, 2VLR, 6EQA\n"
     ]
    }
   ],
   "source": [
    "print(\"These are the deduped list of 55 structures:\", \", \".join(DICT_PDBID_2_model_out.keys()))"
   ]
  },
  {
   "cell_type": "code",
   "execution_count": 42,
   "id": "167a6073",
   "metadata": {},
   "outputs": [
    {
     "data": {
      "text/plain": [
       "(49, 4)"
      ]
     },
     "execution_count": 42,
     "metadata": {},
     "output_type": "execute_result"
    }
   ],
   "source": [
    "df_DICT_PDBID_2_SEQUENCES_CDR = pd.DataFrame(DICT_PDBID_2_SEQUENCES_CDR).T\n",
    "df_DICT_PDBID_2_SEQUENCES_CDR.columns = ['tcra','tcrb','peptide']\n",
    "df_DICT_PDBID_2_SEQUENCES_CDR.drop_duplicates(subset=['tcra','tcrb','peptide'], inplace=True)\n",
    "df_DICT_PDBID_2_SEQUENCES_CDR = df_DICT_PDBID_2_SEQUENCES_CDR.reset_index().rename(columns={'index':'pdbid'})\n",
    "df_DICT_PDBID_2_SEQUENCES_CDR.shape"
   ]
  },
  {
   "cell_type": "code",
   "execution_count": 31,
   "id": "4215a63c",
   "metadata": {},
   "outputs": [
    {
     "data": {
      "text/html": [
       "<div>\n",
       "<style scoped>\n",
       "    .dataframe tbody tr th:only-of-type {\n",
       "        vertical-align: middle;\n",
       "    }\n",
       "\n",
       "    .dataframe tbody tr th {\n",
       "        vertical-align: top;\n",
       "    }\n",
       "\n",
       "    .dataframe thead th {\n",
       "        text-align: right;\n",
       "    }\n",
       "</style>\n",
       "<table border=\"1\" class=\"dataframe\">\n",
       "  <thead>\n",
       "    <tr style=\"text-align: right;\">\n",
       "      <th></th>\n",
       "      <th>pdbid</th>\n",
       "      <th>tcra</th>\n",
       "      <th>tcrb</th>\n",
       "      <th>peptide</th>\n",
       "    </tr>\n",
       "  </thead>\n",
       "  <tbody>\n",
       "    <tr>\n",
       "      <th>0</th>\n",
       "      <td>2VLK</td>\n",
       "      <td>CAGAGSQGNLIF</td>\n",
       "      <td>CASSSRSSYEQYF</td>\n",
       "      <td>GILGFVFTL</td>\n",
       "    </tr>\n",
       "    <tr>\n",
       "      <th>1</th>\n",
       "      <td>2ICW</td>\n",
       "      <td>CAVSGFASALTF</td>\n",
       "      <td>CASGGGGTLYF</td>\n",
       "      <td>PKYVKQNTLKLAT</td>\n",
       "    </tr>\n",
       "  </tbody>\n",
       "</table>\n",
       "</div>"
      ],
      "text/plain": [
       "  pdbid          tcra           tcrb        peptide\n",
       "0  2VLK  CAGAGSQGNLIF  CASSSRSSYEQYF      GILGFVFTL\n",
       "1  2ICW  CAVSGFASALTF    CASGGGGTLYF  PKYVKQNTLKLAT"
      ]
     },
     "execution_count": 31,
     "metadata": {},
     "output_type": "execute_result"
    }
   ],
   "source": [
    "df_DICT_PDBID_2_SEQUENCES_CDR.head(2)"
   ]
  },
  {
   "cell_type": "code",
   "execution_count": 33,
   "id": "b320252e",
   "metadata": {},
   "outputs": [],
   "source": [
    "dedup_seq_pdbids = df_DICT_PDBID_2_SEQUENCES_CDR[df_DICT_PDBID_2_SEQUENCES_CDR.pdbid.isin(DICT_PDBID_2_model_out.keys())]"
   ]
  },
  {
   "cell_type": "code",
   "execution_count": 36,
   "id": "7bfa55c4",
   "metadata": {},
   "outputs": [
    {
     "name": "stdout",
     "output_type": "stream",
     "text": [
      "These are the deduped list of 47 structures: 2VLK, 2ICW, 5WKF, 3PQY, 4MJI, 4P2Q, 2YPL, 5BRZ, 6RPB, 1J8H, 4P2R, 5MEN, 3MV8, 4OZF, 3VXR, 3VXS, 4OZG, 5TEZ, 2J8U, 6Q3S, 4JRX, 5WLG, 3VXU, 1U3H, 4JRY, 4Z7V, 6AVF, 4JFE, 4JFD, 3QIU, 6AVG, 2Z31, 2BNR, 5ISZ, 5KS9, 3MBE, 4OZH, 2NX5, 5NHT, 4QOK, 5D2L, 1D9K, 4P2O, 5WKH, 6EQB, 2VLR, 6EQA\n"
     ]
    }
   ],
   "source": [
    "print(\"These are the deduped list of 47 structures:\", \", \".join(dedup_seq_pdbids.pdbid.unique()))"
   ]
  },
  {
   "cell_type": "code",
   "execution_count": 11,
   "id": "b9290f88",
   "metadata": {},
   "outputs": [],
   "source": [
    "p_list = [\n",
    "    \"../external_data/ERGO-II/Samples/vdjdb_no10x_train_samples.pickle\",\n",
    "    \"../external_data/ERGO-II/Samples/mcpas_train_samples.pickle\",\n",
    "    \"../external_data/ERGO-II/Samples/vdjdb_no10x_test_samples.pickle\",\n",
    "    \"../external_data/ERGO-II/Samples/mcpas_test_samples.pickle\",\n",
    "]\n",
    "\n",
    "\n",
    "dfall = get_df_from_path(p_list)\n",
    "merged_df = pd.merge(dfall,  \n",
    "                     df_DICT_PDBID_2_SEQUENCES_CDR.reset_index(),  \n",
    "                     on=['tcra','tcrb','peptide'],\n",
    "                     how='inner')"
   ]
  },
  {
   "cell_type": "code",
   "execution_count": 12,
   "id": "9dbf8681",
   "metadata": {
    "scrolled": true
   },
   "outputs": [
    {
     "data": {
      "text/plain": [
       "(70, 12)"
      ]
     },
     "execution_count": 12,
     "metadata": {},
     "output_type": "execute_result"
    }
   ],
   "source": [
    "merged_df = merged_df.rename(columns={'index':'pdbid'})\n",
    "merged_df.shape"
   ]
  },
  {
   "cell_type": "code",
   "execution_count": 17,
   "id": "03caf655",
   "metadata": {},
   "outputs": [
    {
     "data": {
      "text/plain": [
       "55"
      ]
     },
     "execution_count": 17,
     "metadata": {},
     "output_type": "execute_result"
    }
   ],
   "source": [
    "DICT_PDBID_2_model_out = pickleload(f'{directory}/20220211_191954_DICT_PDBID_2_model_out.pickle')\n",
    "len(DICT_PDBID_2_model_out)"
   ]
  },
  {
   "cell_type": "code",
   "execution_count": 14,
   "id": "73b40d15",
   "metadata": {},
   "outputs": [],
   "source": [
    "merged_df['in_pdb'] = merged_df['pdbid'].isin(DICT_PDBID_2_model_out.keys()) #.drop_duplicates(subset=['tcra','tcrb','peptide'])"
   ]
  },
  {
   "cell_type": "code",
   "execution_count": 45,
   "id": "e8a37ba5",
   "metadata": {},
   "outputs": [
    {
     "data": {
      "text/plain": [
       "True    70\n",
       "Name: in_pdb, dtype: int64"
      ]
     },
     "execution_count": 45,
     "metadata": {},
     "output_type": "execute_result"
    }
   ],
   "source": [
    "merged_df['in_pdb'].value_counts()"
   ]
  },
  {
   "cell_type": "code",
   "execution_count": 46,
   "id": "ca449604",
   "metadata": {
    "scrolled": true
   },
   "outputs": [
    {
     "data": {
      "text/plain": [
       "30"
      ]
     },
     "execution_count": 46,
     "metadata": {},
     "output_type": "execute_result"
    }
   ],
   "source": [
    "merged_df['pdbid'].nunique()"
   ]
  },
  {
   "cell_type": "code",
   "execution_count": null,
   "id": "54c62486",
   "metadata": {
    "scrolled": true
   },
   "outputs": [],
   "source": [
    "pd.Series(DICT_PDBID_2_model_out.keys()).isin(merged_df.pdbid)"
   ]
  },
  {
   "cell_type": "code",
   "execution_count": null,
   "id": "7e1f1d18",
   "metadata": {
    "scrolled": true
   },
   "outputs": [],
   "source": [
    "for k in DICT_PDBID_2_model_out.keys():\n",
    "    if k in merged_df.pdbid.tolist():\n",
    "        print(\"    in\", k, f'{DICT_PDBID_2_model_out[k][2]:.5f}')\n",
    "    else:\n",
    "        print(\"not in\", k, f'{DICT_PDBID_2_model_out[k][2]:.5f}')"
   ]
  },
  {
   "cell_type": "code",
   "execution_count": null,
   "id": "6ec42702",
   "metadata": {},
   "outputs": [],
   "source": []
  },
  {
   "cell_type": "code",
   "execution_count": null,
   "id": "35788d4b",
   "metadata": {},
   "outputs": [],
   "source": []
  },
  {
   "cell_type": "code",
   "execution_count": null,
   "id": "b9e59d49",
   "metadata": {},
   "outputs": [],
   "source": []
  }
 ],
 "metadata": {
  "kernelspec": {
   "display_name": "tcrpred2",
   "language": "python",
   "name": "tcrpred2"
  },
  "language_info": {
   "codemirror_mode": {
    "name": "ipython",
    "version": 3
   },
   "file_extension": ".py",
   "mimetype": "text/x-python",
   "name": "python",
   "nbconvert_exporter": "python",
   "pygments_lexer": "ipython3",
   "version": "3.8.3"
  },
  "toc": {
   "base_numbering": 1,
   "nav_menu": {},
   "number_sections": true,
   "sideBar": true,
   "skip_h1_title": false,
   "title_cell": "Table of Contents",
   "title_sidebar": "Contents",
   "toc_cell": false,
   "toc_position": {},
   "toc_section_display": true,
   "toc_window_display": true
  }
 },
 "nbformat": 4,
 "nbformat_minor": 5
}
