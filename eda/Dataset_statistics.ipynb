{
 "cells": [
  {
   "cell_type": "code",
   "execution_count": 1,
   "id": "800b099e",
   "metadata": {},
   "outputs": [],
   "source": [
    "%config Completer.use_jedi = False"
   ]
  },
  {
   "cell_type": "code",
   "execution_count": 2,
   "id": "a9b1431e",
   "metadata": {},
   "outputs": [],
   "source": [
    "import pandas as pd\n",
    "import pickle, os, sys"
   ]
  },
  {
   "cell_type": "code",
   "execution_count": 3,
   "id": "4c2f3235",
   "metadata": {},
   "outputs": [
    {
     "name": "stdout",
     "output_type": "stream",
     "text": [
      "ls: ../../externals/ERGO-II/Samples: No such file or directory\r\n"
     ]
    }
   ],
   "source": [
    "!ls ../../externals/ERGO-II/Samples"
   ]
  },
  {
   "cell_type": "code",
   "execution_count": 4,
   "id": "78a7ed62",
   "metadata": {},
   "outputs": [
    {
     "name": "stdout",
     "output_type": "stream",
     "text": [
      "/Users/kyoheikoyama/workspace/TCRPrediction/eda\r\n"
     ]
    }
   ],
   "source": [
    "!pwd"
   ]
  },
  {
   "cell_type": "code",
   "execution_count": 5,
   "id": "8d798391",
   "metadata": {},
   "outputs": [
    {
     "name": "stdout",
     "output_type": "stream",
     "text": [
      "Seq_multi.fasta       protein.data          train_src\r\n",
      "Seq_solo.fasta        protein_with_bio.data train_src_bio\r\n",
      "all_src.npy           \u001b[34msec\u001b[m\u001b[m                   train_tgt\r\n",
      "all_tgt.npy           test_src              val_src\r\n",
      "\u001b[34mcdrmap\u001b[m\u001b[m                test_src_bio          val_src_bio\r\n",
      "cdrmap.tsv            test_tgt              val_tgt\r\n"
     ]
    }
   ],
   "source": [
    "# !ls ../data/\n",
    "!ls ../../../data/"
   ]
  },
  {
   "cell_type": "markdown",
   "id": "3ed7ef0c",
   "metadata": {},
   "source": [
    "# ERGO2: Data Overview"
   ]
  },
  {
   "cell_type": "code",
   "execution_count": 6,
   "id": "6168ff1f",
   "metadata": {},
   "outputs": [],
   "source": [
    "ERGODIR = '../../external_data/'"
   ]
  },
  {
   "cell_type": "code",
   "execution_count": 7,
   "id": "3b38778a",
   "metadata": {},
   "outputs": [],
   "source": [
    "data_dictionary = {\n",
    "    f.replace('.pickle',''): pd.DataFrame(pickle.load(open(os.path.join(ERGODIR, f'ERGO-II/Samples/{f}'), 'rb')))\n",
    "    for f in os.listdir(os.path.join(ERGODIR, f'ERGO-II/Samples'))\n",
    "}"
   ]
  },
  {
   "cell_type": "code",
   "execution_count": 8,
   "id": "c726e06c",
   "metadata": {},
   "outputs": [
    {
     "name": "stdout",
     "output_type": "stream",
     "text": [
      "dict_keys(['vdjdb_test_samples', 'vdjdb_no10x_test_samples', 'mcpas_test_samples', 'vdjdb_train_samples', 'mcpas_train_samples', 'vdjdb_no10x_train_samples'])\n"
     ]
    }
   ],
   "source": [
    "print(data_dictionary.keys())"
   ]
  },
  {
   "cell_type": "code",
   "execution_count": 9,
   "id": "514c0c50",
   "metadata": {},
   "outputs": [],
   "source": [
    "remove_unk = lambda df: df[df.tcra!='UNK']"
   ]
  },
  {
   "cell_type": "code",
   "execution_count": 10,
   "id": "7480584e",
   "metadata": {},
   "outputs": [],
   "source": [
    "data_dictionary = {k:remove_unk(v) for k,v in data_dictionary.items()}"
   ]
  },
  {
   "cell_type": "code",
   "execution_count": 11,
   "id": "04a8138c",
   "metadata": {},
   "outputs": [],
   "source": [
    "def add_pairs(df):\n",
    "    df['pairs'] = df['tcra'] + \":\" + df['tcrb'] + \":\" + df['peptide']\n",
    "    df['tcr_pairs'] = df['tcra'] + \":\" + df['tcrb']\n",
    "    return df\n",
    "\n",
    "def delete_duplicated_interactions(tr, te):\n",
    "    te['pairs'] = te['tcra'] + \":\" + te['tcrb'] + \":\" + te['peptide']\n",
    "    return te[~te.pairs.isin(tr.pairs)]\n",
    "    "
   ]
  },
  {
   "cell_type": "code",
   "execution_count": 12,
   "id": "98fb7233",
   "metadata": {},
   "outputs": [],
   "source": [
    "vdjdb_train_samples       = add_pairs(remove_unk(data_dictionary['vdjdb_train_samples']))\n",
    "vdjdb_test_samples        = add_pairs(remove_unk(data_dictionary['vdjdb_test_samples']))\n",
    "mcpas_train_samples       = add_pairs(remove_unk(data_dictionary['mcpas_train_samples']))\n",
    "mcpas_test_samples        = add_pairs(remove_unk(data_dictionary['mcpas_test_samples']))\n",
    "vdjdb_no10x_train_samples = add_pairs(remove_unk(data_dictionary['vdjdb_no10x_train_samples']))\n",
    "vdjdb_no10x_test_samples  = add_pairs(remove_unk(data_dictionary['vdjdb_no10x_test_samples']))\n"
   ]
  },
  {
   "cell_type": "code",
   "execution_count": 13,
   "id": "3c63be6e",
   "metadata": {},
   "outputs": [],
   "source": [
    "vdjdb_test_samples = delete_duplicated_interactions(vdjdb_train_samples, vdjdb_test_samples)\n",
    "mcpas_test_samples = delete_duplicated_interactions(mcpas_train_samples, mcpas_test_samples)\n",
    "vdjdb_no10x_test_samples = delete_duplicated_interactions(vdjdb_no10x_train_samples, vdjdb_no10x_test_samples)\n",
    "\n",
    "\n",
    "data_dictionary['vdjdb_train_samples'] = vdjdb_train_samples\n",
    "data_dictionary['vdjdb_test_samples'] = vdjdb_test_samples\n",
    "\n",
    "data_dictionary['mcpas_train_samples'] = mcpas_train_samples\n",
    "data_dictionary['mcpas_test_samples'] = mcpas_test_samples\n",
    "\n",
    "data_dictionary['vdjdb_no10x_train_samples'] = vdjdb_no10x_train_samples\n",
    "data_dictionary['vdjdb_no10x_test_samples'] = vdjdb_no10x_test_samples\n"
   ]
  },
  {
   "cell_type": "code",
   "execution_count": 14,
   "id": "905858ff",
   "metadata": {
    "scrolled": true
   },
   "outputs": [
    {
     "name": "stdout",
     "output_type": "stream",
     "text": [
      "vdjdb_test_samples (27638, 13)\n",
      "4146\n",
      "4221\n",
      "150\n",
      "vdjdb_no10x_test_samples (4010, 13)\n",
      "570\n",
      "572\n",
      "119\n",
      "mcpas_test_samples (4729, 13)\n",
      "718\n",
      "714\n",
      "190\n",
      "vdjdb_train_samples (116560, 13)\n",
      "13894\n",
      "14640\n",
      "200\n",
      "mcpas_train_samples (23363, 13)\n",
      "2423\n",
      "2560\n",
      "316\n",
      "vdjdb_no10x_train_samples (19526, 13)\n",
      "2151\n",
      "2171\n",
      "175\n"
     ]
    }
   ],
   "source": [
    "for ky, df in data_dictionary.items():\n",
    "    print(ky, df.shape)\n",
    "    print(df.tcra.nunique())\n",
    "    print(df.tcrb.nunique())\n",
    "    print(df.peptide.nunique())"
   ]
  },
  {
   "cell_type": "markdown",
   "id": "2857c902",
   "metadata": {},
   "source": [
    "# All combined ver"
   ]
  },
  {
   "cell_type": "code",
   "execution_count": 15,
   "id": "97d4e647",
   "metadata": {},
   "outputs": [],
   "source": [
    "# dfall_1 = pd.concat([\n",
    "#     data_dictionary['vdjdb_train_samples'], data_dictionary['mcpas_train_samples'],\n",
    "#     data_dictionary['vdjdb_test_samples'],  data_dictionary['mcpas_test_samples'],\n",
    "# #     data_dictionary['vdjdb_no10x_train_samples'], data_dictionary['vdjdb_no10x_test_samples'],\n",
    "# ])"
   ]
  },
  {
   "cell_type": "code",
   "execution_count": 16,
   "id": "9c40b663",
   "metadata": {},
   "outputs": [],
   "source": [
    "# dfall_1.drop_duplicates(subset=['tcra','tcrb','peptide'])"
   ]
  },
  {
   "cell_type": "code",
   "execution_count": 17,
   "id": "8d273d06",
   "metadata": {},
   "outputs": [
    {
     "data": {
      "text/plain": [
       "tcra       17954\n",
       "tcrb       19162\n",
       "peptide      478\n",
       "dtype: int64"
      ]
     },
     "execution_count": 17,
     "metadata": {},
     "output_type": "execute_result"
    }
   ],
   "source": [
    "dfall_2 = pd.concat([\n",
    "    data_dictionary['vdjdb_train_samples'], data_dictionary['mcpas_train_samples'],\n",
    "    data_dictionary['vdjdb_test_samples'],  data_dictionary['mcpas_test_samples'],\n",
    "#     data_dictionary['vdjdb_no10x_train_samples'], data_dictionary['vdjdb_no10x_test_samples'],\n",
    "])\n",
    "\n",
    "dfall_2 = add_pairs(dfall_2)\n",
    "dfall_2[['tcra','tcrb','peptide']].nunique()"
   ]
  },
  {
   "cell_type": "code",
   "execution_count": 18,
   "id": "31022de6",
   "metadata": {},
   "outputs": [
    {
     "data": {
      "text/plain": [
       "(172290, 13)"
      ]
     },
     "execution_count": 18,
     "metadata": {},
     "output_type": "execute_result"
    }
   ],
   "source": [
    "dfall_2.shape"
   ]
  },
  {
   "cell_type": "code",
   "execution_count": 19,
   "id": "64ca7d7d",
   "metadata": {},
   "outputs": [
    {
     "name": "stdout",
     "output_type": "stream",
     "text": [
      "(132545, 13) (119046, 13)\n"
     ]
    }
   ],
   "source": [
    "print(dfall_2.drop_duplicates(subset=['tcra','tcrb','peptide','sign']).shape, \n",
    "dfall_2.drop_duplicates(subset=['tcra','tcrb','peptide',]).shape)"
   ]
  },
  {
   "cell_type": "code",
   "execution_count": 20,
   "id": "572b0a45",
   "metadata": {},
   "outputs": [],
   "source": [
    "dfall_2 = dfall_2.drop_duplicates(subset=['tcra','tcrb','peptide',])"
   ]
  },
  {
   "cell_type": "code",
   "execution_count": 21,
   "id": "19c500af",
   "metadata": {},
   "outputs": [
    {
     "data": {
      "text/plain": [
       "0    102380\n",
       "1     16666\n",
       "Name: sign, dtype: int64"
      ]
     },
     "execution_count": 21,
     "metadata": {},
     "output_type": "execute_result"
    }
   ],
   "source": [
    "dfall_2['sign'].value_counts()"
   ]
  },
  {
   "cell_type": "code",
   "execution_count": 22,
   "id": "5ba084f4",
   "metadata": {},
   "outputs": [],
   "source": [
    "data_dictionary['entire-train'] = dfall_2\n",
    "data_dictionary['Covid-19-train'] = dfall_2"
   ]
  },
  {
   "cell_type": "markdown",
   "id": "aad1a98f",
   "metadata": {},
   "source": [
    "### Add recent test & add Covid19 test"
   ]
  },
  {
   "cell_type": "code",
   "execution_count": 23,
   "id": "09c14405",
   "metadata": {},
   "outputs": [],
   "source": [
    "dfcovid = add_pairs(pd.read_parquet('../data/covid19.parquet'))\n",
    "data_dictionary['Covid-19-test'] = dfcovid\n",
    "\n",
    "dfall_3 = pd.read_parquet('../data/recent_data_test.parquet')\n",
    "dfall_3 = add_pairs(dfall_3)\n",
    "data_dictionary['entire-test'] = dfall_3"
   ]
  },
  {
   "cell_type": "code",
   "execution_count": 24,
   "id": "046127d6",
   "metadata": {
    "scrolled": true
   },
   "outputs": [
    {
     "data": {
      "text/html": [
       "<div>\n",
       "<style scoped>\n",
       "    .dataframe tbody tr th:only-of-type {\n",
       "        vertical-align: middle;\n",
       "    }\n",
       "\n",
       "    .dataframe tbody tr th {\n",
       "        vertical-align: top;\n",
       "    }\n",
       "\n",
       "    .dataframe thead th {\n",
       "        text-align: right;\n",
       "    }\n",
       "</style>\n",
       "<table border=\"1\" class=\"dataframe\">\n",
       "  <thead>\n",
       "    <tr style=\"text-align: right;\">\n",
       "      <th></th>\n",
       "      <th>tcra</th>\n",
       "      <th>tcrb</th>\n",
       "      <th>tcr_pairs</th>\n",
       "      <th>peptide</th>\n",
       "      <th>interactions</th>\n",
       "    </tr>\n",
       "  </thead>\n",
       "  <tbody>\n",
       "    <tr>\n",
       "      <th>Covid-19-test</th>\n",
       "      <td>1616</td>\n",
       "      <td>1660</td>\n",
       "      <td>1676</td>\n",
       "      <td>1264</td>\n",
       "      <td>2118464</td>\n",
       "    </tr>\n",
       "    <tr>\n",
       "      <th>Covid-19-train</th>\n",
       "      <td>17954</td>\n",
       "      <td>19162</td>\n",
       "      <td>23299</td>\n",
       "      <td>478</td>\n",
       "      <td>119046</td>\n",
       "    </tr>\n",
       "    <tr>\n",
       "      <th>entire-test</th>\n",
       "      <td>4782</td>\n",
       "      <td>5174</td>\n",
       "      <td>33183</td>\n",
       "      <td>838</td>\n",
       "      <td>33360</td>\n",
       "    </tr>\n",
       "    <tr>\n",
       "      <th>entire-train</th>\n",
       "      <td>17954</td>\n",
       "      <td>19162</td>\n",
       "      <td>23299</td>\n",
       "      <td>478</td>\n",
       "      <td>119046</td>\n",
       "    </tr>\n",
       "    <tr>\n",
       "      <th>mcpas_test_samples</th>\n",
       "      <td>718</td>\n",
       "      <td>714</td>\n",
       "      <td>833</td>\n",
       "      <td>190</td>\n",
       "      <td>4729</td>\n",
       "    </tr>\n",
       "    <tr>\n",
       "      <th>mcpas_train_samples</th>\n",
       "      <td>2423</td>\n",
       "      <td>2560</td>\n",
       "      <td>3181</td>\n",
       "      <td>316</td>\n",
       "      <td>23363</td>\n",
       "    </tr>\n",
       "    <tr>\n",
       "      <th>vdjdb_no10x_test_samples</th>\n",
       "      <td>570</td>\n",
       "      <td>572</td>\n",
       "      <td>689</td>\n",
       "      <td>119</td>\n",
       "      <td>4010</td>\n",
       "    </tr>\n",
       "    <tr>\n",
       "      <th>vdjdb_no10x_train_samples</th>\n",
       "      <td>2151</td>\n",
       "      <td>2171</td>\n",
       "      <td>2902</td>\n",
       "      <td>175</td>\n",
       "      <td>19526</td>\n",
       "    </tr>\n",
       "  </tbody>\n",
       "</table>\n",
       "</div>"
      ],
      "text/plain": [
       "                            tcra   tcrb  tcr_pairs  peptide  interactions\n",
       "Covid-19-test               1616   1660       1676     1264       2118464\n",
       "Covid-19-train             17954  19162      23299      478        119046\n",
       "entire-test                 4782   5174      33183      838         33360\n",
       "entire-train               17954  19162      23299      478        119046\n",
       "mcpas_test_samples           718    714        833      190          4729\n",
       "mcpas_train_samples         2423   2560       3181      316         23363\n",
       "vdjdb_no10x_test_samples     570    572        689      119          4010\n",
       "vdjdb_no10x_train_samples   2151   2171       2902      175         19526"
      ]
     },
     "execution_count": 24,
     "metadata": {},
     "output_type": "execute_result"
    }
   ],
   "source": [
    "pd.DataFrame([[\n",
    "    df.tcra.nunique(),\n",
    "    df.tcrb.nunique(),\n",
    "    df.tcr_pairs.nunique(),\n",
    "    df.peptide.nunique(),\n",
    "    df.shape[0]\n",
    "] for ky, df in data_dictionary.items()\n",
    "], \n",
    "    index=data_dictionary.keys(), \n",
    "    columns=['tcra','tcrb','tcr_pairs', 'peptide', 'interactions']).drop(['vdjdb_test_samples','vdjdb_train_samples']).sort_index()"
   ]
  },
  {
   "cell_type": "code",
   "execution_count": 25,
   "id": "27640a48",
   "metadata": {
    "scrolled": true
   },
   "outputs": [
    {
     "name": "stdout",
     "output_type": "stream",
     "text": [
      "vdjdb_test_samples (27638, 13)\n",
      "4146\n",
      "4221\n",
      "4806\n",
      "150\n",
      "27638\n",
      "vdjdb_no10x_test_samples (4010, 13)\n",
      "570\n",
      "572\n",
      "689\n",
      "119\n",
      "4010\n",
      "mcpas_test_samples (4729, 13)\n",
      "718\n",
      "714\n",
      "833\n",
      "190\n",
      "4729\n",
      "vdjdb_train_samples (116560, 13)\n",
      "13894\n",
      "14640\n",
      "17735\n",
      "200\n",
      "116560\n",
      "mcpas_train_samples (23363, 13)\n",
      "2423\n",
      "2560\n",
      "3181\n",
      "316\n",
      "23363\n",
      "vdjdb_no10x_train_samples (19526, 13)\n",
      "2151\n",
      "2171\n",
      "2902\n",
      "175\n",
      "19526\n",
      "entire-train (119046, 13)\n",
      "17954\n",
      "19162\n",
      "23299\n",
      "478\n",
      "119046\n",
      "Covid-19-train (119046, 13)\n",
      "17954\n",
      "19162\n",
      "23299\n",
      "478\n",
      "119046\n",
      "Covid-19-test (2118464, 8)\n",
      "1616\n",
      "1660\n",
      "1676\n",
      "1264\n",
      "2118464\n",
      "entire-test (33360, 11)\n",
      "4782\n",
      "5174\n",
      "33183\n",
      "838\n",
      "33360\n"
     ]
    }
   ],
   "source": [
    "for ky, df in data_dictionary.items():\n",
    "    print(ky, df.shape)\n",
    "    print(df.tcra.nunique())\n",
    "    print(df.tcrb.nunique())\n",
    "    print(df.tcr_pairs.nunique())\n",
    "    print(df.peptide.nunique())\n",
    "    print(len(df))"
   ]
  },
  {
   "cell_type": "markdown",
   "id": "5bb9c12f",
   "metadata": {},
   "source": [
    "# Overlapping"
   ]
  },
  {
   "cell_type": "markdown",
   "id": "4d2525fd",
   "metadata": {},
   "source": [
    "## tcr a"
   ]
  },
  {
   "cell_type": "code",
   "execution_count": 26,
   "id": "c18cb99b",
   "metadata": {},
   "outputs": [
    {
     "name": "stdout",
     "output_type": "stream",
     "text": [
      "tcra\n",
      "\n",
      "mcpas_train_samples\n",
      "\t {False: 3017, True: 1712}\n",
      "vdjdb_no10x_train_samples\n",
      "\t {False: 2295, True: 1715}\n",
      "entire-train\n",
      "\t {False: 28753, True: 4607}\n",
      "Covid-19-train\n",
      "\t {False: 1932656, True: 185808}\n"
     ]
    }
   ],
   "source": [
    "what_to_see = 'tcra'\n",
    "\n",
    "print(what_to_see)\n",
    "print()\n",
    "for key in ['mcpas_train_samples', 'vdjdb_no10x_train_samples', 'entire-train', 'Covid-19-train']:\n",
    "    print(key)\n",
    "    print(\"\\t\",\n",
    "        data_dictionary[key.replace('train','test')][what_to_see].isin(data_dictionary[key][what_to_see]).value_counts().sort_index().to_dict())"
   ]
  },
  {
   "cell_type": "markdown",
   "id": "f1bde3c1",
   "metadata": {},
   "source": [
    "## tcr b "
   ]
  },
  {
   "cell_type": "code",
   "execution_count": 27,
   "id": "4d8d514b",
   "metadata": {},
   "outputs": [
    {
     "name": "stdout",
     "output_type": "stream",
     "text": [
      "tcrb\n",
      "\n",
      "mcpas_train_samples\n",
      "\t {False: 3083, True: 1646}\n",
      "vdjdb_no10x_train_samples\n",
      "\t {False: 2297, True: 1713}\n",
      "entire-train\n",
      "\t {False: 32113, True: 1247}\n",
      "Covid-19-train\n",
      "\t {False: 2103296, True: 15168}\n"
     ]
    }
   ],
   "source": [
    "what_to_see = 'tcrb'\n",
    "\n",
    "print(what_to_see)\n",
    "print()\n",
    "for key in ['mcpas_train_samples', 'vdjdb_no10x_train_samples', 'entire-train', 'Covid-19-train']:\n",
    "    print(key)\n",
    "    print(\"\\t\",\n",
    "        data_dictionary[key.replace('train','test')][what_to_see].isin(data_dictionary[key][what_to_see]).value_counts().sort_index().to_dict())"
   ]
  },
  {
   "cell_type": "markdown",
   "id": "8b3bc9ac",
   "metadata": {},
   "source": [
    "## tcr ab (count)"
   ]
  },
  {
   "cell_type": "code",
   "execution_count": 28,
   "id": "7d9f4bd6",
   "metadata": {},
   "outputs": [
    {
     "name": "stdout",
     "output_type": "stream",
     "text": [
      "tcr_pairs\n",
      "\n",
      "mcpas_train_samples\n",
      "\t {False: 4169, True: 560}\n",
      "vdjdb_no10x_train_samples\n",
      "\t {False: 3541, True: 469}\n",
      "entire-train\n",
      "\t {False: 33335, True: 25}\n",
      "Covid-19-train\n",
      "\t {False: 2117200, True: 1264}\n"
     ]
    }
   ],
   "source": [
    "what_to_see = 'tcr_pairs'\n",
    "\n",
    "print(what_to_see)\n",
    "print()\n",
    "for key in ['mcpas_train_samples', 'vdjdb_no10x_train_samples', 'entire-train', 'Covid-19-train']:\n",
    "    print(key)\n",
    "    print(\"\\t\",\n",
    "        data_dictionary[key.replace('train','test')][what_to_see].isin(data_dictionary[key][what_to_see]).value_counts().sort_index().to_dict())"
   ]
  },
  {
   "cell_type": "markdown",
   "id": "8711c942",
   "metadata": {},
   "source": [
    "## peptide (count)"
   ]
  },
  {
   "cell_type": "code",
   "execution_count": 29,
   "id": "ff5a6b97",
   "metadata": {},
   "outputs": [
    {
     "name": "stdout",
     "output_type": "stream",
     "text": [
      "peptide\n",
      "\n",
      "mcpas_train_samples\n",
      "\t {False: 46, True: 4683}\n",
      "vdjdb_no10x_train_samples\n",
      "\t {False: 16, True: 3994}\n",
      "entire-train\n",
      "\t {False: 28422, True: 4938}\n",
      "Covid-19-train\n",
      "\t {False: 2118464}\n"
     ]
    }
   ],
   "source": [
    "what_to_see = 'peptide'\n",
    "what_to_see2 = 'tcr_pairs'\n",
    "\n",
    "temp = []\n",
    "print(what_to_see)\n",
    "print()\n",
    "for key in ['mcpas_train_samples', 'vdjdb_no10x_train_samples', 'entire-train', 'Covid-19-train']:\n",
    "    print(key)\n",
    "    a = data_dictionary[key.replace('train','test')][what_to_see].isin(data_dictionary[key][what_to_see]).value_counts().sort_index().to_dict()\n",
    "    b = data_dictionary[key.replace('train','test')][what_to_see2].isin(data_dictionary[key][what_to_see2]).value_counts().sort_index().to_dict()\n",
    "    print(\"\\t\",a)\n",
    "    if True in a:\n",
    "        temp.append((a[True], a[True]+a[False]))\n",
    "    else:\n",
    "        temp.append((0, 0+a[False]))"
   ]
  },
  {
   "cell_type": "code",
   "execution_count": 30,
   "id": "e6045cbe",
   "metadata": {
    "scrolled": false
   },
   "outputs": [
    {
     "data": {
      "image/png": "[encoded data removed]",
      "text/plain": [
       "<Figure size 1500x750 with 8 Axes>"
      ]
     },
     "metadata": {},
     "output_type": "display_data"
    }
   ],
   "source": [
    "import matplotlib.pyplot as plt\n",
    "FONTSIZE = 14\n",
    "\n",
    "# Data for the pie charts\n",
    "data_peptide = {\n",
    "    'mcpas_train_samples': {'False': 46, 'True': 4683},\n",
    "    'vdjdb_no10x_train_samples': {'False': 16, 'True': 3994},\n",
    "    'entire-train': {'False': 28422, 'True': 4938},\n",
    "    'Covid-19': {'False': 2118464, 'True': 0}\n",
    "}\n",
    "\n",
    "data_tcr = {\n",
    "    'mcpas_train_samples': {\"False\": 4169, \"True\": 560},\n",
    "    'vdjdb_no10x_train_samples': {\"False\": 3541, \"True\": 469},\n",
    "    'entire-train': {\"False\": 33335, \"True\": 25},\n",
    "    'Covid-19':  {False: 2117200, True: 1264}\n",
    "}\n",
    "\n",
    "DICT_dataset = {'mcpas_train_samples':'McPAS test set', \n",
    "                'vdjdb_no10x_train_samples':'VDJDB-without10x test set', \n",
    "                'entire-train':'Recent data test set', \n",
    "                'Covid-19':'Covid-19 test set', \n",
    "               }\n",
    "\n",
    "# Create subplots for the pie charts\n",
    "fig, axes = plt.subplots(2, len(data_peptide), figsize=(15, 7.5))\n",
    "\n",
    "line = plt.Line2D((.01,.99),(.492,.492), color=\"k\", linewidth=1)\n",
    "fig.add_artist(line)\n",
    "\n",
    "for i, data in enumerate([data_peptide, data_tcr]):\n",
    "    # Generate pie chart for each dataset\n",
    "    for j, (dataset, values) in enumerate(data.items()):\n",
    "        labels = list(values.keys())\n",
    "        labels = ['Not-in-training', 'Is-in-training']\n",
    "        counts = list(values.values())\n",
    "\n",
    "        # Plot the pie chart\n",
    "        ax = axes[i][j]\n",
    "        pie = ax.pie(counts, labels=labels, startangle=90, \n",
    "               #autopct='%1.1f%%'\n",
    "               autopct=lambda pct: f'{pct:.1f}% | {int(round(pct * sum(counts) / 100.0))}',\n",
    "                     textprops={'fontsize': FONTSIZE}\n",
    "              )\n",
    "        \n",
    "        # Adjust label font size\n",
    "        for label in pie[1]:\n",
    "            label.set_fontsize(FONTSIZE)\n",
    "        \n",
    "        title = DICT_dataset[dataset] #.replace('train','test') + f' \\n {sum(counts)} total interactions'\n",
    "        if i==0:\n",
    "            \n",
    "            ax.set_title(title + '\\n' + 'Peptides')\n",
    "        else:\n",
    "            ax.set_title(title + f'\\n CDR3 alpha beta pairs')\n",
    "\n",
    "plt.tight_layout()\n",
    "plt.show()\n",
    "\n",
    "# labels = [\"# of interaction that has the same peptides of training set\", \n",
    "#           \"# of interaction that are not included in training set\"]\n"
   ]
  },
  {
   "cell_type": "code",
   "execution_count": 33,
   "id": "aa55cdbc",
   "metadata": {
    "scrolled": true
   },
   "outputs": [],
   "source": [
    "# pd.DataFrame(temp, columns=['# of interaction that has the same CDR3ab of training set',\n",
    "#     '# of interaction that has the same peptides of training set', \n",
    "#                             '# of interactions'])"
   ]
  },
  {
   "cell_type": "code",
   "execution_count": null,
   "id": "e7fe3ab5",
   "metadata": {},
   "outputs": [],
   "source": []
  },
  {
   "cell_type": "markdown",
   "id": "1bb7cec1",
   "metadata": {},
   "source": [
    "## tcr a (unique)"
   ]
  },
  {
   "cell_type": "code",
   "execution_count": 35,
   "id": "c5869985",
   "metadata": {},
   "outputs": [
    {
     "name": "stdout",
     "output_type": "stream",
     "text": [
      "tcra\n",
      "\n",
      "mcpas_train_samples\n",
      "\t {False: 500, True: 218}\n",
      "vdjdb_no10x_train_samples\n",
      "\t {False: 372, True: 198}\n",
      "entire-train\n",
      "\t {False: 4338, True: 444}\n",
      "Covid-19-train\n",
      "\t {False: 1480, True: 136}\n"
     ]
    }
   ],
   "source": [
    "what_to_see = 'tcra'\n",
    "\n",
    "print(what_to_see)\n",
    "print()\n",
    "for key in ['mcpas_train_samples', 'vdjdb_no10x_train_samples', 'entire-train', 'Covid-19-train']:\n",
    "    print(key)\n",
    "    print(\"\\t\",\n",
    "        data_dictionary[key.replace('train','test')][what_to_see].drop_duplicates()\\\n",
    "          .isin(data_dictionary[key][what_to_see]).value_counts().sort_index().to_dict())"
   ]
  },
  {
   "cell_type": "markdown",
   "id": "9b9efdba",
   "metadata": {},
   "source": [
    "## tcr b (unique)"
   ]
  },
  {
   "cell_type": "code",
   "execution_count": 36,
   "id": "d8f07237",
   "metadata": {},
   "outputs": [
    {
     "name": "stdout",
     "output_type": "stream",
     "text": [
      "tcrb\n",
      "\n",
      "mcpas_train_samples\n",
      "\t {False: 516, True: 198}\n",
      "vdjdb_no10x_train_samples\n",
      "\t {False: 376, True: 196}\n",
      "entire-train\n",
      "\t {False: 5026, True: 148}\n",
      "Covid-19-train\n",
      "\t {False: 1648, True: 12}\n"
     ]
    }
   ],
   "source": [
    "what_to_see = 'tcrb'\n",
    "\n",
    "print(what_to_see)\n",
    "print()\n",
    "for key in ['mcpas_train_samples', 'vdjdb_no10x_train_samples', 'entire-train', 'Covid-19-train']:\n",
    "    print(key)\n",
    "    print(\"\\t\",\n",
    "        data_dictionary[key.replace('train','test')][what_to_see].drop_duplicates()\\\n",
    "          .isin(data_dictionary[key][what_to_see]).value_counts().sort_index().to_dict())"
   ]
  },
  {
   "cell_type": "markdown",
   "id": "8feb5df1",
   "metadata": {},
   "source": [
    "## tcr ab (unique)"
   ]
  },
  {
   "cell_type": "code",
   "execution_count": 37,
   "id": "ee45c523",
   "metadata": {},
   "outputs": [
    {
     "name": "stdout",
     "output_type": "stream",
     "text": [
      "tcr_pairs\n",
      "\n",
      "mcpas_train_samples\n",
      "\t {False: 701, True: 132}\n",
      "vdjdb_no10x_train_samples\n",
      "\t {False: 578, True: 111}\n",
      "entire-train\n",
      "\t {False: 33165, True: 18}\n",
      "Covid-19-train\n",
      "\t {False: 1675, True: 1}\n"
     ]
    }
   ],
   "source": [
    "what_to_see = 'tcr_pairs'\n",
    "\n",
    "print(what_to_see)\n",
    "print()\n",
    "for key in ['mcpas_train_samples', 'vdjdb_no10x_train_samples', 'entire-train', 'Covid-19-train']:\n",
    "    print(key)\n",
    "    print(\"\\t\",\n",
    "        data_dictionary[key.replace('train','test')][what_to_see].drop_duplicates()\\\n",
    "          .isin(data_dictionary[key][what_to_see]).value_counts().sort_index().to_dict())"
   ]
  },
  {
   "cell_type": "markdown",
   "id": "4b9dbe04",
   "metadata": {},
   "source": [
    "## peptide  (unique)"
   ]
  },
  {
   "cell_type": "code",
   "execution_count": 38,
   "id": "5b3bcb4e",
   "metadata": {},
   "outputs": [
    {
     "name": "stdout",
     "output_type": "stream",
     "text": [
      "peptide\n",
      "\n",
      "mcpas_train_samples\n",
      "\t {False: 19, True: 171}\n",
      "vdjdb_no10x_train_samples\n",
      "\t {False: 8, True: 111}\n",
      "entire-train\n",
      "\t {False: 794, True: 44}\n",
      "Covid-19-train\n",
      "\t {False: 1264}\n"
     ]
    }
   ],
   "source": [
    "what_to_see = 'peptide'\n",
    "\n",
    "print(what_to_see)\n",
    "print()\n",
    "for key in ['mcpas_train_samples', 'vdjdb_no10x_train_samples', 'entire-train', 'Covid-19-train']:\n",
    "    print(key)\n",
    "    print(\"\\t\",\n",
    "        data_dictionary[key.replace('train','test')][what_to_see].drop_duplicates()\\\n",
    "          .isin(data_dictionary[key][what_to_see]).value_counts().sort_index().to_dict())"
   ]
  },
  {
   "cell_type": "markdown",
   "id": "a13eb87d",
   "metadata": {},
   "source": [
    "## Interactions"
   ]
  },
  {
   "cell_type": "code",
   "execution_count": 39,
   "id": "25630716",
   "metadata": {},
   "outputs": [
    {
     "name": "stdout",
     "output_type": "stream",
     "text": [
      "pairs\n",
      "\n",
      "mcpas_train_samples\n",
      "\t {False: 4197}\n",
      "vdjdb_no10x_train_samples\n",
      "\t {False: 3372}\n",
      "entire-train\n",
      "\t {False: 33360}\n",
      "Covid-19-train\n",
      "\t {False: 2118464}\n"
     ]
    }
   ],
   "source": [
    "what_to_see = 'pairs'\n",
    "\n",
    "print(what_to_see)\n",
    "print()\n",
    "for key in ['mcpas_train_samples', 'vdjdb_no10x_train_samples', 'entire-train', 'Covid-19-train']:\n",
    "    print(key)\n",
    "    print(\"\\t\",\n",
    "        data_dictionary[key.replace('train','test')][what_to_see].drop_duplicates()\\\n",
    "          .isin(data_dictionary[key][what_to_see]).value_counts().sort_index().to_dict())"
   ]
  },
  {
   "cell_type": "markdown",
   "id": "3a944f6e",
   "metadata": {},
   "source": [
    "# Pos Rate"
   ]
  },
  {
   "cell_type": "code",
   "execution_count": 40,
   "id": "da706db2",
   "metadata": {},
   "outputs": [
    {
     "data": {
      "text/html": [
       "<div>\n",
       "<style scoped>\n",
       "    .dataframe tbody tr th:only-of-type {\n",
       "        vertical-align: middle;\n",
       "    }\n",
       "\n",
       "    .dataframe tbody tr th {\n",
       "        vertical-align: top;\n",
       "    }\n",
       "\n",
       "    .dataframe thead th {\n",
       "        text-align: right;\n",
       "    }\n",
       "</style>\n",
       "<table border=\"1\" class=\"dataframe\">\n",
       "  <thead>\n",
       "    <tr style=\"text-align: right;\">\n",
       "      <th></th>\n",
       "      <th>positive ratio</th>\n",
       "      <th>positive count</th>\n",
       "      <th>interactions</th>\n",
       "    </tr>\n",
       "  </thead>\n",
       "  <tbody>\n",
       "    <tr>\n",
       "      <th>vdjdb_no10x_train_samples</th>\n",
       "      <td>0.166957</td>\n",
       "      <td>3260.0</td>\n",
       "      <td>19526</td>\n",
       "    </tr>\n",
       "    <tr>\n",
       "      <th>vdjdb_no10x_test_samples</th>\n",
       "      <td>0.150374</td>\n",
       "      <td>603.0</td>\n",
       "      <td>4010</td>\n",
       "    </tr>\n",
       "    <tr>\n",
       "      <th>mcpas_train_samples</th>\n",
       "      <td>0.166545</td>\n",
       "      <td>3891.0</td>\n",
       "      <td>23363</td>\n",
       "    </tr>\n",
       "    <tr>\n",
       "      <th>mcpas_test_samples</th>\n",
       "      <td>0.151195</td>\n",
       "      <td>715.0</td>\n",
       "      <td>4729</td>\n",
       "    </tr>\n",
       "    <tr>\n",
       "      <th>entire-train</th>\n",
       "      <td>0.139996</td>\n",
       "      <td>16666.0</td>\n",
       "      <td>119046</td>\n",
       "    </tr>\n",
       "    <tr>\n",
       "      <th>entire-test</th>\n",
       "      <td>0.166667</td>\n",
       "      <td>5560.0</td>\n",
       "      <td>33360</td>\n",
       "    </tr>\n",
       "    <tr>\n",
       "      <th>Covid-19-train</th>\n",
       "      <td>0.139996</td>\n",
       "      <td>16666.0</td>\n",
       "      <td>119046</td>\n",
       "    </tr>\n",
       "    <tr>\n",
       "      <th>Covid-19-test</th>\n",
       "      <td>0.000014</td>\n",
       "      <td>30.0</td>\n",
       "      <td>2118464</td>\n",
       "    </tr>\n",
       "  </tbody>\n",
       "</table>\n",
       "</div>"
      ],
      "text/plain": [
       "                           positive ratio  positive count  interactions\n",
       "vdjdb_no10x_train_samples        0.166957          3260.0         19526\n",
       "vdjdb_no10x_test_samples         0.150374           603.0          4010\n",
       "mcpas_train_samples              0.166545          3891.0         23363\n",
       "mcpas_test_samples               0.151195           715.0          4729\n",
       "entire-train                     0.139996         16666.0        119046\n",
       "entire-test                      0.166667          5560.0         33360\n",
       "Covid-19-train                   0.139996         16666.0        119046\n",
       "Covid-19-test                    0.000014            30.0       2118464"
      ]
     },
     "execution_count": 40,
     "metadata": {},
     "output_type": "execute_result"
    }
   ],
   "source": [
    "pd.DataFrame([\n",
    "    [df.sign.mean(), df.sign.sum(),\n",
    "    df.shape[0]] \n",
    "    for ky, df in data_dictionary.items()\n",
    "], \n",
    "    index=data_dictionary.keys(), \n",
    "    columns=['positive ratio','positive count', 'interactions']\n",
    ").drop(['vdjdb_test_samples','vdjdb_train_samples']).sort_index(ascending=False) "
   ]
  },
  {
   "cell_type": "code",
   "execution_count": 41,
   "id": "84e4f611",
   "metadata": {},
   "outputs": [
    {
     "name": "stdout",
     "output_type": "stream",
     "text": [
      "\\begin{tabular}{lrrr}\n",
      "\\toprule\n",
      "{} &  positive ratio &  positive count &  interactions \\\\\n",
      "\\midrule\n",
      "vdjdb\\_no10x\\_train\\_samples &        0.166957 &          3260.0 &         19526 \\\\\n",
      "vdjdb\\_no10x\\_test\\_samples  &        0.150374 &           603.0 &          4010 \\\\\n",
      "mcpas\\_train\\_samples       &        0.166545 &          3891.0 &         23363 \\\\\n",
      "mcpas\\_test\\_samples        &        0.151195 &           715.0 &          4729 \\\\\n",
      "entire-train              &        0.139996 &         16666.0 &        119046 \\\\\n",
      "entire-test               &        0.166667 &          5560.0 &         33360 \\\\\n",
      "Covid-19-train            &        0.139996 &         16666.0 &        119046 \\\\\n",
      "Covid-19-test             &        0.000014 &            30.0 &       2118464 \\\\\n",
      "\\bottomrule\n",
      "\\end{tabular}\n",
      "\n"
     ]
    }
   ],
   "source": [
    "print(\n",
    "pd.DataFrame([\n",
    "    [df.sign.mean(), df.sign.sum(),\n",
    "    df.shape[0]] \n",
    "    for ky, df in data_dictionary.items()\n",
    "], \n",
    "    index=data_dictionary.keys(), \n",
    "    columns=['positive ratio','positive count', 'interactions']\n",
    ").drop(['vdjdb_test_samples','vdjdb_train_samples']).sort_index(ascending=False) .to_latex()\n",
    ")"
   ]
  },
  {
   "cell_type": "code",
   "execution_count": 42,
   "id": "2163c341",
   "metadata": {},
   "outputs": [
    {
     "data": {
      "text/html": [
       "<div>\n",
       "<style scoped>\n",
       "    .dataframe tbody tr th:only-of-type {\n",
       "        vertical-align: middle;\n",
       "    }\n",
       "\n",
       "    .dataframe tbody tr th {\n",
       "        vertical-align: top;\n",
       "    }\n",
       "\n",
       "    .dataframe thead th {\n",
       "        text-align: right;\n",
       "    }\n",
       "</style>\n",
       "<table border=\"1\" class=\"dataframe\">\n",
       "  <thead>\n",
       "    <tr style=\"text-align: right;\">\n",
       "      <th></th>\n",
       "      <th>positive ratio</th>\n",
       "      <th>positive count</th>\n",
       "      <th>interactions</th>\n",
       "    </tr>\n",
       "  </thead>\n",
       "  <tbody>\n",
       "    <tr>\n",
       "      <th>vdjdb_no10x_train_samples</th>\n",
       "      <td>0.166957</td>\n",
       "      <td>3260.0</td>\n",
       "      <td>19526</td>\n",
       "    </tr>\n",
       "    <tr>\n",
       "      <th>vdjdb_no10x_test_samples</th>\n",
       "      <td>0.150374</td>\n",
       "      <td>603.0</td>\n",
       "      <td>4010</td>\n",
       "    </tr>\n",
       "    <tr>\n",
       "      <th>mcpas_train_samples</th>\n",
       "      <td>0.166545</td>\n",
       "      <td>3891.0</td>\n",
       "      <td>23363</td>\n",
       "    </tr>\n",
       "    <tr>\n",
       "      <th>mcpas_test_samples</th>\n",
       "      <td>0.151195</td>\n",
       "      <td>715.0</td>\n",
       "      <td>4729</td>\n",
       "    </tr>\n",
       "    <tr>\n",
       "      <th>entire-train</th>\n",
       "      <td>0.139996</td>\n",
       "      <td>16666.0</td>\n",
       "      <td>119046</td>\n",
       "    </tr>\n",
       "    <tr>\n",
       "      <th>entire-test</th>\n",
       "      <td>0.166667</td>\n",
       "      <td>5560.0</td>\n",
       "      <td>33360</td>\n",
       "    </tr>\n",
       "    <tr>\n",
       "      <th>Covid-19-train</th>\n",
       "      <td>0.139996</td>\n",
       "      <td>16666.0</td>\n",
       "      <td>119046</td>\n",
       "    </tr>\n",
       "    <tr>\n",
       "      <th>Covid-19-test</th>\n",
       "      <td>0.000014</td>\n",
       "      <td>30.0</td>\n",
       "      <td>2118464</td>\n",
       "    </tr>\n",
       "  </tbody>\n",
       "</table>\n",
       "</div>"
      ],
      "text/plain": [
       "                           positive ratio  positive count  interactions\n",
       "vdjdb_no10x_train_samples        0.166957          3260.0         19526\n",
       "vdjdb_no10x_test_samples         0.150374           603.0          4010\n",
       "mcpas_train_samples              0.166545          3891.0         23363\n",
       "mcpas_test_samples               0.151195           715.0          4729\n",
       "entire-train                     0.139996         16666.0        119046\n",
       "entire-test                      0.166667          5560.0         33360\n",
       "Covid-19-train                   0.139996         16666.0        119046\n",
       "Covid-19-test                    0.000014            30.0       2118464"
      ]
     },
     "execution_count": 42,
     "metadata": {},
     "output_type": "execute_result"
    }
   ],
   "source": [
    "pd.DataFrame([\n",
    "    [df.sign.mean(), df.sign.sum(),\n",
    "    df.shape[0]] \n",
    "    for ky, df in data_dictionary.items()\n",
    "], \n",
    "    index=data_dictionary.keys(), \n",
    "    columns=['positive ratio','positive count', 'interactions']\n",
    ").drop(['vdjdb_test_samples','vdjdb_train_samples']).sort_index(ascending=False)"
   ]
  },
  {
   "cell_type": "code",
   "execution_count": 44,
   "id": "6ba990c7",
   "metadata": {},
   "outputs": [
    {
     "data": {
      "text/plain": [
       "dict_keys(['vdjdb_test_samples', 'vdjdb_no10x_test_samples', 'mcpas_test_samples', 'vdjdb_train_samples', 'mcpas_train_samples', 'vdjdb_no10x_train_samples', 'entire-train', 'Covid-19-train', 'Covid-19-test', 'entire-test'])"
      ]
     },
     "execution_count": 44,
     "metadata": {},
     "output_type": "execute_result"
    }
   ],
   "source": [
    "data_dictionary['entire-train']"
   ]
  },
  {
   "cell_type": "code",
   "execution_count": 52,
   "id": "8d1e4dcf",
   "metadata": {},
   "outputs": [],
   "source": [
    "data_dictionary['entire-train']\\\n",
    ".drop_duplicates(subset=['tcrb','peptide'])\\\n",
    ".rename(columns={\"tcrb\":'CDR3', 'peptide':'Peptide'})\\\n",
    ".to_csv(\"../../PanPep/Data/entire-train.csv\", index=None)"
   ]
  },
  {
   "cell_type": "code",
   "execution_count": 54,
   "id": "c7787278",
   "metadata": {},
   "outputs": [],
   "source": [
    "data_dictionary['entire-test']\\\n",
    ".drop_duplicates(subset=['tcrb','peptide'])\\\n",
    ".rename(columns={\"tcrb\":'CDR3', 'peptide':'Peptide'})\\\n",
    ".to_csv(\"../../PanPep/Data/recent-test.csv\", index=None)"
   ]
  },
  {
   "cell_type": "code",
   "execution_count": 55,
   "id": "1b329f35",
   "metadata": {},
   "outputs": [
    {
     "data": {
      "text/html": [
       "<div>\n",
       "<style scoped>\n",
       "    .dataframe tbody tr th:only-of-type {\n",
       "        vertical-align: middle;\n",
       "    }\n",
       "\n",
       "    .dataframe tbody tr th {\n",
       "        vertical-align: top;\n",
       "    }\n",
       "\n",
       "    .dataframe thead th {\n",
       "        text-align: right;\n",
       "    }\n",
       "</style>\n",
       "<table border=\"1\" class=\"dataframe\">\n",
       "  <thead>\n",
       "    <tr style=\"text-align: right;\">\n",
       "      <th></th>\n",
       "      <th>Peptide</th>\n",
       "      <th>CDR3</th>\n",
       "      <th>Label</th>\n",
       "    </tr>\n",
       "  </thead>\n",
       "  <tbody>\n",
       "    <tr>\n",
       "      <th>0</th>\n",
       "      <td>ADGLAYFRSSFKGG</td>\n",
       "      <td>CASKGGGGTGQLYF</td>\n",
       "      <td>0</td>\n",
       "    </tr>\n",
       "    <tr>\n",
       "      <th>1</th>\n",
       "      <td>ADGLAYFRSSFKGG</td>\n",
       "      <td>CASSLNNANSDYTF</td>\n",
       "      <td>1</td>\n",
       "    </tr>\n",
       "    <tr>\n",
       "      <th>2</th>\n",
       "      <td>AMFWSVPTV</td>\n",
       "      <td>CASSQDSAETLYF</td>\n",
       "      <td>0</td>\n",
       "    </tr>\n",
       "    <tr>\n",
       "      <th>3</th>\n",
       "      <td>AMFWSVPTV</td>\n",
       "      <td>CASSSAGAAYEQYF</td>\n",
       "      <td>0</td>\n",
       "    </tr>\n",
       "    <tr>\n",
       "      <th>4</th>\n",
       "      <td>AMFWSVPTV</td>\n",
       "      <td>CASSQSPGGTQYF</td>\n",
       "      <td>0</td>\n",
       "    </tr>\n",
       "    <tr>\n",
       "      <th>...</th>\n",
       "      <td>...</td>\n",
       "      <td>...</td>\n",
       "      <td>...</td>\n",
       "    </tr>\n",
       "    <tr>\n",
       "      <th>4480</th>\n",
       "      <td>YVLDHLIVV</td>\n",
       "      <td>CASSSAPEQYF</td>\n",
       "      <td>0</td>\n",
       "    </tr>\n",
       "    <tr>\n",
       "      <th>4481</th>\n",
       "      <td>YVLDHLIVV</td>\n",
       "      <td>CASRLQGINEKLFF</td>\n",
       "      <td>0</td>\n",
       "    </tr>\n",
       "    <tr>\n",
       "      <th>4482</th>\n",
       "      <td>YVLDHLIVV</td>\n",
       "      <td>CASSSSMESGNTIYF</td>\n",
       "      <td>0</td>\n",
       "    </tr>\n",
       "    <tr>\n",
       "      <th>4483</th>\n",
       "      <td>YVLDHLIVV</td>\n",
       "      <td>CASSLSSQNTLYF</td>\n",
       "      <td>0</td>\n",
       "    </tr>\n",
       "    <tr>\n",
       "      <th>4484</th>\n",
       "      <td>YVLDHLIVV</td>\n",
       "      <td>CTCSAGTGGYNYAEQFF</td>\n",
       "      <td>0</td>\n",
       "    </tr>\n",
       "  </tbody>\n",
       "</table>\n",
       "<p>4485 rows × 3 columns</p>\n",
       "</div>"
      ],
      "text/plain": [
       "             Peptide               CDR3  Label\n",
       "0     ADGLAYFRSSFKGG     CASKGGGGTGQLYF      0\n",
       "1     ADGLAYFRSSFKGG     CASSLNNANSDYTF      1\n",
       "2          AMFWSVPTV      CASSQDSAETLYF      0\n",
       "3          AMFWSVPTV     CASSSAGAAYEQYF      0\n",
       "4          AMFWSVPTV      CASSQSPGGTQYF      0\n",
       "...              ...                ...    ...\n",
       "4480       YVLDHLIVV        CASSSAPEQYF      0\n",
       "4481       YVLDHLIVV     CASRLQGINEKLFF      0\n",
       "4482       YVLDHLIVV    CASSSSMESGNTIYF      0\n",
       "4483       YVLDHLIVV      CASSLSSQNTLYF      0\n",
       "4484       YVLDHLIVV  CTCSAGTGGYNYAEQFF      0\n",
       "\n",
       "[4485 rows x 3 columns]"
      ]
     },
     "execution_count": 55,
     "metadata": {},
     "output_type": "execute_result"
    }
   ],
   "source": [
    "pd.read_csv(\"../../PanPep/Data/benchmark_tpp1_vdjdb.csv\")"
   ]
  },
  {
   "cell_type": "code",
   "execution_count": 56,
   "id": "21bc2af8",
   "metadata": {},
   "outputs": [
    {
     "data": {
      "text/html": [
       "<div>\n",
       "<style scoped>\n",
       "    .dataframe tbody tr th:only-of-type {\n",
       "        vertical-align: middle;\n",
       "    }\n",
       "\n",
       "    .dataframe tbody tr th {\n",
       "        vertical-align: top;\n",
       "    }\n",
       "\n",
       "    .dataframe thead th {\n",
       "        text-align: right;\n",
       "    }\n",
       "</style>\n",
       "<table border=\"1\" class=\"dataframe\">\n",
       "  <thead>\n",
       "    <tr style=\"text-align: right;\">\n",
       "      <th></th>\n",
       "      <th>Peptide</th>\n",
       "      <th>CDR3</th>\n",
       "      <th>Score</th>\n",
       "    </tr>\n",
       "  </thead>\n",
       "  <tbody>\n",
       "    <tr>\n",
       "      <th>0</th>\n",
       "      <td>ADGLAYFRSSFKGG</td>\n",
       "      <td>CASKGGGGTGQLYF</td>\n",
       "      <td>tensor(0.0802)</td>\n",
       "    </tr>\n",
       "    <tr>\n",
       "      <th>1</th>\n",
       "      <td>ADGLAYFRSSFKGG</td>\n",
       "      <td>CASSLNNANSDYTF</td>\n",
       "      <td>tensor(0.1037)</td>\n",
       "    </tr>\n",
       "    <tr>\n",
       "      <th>2</th>\n",
       "      <td>AMFWSVPTV</td>\n",
       "      <td>CASSTRSTDTQYF</td>\n",
       "      <td>0.00076794566</td>\n",
       "    </tr>\n",
       "    <tr>\n",
       "      <th>3</th>\n",
       "      <td>AMFWSVPTV</td>\n",
       "      <td>CASSPLSGRVTDTQYF</td>\n",
       "      <td>0.00027134753</td>\n",
       "    </tr>\n",
       "    <tr>\n",
       "      <th>4</th>\n",
       "      <td>AMFWSVPTV</td>\n",
       "      <td>CASSQSPGGTQYF</td>\n",
       "      <td>0.0012794965</td>\n",
       "    </tr>\n",
       "    <tr>\n",
       "      <th>...</th>\n",
       "      <td>...</td>\n",
       "      <td>...</td>\n",
       "      <td>...</td>\n",
       "    </tr>\n",
       "    <tr>\n",
       "      <th>4480</th>\n",
       "      <td>YVLDHLIVV</td>\n",
       "      <td>CASSSRSHQPQHF</td>\n",
       "      <td>0.0472212</td>\n",
       "    </tr>\n",
       "    <tr>\n",
       "      <th>4481</th>\n",
       "      <td>YVLDHLIVV</td>\n",
       "      <td>CASSRSDREMFNYGYTF</td>\n",
       "      <td>0.08538617</td>\n",
       "    </tr>\n",
       "    <tr>\n",
       "      <th>4482</th>\n",
       "      <td>YVLDHLIVV</td>\n",
       "      <td>CSAPVPPYNEQFF</td>\n",
       "      <td>0.10723366</td>\n",
       "    </tr>\n",
       "    <tr>\n",
       "      <th>4483</th>\n",
       "      <td>YVLDHLIVV</td>\n",
       "      <td>CASSAGTTEVFF</td>\n",
       "      <td>0.16514081</td>\n",
       "    </tr>\n",
       "    <tr>\n",
       "      <th>4484</th>\n",
       "      <td>YVLDHLIVV</td>\n",
       "      <td>CASRLQGINEKLFF</td>\n",
       "      <td>0.15275383</td>\n",
       "    </tr>\n",
       "  </tbody>\n",
       "</table>\n",
       "<p>4485 rows × 3 columns</p>\n",
       "</div>"
      ],
      "text/plain": [
       "             Peptide               CDR3           Score\n",
       "0     ADGLAYFRSSFKGG     CASKGGGGTGQLYF  tensor(0.0802)\n",
       "1     ADGLAYFRSSFKGG     CASSLNNANSDYTF  tensor(0.1037)\n",
       "2          AMFWSVPTV      CASSTRSTDTQYF   0.00076794566\n",
       "3          AMFWSVPTV   CASSPLSGRVTDTQYF   0.00027134753\n",
       "4          AMFWSVPTV      CASSQSPGGTQYF    0.0012794965\n",
       "...              ...                ...             ...\n",
       "4480       YVLDHLIVV      CASSSRSHQPQHF       0.0472212\n",
       "4481       YVLDHLIVV  CASSRSDREMFNYGYTF      0.08538617\n",
       "4482       YVLDHLIVV      CSAPVPPYNEQFF      0.10723366\n",
       "4483       YVLDHLIVV       CASSAGTTEVFF      0.16514081\n",
       "4484       YVLDHLIVV     CASRLQGINEKLFF      0.15275383\n",
       "\n",
       "[4485 rows x 3 columns]"
      ]
     },
     "execution_count": 56,
     "metadata": {},
     "output_type": "execute_result"
    }
   ],
   "source": [
    "pd.read_csv(\"../../PanPep/Output/benchmark_tpp1_vdjdb_output_majority.csv\")"
   ]
  },
  {
   "cell_type": "code",
   "execution_count": null,
   "id": "e5ec5f62",
   "metadata": {},
   "outputs": [],
   "source": []
  }
 ],
 "metadata": {
  "kernelspec": {
   "display_name": "tcrpred",
   "language": "python",
   "name": "tcrpred"
  },
  "language_info": {
   "codemirror_mode": {
    "name": "ipython",
    "version": 3
   },
   "file_extension": ".py",
   "mimetype": "text/x-python",
   "name": "python",
   "nbconvert_exporter": "python",
   "pygments_lexer": "ipython3",
   "version": "3.8.17"
  },
  "toc": {
   "base_numbering": 1,
   "nav_menu": {},
   "number_sections": true,
   "sideBar": true,
   "skip_h1_title": false,
   "title_cell": "Table of Contents",
   "title_sidebar": "Contents",
   "toc_cell": false,
   "toc_position": {},
   "toc_section_display": true,
   "toc_window_display": true
  }
 },
 "nbformat": 4,
 "nbformat_minor": 5
}
