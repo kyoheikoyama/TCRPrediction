{
 "cells": [
  {
   "cell_type": "code",
   "execution_count": 1,
   "id": "800b099e",
   "metadata": {},
   "outputs": [],
   "source": [
    "%config Completer.use_jedi = False"
   ]
  },
  {
   "cell_type": "code",
   "execution_count": 2,
   "id": "a9b1431e",
   "metadata": {},
   "outputs": [],
   "source": [
    "import pandas as pd\n",
    "import pickle, os, sys"
   ]
  },
  {
   "cell_type": "code",
   "execution_count": 3,
   "id": "4c2f3235",
   "metadata": {},
   "outputs": [
    {
     "name": "stdout",
     "output_type": "stream",
     "text": [
      "ls: ../../externals/ERGO-II/Samples: No such file or directory\r\n"
     ]
    }
   ],
   "source": [
    "!ls ../../externals/ERGO-II/Samples"
   ]
  },
  {
   "cell_type": "code",
   "execution_count": 4,
   "id": "78a7ed62",
   "metadata": {},
   "outputs": [
    {
     "name": "stdout",
     "output_type": "stream",
     "text": [
      "/Users/kyoheikoyama/workspace/TCRPrediction/eda\r\n"
     ]
    }
   ],
   "source": [
    "!pwd"
   ]
  },
  {
   "cell_type": "code",
   "execution_count": 5,
   "id": "8d798391",
   "metadata": {},
   "outputs": [
    {
     "name": "stdout",
     "output_type": "stream",
     "text": [
      "Seq_multi.fasta       protein.data          train_src\r\n",
      "Seq_solo.fasta        protein_with_bio.data train_src_bio\r\n",
      "all_src.npy           \u001b[34msec\u001b[m\u001b[m                   train_tgt\r\n",
      "all_tgt.npy           test_src              val_src\r\n",
      "\u001b[34mcdrmap\u001b[m\u001b[m                test_src_bio          val_src_bio\r\n",
      "cdrmap.tsv            test_tgt              val_tgt\r\n"
     ]
    }
   ],
   "source": [
    "# !ls ../data/\n",
    "!ls ../../../data/"
   ]
  },
  {
   "cell_type": "markdown",
   "id": "3ed7ef0c",
   "metadata": {},
   "source": [
    "# ERGO2: Data Overview"
   ]
  },
  {
   "cell_type": "code",
   "execution_count": 6,
   "id": "6168ff1f",
   "metadata": {},
   "outputs": [],
   "source": [
    "ERGODIR = '../../external_data/'"
   ]
  },
  {
   "cell_type": "code",
   "execution_count": 7,
   "id": "3b38778a",
   "metadata": {},
   "outputs": [],
   "source": [
    "data_dictionary = {\n",
    "    f.replace('.pickle',''): pd.DataFrame(pickle.load(open(os.path.join(ERGODIR, f'ERGO-II/Samples/{f}'), 'rb')))\n",
    "    for f in os.listdir(os.path.join(ERGODIR, f'ERGO-II/Samples'))\n",
    "}"
   ]
  },
  {
   "cell_type": "code",
   "execution_count": 8,
   "id": "c726e06c",
   "metadata": {},
   "outputs": [
    {
     "name": "stdout",
     "output_type": "stream",
     "text": [
      "dict_keys(['vdjdb_test_samples', 'vdjdb_no10x_test_samples', 'mcpas_test_samples', 'vdjdb_train_samples', 'mcpas_train_samples', 'vdjdb_no10x_train_samples'])\n"
     ]
    }
   ],
   "source": [
    "print(data_dictionary.keys())"
   ]
  },
  {
   "cell_type": "code",
   "execution_count": 9,
   "id": "514c0c50",
   "metadata": {},
   "outputs": [],
   "source": [
    "remove_unk = lambda df: df[df.tcra!='UNK']"
   ]
  },
  {
   "cell_type": "code",
   "execution_count": 10,
   "id": "7480584e",
   "metadata": {},
   "outputs": [],
   "source": [
    "data_dictionary = {k:remove_unk(v) for k,v in data_dictionary.items()}"
   ]
  },
  {
   "cell_type": "code",
   "execution_count": 11,
   "id": "04a8138c",
   "metadata": {},
   "outputs": [],
   "source": [
    "def add_pairs(df):\n",
    "    df['pairs'] = df['tcra'] + \":\" + df['tcrb'] + \":\" + df['peptide']\n",
    "    df['tcr_pairs'] = df['tcra'] + \":\" + df['tcrb']\n",
    "    return df\n",
    "\n",
    "def delete_duplicated_interactions(tr, te):\n",
    "    te['pairs'] = te['tcra'] + \":\" + te['tcrb'] + \":\" + te['peptide']\n",
    "    return te[~te.pairs.isin(tr.pairs)]\n",
    "    "
   ]
  },
  {
   "cell_type": "code",
   "execution_count": 12,
   "id": "98fb7233",
   "metadata": {},
   "outputs": [],
   "source": [
    "vdjdb_train_samples       = add_pairs(remove_unk(data_dictionary['vdjdb_train_samples']))\n",
    "vdjdb_test_samples        = add_pairs(remove_unk(data_dictionary['vdjdb_test_samples']))\n",
    "mcpas_train_samples       = add_pairs(remove_unk(data_dictionary['mcpas_train_samples']))\n",
    "mcpas_test_samples        = add_pairs(remove_unk(data_dictionary['mcpas_test_samples']))\n",
    "vdjdb_no10x_train_samples = add_pairs(remove_unk(data_dictionary['vdjdb_no10x_train_samples']))\n",
    "vdjdb_no10x_test_samples  = add_pairs(remove_unk(data_dictionary['vdjdb_no10x_test_samples']))\n"
   ]
  },
  {
   "cell_type": "code",
   "execution_count": 13,
   "id": "3c63be6e",
   "metadata": {},
   "outputs": [],
   "source": [
    "vdjdb_test_samples = delete_duplicated_interactions(vdjdb_train_samples, vdjdb_test_samples)\n",
    "mcpas_test_samples = delete_duplicated_interactions(mcpas_train_samples, mcpas_test_samples)\n",
    "vdjdb_no10x_test_samples = delete_duplicated_interactions(vdjdb_no10x_train_samples, vdjdb_no10x_test_samples)\n",
    "\n",
    "\n",
    "data_dictionary['vdjdb_train_samples'] = vdjdb_train_samples\n",
    "data_dictionary['vdjdb_test_samples'] = vdjdb_test_samples\n",
    "\n",
    "data_dictionary['mcpas_train_samples'] = mcpas_train_samples\n",
    "data_dictionary['mcpas_test_samples'] = mcpas_test_samples\n",
    "\n",
    "data_dictionary['vdjdb_no10x_train_samples'] = vdjdb_no10x_train_samples\n",
    "data_dictionary['vdjdb_no10x_test_samples'] = vdjdb_no10x_test_samples\n"
   ]
  },
  {
   "cell_type": "code",
   "execution_count": 14,
   "id": "905858ff",
   "metadata": {
    "scrolled": true
   },
   "outputs": [
    {
     "name": "stdout",
     "output_type": "stream",
     "text": [
      "vdjdb_test_samples (27638, 13)\n",
      "4146\n",
      "4221\n",
      "150\n",
      "vdjdb_no10x_test_samples (4010, 13)\n",
      "570\n",
      "572\n",
      "119\n",
      "mcpas_test_samples (4729, 13)\n",
      "718\n",
      "714\n",
      "190\n",
      "vdjdb_train_samples (116560, 13)\n",
      "13894\n",
      "14640\n",
      "200\n",
      "mcpas_train_samples (23363, 13)\n",
      "2423\n",
      "2560\n",
      "316\n",
      "vdjdb_no10x_train_samples (19526, 13)\n",
      "2151\n",
      "2171\n",
      "175\n"
     ]
    }
   ],
   "source": [
    "for ky, df in data_dictionary.items():\n",
    "    print(ky, df.shape)\n",
    "    print(df.tcra.nunique())\n",
    "    print(df.tcrb.nunique())\n",
    "    print(df.peptide.nunique())"
   ]
  },
  {
   "cell_type": "markdown",
   "id": "2857c902",
   "metadata": {},
   "source": [
    "# All combined ver"
   ]
  },
  {
   "cell_type": "code",
   "execution_count": 15,
   "id": "97d4e647",
   "metadata": {},
   "outputs": [],
   "source": [
    "# dfall_1 = pd.concat([\n",
    "#     data_dictionary['vdjdb_train_samples'], data_dictionary['mcpas_train_samples'],\n",
    "#     data_dictionary['vdjdb_test_samples'],  data_dictionary['mcpas_test_samples'],\n",
    "# #     data_dictionary['vdjdb_no10x_train_samples'], data_dictionary['vdjdb_no10x_test_samples'],\n",
    "# ])"
   ]
  },
  {
   "cell_type": "code",
   "execution_count": 16,
   "id": "9c40b663",
   "metadata": {},
   "outputs": [],
   "source": [
    "# dfall_1.drop_duplicates(subset=['tcra','tcrb','peptide'])"
   ]
  },
  {
   "cell_type": "code",
   "execution_count": 17,
   "id": "8d273d06",
   "metadata": {},
   "outputs": [
    {
     "data": {
      "text/plain": [
       "tcra       17954\n",
       "tcrb       19162\n",
       "peptide      478\n",
       "dtype: int64"
      ]
     },
     "execution_count": 17,
     "metadata": {},
     "output_type": "execute_result"
    }
   ],
   "source": [
    "dfall_2 = pd.concat([\n",
    "    data_dictionary['vdjdb_train_samples'], data_dictionary['mcpas_train_samples'],\n",
    "    data_dictionary['vdjdb_test_samples'],  data_dictionary['mcpas_test_samples'],\n",
    "#     data_dictionary['vdjdb_no10x_train_samples'], data_dictionary['vdjdb_no10x_test_samples'],\n",
    "])\n",
    "\n",
    "dfall_2 = add_pairs(dfall_2)\n",
    "dfall_2[['tcra','tcrb','peptide']].nunique()"
   ]
  },
  {
   "cell_type": "code",
   "execution_count": 18,
   "id": "31022de6",
   "metadata": {},
   "outputs": [
    {
     "data": {
      "text/plain": [
       "(172290, 13)"
      ]
     },
     "execution_count": 18,
     "metadata": {},
     "output_type": "execute_result"
    }
   ],
   "source": [
    "dfall_2.shape"
   ]
  },
  {
   "cell_type": "code",
   "execution_count": 19,
   "id": "64ca7d7d",
   "metadata": {},
   "outputs": [
    {
     "name": "stdout",
     "output_type": "stream",
     "text": [
      "(132545, 13) (119046, 13)\n"
     ]
    }
   ],
   "source": [
    "print(dfall_2.drop_duplicates(subset=['tcra','tcrb','peptide','sign']).shape, \n",
    "dfall_2.drop_duplicates(subset=['tcra','tcrb','peptide',]).shape)"
   ]
  },
  {
   "cell_type": "code",
   "execution_count": 20,
   "id": "572b0a45",
   "metadata": {},
   "outputs": [],
   "source": [
    "dfall_2 = dfall_2.drop_duplicates(subset=['tcra','tcrb','peptide',])"
   ]
  },
  {
   "cell_type": "code",
   "execution_count": 21,
   "id": "19c500af",
   "metadata": {},
   "outputs": [
    {
     "data": {
      "text/plain": [
       "0    102380\n",
       "1     16666\n",
       "Name: sign, dtype: int64"
      ]
     },
     "execution_count": 21,
     "metadata": {},
     "output_type": "execute_result"
    }
   ],
   "source": [
    "dfall_2['sign'].value_counts()"
   ]
  },
  {
   "cell_type": "code",
   "execution_count": 22,
   "id": "5ba084f4",
   "metadata": {},
   "outputs": [],
   "source": [
    "data_dictionary['entire-train'] = dfall_2\n",
    "data_dictionary['Covid-19-train'] = dfall_2"
   ]
  },
  {
   "cell_type": "markdown",
   "id": "aad1a98f",
   "metadata": {},
   "source": [
    "### Add recent test & add Covid19 test"
   ]
  },
  {
   "cell_type": "code",
   "execution_count": 23,
   "id": "09c14405",
   "metadata": {},
   "outputs": [],
   "source": [
    "dfcovid = add_pairs(pd.read_parquet('../data/covid19_9mer.parquet'))\n",
    "data_dictionary['Covid-19-test'] = dfcovid\n",
    "\n",
    "dfall_3 = pd.read_parquet('../data/recent_data_test.parquet')\n",
    "dfall_3 = add_pairs(dfall_3)\n",
    "data_dictionary['entire-test'] = dfall_3"
   ]
  },
  {
   "cell_type": "code",
   "execution_count": 24,
   "id": "046127d6",
   "metadata": {
    "scrolled": true
   },
   "outputs": [
    {
     "data": {
      "text/html": [
       "<div>\n",
       "<style scoped>\n",
       "    .dataframe tbody tr th:only-of-type {\n",
       "        vertical-align: middle;\n",
       "    }\n",
       "\n",
       "    .dataframe tbody tr th {\n",
       "        vertical-align: top;\n",
       "    }\n",
       "\n",
       "    .dataframe thead th {\n",
       "        text-align: right;\n",
       "    }\n",
       "</style>\n",
       "<table border=\"1\" class=\"dataframe\">\n",
       "  <thead>\n",
       "    <tr style=\"text-align: right;\">\n",
       "      <th></th>\n",
       "      <th>tcra</th>\n",
       "      <th>tcrb</th>\n",
       "      <th>tcr_pairs</th>\n",
       "      <th>peptide</th>\n",
       "      <th>interactions</th>\n",
       "    </tr>\n",
       "  </thead>\n",
       "  <tbody>\n",
       "    <tr>\n",
       "      <th>Covid-19-test</th>\n",
       "      <td>1616</td>\n",
       "      <td>1660</td>\n",
       "      <td>1676</td>\n",
       "      <td>1265</td>\n",
       "      <td>2120140</td>\n",
       "    </tr>\n",
       "    <tr>\n",
       "      <th>Covid-19-train</th>\n",
       "      <td>17954</td>\n",
       "      <td>19162</td>\n",
       "      <td>23299</td>\n",
       "      <td>478</td>\n",
       "      <td>119046</td>\n",
       "    </tr>\n",
       "    <tr>\n",
       "      <th>entire-test</th>\n",
       "      <td>4782</td>\n",
       "      <td>5174</td>\n",
       "      <td>33183</td>\n",
       "      <td>838</td>\n",
       "      <td>33360</td>\n",
       "    </tr>\n",
       "    <tr>\n",
       "      <th>entire-train</th>\n",
       "      <td>17954</td>\n",
       "      <td>19162</td>\n",
       "      <td>23299</td>\n",
       "      <td>478</td>\n",
       "      <td>119046</td>\n",
       "    </tr>\n",
       "    <tr>\n",
       "      <th>mcpas_test_samples</th>\n",
       "      <td>718</td>\n",
       "      <td>714</td>\n",
       "      <td>833</td>\n",
       "      <td>190</td>\n",
       "      <td>4729</td>\n",
       "    </tr>\n",
       "    <tr>\n",
       "      <th>mcpas_train_samples</th>\n",
       "      <td>2423</td>\n",
       "      <td>2560</td>\n",
       "      <td>3181</td>\n",
       "      <td>316</td>\n",
       "      <td>23363</td>\n",
       "    </tr>\n",
       "    <tr>\n",
       "      <th>vdjdb_no10x_test_samples</th>\n",
       "      <td>570</td>\n",
       "      <td>572</td>\n",
       "      <td>689</td>\n",
       "      <td>119</td>\n",
       "      <td>4010</td>\n",
       "    </tr>\n",
       "    <tr>\n",
       "      <th>vdjdb_no10x_train_samples</th>\n",
       "      <td>2151</td>\n",
       "      <td>2171</td>\n",
       "      <td>2902</td>\n",
       "      <td>175</td>\n",
       "      <td>19526</td>\n",
       "    </tr>\n",
       "  </tbody>\n",
       "</table>\n",
       "</div>"
      ],
      "text/plain": [
       "                            tcra   tcrb  tcr_pairs  peptide  interactions\n",
       "Covid-19-test               1616   1660       1676     1265       2120140\n",
       "Covid-19-train             17954  19162      23299      478        119046\n",
       "entire-test                 4782   5174      33183      838         33360\n",
       "entire-train               17954  19162      23299      478        119046\n",
       "mcpas_test_samples           718    714        833      190          4729\n",
       "mcpas_train_samples         2423   2560       3181      316         23363\n",
       "vdjdb_no10x_test_samples     570    572        689      119          4010\n",
       "vdjdb_no10x_train_samples   2151   2171       2902      175         19526"
      ]
     },
     "execution_count": 24,
     "metadata": {},
     "output_type": "execute_result"
    }
   ],
   "source": [
    "pd.DataFrame([[\n",
    "    df.tcra.nunique(),\n",
    "    df.tcrb.nunique(),\n",
    "    df.tcr_pairs.nunique(),\n",
    "    df.peptide.nunique(),\n",
    "    df.shape[0]\n",
    "] for ky, df in data_dictionary.items()\n",
    "], \n",
    "    index=data_dictionary.keys(), \n",
    "    columns=['tcra','tcrb','tcr_pairs', 'peptide', 'interactions']).drop(['vdjdb_test_samples','vdjdb_train_samples']).sort_index()"
   ]
  },
  {
   "cell_type": "code",
   "execution_count": 25,
   "id": "27640a48",
   "metadata": {
    "scrolled": true
   },
   "outputs": [
    {
     "name": "stdout",
     "output_type": "stream",
     "text": [
      "vdjdb_test_samples (27638, 13)\n",
      "4146\n",
      "4221\n",
      "4806\n",
      "150\n",
      "27638\n",
      "vdjdb_no10x_test_samples (4010, 13)\n",
      "570\n",
      "572\n",
      "689\n",
      "119\n",
      "4010\n",
      "mcpas_test_samples (4729, 13)\n",
      "718\n",
      "714\n",
      "833\n",
      "190\n",
      "4729\n",
      "vdjdb_train_samples (116560, 13)\n",
      "13894\n",
      "14640\n",
      "17735\n",
      "200\n",
      "116560\n",
      "mcpas_train_samples (23363, 13)\n",
      "2423\n",
      "2560\n",
      "3181\n",
      "316\n",
      "23363\n",
      "vdjdb_no10x_train_samples (19526, 13)\n",
      "2151\n",
      "2171\n",
      "2902\n",
      "175\n",
      "19526\n",
      "entire-train (119046, 13)\n",
      "17954\n",
      "19162\n",
      "23299\n",
      "478\n",
      "119046\n",
      "Covid-19-train (119046, 13)\n",
      "17954\n",
      "19162\n",
      "23299\n",
      "478\n",
      "119046\n",
      "Covid-19-test (2120140, 6)\n",
      "1616\n",
      "1660\n",
      "1676\n",
      "1265\n",
      "2120140\n",
      "entire-test (33360, 11)\n",
      "4782\n",
      "5174\n",
      "33183\n",
      "838\n",
      "33360\n"
     ]
    }
   ],
   "source": [
    "for ky, df in data_dictionary.items():\n",
    "    print(ky, df.shape)\n",
    "    print(df.tcra.nunique())\n",
    "    print(df.tcrb.nunique())\n",
    "    print(df.tcr_pairs.nunique())\n",
    "    print(df.peptide.nunique())\n",
    "    print(len(df))"
   ]
  },
  {
   "cell_type": "markdown",
   "id": "5bb9c12f",
   "metadata": {},
   "source": [
    "# Overlapping"
   ]
  },
  {
   "cell_type": "markdown",
   "id": "4d2525fd",
   "metadata": {},
   "source": [
    "## tcr a"
   ]
  },
  {
   "cell_type": "code",
   "execution_count": 26,
   "id": "c18cb99b",
   "metadata": {},
   "outputs": [
    {
     "name": "stdout",
     "output_type": "stream",
     "text": [
      "tcra\n",
      "\n",
      "mcpas_train_samples\n",
      "\t {False: 3017, True: 1712}\n",
      "vdjdb_no10x_train_samples\n",
      "\t {False: 2295, True: 1715}\n",
      "entire-train\n",
      "\t {False: 28753, True: 4607}\n",
      "Covid-19-train\n",
      "\t {False: 1934185, True: 185955}\n"
     ]
    }
   ],
   "source": [
    "what_to_see = 'tcra'\n",
    "\n",
    "print(what_to_see)\n",
    "print()\n",
    "for key in ['mcpas_train_samples', 'vdjdb_no10x_train_samples', 'entire-train', 'Covid-19-train']:\n",
    "    print(key)\n",
    "    print(\"\\t\",\n",
    "        data_dictionary[key.replace('train','test')][what_to_see].isin(data_dictionary[key][what_to_see]).value_counts().sort_index().to_dict())"
   ]
  },
  {
   "cell_type": "markdown",
   "id": "f1bde3c1",
   "metadata": {},
   "source": [
    "## tcr b "
   ]
  },
  {
   "cell_type": "code",
   "execution_count": 27,
   "id": "4d8d514b",
   "metadata": {},
   "outputs": [
    {
     "name": "stdout",
     "output_type": "stream",
     "text": [
      "tcrb\n",
      "\n",
      "mcpas_train_samples\n",
      "\t {False: 3083, True: 1646}\n",
      "vdjdb_no10x_train_samples\n",
      "\t {False: 2297, True: 1713}\n",
      "entire-train\n",
      "\t {False: 32113, True: 1247}\n",
      "Covid-19-train\n",
      "\t {False: 2104960, True: 15180}\n"
     ]
    }
   ],
   "source": [
    "what_to_see = 'tcrb'\n",
    "\n",
    "print(what_to_see)\n",
    "print()\n",
    "for key in ['mcpas_train_samples', 'vdjdb_no10x_train_samples', 'entire-train', 'Covid-19-train']:\n",
    "    print(key)\n",
    "    print(\"\\t\",\n",
    "        data_dictionary[key.replace('train','test')][what_to_see].isin(data_dictionary[key][what_to_see]).value_counts().sort_index().to_dict())"
   ]
  },
  {
   "cell_type": "markdown",
   "id": "8b3bc9ac",
   "metadata": {},
   "source": [
    "## tcr ab (count)"
   ]
  },
  {
   "cell_type": "code",
   "execution_count": 28,
   "id": "7d9f4bd6",
   "metadata": {},
   "outputs": [
    {
     "name": "stdout",
     "output_type": "stream",
     "text": [
      "tcr_pairs\n",
      "\n",
      "mcpas_train_samples\n",
      "\t {False: 4169, True: 560}\n",
      "vdjdb_no10x_train_samples\n",
      "\t {False: 3541, True: 469}\n",
      "entire-train\n",
      "\t {False: 33335, True: 25}\n",
      "Covid-19-train\n",
      "\t {False: 2118875, True: 1265}\n"
     ]
    }
   ],
   "source": [
    "what_to_see = 'tcr_pairs'\n",
    "\n",
    "print(what_to_see)\n",
    "print()\n",
    "for key in ['mcpas_train_samples', 'vdjdb_no10x_train_samples', 'entire-train', 'Covid-19-train']:\n",
    "    print(key)\n",
    "    print(\"\\t\",\n",
    "        data_dictionary[key.replace('train','test')][what_to_see].isin(data_dictionary[key][what_to_see]).value_counts().sort_index().to_dict())"
   ]
  },
  {
   "cell_type": "markdown",
   "id": "8711c942",
   "metadata": {},
   "source": [
    "## peptide (count)"
   ]
  },
  {
   "cell_type": "code",
   "execution_count": 29,
   "id": "ff5a6b97",
   "metadata": {},
   "outputs": [
    {
     "name": "stdout",
     "output_type": "stream",
     "text": [
      "peptide\n",
      "\n",
      "mcpas_train_samples\n",
      "\t {False: 46, True: 4683}\n",
      "vdjdb_no10x_train_samples\n",
      "\t {False: 16, True: 3994}\n",
      "entire-train\n",
      "\t {False: 28422, True: 4938}\n",
      "Covid-19-train\n",
      "\t {False: 2120140}\n"
     ]
    }
   ],
   "source": [
    "what_to_see = 'peptide'\n",
    "what_to_see2 = 'tcr_pairs'\n",
    "\n",
    "temp = []\n",
    "print(what_to_see)\n",
    "print()\n",
    "for key in ['mcpas_train_samples', 'vdjdb_no10x_train_samples', 'entire-train', 'Covid-19-train']:\n",
    "    print(key)\n",
    "    a = data_dictionary[key.replace('train','test')][what_to_see].isin(data_dictionary[key][what_to_see]).value_counts().sort_index().to_dict()\n",
    "    b = data_dictionary[key.replace('train','test')][what_to_see2].isin(data_dictionary[key][what_to_see2]).value_counts().sort_index().to_dict()\n",
    "    print(\"\\t\",a)\n",
    "    if True in a:\n",
    "        temp.append((a[True], a[True]+a[False]))\n",
    "    else:\n",
    "        temp.append((0, 0+a[False]))"
   ]
  },
  {
   "cell_type": "code",
   "execution_count": 30,
   "id": "e6045cbe",
   "metadata": {},
   "outputs": [
    {
     "data": {
      "image/png": "[encoded data removed]",
      "text/plain": [
       "<Figure size 1500x750 with 8 Axes>"
      ]
     },
     "metadata": {},
     "output_type": "display_data"
    }
   ],
   "source": [
    "import matplotlib.pyplot as plt\n",
    "FONTSIZE = 14\n",
    "\n",
    "# Data for the pie charts\n",
    "data_peptide = {\n",
    "    'mcpas_train_samples': {'False': 46, 'True': 4683},\n",
    "    'vdjdb_no10x_train_samples': {'False': 16, 'True': 3994},\n",
    "    'entire-train': {'False': 28422, 'True': 4938},\n",
    "    'Covid-19': {'False': 2120140, 'True': 0}\n",
    "}\n",
    "\n",
    "data_tcr = {\n",
    "    'mcpas_train_samples': {\"False\": 4169, \"True\": 560},\n",
    "    'vdjdb_no10x_train_samples': {\"False\": 3541, \"True\": 469},\n",
    "    'entire-train': {\"False\": 33335, \"True\": 25},\n",
    "    'Covid-19':  {False: 2118875, True: 1265}\n",
    "}\n",
    "\n",
    "DICT_dataset = {'mcpas_train_samples':'McPAS test set', \n",
    "                'vdjdb_no10x_train_samples':'VDJDB-without10x test set', \n",
    "                'entire-train':'Recent data test set', \n",
    "                'Covid-19':'Covid-19 test set', \n",
    "               }\n",
    "\n",
    "# Create subplots for the pie charts\n",
    "fig, axes = plt.subplots(2, len(data_peptide), figsize=(15, 7.5))\n",
    "\n",
    "line = plt.Line2D((.01,.99),(.492,.492), color=\"k\", linewidth=1)\n",
    "fig.add_artist(line)\n",
    "\n",
    "for i, data in enumerate([data_peptide, data_tcr]):\n",
    "    # Generate pie chart for each dataset\n",
    "    for j, (dataset, values) in enumerate(data.items()):\n",
    "        labels = list(values.keys())\n",
    "        labels = ['Not-in-training', 'Is-in-training']\n",
    "        counts = list(values.values())\n",
    "\n",
    "        # Plot the pie chart\n",
    "        ax = axes[i][j]\n",
    "        pie = ax.pie(counts, labels=labels, startangle=90, \n",
    "               #autopct='%1.1f%%'\n",
    "               autopct=lambda pct: f'{pct:.1f}% | {int(round(pct * sum(counts) / 100.0))}',\n",
    "                     textprops={'fontsize': FONTSIZE}\n",
    "              )\n",
    "        \n",
    "        # Adjust label font size\n",
    "        for label in pie[1]:\n",
    "            label.set_fontsize(FONTSIZE)\n",
    "        \n",
    "        title = DICT_dataset[dataset] #.replace('train','test') + f' \\n {sum(counts)} total interactions'\n",
    "        if i==0:\n",
    "            \n",
    "            ax.set_title(title + '\\n' + 'Peptides')\n",
    "        else:\n",
    "            ax.set_title(title + f'\\n CDR3 alpha beta pairs')\n",
    "\n",
    "plt.tight_layout()\n",
    "plt.show()\n",
    "\n",
    "# labels = [\"# of interaction that has the same peptides of training set\", \n",
    "#           \"# of interaction that are not included in training set\"]\n"
   ]
  },
  {
   "cell_type": "code",
   "execution_count": 31,
   "id": "aa55cdbc",
   "metadata": {
    "scrolled": true
   },
   "outputs": [],
   "source": [
    "# pd.DataFrame(temp, columns=['# of interaction that has the same CDR3ab of training set',\n",
    "#     '# of interaction that has the same peptides of training set', \n",
    "#                             '# of interactions'])"
   ]
  },
  {
   "cell_type": "markdown",
   "id": "1bb7cec1",
   "metadata": {},
   "source": [
    "## tcr a (unique)"
   ]
  },
  {
   "cell_type": "code",
   "execution_count": 32,
   "id": "c5869985",
   "metadata": {},
   "outputs": [
    {
     "name": "stdout",
     "output_type": "stream",
     "text": [
      "tcra\n",
      "\n",
      "mcpas_train_samples\n",
      "\t {False: 500, True: 218}\n",
      "vdjdb_no10x_train_samples\n",
      "\t {False: 372, True: 198}\n",
      "entire-train\n",
      "\t {False: 4338, True: 444}\n",
      "Covid-19-train\n",
      "\t {False: 1480, True: 136}\n"
     ]
    }
   ],
   "source": [
    "what_to_see = 'tcra'\n",
    "\n",
    "print(what_to_see)\n",
    "print()\n",
    "for key in ['mcpas_train_samples', 'vdjdb_no10x_train_samples', 'entire-train', 'Covid-19-train']:\n",
    "    print(key)\n",
    "    print(\"\\t\",\n",
    "        data_dictionary[key.replace('train','test')][what_to_see].drop_duplicates()\\\n",
    "          .isin(data_dictionary[key][what_to_see]).value_counts().sort_index().to_dict())"
   ]
  },
  {
   "cell_type": "markdown",
   "id": "9b9efdba",
   "metadata": {},
   "source": [
    "## tcr b (unique)"
   ]
  },
  {
   "cell_type": "code",
   "execution_count": 33,
   "id": "d8f07237",
   "metadata": {},
   "outputs": [
    {
     "name": "stdout",
     "output_type": "stream",
     "text": [
      "tcrb\n",
      "\n",
      "mcpas_train_samples\n",
      "\t {False: 516, True: 198}\n",
      "vdjdb_no10x_train_samples\n",
      "\t {False: 376, True: 196}\n",
      "entire-train\n",
      "\t {False: 5026, True: 148}\n",
      "Covid-19-train\n",
      "\t {False: 1648, True: 12}\n"
     ]
    }
   ],
   "source": [
    "what_to_see = 'tcrb'\n",
    "\n",
    "print(what_to_see)\n",
    "print()\n",
    "for key in ['mcpas_train_samples', 'vdjdb_no10x_train_samples', 'entire-train', 'Covid-19-train']:\n",
    "    print(key)\n",
    "    print(\"\\t\",\n",
    "        data_dictionary[key.replace('train','test')][what_to_see].drop_duplicates()\\\n",
    "          .isin(data_dictionary[key][what_to_see]).value_counts().sort_index().to_dict())"
   ]
  },
  {
   "cell_type": "markdown",
   "id": "8feb5df1",
   "metadata": {},
   "source": [
    "## tcr ab (unique)"
   ]
  },
  {
   "cell_type": "code",
   "execution_count": 34,
   "id": "ee45c523",
   "metadata": {},
   "outputs": [
    {
     "name": "stdout",
     "output_type": "stream",
     "text": [
      "tcr_pairs\n",
      "\n",
      "mcpas_train_samples\n",
      "\t {False: 701, True: 132}\n",
      "vdjdb_no10x_train_samples\n",
      "\t {False: 578, True: 111}\n",
      "entire-train\n",
      "\t {False: 33165, True: 18}\n",
      "Covid-19-train\n",
      "\t {False: 1675, True: 1}\n"
     ]
    }
   ],
   "source": [
    "what_to_see = 'tcr_pairs'\n",
    "\n",
    "print(what_to_see)\n",
    "print()\n",
    "for key in ['mcpas_train_samples', 'vdjdb_no10x_train_samples', 'entire-train', 'Covid-19-train']:\n",
    "    print(key)\n",
    "    print(\"\\t\",\n",
    "        data_dictionary[key.replace('train','test')][what_to_see].drop_duplicates()\\\n",
    "          .isin(data_dictionary[key][what_to_see]).value_counts().sort_index().to_dict())"
   ]
  },
  {
   "cell_type": "markdown",
   "id": "4b9dbe04",
   "metadata": {},
   "source": [
    "## peptide  (unique)"
   ]
  },
  {
   "cell_type": "code",
   "execution_count": 35,
   "id": "5b3bcb4e",
   "metadata": {},
   "outputs": [
    {
     "name": "stdout",
     "output_type": "stream",
     "text": [
      "peptide\n",
      "\n",
      "mcpas_train_samples\n",
      "\t {False: 19, True: 171}\n",
      "vdjdb_no10x_train_samples\n",
      "\t {False: 8, True: 111}\n",
      "entire-train\n",
      "\t {False: 794, True: 44}\n",
      "Covid-19-train\n",
      "\t {False: 1265}\n"
     ]
    }
   ],
   "source": [
    "what_to_see = 'peptide'\n",
    "\n",
    "print(what_to_see)\n",
    "print()\n",
    "for key in ['mcpas_train_samples', 'vdjdb_no10x_train_samples', 'entire-train', 'Covid-19-train']:\n",
    "    print(key)\n",
    "    print(\"\\t\",\n",
    "        data_dictionary[key.replace('train','test')][what_to_see].drop_duplicates()\\\n",
    "          .isin(data_dictionary[key][what_to_see]).value_counts().sort_index().to_dict())"
   ]
  },
  {
   "cell_type": "markdown",
   "id": "a13eb87d",
   "metadata": {},
   "source": [
    "## Interactions"
   ]
  },
  {
   "cell_type": "code",
   "execution_count": 36,
   "id": "25630716",
   "metadata": {},
   "outputs": [
    {
     "name": "stdout",
     "output_type": "stream",
     "text": [
      "pairs\n",
      "\n",
      "mcpas_train_samples\n",
      "\t {False: 4197}\n",
      "vdjdb_no10x_train_samples\n",
      "\t {False: 3372}\n",
      "entire-train\n",
      "\t {False: 33360}\n",
      "Covid-19-train\n",
      "\t {False: 2120140}\n"
     ]
    }
   ],
   "source": [
    "what_to_see = 'pairs'\n",
    "\n",
    "print(what_to_see)\n",
    "print()\n",
    "for key in ['mcpas_train_samples', 'vdjdb_no10x_train_samples', 'entire-train', 'Covid-19-train']:\n",
    "    print(key)\n",
    "    print(\"\\t\",\n",
    "        data_dictionary[key.replace('train','test')][what_to_see].drop_duplicates()\\\n",
    "          .isin(data_dictionary[key][what_to_see]).value_counts().sort_index().to_dict())"
   ]
  },
  {
   "cell_type": "markdown",
   "id": "3a944f6e",
   "metadata": {},
   "source": [
    "# Pos Rate"
   ]
  },
  {
   "cell_type": "code",
   "execution_count": 37,
   "id": "da706db2",
   "metadata": {},
   "outputs": [
    {
     "data": {
      "text/html": [
       "<div>\n",
       "<style scoped>\n",
       "    .dataframe tbody tr th:only-of-type {\n",
       "        vertical-align: middle;\n",
       "    }\n",
       "\n",
       "    .dataframe tbody tr th {\n",
       "        vertical-align: top;\n",
       "    }\n",
       "\n",
       "    .dataframe thead th {\n",
       "        text-align: right;\n",
       "    }\n",
       "</style>\n",
       "<table border=\"1\" class=\"dataframe\">\n",
       "  <thead>\n",
       "    <tr style=\"text-align: right;\">\n",
       "      <th></th>\n",
       "      <th>positive ratio</th>\n",
       "      <th>positive count</th>\n",
       "      <th>interactions</th>\n",
       "    </tr>\n",
       "  </thead>\n",
       "  <tbody>\n",
       "    <tr>\n",
       "      <th>vdjdb_no10x_train_samples</th>\n",
       "      <td>0.166957</td>\n",
       "      <td>3260.0</td>\n",
       "      <td>19526</td>\n",
       "    </tr>\n",
       "    <tr>\n",
       "      <th>vdjdb_no10x_test_samples</th>\n",
       "      <td>0.150374</td>\n",
       "      <td>603.0</td>\n",
       "      <td>4010</td>\n",
       "    </tr>\n",
       "    <tr>\n",
       "      <th>mcpas_train_samples</th>\n",
       "      <td>0.166545</td>\n",
       "      <td>3891.0</td>\n",
       "      <td>23363</td>\n",
       "    </tr>\n",
       "    <tr>\n",
       "      <th>mcpas_test_samples</th>\n",
       "      <td>0.151195</td>\n",
       "      <td>715.0</td>\n",
       "      <td>4729</td>\n",
       "    </tr>\n",
       "    <tr>\n",
       "      <th>entire-train</th>\n",
       "      <td>0.139996</td>\n",
       "      <td>16666.0</td>\n",
       "      <td>119046</td>\n",
       "    </tr>\n",
       "    <tr>\n",
       "      <th>entire-test</th>\n",
       "      <td>0.166667</td>\n",
       "      <td>5560.0</td>\n",
       "      <td>33360</td>\n",
       "    </tr>\n",
       "    <tr>\n",
       "      <th>Covid-19-train</th>\n",
       "      <td>0.139996</td>\n",
       "      <td>16666.0</td>\n",
       "      <td>119046</td>\n",
       "    </tr>\n",
       "    <tr>\n",
       "      <th>Covid-19-test</th>\n",
       "      <td>0.000019</td>\n",
       "      <td>40.0</td>\n",
       "      <td>2120140</td>\n",
       "    </tr>\n",
       "  </tbody>\n",
       "</table>\n",
       "</div>"
      ],
      "text/plain": [
       "                           positive ratio  positive count  interactions\n",
       "vdjdb_no10x_train_samples        0.166957          3260.0         19526\n",
       "vdjdb_no10x_test_samples         0.150374           603.0          4010\n",
       "mcpas_train_samples              0.166545          3891.0         23363\n",
       "mcpas_test_samples               0.151195           715.0          4729\n",
       "entire-train                     0.139996         16666.0        119046\n",
       "entire-test                      0.166667          5560.0         33360\n",
       "Covid-19-train                   0.139996         16666.0        119046\n",
       "Covid-19-test                    0.000019            40.0       2120140"
      ]
     },
     "execution_count": 37,
     "metadata": {},
     "output_type": "execute_result"
    }
   ],
   "source": [
    "pd.DataFrame([\n",
    "    [df.sign.mean(), df.sign.sum(),\n",
    "    df.shape[0]] \n",
    "    for ky, df in data_dictionary.items()\n",
    "], \n",
    "    index=data_dictionary.keys(), \n",
    "    columns=['positive ratio','positive count', 'interactions']\n",
    ").drop(['vdjdb_test_samples','vdjdb_train_samples']).sort_index(ascending=False) "
   ]
  },
  {
   "cell_type": "code",
   "execution_count": 38,
   "id": "84e4f611",
   "metadata": {},
   "outputs": [
    {
     "name": "stdout",
     "output_type": "stream",
     "text": [
      "\\begin{tabular}{lrrr}\n",
      "\\toprule\n",
      "{} &  positive ratio &  positive count &  interactions \\\\\n",
      "\\midrule\n",
      "vdjdb\\_no10x\\_train\\_samples &        0.166957 &          3260.0 &         19526 \\\\\n",
      "vdjdb\\_no10x\\_test\\_samples  &        0.150374 &           603.0 &          4010 \\\\\n",
      "mcpas\\_train\\_samples       &        0.166545 &          3891.0 &         23363 \\\\\n",
      "mcpas\\_test\\_samples        &        0.151195 &           715.0 &          4729 \\\\\n",
      "entire-train              &        0.139996 &         16666.0 &        119046 \\\\\n",
      "entire-test               &        0.166667 &          5560.0 &         33360 \\\\\n",
      "Covid-19-train            &        0.139996 &         16666.0 &        119046 \\\\\n",
      "Covid-19-test             &        0.000019 &            40.0 &       2120140 \\\\\n",
      "\\bottomrule\n",
      "\\end{tabular}\n",
      "\n"
     ]
    }
   ],
   "source": [
    "print(\n",
    "pd.DataFrame([\n",
    "    [df.sign.mean(), df.sign.sum(),\n",
    "    df.shape[0]] \n",
    "    for ky, df in data_dictionary.items()\n",
    "], \n",
    "    index=data_dictionary.keys(), \n",
    "    columns=['positive ratio','positive count', 'interactions']\n",
    ").drop(['vdjdb_test_samples','vdjdb_train_samples']).sort_index(ascending=False) .to_latex()\n",
    ")"
   ]
  },
  {
   "cell_type": "code",
   "execution_count": 39,
   "id": "2163c341",
   "metadata": {},
   "outputs": [
    {
     "data": {
      "text/html": [
       "<div>\n",
       "<style scoped>\n",
       "    .dataframe tbody tr th:only-of-type {\n",
       "        vertical-align: middle;\n",
       "    }\n",
       "\n",
       "    .dataframe tbody tr th {\n",
       "        vertical-align: top;\n",
       "    }\n",
       "\n",
       "    .dataframe thead th {\n",
       "        text-align: right;\n",
       "    }\n",
       "</style>\n",
       "<table border=\"1\" class=\"dataframe\">\n",
       "  <thead>\n",
       "    <tr style=\"text-align: right;\">\n",
       "      <th></th>\n",
       "      <th>positive ratio</th>\n",
       "      <th>positive count</th>\n",
       "      <th>interactions</th>\n",
       "    </tr>\n",
       "  </thead>\n",
       "  <tbody>\n",
       "    <tr>\n",
       "      <th>vdjdb_no10x_train_samples</th>\n",
       "      <td>0.166957</td>\n",
       "      <td>3260.0</td>\n",
       "      <td>19526</td>\n",
       "    </tr>\n",
       "    <tr>\n",
       "      <th>vdjdb_no10x_test_samples</th>\n",
       "      <td>0.150374</td>\n",
       "      <td>603.0</td>\n",
       "      <td>4010</td>\n",
       "    </tr>\n",
       "    <tr>\n",
       "      <th>mcpas_train_samples</th>\n",
       "      <td>0.166545</td>\n",
       "      <td>3891.0</td>\n",
       "      <td>23363</td>\n",
       "    </tr>\n",
       "    <tr>\n",
       "      <th>mcpas_test_samples</th>\n",
       "      <td>0.151195</td>\n",
       "      <td>715.0</td>\n",
       "      <td>4729</td>\n",
       "    </tr>\n",
       "    <tr>\n",
       "      <th>entire-train</th>\n",
       "      <td>0.139996</td>\n",
       "      <td>16666.0</td>\n",
       "      <td>119046</td>\n",
       "    </tr>\n",
       "    <tr>\n",
       "      <th>entire-test</th>\n",
       "      <td>0.166667</td>\n",
       "      <td>5560.0</td>\n",
       "      <td>33360</td>\n",
       "    </tr>\n",
       "    <tr>\n",
       "      <th>Covid-19-train</th>\n",
       "      <td>0.139996</td>\n",
       "      <td>16666.0</td>\n",
       "      <td>119046</td>\n",
       "    </tr>\n",
       "    <tr>\n",
       "      <th>Covid-19-test</th>\n",
       "      <td>0.000019</td>\n",
       "      <td>40.0</td>\n",
       "      <td>2120140</td>\n",
       "    </tr>\n",
       "  </tbody>\n",
       "</table>\n",
       "</div>"
      ],
      "text/plain": [
       "                           positive ratio  positive count  interactions\n",
       "vdjdb_no10x_train_samples        0.166957          3260.0         19526\n",
       "vdjdb_no10x_test_samples         0.150374           603.0          4010\n",
       "mcpas_train_samples              0.166545          3891.0         23363\n",
       "mcpas_test_samples               0.151195           715.0          4729\n",
       "entire-train                     0.139996         16666.0        119046\n",
       "entire-test                      0.166667          5560.0         33360\n",
       "Covid-19-train                   0.139996         16666.0        119046\n",
       "Covid-19-test                    0.000019            40.0       2120140"
      ]
     },
     "execution_count": 39,
     "metadata": {},
     "output_type": "execute_result"
    }
   ],
   "source": [
    "pd.DataFrame([\n",
    "    [df.sign.mean(), df.sign.sum(),\n",
    "    df.shape[0]] \n",
    "    for ky, df in data_dictionary.items()\n",
    "], \n",
    "    index=data_dictionary.keys(), \n",
    "    columns=['positive ratio','positive count', 'interactions']\n",
    ").drop(['vdjdb_test_samples','vdjdb_train_samples']).sort_index(ascending=False)"
   ]
  },
  {
   "cell_type": "code",
   "execution_count": 40,
   "id": "6ba990c7",
   "metadata": {},
   "outputs": [
    {
     "data": {
      "text/html": [
       "<div>\n",
       "<style scoped>\n",
       "    .dataframe tbody tr th:only-of-type {\n",
       "        vertical-align: middle;\n",
       "    }\n",
       "\n",
       "    .dataframe tbody tr th {\n",
       "        vertical-align: top;\n",
       "    }\n",
       "\n",
       "    .dataframe thead th {\n",
       "        text-align: right;\n",
       "    }\n",
       "</style>\n",
       "<table border=\"1\" class=\"dataframe\">\n",
       "  <thead>\n",
       "    <tr style=\"text-align: right;\">\n",
       "      <th></th>\n",
       "      <th>tcra</th>\n",
       "      <th>tcrb</th>\n",
       "      <th>va</th>\n",
       "      <th>ja</th>\n",
       "      <th>vb</th>\n",
       "      <th>jb</th>\n",
       "      <th>t_cell_type</th>\n",
       "      <th>peptide</th>\n",
       "      <th>protein</th>\n",
       "      <th>mhc</th>\n",
       "      <th>sign</th>\n",
       "      <th>pairs</th>\n",
       "      <th>tcr_pairs</th>\n",
       "    </tr>\n",
       "  </thead>\n",
       "  <tbody>\n",
       "    <tr>\n",
       "      <th>0</th>\n",
       "      <td>CAVENYGQNFVF</td>\n",
       "      <td>CASSYDSPTEAFF</td>\n",
       "      <td>TRAV22*01</td>\n",
       "      <td>TRAJ26*01</td>\n",
       "      <td>TRBV4-3*01</td>\n",
       "      <td>TRBJ1-1*01</td>\n",
       "      <td>MHCI</td>\n",
       "      <td>GPGHKARVL</td>\n",
       "      <td>Gag</td>\n",
       "      <td>HLA-B*07:02</td>\n",
       "      <td>0</td>\n",
       "      <td>CAVENYGQNFVF:CASSYDSPTEAFF:GPGHKARVL</td>\n",
       "      <td>CAVENYGQNFVF:CASSYDSPTEAFF</td>\n",
       "    </tr>\n",
       "    <tr>\n",
       "      <th>1</th>\n",
       "      <td>CAAGGSGGYQKVTF</td>\n",
       "      <td>CASSLADRNTEAFF</td>\n",
       "      <td>TRAV13-1*01</td>\n",
       "      <td>TRAJ13*01</td>\n",
       "      <td>TRBV5-1*01</td>\n",
       "      <td>TRBJ1-1*01</td>\n",
       "      <td>MHCI</td>\n",
       "      <td>AVFDRKSDAK</td>\n",
       "      <td>EBNA4</td>\n",
       "      <td>HLA-A*11</td>\n",
       "      <td>0</td>\n",
       "      <td>CAAGGSGGYQKVTF:CASSLADRNTEAFF:AVFDRKSDAK</td>\n",
       "      <td>CAAGGSGGYQKVTF:CASSLADRNTEAFF</td>\n",
       "    </tr>\n",
       "    <tr>\n",
       "      <th>2</th>\n",
       "      <td>CALSELGGATNKLIF</td>\n",
       "      <td>CASSLVGLPSSYNSPLHF</td>\n",
       "      <td>TRAV19*01</td>\n",
       "      <td>TRAJ32*01</td>\n",
       "      <td>TRBV7-8*01</td>\n",
       "      <td>TRBJ1-6*01</td>\n",
       "      <td>MHCI</td>\n",
       "      <td>ELAGIGILTV</td>\n",
       "      <td>MLANA</td>\n",
       "      <td>HLA-A*02</td>\n",
       "      <td>0</td>\n",
       "      <td>CALSELGGATNKLIF:CASSLVGLPSSYNSPLHF:ELAGIGILTV</td>\n",
       "      <td>CALSELGGATNKLIF:CASSLVGLPSSYNSPLHF</td>\n",
       "    </tr>\n",
       "    <tr>\n",
       "      <th>3</th>\n",
       "      <td>CAASHTNTGNQFYF</td>\n",
       "      <td>CASSSPGKSSYNEQFF</td>\n",
       "      <td>TRAV13-1*01</td>\n",
       "      <td>TRAJ49*01</td>\n",
       "      <td>TRBV7-8*01</td>\n",
       "      <td>TRBJ2-1*01</td>\n",
       "      <td>MHCI</td>\n",
       "      <td>KLGGALQAK</td>\n",
       "      <td>IE1</td>\n",
       "      <td>HLA-A*03:01</td>\n",
       "      <td>1</td>\n",
       "      <td>CAASHTNTGNQFYF:CASSSPGKSSYNEQFF:KLGGALQAK</td>\n",
       "      <td>CAASHTNTGNQFYF:CASSSPGKSSYNEQFF</td>\n",
       "    </tr>\n",
       "    <tr>\n",
       "      <th>5</th>\n",
       "      <td>CLVGDGTGTASKLTF</td>\n",
       "      <td>CASSWGVGSTEAFF</td>\n",
       "      <td>TRAV4*01</td>\n",
       "      <td>TRAJ44*01</td>\n",
       "      <td>TRBV12-4*01</td>\n",
       "      <td>TRBJ1-1*01</td>\n",
       "      <td>MHCI</td>\n",
       "      <td>KLGGALQAK</td>\n",
       "      <td>IE1</td>\n",
       "      <td>HLA-A*03:01</td>\n",
       "      <td>0</td>\n",
       "      <td>CLVGDGTGTASKLTF:CASSWGVGSTEAFF:KLGGALQAK</td>\n",
       "      <td>CLVGDGTGTASKLTF:CASSWGVGSTEAFF</td>\n",
       "    </tr>\n",
       "    <tr>\n",
       "      <th>...</th>\n",
       "      <td>...</td>\n",
       "      <td>...</td>\n",
       "      <td>...</td>\n",
       "      <td>...</td>\n",
       "      <td>...</td>\n",
       "      <td>...</td>\n",
       "      <td>...</td>\n",
       "      <td>...</td>\n",
       "      <td>...</td>\n",
       "      <td>...</td>\n",
       "      <td>...</td>\n",
       "      <td>...</td>\n",
       "      <td>...</td>\n",
       "    </tr>\n",
       "    <tr>\n",
       "      <th>17317</th>\n",
       "      <td>CAYYTPLVF</td>\n",
       "      <td>CASTDTGELFF</td>\n",
       "      <td>TRAV38-2/DV8</td>\n",
       "      <td>NaN</td>\n",
       "      <td>TRBV6-2,6-3</td>\n",
       "      <td>NaN</td>\n",
       "      <td>NaN</td>\n",
       "      <td>PQPQLPYPQPQ</td>\n",
       "      <td>DQ2-a-II</td>\n",
       "      <td>HLA-DQ2</td>\n",
       "      <td>0</td>\n",
       "      <td>CAYYTPLVF:CASTDTGELFF:PQPQLPYPQPQ</td>\n",
       "      <td>CAYYTPLVF:CASTDTGELFF</td>\n",
       "    </tr>\n",
       "    <tr>\n",
       "      <th>17318</th>\n",
       "      <td>CAGQLAGGSQGNLIF</td>\n",
       "      <td>CASSISSINEQFF</td>\n",
       "      <td>TRAV35</td>\n",
       "      <td>NaN</td>\n",
       "      <td>TRBV19</td>\n",
       "      <td>NaN</td>\n",
       "      <td>CD8</td>\n",
       "      <td>HGIRNASFI</td>\n",
       "      <td>M45</td>\n",
       "      <td>H-2Db</td>\n",
       "      <td>0</td>\n",
       "      <td>CAGQLAGGSQGNLIF:CASSISSINEQFF:HGIRNASFI</td>\n",
       "      <td>CAGQLAGGSQGNLIF:CASSISSINEQFF</td>\n",
       "    </tr>\n",
       "    <tr>\n",
       "      <th>17319</th>\n",
       "      <td>CAARGSNAKLTF</td>\n",
       "      <td>CASSDATKTEVFF</td>\n",
       "      <td>TRAV7-2:02</td>\n",
       "      <td>TRAJ4-01</td>\n",
       "      <td>TRBV13-1:02</td>\n",
       "      <td>TRBJ1-1:01</td>\n",
       "      <td>CD8</td>\n",
       "      <td>SFHSLHLLF</td>\n",
       "      <td>Tax-1</td>\n",
       "      <td>HLA-A*24:02</td>\n",
       "      <td>0</td>\n",
       "      <td>CAARGSNAKLTF:CASSDATKTEVFF:SFHSLHLLF</td>\n",
       "      <td>CAARGSNAKLTF:CASSDATKTEVFF</td>\n",
       "    </tr>\n",
       "    <tr>\n",
       "      <th>17323</th>\n",
       "      <td>CAGSSGSWQLIF</td>\n",
       "      <td>CASSPTGGDQNTLYF</td>\n",
       "      <td>TRAV10N:01</td>\n",
       "      <td>TRAJ2-01</td>\n",
       "      <td>TRBV5-01</td>\n",
       "      <td>TRBJ2-4:01</td>\n",
       "      <td>CD8</td>\n",
       "      <td>LLFGYPVYV</td>\n",
       "      <td>Tax</td>\n",
       "      <td>HLA-A*02:01</td>\n",
       "      <td>0</td>\n",
       "      <td>CAGSSGSWQLIF:CASSPTGGDQNTLYF:LLFGYPVYV</td>\n",
       "      <td>CAGSSGSWQLIF:CASSPTGGDQNTLYF</td>\n",
       "    </tr>\n",
       "    <tr>\n",
       "      <th>17324</th>\n",
       "      <td>CLWELGTGSKLSF</td>\n",
       "      <td>CASSSPQGSNERLF</td>\n",
       "      <td>NaN</td>\n",
       "      <td>NaN</td>\n",
       "      <td>TRBV13</td>\n",
       "      <td>TRBJ1-4</td>\n",
       "      <td>CD8</td>\n",
       "      <td>GLCTLVAML</td>\n",
       "      <td>BMLF-1</td>\n",
       "      <td>HLA-A2</td>\n",
       "      <td>0</td>\n",
       "      <td>CLWELGTGSKLSF:CASSSPQGSNERLF:GLCTLVAML</td>\n",
       "      <td>CLWELGTGSKLSF:CASSSPQGSNERLF</td>\n",
       "    </tr>\n",
       "  </tbody>\n",
       "</table>\n",
       "<p>119046 rows × 13 columns</p>\n",
       "</div>"
      ],
      "text/plain": [
       "                  tcra                tcrb            va         ja  \\\n",
       "0         CAVENYGQNFVF       CASSYDSPTEAFF     TRAV22*01  TRAJ26*01   \n",
       "1       CAAGGSGGYQKVTF      CASSLADRNTEAFF   TRAV13-1*01  TRAJ13*01   \n",
       "2      CALSELGGATNKLIF  CASSLVGLPSSYNSPLHF     TRAV19*01  TRAJ32*01   \n",
       "3       CAASHTNTGNQFYF    CASSSPGKSSYNEQFF   TRAV13-1*01  TRAJ49*01   \n",
       "5      CLVGDGTGTASKLTF      CASSWGVGSTEAFF      TRAV4*01  TRAJ44*01   \n",
       "...                ...                 ...           ...        ...   \n",
       "17317        CAYYTPLVF         CASTDTGELFF  TRAV38-2/DV8        NaN   \n",
       "17318  CAGQLAGGSQGNLIF       CASSISSINEQFF        TRAV35        NaN   \n",
       "17319     CAARGSNAKLTF       CASSDATKTEVFF    TRAV7-2:02   TRAJ4-01   \n",
       "17323     CAGSSGSWQLIF     CASSPTGGDQNTLYF    TRAV10N:01   TRAJ2-01   \n",
       "17324    CLWELGTGSKLSF      CASSSPQGSNERLF           NaN        NaN   \n",
       "\n",
       "                vb          jb t_cell_type      peptide   protein  \\\n",
       "0       TRBV4-3*01  TRBJ1-1*01        MHCI    GPGHKARVL       Gag   \n",
       "1       TRBV5-1*01  TRBJ1-1*01        MHCI   AVFDRKSDAK     EBNA4   \n",
       "2       TRBV7-8*01  TRBJ1-6*01        MHCI   ELAGIGILTV     MLANA   \n",
       "3       TRBV7-8*01  TRBJ2-1*01        MHCI    KLGGALQAK       IE1   \n",
       "5      TRBV12-4*01  TRBJ1-1*01        MHCI    KLGGALQAK       IE1   \n",
       "...            ...         ...         ...          ...       ...   \n",
       "17317  TRBV6-2,6-3         NaN         NaN  PQPQLPYPQPQ  DQ2-a-II   \n",
       "17318       TRBV19         NaN         CD8    HGIRNASFI       M45   \n",
       "17319  TRBV13-1:02  TRBJ1-1:01         CD8    SFHSLHLLF     Tax-1   \n",
       "17323     TRBV5-01  TRBJ2-4:01         CD8    LLFGYPVYV       Tax   \n",
       "17324       TRBV13     TRBJ1-4         CD8    GLCTLVAML    BMLF-1   \n",
       "\n",
       "               mhc  sign                                          pairs  \\\n",
       "0      HLA-B*07:02     0           CAVENYGQNFVF:CASSYDSPTEAFF:GPGHKARVL   \n",
       "1         HLA-A*11     0       CAAGGSGGYQKVTF:CASSLADRNTEAFF:AVFDRKSDAK   \n",
       "2         HLA-A*02     0  CALSELGGATNKLIF:CASSLVGLPSSYNSPLHF:ELAGIGILTV   \n",
       "3      HLA-A*03:01     1      CAASHTNTGNQFYF:CASSSPGKSSYNEQFF:KLGGALQAK   \n",
       "5      HLA-A*03:01     0       CLVGDGTGTASKLTF:CASSWGVGSTEAFF:KLGGALQAK   \n",
       "...            ...   ...                                            ...   \n",
       "17317      HLA-DQ2     0              CAYYTPLVF:CASTDTGELFF:PQPQLPYPQPQ   \n",
       "17318        H-2Db     0        CAGQLAGGSQGNLIF:CASSISSINEQFF:HGIRNASFI   \n",
       "17319  HLA-A*24:02     0           CAARGSNAKLTF:CASSDATKTEVFF:SFHSLHLLF   \n",
       "17323  HLA-A*02:01     0         CAGSSGSWQLIF:CASSPTGGDQNTLYF:LLFGYPVYV   \n",
       "17324       HLA-A2     0         CLWELGTGSKLSF:CASSSPQGSNERLF:GLCTLVAML   \n",
       "\n",
       "                                tcr_pairs  \n",
       "0              CAVENYGQNFVF:CASSYDSPTEAFF  \n",
       "1           CAAGGSGGYQKVTF:CASSLADRNTEAFF  \n",
       "2      CALSELGGATNKLIF:CASSLVGLPSSYNSPLHF  \n",
       "3         CAASHTNTGNQFYF:CASSSPGKSSYNEQFF  \n",
       "5          CLVGDGTGTASKLTF:CASSWGVGSTEAFF  \n",
       "...                                   ...  \n",
       "17317               CAYYTPLVF:CASTDTGELFF  \n",
       "17318       CAGQLAGGSQGNLIF:CASSISSINEQFF  \n",
       "17319          CAARGSNAKLTF:CASSDATKTEVFF  \n",
       "17323        CAGSSGSWQLIF:CASSPTGGDQNTLYF  \n",
       "17324        CLWELGTGSKLSF:CASSSPQGSNERLF  \n",
       "\n",
       "[119046 rows x 13 columns]"
      ]
     },
     "execution_count": 40,
     "metadata": {},
     "output_type": "execute_result"
    }
   ],
   "source": [
    "data_dictionary['entire-train']"
   ]
  },
  {
   "cell_type": "code",
   "execution_count": 41,
   "id": "8d1e4dcf",
   "metadata": {},
   "outputs": [],
   "source": [
    "data_dictionary['entire-train']\\\n",
    ".drop_duplicates(subset=['tcrb','peptide'])\\\n",
    ".rename(columns={\"tcrb\":'CDR3', 'peptide':'Peptide'})\\\n",
    ".to_csv(\"../../PanPep/Data/entire-train.csv\", index=None)"
   ]
  },
  {
   "cell_type": "code",
   "execution_count": 42,
   "id": "c7787278",
   "metadata": {},
   "outputs": [],
   "source": [
    "data_dictionary['entire-test']\\\n",
    ".drop_duplicates(subset=['tcrb','peptide'])\\\n",
    ".rename(columns={\"tcrb\":'CDR3', 'peptide':'Peptide'})\\\n",
    ".to_csv(\"../../PanPep/Data/recent-test.csv\", index=None)"
   ]
  },
  {
   "cell_type": "code",
   "execution_count": 43,
   "id": "1b329f35",
   "metadata": {},
   "outputs": [
    {
     "data": {
      "text/html": [
       "<div>\n",
       "<style scoped>\n",
       "    .dataframe tbody tr th:only-of-type {\n",
       "        vertical-align: middle;\n",
       "    }\n",
       "\n",
       "    .dataframe tbody tr th {\n",
       "        vertical-align: top;\n",
       "    }\n",
       "\n",
       "    .dataframe thead th {\n",
       "        text-align: right;\n",
       "    }\n",
       "</style>\n",
       "<table border=\"1\" class=\"dataframe\">\n",
       "  <thead>\n",
       "    <tr style=\"text-align: right;\">\n",
       "      <th></th>\n",
       "      <th>Peptide</th>\n",
       "      <th>CDR3</th>\n",
       "      <th>Label</th>\n",
       "    </tr>\n",
       "  </thead>\n",
       "  <tbody>\n",
       "    <tr>\n",
       "      <th>0</th>\n",
       "      <td>ADGLAYFRSSFKGG</td>\n",
       "      <td>CASKGGGGTGQLYF</td>\n",
       "      <td>0</td>\n",
       "    </tr>\n",
       "    <tr>\n",
       "      <th>1</th>\n",
       "      <td>ADGLAYFRSSFKGG</td>\n",
       "      <td>CASSLNNANSDYTF</td>\n",
       "      <td>1</td>\n",
       "    </tr>\n",
       "    <tr>\n",
       "      <th>2</th>\n",
       "      <td>AMFWSVPTV</td>\n",
       "      <td>CASSQDSAETLYF</td>\n",
       "      <td>0</td>\n",
       "    </tr>\n",
       "    <tr>\n",
       "      <th>3</th>\n",
       "      <td>AMFWSVPTV</td>\n",
       "      <td>CASSSAGAAYEQYF</td>\n",
       "      <td>0</td>\n",
       "    </tr>\n",
       "    <tr>\n",
       "      <th>4</th>\n",
       "      <td>AMFWSVPTV</td>\n",
       "      <td>CASSQSPGGTQYF</td>\n",
       "      <td>0</td>\n",
       "    </tr>\n",
       "    <tr>\n",
       "      <th>...</th>\n",
       "      <td>...</td>\n",
       "      <td>...</td>\n",
       "      <td>...</td>\n",
       "    </tr>\n",
       "    <tr>\n",
       "      <th>4480</th>\n",
       "      <td>YVLDHLIVV</td>\n",
       "      <td>CASSSAPEQYF</td>\n",
       "      <td>0</td>\n",
       "    </tr>\n",
       "    <tr>\n",
       "      <th>4481</th>\n",
       "      <td>YVLDHLIVV</td>\n",
       "      <td>CASRLQGINEKLFF</td>\n",
       "      <td>0</td>\n",
       "    </tr>\n",
       "    <tr>\n",
       "      <th>4482</th>\n",
       "      <td>YVLDHLIVV</td>\n",
       "      <td>CASSSSMESGNTIYF</td>\n",
       "      <td>0</td>\n",
       "    </tr>\n",
       "    <tr>\n",
       "      <th>4483</th>\n",
       "      <td>YVLDHLIVV</td>\n",
       "      <td>CASSLSSQNTLYF</td>\n",
       "      <td>0</td>\n",
       "    </tr>\n",
       "    <tr>\n",
       "      <th>4484</th>\n",
       "      <td>YVLDHLIVV</td>\n",
       "      <td>CTCSAGTGGYNYAEQFF</td>\n",
       "      <td>0</td>\n",
       "    </tr>\n",
       "  </tbody>\n",
       "</table>\n",
       "<p>4485 rows × 3 columns</p>\n",
       "</div>"
      ],
      "text/plain": [
       "             Peptide               CDR3  Label\n",
       "0     ADGLAYFRSSFKGG     CASKGGGGTGQLYF      0\n",
       "1     ADGLAYFRSSFKGG     CASSLNNANSDYTF      1\n",
       "2          AMFWSVPTV      CASSQDSAETLYF      0\n",
       "3          AMFWSVPTV     CASSSAGAAYEQYF      0\n",
       "4          AMFWSVPTV      CASSQSPGGTQYF      0\n",
       "...              ...                ...    ...\n",
       "4480       YVLDHLIVV        CASSSAPEQYF      0\n",
       "4481       YVLDHLIVV     CASRLQGINEKLFF      0\n",
       "4482       YVLDHLIVV    CASSSSMESGNTIYF      0\n",
       "4483       YVLDHLIVV      CASSLSSQNTLYF      0\n",
       "4484       YVLDHLIVV  CTCSAGTGGYNYAEQFF      0\n",
       "\n",
       "[4485 rows x 3 columns]"
      ]
     },
     "execution_count": 43,
     "metadata": {},
     "output_type": "execute_result"
    }
   ],
   "source": [
    "pd.read_csv(\"../../PanPep/Data/benchmark_tpp1_vdjdb.csv\")"
   ]
  },
  {
   "cell_type": "code",
   "execution_count": 44,
   "id": "21bc2af8",
   "metadata": {},
   "outputs": [
    {
     "data": {
      "text/html": [
       "<div>\n",
       "<style scoped>\n",
       "    .dataframe tbody tr th:only-of-type {\n",
       "        vertical-align: middle;\n",
       "    }\n",
       "\n",
       "    .dataframe tbody tr th {\n",
       "        vertical-align: top;\n",
       "    }\n",
       "\n",
       "    .dataframe thead th {\n",
       "        text-align: right;\n",
       "    }\n",
       "</style>\n",
       "<table border=\"1\" class=\"dataframe\">\n",
       "  <thead>\n",
       "    <tr style=\"text-align: right;\">\n",
       "      <th></th>\n",
       "      <th>Peptide</th>\n",
       "      <th>CDR3</th>\n",
       "      <th>Score</th>\n",
       "    </tr>\n",
       "  </thead>\n",
       "  <tbody>\n",
       "    <tr>\n",
       "      <th>0</th>\n",
       "      <td>ADGLAYFRSSFKGG</td>\n",
       "      <td>CASKGGGGTGQLYF</td>\n",
       "      <td>tensor(0.0802)</td>\n",
       "    </tr>\n",
       "    <tr>\n",
       "      <th>1</th>\n",
       "      <td>ADGLAYFRSSFKGG</td>\n",
       "      <td>CASSLNNANSDYTF</td>\n",
       "      <td>tensor(0.1037)</td>\n",
       "    </tr>\n",
       "    <tr>\n",
       "      <th>2</th>\n",
       "      <td>AMFWSVPTV</td>\n",
       "      <td>CASSTRSTDTQYF</td>\n",
       "      <td>0.00076794566</td>\n",
       "    </tr>\n",
       "    <tr>\n",
       "      <th>3</th>\n",
       "      <td>AMFWSVPTV</td>\n",
       "      <td>CASSPLSGRVTDTQYF</td>\n",
       "      <td>0.00027134753</td>\n",
       "    </tr>\n",
       "    <tr>\n",
       "      <th>4</th>\n",
       "      <td>AMFWSVPTV</td>\n",
       "      <td>CASSQSPGGTQYF</td>\n",
       "      <td>0.0012794965</td>\n",
       "    </tr>\n",
       "    <tr>\n",
       "      <th>...</th>\n",
       "      <td>...</td>\n",
       "      <td>...</td>\n",
       "      <td>...</td>\n",
       "    </tr>\n",
       "    <tr>\n",
       "      <th>4480</th>\n",
       "      <td>YVLDHLIVV</td>\n",
       "      <td>CASSSRSHQPQHF</td>\n",
       "      <td>0.0472212</td>\n",
       "    </tr>\n",
       "    <tr>\n",
       "      <th>4481</th>\n",
       "      <td>YVLDHLIVV</td>\n",
       "      <td>CASSRSDREMFNYGYTF</td>\n",
       "      <td>0.08538617</td>\n",
       "    </tr>\n",
       "    <tr>\n",
       "      <th>4482</th>\n",
       "      <td>YVLDHLIVV</td>\n",
       "      <td>CSAPVPPYNEQFF</td>\n",
       "      <td>0.10723366</td>\n",
       "    </tr>\n",
       "    <tr>\n",
       "      <th>4483</th>\n",
       "      <td>YVLDHLIVV</td>\n",
       "      <td>CASSAGTTEVFF</td>\n",
       "      <td>0.16514081</td>\n",
       "    </tr>\n",
       "    <tr>\n",
       "      <th>4484</th>\n",
       "      <td>YVLDHLIVV</td>\n",
       "      <td>CASRLQGINEKLFF</td>\n",
       "      <td>0.15275383</td>\n",
       "    </tr>\n",
       "  </tbody>\n",
       "</table>\n",
       "<p>4485 rows × 3 columns</p>\n",
       "</div>"
      ],
      "text/plain": [
       "             Peptide               CDR3           Score\n",
       "0     ADGLAYFRSSFKGG     CASKGGGGTGQLYF  tensor(0.0802)\n",
       "1     ADGLAYFRSSFKGG     CASSLNNANSDYTF  tensor(0.1037)\n",
       "2          AMFWSVPTV      CASSTRSTDTQYF   0.00076794566\n",
       "3          AMFWSVPTV   CASSPLSGRVTDTQYF   0.00027134753\n",
       "4          AMFWSVPTV      CASSQSPGGTQYF    0.0012794965\n",
       "...              ...                ...             ...\n",
       "4480       YVLDHLIVV      CASSSRSHQPQHF       0.0472212\n",
       "4481       YVLDHLIVV  CASSRSDREMFNYGYTF      0.08538617\n",
       "4482       YVLDHLIVV      CSAPVPPYNEQFF      0.10723366\n",
       "4483       YVLDHLIVV       CASSAGTTEVFF      0.16514081\n",
       "4484       YVLDHLIVV     CASRLQGINEKLFF      0.15275383\n",
       "\n",
       "[4485 rows x 3 columns]"
      ]
     },
     "execution_count": 44,
     "metadata": {},
     "output_type": "execute_result"
    }
   ],
   "source": [
    "pd.read_csv(\"../../PanPep/Output/benchmark_tpp1_vdjdb_output_majority.csv\")"
   ]
  },
  {
   "cell_type": "code",
   "execution_count": 45,
   "id": "e5ec5f62",
   "metadata": {},
   "outputs": [],
   "source": [
    "data_dictionary['vdjdb_no10x_test_samples'][['tcrb', 'tcra', 'peptide', 'sign']].to_csv(\n",
    "    \"/Users/kyoheikoyama/Downloads/vdjdb_no10x_test.csv\", index=None)"
   ]
  },
  {
   "cell_type": "code",
   "execution_count": 46,
   "id": "1f214f75",
   "metadata": {},
   "outputs": [],
   "source": [
    "data_dictionary['mcpas_test_samples'][['tcrb', 'tcra', 'peptide', 'sign']].to_csv(\n",
    "    \"/Users/kyoheikoyama/Downloads/mcpas_test.csv\", index=None)"
   ]
  },
  {
   "cell_type": "code",
   "execution_count": 47,
   "id": "44560fad",
   "metadata": {},
   "outputs": [
    {
     "name": "stdout",
     "output_type": "stream",
     "text": [
      "tcrb\n",
      "d['max'], d['min'], d['50%']\n",
      "26.0 , 7.0 , 14.0\n",
      "\n",
      "tcra\n",
      "d['max'], d['min'], d['50%']\n",
      "26.0 , 5.0 , 13.0\n",
      "\n",
      "peptide\n",
      "d['max'], d['min'], d['50%']\n",
      "25.0 , 8.0 , 9.0\n",
      "\n"
     ]
    }
   ],
   "source": [
    "for a in ['tcrb', 'tcra', 'peptide']:\n",
    "    print(a,)\n",
    "    d = data_dictionary['Covid-19-train'][a].apply(len).describe().to_dict()\n",
    "    print(\"d['max'], d['min'], d['50%']\")\n",
    "    print(d['max'],',', d['min'],',', d['50%'])\n",
    "    print()"
   ]
  },
  {
   "cell_type": "markdown",
   "id": "c967a154",
   "metadata": {},
   "source": [
    "# Seq length"
   ]
  },
  {
   "cell_type": "code",
   "execution_count": 48,
   "id": "3d25a885",
   "metadata": {},
   "outputs": [
    {
     "data": {
      "text/plain": [
       "dict_keys(['vdjdb_test_samples', 'vdjdb_no10x_test_samples', 'mcpas_test_samples', 'vdjdb_train_samples', 'mcpas_train_samples', 'vdjdb_no10x_train_samples', 'entire-train', 'Covid-19-train', 'Covid-19-test', 'entire-test'])"
      ]
     },
     "execution_count": 48,
     "metadata": {},
     "output_type": "execute_result"
    }
   ],
   "source": [
    "data_dictionary.keys()"
   ]
  },
  {
   "cell_type": "code",
   "execution_count": 49,
   "id": "8bd7e61f",
   "metadata": {},
   "outputs": [],
   "source": [
    "# for k,v in data_dictionary.items():\n",
    "#     print(v['tcrb'].apply(len).min())"
   ]
  },
  {
   "cell_type": "code",
   "execution_count": 50,
   "id": "5f4922b2",
   "metadata": {},
   "outputs": [
    {
     "name": "stdout",
     "output_type": "stream",
     "text": [
      "('mcpas', 'tcra', {'count': 28092.0, 'mean': 13.27100242061797, 'std': 1.7452046166243218, 'min': 6.0, '25%': 12.0, '50%': 13.0, '75%': 14.0, 'max': 26.0})\n",
      "('mcpas', 'tcrb', {'count': 28092.0, 'mean': 13.786950021358393, 'std': 1.653665263208416, 'min': 7.0, '25%': 13.0, '50%': 14.0, '75%': 15.0, 'max': 21.0})\n",
      "('mcpas', 'peptide', {'count': 28092.0, 'mean': 9.760714794247473, 'std': 2.0728047043522464, 'min': 8.0, '25%': 9.0, '50%': 9.0, '75%': 10.0, 'max': 25.0})\n",
      "('vdjdb_no10x', 'tcra', {'count': 23536.0, 'mean': 13.368584296397009, 'std': 1.6849038068308344, 'min': 5.0, '25%': 12.0, '50%': 13.0, '75%': 14.0, 'max': 22.0})\n",
      "('vdjdb_no10x', 'tcrb', {'count': 23536.0, 'mean': 13.75594833446635, 'std': 1.5948739752557723, 'min': 8.0, '25%': 13.0, '50%': 13.0, '75%': 15.0, 'max': 21.0})\n",
      "('vdjdb_no10x', 'peptide', {'count': 23536.0, 'mean': 9.461930659415364, 'std': 1.6918039327536312, 'min': 8.0, '25%': 9.0, '50%': 9.0, '75%': 9.0, 'max': 20.0})\n",
      "('entire-', 'tcra', {'count': 152406.0, 'mean': 13.609739774024645, 'std': 1.8878571123769732, 'min': 5.0, '25%': 12.0, '50%': 14.0, '75%': 15.0, 'max': 26.0})\n",
      "('entire-', 'tcrb', {'count': 152406.0, 'mean': 14.365871422384945, 'std': 1.7863063423862664, 'min': 7.0, '25%': 13.0, '50%': 14.0, '75%': 15.0, 'max': 26.0})\n",
      "('entire-', 'peptide', {'count': 152406.0, 'mean': 9.519959844100626, 'std': 1.7137051734291746, 'min': 7.0, '25%': 9.0, '50%': 9.0, '75%': 10.0, 'max': 25.0})\n",
      "('Covid-19-', 'tcra', {'count': 2239186.0, 'mean': 13.681990687687401, 'std': 1.6804161751558628, 'min': 5.0, '25%': 13.0, '50%': 14.0, '75%': 15.0, 'max': 26.0})\n",
      "('Covid-19-', 'tcrb', {'count': 2239186.0, 'mean': 14.58430027697565, 'std': 1.7300230852500174, 'min': 7.0, '25%': 13.0, '50%': 15.0, '75%': 16.0, 'max': 26.0})\n",
      "('Covid-19-', 'peptide', {'count': 2239186.0, 'mean': 9.024504887043774, 'std': 0.4079040485359759, 'min': 8.0, '25%': 9.0, '50%': 9.0, '75%': 9.0, 'max': 25.0})\n"
     ]
    }
   ],
   "source": [
    "lenlist = []\n",
    "for te,tr in [\n",
    "    ('mcpas_test_samples', 'mcpas_train_samples'),\n",
    "    ('vdjdb_no10x_test_samples', 'vdjdb_no10x_train_samples'),\n",
    "    ('entire-test', 'entire-train'),\n",
    "    ('Covid-19-test', 'Covid-19-train'),\n",
    "             ]:\n",
    "\n",
    "    etrain = data_dictionary[tr]\n",
    "    etest =  data_dictionary[te]\n",
    "    df = pd.concat([etrain, etest])\n",
    "#     df = pd.concat([etrain])\n",
    "    for a in ['tcra', 'tcrb', 'peptide']:\n",
    "        d = df[a].apply(len).describe().to_dict()\n",
    "        lenlist.append(\n",
    "            (te.replace('test','').replace('__samples',''), a, int(d['max']), int(d['min']), int(d['50%']), d['mean']))\n",
    "        print((te.replace('test','').replace('__samples',''), a, d))"
   ]
  },
  {
   "cell_type": "code",
   "execution_count": 51,
   "id": "b15c0cdb",
   "metadata": {},
   "outputs": [],
   "source": [
    "lendf = pd.DataFrame(lenlist)\n",
    "lendf.columns = ['dataset', 'sequence', 'max', 'min', 'median', 'mean']"
   ]
  },
  {
   "cell_type": "code",
   "execution_count": 52,
   "id": "37beb69c",
   "metadata": {},
   "outputs": [
    {
     "name": "stdout",
     "output_type": "stream",
     "text": [
      "\\begin{tabular}{lllrrrr}\n",
      "\\toprule\n",
      "{} &      dataset & sequence &  max &  min &  median &       mean \\\\\n",
      "\\midrule\n",
      "0  &        mcpas &     tcra &   26 &    6 &      13 &  13.271002 \\\\\n",
      "1  &        mcpas &     tcrb &   21 &    7 &      14 &  13.786950 \\\\\n",
      "2  &        mcpas &  peptide &   25 &    8 &       9 &   9.760715 \\\\\n",
      "3  &  vdjdb\\_no10x &     tcra &   22 &    5 &      13 &  13.368584 \\\\\n",
      "4  &  vdjdb\\_no10x &     tcrb &   21 &    8 &      13 &  13.755948 \\\\\n",
      "5  &  vdjdb\\_no10x &  peptide &   20 &    8 &       9 &   9.461931 \\\\\n",
      "6  &      entire- &     tcra &   26 &    5 &      14 &  13.609740 \\\\\n",
      "7  &      entire- &     tcrb &   26 &    7 &      14 &  14.365871 \\\\\n",
      "8  &      entire- &  peptide &   25 &    7 &       9 &   9.519960 \\\\\n",
      "9  &    Covid-19- &     tcra &   26 &    5 &      14 &  13.681991 \\\\\n",
      "10 &    Covid-19- &     tcrb &   26 &    7 &      15 &  14.584300 \\\\\n",
      "11 &    Covid-19- &  peptide &   25 &    8 &       9 &   9.024505 \\\\\n",
      "\\bottomrule\n",
      "\\end{tabular}\n",
      "\n"
     ]
    }
   ],
   "source": [
    "print(lendf.to_latex())"
   ]
  },
  {
   "cell_type": "code",
   "execution_count": 53,
   "id": "367288eb",
   "metadata": {},
   "outputs": [
    {
     "name": "stdout",
     "output_type": "stream",
     "text": [
      "0 0\n",
      "cdr3 alpha chain mcpas_test_samples minimum ratio of =  0.00010679196924391286\n",
      "0 1\n",
      "cdr3 alpha chain vdjdb_no10x_test_samples minimum ratio of =  0.0011046906866077498\n",
      "0 2\n",
      "cdr3 alpha chain entire-test minimum ratio of =  0.00010498274346154351\n",
      "1 0\n",
      "cdr3 beta chain mcpas_test_samples minimum ratio of =  0.00014238929232521716\n",
      "1 1\n",
      "cdr3 beta chain vdjdb_no10x_test_samples minimum ratio of =  0.0008072739632902788\n",
      "1 2\n",
      "cdr3 beta chain entire-test minimum ratio of =  2.624568586538588e-05\n",
      "2 0\n",
      "peptide mcpas_test_samples minimum ratio of =  0.037590773173857325\n",
      "2 1\n",
      "peptide vdjdb_no10x_test_samples minimum ratio of =  0.09436607749830048\n",
      "2 2\n",
      "peptide entire-test minimum ratio of =  0.0001509126937259688\n"
     ]
    },
    {
     "name": "stderr",
     "output_type": "stream",
     "text": [
      "/var/folders/0t/4gd_k20d0_l07n5xyz8pvych0000gn/T/ipykernel_20963/1888048947.py:49: UserWarning: Matplotlib is currently using module://matplotlib_inline.backend_inline, which is a non-GUI backend, so cannot show the figure.\n",
      "  fig.show()\n"
     ]
    },
    {
     "data": {
      "image/png": "[encoded data removed]",
      "text/plain": [
       "<Figure size 1500x1250 with 9 Axes>"
      ]
     },
     "metadata": {},
     "output_type": "display_data"
    }
   ],
   "source": [
    "lenlist = []\n",
    "datasets = ['McPAS', 'VDJdb', \n",
    "            'Combined-data', \n",
    "#             'Covid19'\n",
    "           ]\n",
    "\n",
    "jj = 0\n",
    "\n",
    "fig, axes = plt.subplots(3, len(datasets), figsize=(15, 12.5), \n",
    "                        # title=\"Length distribution of\" + aname\n",
    "                        )\n",
    "\n",
    "for aname, aaa in zip(['cdr3 alpha chain', 'cdr3 beta chain', 'peptide'],\n",
    "                                      ['tcra', 'tcrb', 'peptide']):\n",
    "    \n",
    "#     fig.suptitle(\"Length distribution of \" + aname)\n",
    "    for i, (te,tr) in enumerate([\n",
    "        ('mcpas_test_samples', 'mcpas_train_samples'),\n",
    "        ('vdjdb_no10x_test_samples', 'vdjdb_no10x_train_samples'),\n",
    "        ('entire-test', 'entire-train'),\n",
    "#         ('Covid-19-test'),\n",
    "    ]):\n",
    "        print(jj,i)\n",
    "        ax = axes[jj, i]\n",
    "        \n",
    "        if i==0: \n",
    "            ax.set_ylabel('Proportion of '+aname, fontsize=14)\n",
    "            \n",
    "        ax.set_xlim(left=5, right=28)\n",
    "        ax.set_title(datasets[i], fontsize=14)\n",
    "        \n",
    "        if aaa=='peptide':\n",
    "            ax.set_ylim(top=1.0)\n",
    "        else:\n",
    "            ax.set_ylim(top=.50)\n",
    "            \n",
    "        etrain = data_dictionary[tr]\n",
    "        etest =  data_dictionary[te]\n",
    "        df = pd.concat([etrain, etest])\n",
    "        df_lengthlist = df[aaa].apply(len)\n",
    "        m = df_lengthlist.describe().to_dict()['min']\n",
    "        print(aname, te, f'minimum ratio of = ',(df_lengthlist==m).sum()/len(df_lengthlist))\n",
    "        \n",
    "        weights = [1./len(df)]*len(df)\n",
    "        ax.hist(df_lengthlist, weights=weights, bins=60,)\n",
    "    \n",
    "    jj = jj+1\n",
    "    \n",
    "fig.show()\n",
    "    "
   ]
  },
  {
   "cell_type": "code",
   "execution_count": null,
   "id": "841669d3",
   "metadata": {},
   "outputs": [],
   "source": []
  },
  {
   "cell_type": "code",
   "execution_count": null,
   "id": "9d4f34f5",
   "metadata": {},
   "outputs": [],
   "source": []
  }
 ],
 "metadata": {
  "kernelspec": {
   "display_name": "tcrpred",
   "language": "python",
   "name": "tcrpred"
  },
  "language_info": {
   "codemirror_mode": {
    "name": "ipython",
    "version": 3
   },
   "file_extension": ".py",
   "mimetype": "text/x-python",
   "name": "python",
   "nbconvert_exporter": "python",
   "pygments_lexer": "ipython3",
   "version": "3.8.3"
  },
  "toc": {
   "base_numbering": 1,
   "nav_menu": {},
   "number_sections": true,
   "sideBar": true,
   "skip_h1_title": false,
   "title_cell": "Table of Contents",
   "title_sidebar": "Contents",
   "toc_cell": false,
   "toc_position": {},
   "toc_section_display": true,
   "toc_window_display": true
  }
 },
 "nbformat": 4,
 "nbformat_minor": 5
}
