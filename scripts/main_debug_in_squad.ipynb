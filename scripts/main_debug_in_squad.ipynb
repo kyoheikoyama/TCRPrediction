{
 "cells": [
  {
   "cell_type": "code",
   "execution_count": 1,
   "metadata": {},
   "outputs": [
    {
     "name": "stderr",
     "output_type": "stream",
     "text": [
      "unable to import 'smart_open.gcs', disabling that module\n"
     ]
    }
   ],
   "source": [
    "import pandas as pd\n",
    "from ignite.engine import Events, create_supervised_trainer, create_supervised_evaluator\n",
    "from ignite.metrics import Accuracy, Loss\n",
    "from ignite.handlers.early_stopping import EarlyStopping\n",
    "\n",
    "import sys;\n",
    "sys.path.append('../recipes')\n",
    "from metrics import ROC_AUC, PR_AUC\n",
    "from torch import nn\n",
    "from ignite.metrics.metric import Metric\n",
    "import torch\n",
    "from copy import deepcopy\n",
    "import argparse\n",
    "\n",
    "\n",
    "from dataset import TCRDataset\n",
    "\n",
    "parser = argparse.ArgumentParser()\n",
    "parser.add_argument('--dev', action='store_true')\n",
    "\n",
    "''' change here accordingly'''\n",
    "# main\n",
    "# args = parser.parse_args()\n",
    "# notebook\n",
    "args = parser.parse_args(args=['--dev'])\n",
    "\n",
    "\n",
    "# parameters\n",
    "device = \"cuda\" if torch.cuda.is_available() else \"cpu\"\n",
    "max_tolerance = 100\n",
    "max_epochs = 100\n",
    "early_stopping_target = \"accuracy\"\n",
    "batch_size = 10\n",
    "\n",
    "# 3d data parameters\n",
    "rbf_low, rbf_high, rbf_count = -5, 5, 4"
   ]
  },
  {
   "cell_type": "code",
   "execution_count": 4,
   "metadata": {
    "collapsed": true
   },
   "outputs": [
    {
     "name": "stdout",
     "output_type": "stream",
     "text": [
      " 01.05.VDJdb_only_grep.tsv\r\n",
      " 01.VDJdb.tsv\r\n",
      " 02.VDJdb.tsv\r\n",
      " 03.VDJdb.tsv\r\n",
      " 03.VDJdb_noKLGGALQAK.tsv\r\n",
      " 04.tape.pickle\r\n",
      " ERGO\r\n",
      "'SearchTable-2021-04-18 18_47_15.405.tsv'\r\n",
      " TCRData.csv\r\n",
      " TCRData_umd.csv\r\n",
      " all_structures.zip\r\n",
      " dataset_test.csv\r\n",
      " distance_matrix.pickle\r\n",
      " rcsb_pdb_20210501225436.fasta\r\n",
      " rcsb_pdb_custom_report_20210331201554.csv\r\n",
      " rcsb_pdb_custom_report_20210331201842.json\r\n",
      " tcr_with_crystal.csv\r\n",
      " tcrdb_summary_all.tsv\r\n"
     ]
    }
   ],
   "source": [
    "!ls /root/jupyter_notebook/user_work/data/"
   ]
  },
  {
   "cell_type": "code",
   "execution_count": 7,
   "metadata": {},
   "outputs": [],
   "source": []
  },
  {
   "cell_type": "code",
   "execution_count": 8,
   "metadata": {},
   "outputs": [],
   "source": [
    "\n",
    "datapath = '/root/jupyter_notebook/user_work/data/03.VDJdb.tsv'\n",
    "# model\n",
    "# model = MoleculeNetwork(rbf_dim=rbf_count, num_classes=2, input_dim=11, out_dim=1)\n",
    "\n",
    "# Data\n",
    "if args.dev:\n",
    "    dataset_trainvalid = TCRDataset(datapath, donors=['Donor1', 'Donor2', 'Donor3'], size='small')\n",
    "    dataset_test = TCRDataset(datapath, donors=['Donor4'], size='small')\n",
    "else:\n",
    "    dataset_trainvalid = TCRDataset(datadir='./data', donors=['Donor1', 'Donor2', 'Donor3'])\n",
    "    dataset_test =TCRDataset(datadir='./data', donors=['Donor4'])\n",
    "\n",
    "\n",
    "dataset_train, dataset_valid = torch.utils.data.random_split(\n",
    "    dataset_trainvalid,\n",
    "    [int(len(dataset_trainvalid) * 0.8), len(dataset_trainvalid) - int(len(dataset_trainvalid) * 0.8)]\n",
    "    # generator=torch.Generator().manual_seed(42),\n",
    ")\n",
    "\n",
    "\n",
    "train_loader = torch.utils.data.DataLoader(\n",
    "    dataset=dataset_train, batch_size=batch_size, shuffle=True)\n",
    "valid_loader = torch.utils.data.DataLoader(\n",
    "    dataset=dataset_valid, batch_size=batch_size, shuffle=False)\n",
    "test_loader = torch.utils.data.DataLoader(\n",
    "    dataset=dataset_test, batch_size=batch_size, shuffle=False)\n"
   ]
  },
  {
   "cell_type": "code",
   "execution_count": 10,
   "metadata": {},
   "outputs": [],
   "source": [
    "from dataset import TCRDataset\n",
    "from model import TCRModel\n",
    "\n",
    "# test loaders\n",
    "for xx, yy in test_loader: break\n",
    "\n",
    "model = TCRModel(d_model=8, d_ff=8, n_head=2, n_local_encoder=1, n_global_encoder=1, dropout=0.0, scope=2)\n",
    "# Optimizer\n",
    "optim = torch.optim.Adam(model.parameters(), lr=0.001)\n"
   ]
  },
  {
   "cell_type": "code",
   "execution_count": 11,
   "metadata": {},
   "outputs": [],
   "source": [
    "hh = model(xx)"
   ]
  },
  {
   "cell_type": "code",
   "execution_count": 13,
   "metadata": {},
   "outputs": [],
   "source": [
    "# Optimizer\n",
    "optim = torch.optim.Adam(model.parameters(), lr=0.001)\n",
    "\n",
    "# Loss\n",
    "loss_fn = torch.nn.CrossEntropyLoss()"
   ]
  },
  {
   "cell_type": "code",
   "execution_count": 14,
   "metadata": {},
   "outputs": [],
   "source": [
    "loss = loss_fn(hh, yy)"
   ]
  },
  {
   "cell_type": "code",
   "execution_count": null,
   "metadata": {},
   "outputs": [],
   "source": []
  },
  {
   "cell_type": "markdown",
   "metadata": {},
   "source": [
    "# Save and load"
   ]
  },
  {
   "cell_type": "code",
   "execution_count": 15,
   "metadata": {},
   "outputs": [],
   "source": [
    "from ignite.metrics.metric import Metric\n",
    "from ignite.handlers import Checkpoint, DiskSaver, global_step_from_engine\n",
    "\n",
    "import torch\n",
    "# parameters\n",
    "d_model=128\n",
    "d_ff=128\n",
    "n_head=4\n",
    "n_local_encoder=2\n",
    "n_global_encoder=1\n",
    "dropout=0.001\n",
    "max_tolerance = 20\n",
    "max_epochs = 20\n",
    "early_stopping_target = \"accuracy\"\n",
    "batch_size = 4096\n",
    "lr=0.00001\n",
    "from model import TCRModel\n",
    "model = TCRModel(d_model=d_model, d_ff=d_ff, n_head=n_head, n_local_encoder=n_local_encoder, \n",
    "                 n_global_encoder=n_global_encoder, dropout=dropout, scope=4)\n"
   ]
  },
  {
   "cell_type": "code",
   "execution_count": 16,
   "metadata": {},
   "outputs": [
    {
     "name": "stdout",
     "output_type": "stream",
     "text": [
      "ls: cannot access 'log/': No such file or directory\r\n"
     ]
    }
   ],
   "source": [
    "ls log/"
   ]
  },
  {
   "cell_type": "code",
   "execution_count": 18,
   "metadata": {
    "collapsed": true
   },
   "outputs": [
    {
     "ename": "NameError",
     "evalue": "name 'trainer' is not defined",
     "output_type": "error",
     "traceback": [
      "\u001b[0;31m---------------------------------------------------------------------------\u001b[0m",
      "\u001b[0;31mNameError\u001b[0m                                 Traceback (most recent call last)",
      "\u001b[0;32m<ipython-input-18-9d0b6ea58335>\u001b[0m in \u001b[0;36m<module>\u001b[0;34m\u001b[0m\n\u001b[1;32m      1\u001b[0m \u001b[0;31m# model = TCRModel(d_model=8, d_ff=8, n_head=2, n_local_encoder=1, n_global_encoder=1, dropout=0.0, scope=2)\u001b[0m\u001b[0;34m\u001b[0m\u001b[0;34m\u001b[0m\u001b[0;34m\u001b[0m\u001b[0m\n\u001b[0;32m----> 2\u001b[0;31m \u001b[0mto_load\u001b[0m \u001b[0;34m=\u001b[0m \u001b[0;34m{\u001b[0m\u001b[0;34m'model'\u001b[0m\u001b[0;34m:\u001b[0m \u001b[0mmodel\u001b[0m\u001b[0;34m,\u001b[0m \u001b[0;34m'optimizer'\u001b[0m\u001b[0;34m:\u001b[0m \u001b[0moptim\u001b[0m\u001b[0;34m,\u001b[0m \u001b[0;34m'trainer'\u001b[0m\u001b[0;34m:\u001b[0m \u001b[0mtrainer\u001b[0m\u001b[0;34m}\u001b[0m\u001b[0;34m\u001b[0m\u001b[0;34m\u001b[0m\u001b[0m\n\u001b[0m\u001b[1;32m      3\u001b[0m \u001b[0;31m# checkpoint_fp = \"/tmp/models/best_checkpoint_20210204_062507_model_2_pr_auc_on_one=0.550000011920929.pth\"\u001b[0m\u001b[0;34m\u001b[0m\u001b[0;34m\u001b[0m\u001b[0;34m\u001b[0m\u001b[0m\n\u001b[1;32m      4\u001b[0m \u001b[0mcheckpoint_fp\u001b[0m \u001b[0;34m=\u001b[0m \u001b[0;34m\"./checkpoint/best_checkpoint_20210204_081834_checkpoint_1_pr_auc_on_one=0.5454545617103577.pth\"\u001b[0m\u001b[0;34m\u001b[0m\u001b[0;34m\u001b[0m\u001b[0m\n\u001b[1;32m      5\u001b[0m \u001b[0mcheckpoint\u001b[0m \u001b[0;34m=\u001b[0m \u001b[0mtorch\u001b[0m\u001b[0;34m.\u001b[0m\u001b[0mload\u001b[0m\u001b[0;34m(\u001b[0m\u001b[0mcheckpoint_fp\u001b[0m\u001b[0;34m)\u001b[0m\u001b[0;34m\u001b[0m\u001b[0;34m\u001b[0m\u001b[0m\n",
      "\u001b[0;31mNameError\u001b[0m: name 'trainer' is not defined"
     ]
    }
   ],
   "source": [
    "# model = TCRModel(d_model=8, d_ff=8, n_head=2, n_local_encoder=1, n_global_encoder=1, dropout=0.0, scope=2)\n",
    "to_load = {'model': model, 'optimizer': optim, 'trainer': trainer}\n",
    "# checkpoint_fp = \"/tmp/models/best_checkpoint_20210204_062507_model_2_pr_auc_on_one=0.550000011920929.pth\"\n",
    "checkpoint_fp = \"./checkpoint/best_checkpoint_20210204_081834_checkpoint_1_pr_auc_on_one=0.5454545617103577.pth\"\n",
    "checkpoint = torch.load(checkpoint_fp)\n",
    "Checkpoint.load_objects(to_load=to_load, checkpoint=checkpoint)"
   ]
  },
  {
   "cell_type": "code",
   "execution_count": null,
   "metadata": {},
   "outputs": [],
   "source": [
    "to_load.keys()"
   ]
  },
  {
   "cell_type": "code",
   "execution_count": null,
   "metadata": {},
   "outputs": [],
   "source": [
    "# for k, v in checkpoint.items():\n",
    "#     print(type(v))"
   ]
  },
  {
   "cell_type": "code",
   "execution_count": null,
   "metadata": {},
   "outputs": [],
   "source": [
    "type(checkpoint)"
   ]
  },
  {
   "cell_type": "code",
   "execution_count": null,
   "metadata": {},
   "outputs": [],
   "source": [
    "model.load_state_dict(checkpoint)"
   ]
  },
  {
   "cell_type": "code",
   "execution_count": null,
   "metadata": {},
   "outputs": [],
   "source": [
    "Checkpoint.load_objects(to_load=to_load, checkpoint=checkpoint)"
   ]
  },
  {
   "cell_type": "code",
   "execution_count": null,
   "metadata": {},
   "outputs": [],
   "source": [
    "!ls "
   ]
  },
  {
   "cell_type": "code",
   "execution_count": null,
   "metadata": {},
   "outputs": [],
   "source": [
    "from ignite.engine import Engine, Events\n",
    "from ignite.handlers import Checkpoint, DiskSaver, global_step_from_engine\n",
    "\n",
    "to_load = to_save\n",
    "checkpoint_fp = \"/tmp/models/myprefix_checkpoint_40.pth\"\n",
    "checkpoint = torch.load(checkpoint_fp)\n",
    "Checkpoint.load_objects(to_load=to_load, checkpoint=checkpoint)\n"
   ]
  },
  {
   "cell_type": "code",
   "execution_count": null,
   "metadata": {},
   "outputs": [],
   "source": []
  }
 ],
 "metadata": {
  "kernelspec": {
   "display_name": "tcrpred",
   "language": "python",
   "name": "tcrpred"
  },
  "language_info": {
   "codemirror_mode": {
    "name": "ipython",
    "version": 3
   },
   "file_extension": ".py",
   "mimetype": "text/x-python",
   "name": "python",
   "nbconvert_exporter": "python",
   "pygments_lexer": "ipython3",
   "version": "3.8.3"
  },
  "toc": {
   "base_numbering": 1,
   "nav_menu": {},
   "number_sections": true,
   "sideBar": true,
   "skip_h1_title": false,
   "title_cell": "Table of Contents",
   "title_sidebar": "Contents",
   "toc_cell": false,
   "toc_position": {},
   "toc_section_display": true,
   "toc_window_display": false
  }
 },
 "nbformat": 4,
 "nbformat_minor": 4
}
